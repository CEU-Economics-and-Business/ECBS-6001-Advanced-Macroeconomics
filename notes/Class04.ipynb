{
 "cells": [
  {
   "cell_type": "markdown",
   "metadata": {},
   "source": [
    "## Markov processes\n",
    "Stochastic process $x_t$, say scalar: for each $t$ $x_t$ is a random variable.\n",
    "\n",
    "Markov if\n",
    "$$\n",
    "F(x_t|x_{t-1}) = F(x_t|x_{t-1}, ...)\n",
    "$$\n",
    "(generally)\n",
    "order $p$ Markov\n",
    "$$\n",
    "x_t \\sim F(.|x_{t-1}, x_{t-2}, ..., x_{t-p})\n",
    "$$\n",
    "every Markov process can be order 1\n",
    "\n",
    "\"Nothing helps predict the future more like the present\"\n",
    "\n",
    "$\\mathbf x_t$ may be vector $\\to$ enough to use\n",
    "$$\n",
    "\\tag{*}\n",
    "F(\\mathbf x_t|\\mathbf x_{t-1})\n",
    "$$\n",
    "\n",
    "### Examples\n",
    "#### First-order DE\n",
    "$$\n",
    "\\mathbf x_t = \\mathbf A \\mathbf x_{t-1}\n",
    "$$\n",
    "$$\n",
    "\\Pr(x_t \\le Z|x_{t-1}=x) = \n",
    "\\begin{cases}\n",
    "0 & Z<Ax\\\\\n",
    "1 & Z \\ge Ax\n",
    "\\end{cases}\n",
    "$$\n",
    "is Markov\n",
    "\n",
    "#### Markov chain\n",
    "$x_t$ is **categorical**, $x_t \\in \\{1, 2, ..., K\\}$\n",
    "\n",
    "> \"distribution\" of x is **probability mass function**\n",
    ">$$\n",
    "\\pi_k \\equiv  \\Pr(x_t = k)\n",
    "$$\n",
    "\n",
    "Markovness means\n",
    "$$\n",
    "\\Pr(x_t = k|x_{t-1} = i) = \\pi_{ik}\n",
    "$$\n",
    "then (*) holds\n",
    "\n",
    "Collect these values into a **transition matrix**\n",
    "$$\n",
    "\\mathbf P = [\\pi_{ik}]\n",
    "$$\n",
    "For ex,\n",
    "$$\n",
    "\\begin{bmatrix}\n",
    "0.7 & 0.3 \\\\\n",
    "0.1 & 0.9\n",
    "\\end{bmatrix}\n",
    "$$\n",
    "\n",
    "> ### Properties\n",
    "> $K\\times K$ square\n",
    "> $$\n",
    "0 \\le \\mathbf P \\le 1\n",
    "$$\n",
    "> $$\n",
    "\\mathbf P \\mathbf 1 = \\mathbf 1\n",
    "$$\n",
    "> (rows sum up to 1)"
   ]
  },
  {
   "cell_type": "code",
   "execution_count": 1,
   "metadata": {},
   "outputs": [],
   "source": [
    "using Distributions"
   ]
  },
  {
   "cell_type": "code",
   "execution_count": 3,
   "metadata": {},
   "outputs": [
    {
     "name": "stdout",
     "output_type": "stream",
     "text": [
      "search: \u001b[0m\u001b[1mD\u001b[22m\u001b[0m\u001b[1mi\u001b[22m\u001b[0m\u001b[1ms\u001b[22m\u001b[0m\u001b[1mt\u001b[22m\u001b[0m\u001b[1mr\u001b[22m\u001b[0m\u001b[1mi\u001b[22m\u001b[0m\u001b[1mb\u001b[22m\u001b[0m\u001b[1mu\u001b[22m\u001b[0m\u001b[1mt\u001b[22m\u001b[0m\u001b[1mi\u001b[22m\u001b[0m\u001b[1mo\u001b[22m\u001b[0m\u001b[1mn\u001b[22m\u001b[0m\u001b[1ms\u001b[22m \u001b[0m\u001b[1mD\u001b[22m\u001b[0m\u001b[1mi\u001b[22m\u001b[0m\u001b[1ms\u001b[22m\u001b[0m\u001b[1mt\u001b[22m\u001b[0m\u001b[1mr\u001b[22m\u001b[0m\u001b[1mi\u001b[22m\u001b[0m\u001b[1mb\u001b[22m\u001b[0m\u001b[1mu\u001b[22m\u001b[0m\u001b[1mt\u001b[22m\u001b[0m\u001b[1mi\u001b[22m\u001b[0m\u001b[1mo\u001b[22m\u001b[0m\u001b[1mn\u001b[22m Matrix\u001b[0m\u001b[1mD\u001b[22m\u001b[0m\u001b[1mi\u001b[22m\u001b[0m\u001b[1ms\u001b[22m\u001b[0m\u001b[1mt\u001b[22m\u001b[0m\u001b[1mr\u001b[22m\u001b[0m\u001b[1mi\u001b[22m\u001b[0m\u001b[1mb\u001b[22m\u001b[0m\u001b[1mu\u001b[22m\u001b[0m\u001b[1mt\u001b[22m\u001b[0m\u001b[1mi\u001b[22m\u001b[0m\u001b[1mo\u001b[22m\u001b[0m\u001b[1mn\u001b[22m NonMatrix\u001b[0m\u001b[1mD\u001b[22m\u001b[0m\u001b[1mi\u001b[22m\u001b[0m\u001b[1ms\u001b[22m\u001b[0m\u001b[1mt\u001b[22m\u001b[0m\u001b[1mr\u001b[22m\u001b[0m\u001b[1mi\u001b[22m\u001b[0m\u001b[1mb\u001b[22m\u001b[0m\u001b[1mu\u001b[22m\u001b[0m\u001b[1mt\u001b[22m\u001b[0m\u001b[1mi\u001b[22m\u001b[0m\u001b[1mo\u001b[22m\u001b[0m\u001b[1mn\u001b[22m\n",
      "\n"
     ]
    },
    {
     "data": {
      "text/latex": [
       "A Julia package for probability distributions and associated functions.\n",
       "\n",
       "API overview (major features):\n",
       "\n",
       "\\begin{itemize}\n",
       "\\item \\texttt{d = Dist(parameters...)} creates a distribution instance \\texttt{d} for some distribution \\texttt{Dist} (see choices below) with the specified \\texttt{parameters}\n",
       "\n",
       "\n",
       "\\item \\texttt{rand(d, sz)} samples from the distribution\n",
       "\n",
       "\n",
       "\\item \\texttt{pdf(d, x)} and \\texttt{logpdf(d, x)} compute the probability density or log-probability density of \\texttt{d} at \\texttt{x}\n",
       "\n",
       "\n",
       "\\item \\texttt{cdf(d, x)} and \\texttt{ccdf(d, x)} compute the (complementary) cumulative distribution function at \\texttt{x}\n",
       "\n",
       "\n",
       "\\item \\texttt{quantile(d, p)} is the inverse \\texttt{cdf} (see also \\texttt{cquantile})\n",
       "\n",
       "\n",
       "\\item \\texttt{mean(d)}, \\texttt{var(d)}, \\texttt{std(d)}, \\texttt{skewness(d)}, \\texttt{kurtosis(d)} compute moments of \\texttt{d}\n",
       "\n",
       "\n",
       "\\item \\texttt{fit(Dist, xs)} generates a distribution of type \\texttt{Dist} that best fits the samples in \\texttt{xs}\n",
       "\n",
       "\\end{itemize}\n",
       "These represent just a few of the operations supported by this package; users are encouraged to refer to the full documentation at https://JuliaStats.github.io/Distributions.jl/stable/ for further information.\n",
       "\n",
       "Supported distributions:\n",
       "\n",
       "\\begin{verbatim}\n",
       "Arcsine, Bernoulli, Beta, BetaBinomial, BetaPrime, Binomial, Biweight,\n",
       "Categorical, Cauchy, Chi, Chisq, Cosine, DiagNormal, DiagNormalCanon,\n",
       "Dirichlet, DiscreteUniform, DoubleExponential, EdgeworthMean,\n",
       "EdgeworthSum, EdgeworthZ, Erlang,\n",
       "Epanechnikov, Exponential, FDist, FisherNoncentralHypergeometric,\n",
       "Frechet, FullNormal, FullNormalCanon, Gamma, GeneralizedPareto,\n",
       "GeneralizedExtremeValue, Geometric, Gumbel, Hypergeometric,\n",
       "InverseWishart, InverseGamma, InverseGaussian, IsoNormal,\n",
       "IsoNormalCanon, Kolmogorov, KSDist, KSOneSided, Laplace, Levy, LKJ,\n",
       "Logistic, LogNormal, MatrixBeta, MatrixFDist, MatrixNormal,\n",
       "MatrixReshaped, MatrixTDist, MixtureModel, Multinomial,\n",
       "MultivariateNormal, MvLogNormal, MvNormal, MvNormalCanon,\n",
       "MvNormalKnownCov, MvTDist, NegativeBinomial, NoncentralBeta, NoncentralChisq,\n",
       "NoncentralF, NoncentralHypergeometric, NoncentralT, Normal, NormalCanon,\n",
       "NormalInverseGaussian, Pareto, PGeneralizedGaussian, Poisson, PoissonBinomial,\n",
       "QQPair, Rayleigh, Skellam, Soliton, StudentizedRange, SymTriangularDist, TDist, TriangularDist,\n",
       "Triweight, Truncated, TruncatedNormal, Uniform, UnivariateGMM,\n",
       "VonMises, VonMisesFisher, WalleniusNoncentralHypergeometric, Weibull,\n",
       "Wishart, ZeroMeanIsoNormal, ZeroMeanIsoNormalCanon,\n",
       "ZeroMeanDiagNormal, ZeroMeanDiagNormalCanon, ZeroMeanFullNormal,\n",
       "ZeroMeanFullNormalCanon\n",
       "\\end{verbatim}\n"
      ],
      "text/markdown": [
       "A Julia package for probability distributions and associated functions.\n",
       "\n",
       "API overview (major features):\n",
       "\n",
       "  * `d = Dist(parameters...)` creates a distribution instance `d` for some distribution `Dist` (see choices below) with the specified `parameters`\n",
       "  * `rand(d, sz)` samples from the distribution\n",
       "  * `pdf(d, x)` and `logpdf(d, x)` compute the probability density or log-probability density of `d` at `x`\n",
       "  * `cdf(d, x)` and `ccdf(d, x)` compute the (complementary) cumulative distribution function at `x`\n",
       "  * `quantile(d, p)` is the inverse `cdf` (see also `cquantile`)\n",
       "  * `mean(d)`, `var(d)`, `std(d)`, `skewness(d)`, `kurtosis(d)` compute moments of `d`\n",
       "  * `fit(Dist, xs)` generates a distribution of type `Dist` that best fits the samples in `xs`\n",
       "\n",
       "These represent just a few of the operations supported by this package; users are encouraged to refer to the full documentation at https://JuliaStats.github.io/Distributions.jl/stable/ for further information.\n",
       "\n",
       "Supported distributions:\n",
       "\n",
       "```\n",
       "Arcsine, Bernoulli, Beta, BetaBinomial, BetaPrime, Binomial, Biweight,\n",
       "Categorical, Cauchy, Chi, Chisq, Cosine, DiagNormal, DiagNormalCanon,\n",
       "Dirichlet, DiscreteUniform, DoubleExponential, EdgeworthMean,\n",
       "EdgeworthSum, EdgeworthZ, Erlang,\n",
       "Epanechnikov, Exponential, FDist, FisherNoncentralHypergeometric,\n",
       "Frechet, FullNormal, FullNormalCanon, Gamma, GeneralizedPareto,\n",
       "GeneralizedExtremeValue, Geometric, Gumbel, Hypergeometric,\n",
       "InverseWishart, InverseGamma, InverseGaussian, IsoNormal,\n",
       "IsoNormalCanon, Kolmogorov, KSDist, KSOneSided, Laplace, Levy, LKJ,\n",
       "Logistic, LogNormal, MatrixBeta, MatrixFDist, MatrixNormal,\n",
       "MatrixReshaped, MatrixTDist, MixtureModel, Multinomial,\n",
       "MultivariateNormal, MvLogNormal, MvNormal, MvNormalCanon,\n",
       "MvNormalKnownCov, MvTDist, NegativeBinomial, NoncentralBeta, NoncentralChisq,\n",
       "NoncentralF, NoncentralHypergeometric, NoncentralT, Normal, NormalCanon,\n",
       "NormalInverseGaussian, Pareto, PGeneralizedGaussian, Poisson, PoissonBinomial,\n",
       "QQPair, Rayleigh, Skellam, Soliton, StudentizedRange, SymTriangularDist, TDist, TriangularDist,\n",
       "Triweight, Truncated, TruncatedNormal, Uniform, UnivariateGMM,\n",
       "VonMises, VonMisesFisher, WalleniusNoncentralHypergeometric, Weibull,\n",
       "Wishart, ZeroMeanIsoNormal, ZeroMeanIsoNormalCanon,\n",
       "ZeroMeanDiagNormal, ZeroMeanDiagNormalCanon, ZeroMeanFullNormal,\n",
       "ZeroMeanFullNormalCanon\n",
       "```\n"
      ],
      "text/plain": [
       "  A Julia package for probability distributions and associated functions.\n",
       "\n",
       "  API overview (major features):\n",
       "\n",
       "    •  \u001b[36md = Dist(parameters...)\u001b[39m creates a distribution instance \u001b[36md\u001b[39m for some\n",
       "       distribution \u001b[36mDist\u001b[39m (see choices below) with the specified\n",
       "       \u001b[36mparameters\u001b[39m\n",
       "\n",
       "    •  \u001b[36mrand(d, sz)\u001b[39m samples from the distribution\n",
       "\n",
       "    •  \u001b[36mpdf(d, x)\u001b[39m and \u001b[36mlogpdf(d, x)\u001b[39m compute the probability density or\n",
       "       log-probability density of \u001b[36md\u001b[39m at \u001b[36mx\u001b[39m\n",
       "\n",
       "    •  \u001b[36mcdf(d, x)\u001b[39m and \u001b[36mccdf(d, x)\u001b[39m compute the (complementary) cumulative\n",
       "       distribution function at \u001b[36mx\u001b[39m\n",
       "\n",
       "    •  \u001b[36mquantile(d, p)\u001b[39m is the inverse \u001b[36mcdf\u001b[39m (see also \u001b[36mcquantile\u001b[39m)\n",
       "\n",
       "    •  \u001b[36mmean(d)\u001b[39m, \u001b[36mvar(d)\u001b[39m, \u001b[36mstd(d)\u001b[39m, \u001b[36mskewness(d)\u001b[39m, \u001b[36mkurtosis(d)\u001b[39m compute moments\n",
       "       of \u001b[36md\u001b[39m\n",
       "\n",
       "    •  \u001b[36mfit(Dist, xs)\u001b[39m generates a distribution of type \u001b[36mDist\u001b[39m that best fits\n",
       "       the samples in \u001b[36mxs\u001b[39m\n",
       "\n",
       "  These represent just a few of the operations supported by this package;\n",
       "  users are encouraged to refer to the full documentation at\n",
       "  https://JuliaStats.github.io/Distributions.jl/stable/ for further\n",
       "  information.\n",
       "\n",
       "  Supported distributions:\n",
       "\n",
       "\u001b[36m  Arcsine, Bernoulli, Beta, BetaBinomial, BetaPrime, Binomial, Biweight,\u001b[39m\n",
       "\u001b[36m  Categorical, Cauchy, Chi, Chisq, Cosine, DiagNormal, DiagNormalCanon,\u001b[39m\n",
       "\u001b[36m  Dirichlet, DiscreteUniform, DoubleExponential, EdgeworthMean,\u001b[39m\n",
       "\u001b[36m  EdgeworthSum, EdgeworthZ, Erlang,\u001b[39m\n",
       "\u001b[36m  Epanechnikov, Exponential, FDist, FisherNoncentralHypergeometric,\u001b[39m\n",
       "\u001b[36m  Frechet, FullNormal, FullNormalCanon, Gamma, GeneralizedPareto,\u001b[39m\n",
       "\u001b[36m  GeneralizedExtremeValue, Geometric, Gumbel, Hypergeometric,\u001b[39m\n",
       "\u001b[36m  InverseWishart, InverseGamma, InverseGaussian, IsoNormal,\u001b[39m\n",
       "\u001b[36m  IsoNormalCanon, Kolmogorov, KSDist, KSOneSided, Laplace, Levy, LKJ,\u001b[39m\n",
       "\u001b[36m  Logistic, LogNormal, MatrixBeta, MatrixFDist, MatrixNormal,\u001b[39m\n",
       "\u001b[36m  MatrixReshaped, MatrixTDist, MixtureModel, Multinomial,\u001b[39m\n",
       "\u001b[36m  MultivariateNormal, MvLogNormal, MvNormal, MvNormalCanon,\u001b[39m\n",
       "\u001b[36m  MvNormalKnownCov, MvTDist, NegativeBinomial, NoncentralBeta, NoncentralChisq,\u001b[39m\n",
       "\u001b[36m  NoncentralF, NoncentralHypergeometric, NoncentralT, Normal, NormalCanon,\u001b[39m\n",
       "\u001b[36m  NormalInverseGaussian, Pareto, PGeneralizedGaussian, Poisson, PoissonBinomial,\u001b[39m\n",
       "\u001b[36m  QQPair, Rayleigh, Skellam, Soliton, StudentizedRange, SymTriangularDist, TDist, TriangularDist,\u001b[39m\n",
       "\u001b[36m  Triweight, Truncated, TruncatedNormal, Uniform, UnivariateGMM,\u001b[39m\n",
       "\u001b[36m  VonMises, VonMisesFisher, WalleniusNoncentralHypergeometric, Weibull,\u001b[39m\n",
       "\u001b[36m  Wishart, ZeroMeanIsoNormal, ZeroMeanIsoNormalCanon,\u001b[39m\n",
       "\u001b[36m  ZeroMeanDiagNormal, ZeroMeanDiagNormalCanon, ZeroMeanFullNormal,\u001b[39m\n",
       "\u001b[36m  ZeroMeanFullNormalCanon\u001b[39m"
      ]
     },
     "execution_count": 3,
     "metadata": {},
     "output_type": "execute_result"
    }
   ],
   "source": [
    "?Distributions"
   ]
  },
  {
   "cell_type": "code",
   "execution_count": 4,
   "metadata": {},
   "outputs": [
    {
     "name": "stdout",
     "output_type": "stream",
     "text": [
      "search: \u001b[0m\u001b[1mC\u001b[22m\u001b[0m\u001b[1ma\u001b[22m\u001b[0m\u001b[1mt\u001b[22m\u001b[0m\u001b[1me\u001b[22m\u001b[0m\u001b[1mg\u001b[22m\u001b[0m\u001b[1mo\u001b[22m\u001b[0m\u001b[1mr\u001b[22m\u001b[0m\u001b[1mi\u001b[22m\u001b[0m\u001b[1mc\u001b[22m\u001b[0m\u001b[1ma\u001b[22m\u001b[0m\u001b[1ml\u001b[22m n\u001b[0m\u001b[1mc\u001b[22m\u001b[0m\u001b[1ma\u001b[22m\u001b[0m\u001b[1mt\u001b[22m\u001b[0m\u001b[1me\u001b[22m\u001b[0m\u001b[1mg\u001b[22m\u001b[0m\u001b[1mo\u001b[22m\u001b[0m\u001b[1mr\u001b[22m\u001b[0m\u001b[1mi\u001b[22mes\n",
      "\n"
     ]
    },
    {
     "data": {
      "text/latex": [
       "\\begin{verbatim}\n",
       "Categorical(p)\n",
       "\\end{verbatim}\n",
       "A \\emph{Categorical distribution} is parameterized by a probability vector \\texttt{p} (of length \\texttt{K}).\n",
       "\n",
       "$$P(X = k) = p[k]  \\quad \\text{for } k = 1, 2, \\ldots, K.$$\n",
       "\\begin{verbatim}\n",
       "Categorical(p)   # Categorical distribution with probability vector p\n",
       "params(d)        # Get the parameters, i.e. (p,)\n",
       "probs(d)         # Get the probability vector, i.e. p\n",
       "ncategories(d)   # Get the number of categories, i.e. K\n",
       "\\end{verbatim}\n",
       "Here, \\texttt{p} must be a real vector, of which all components are nonnegative and sum to one.\n",
       "\n",
       "\\textbf{Note:} The input vector \\texttt{p} is directly used as a field of the constructed distribution, without being copied.\n",
       "\n",
       "\\texttt{Categorical} is simply a type alias describing a special case of a \\texttt{DiscreteNonParametric} distribution, so non-specialized methods defined for \\texttt{DiscreteNonParametric} apply to \\texttt{Categorical} as well.\n",
       "\n",
       "External links:\n",
       "\n",
       "\\begin{itemize}\n",
       "\\item \\href{http://en.wikipedia.org/wiki/Categorical_distribution}{Categorical distribution on Wikipedia}\n",
       "\n",
       "\\end{itemize}\n"
      ],
      "text/markdown": [
       "```\n",
       "Categorical(p)\n",
       "```\n",
       "\n",
       "A *Categorical distribution* is parameterized by a probability vector `p` (of length `K`).\n",
       "\n",
       "$$\n",
       "P(X = k) = p[k]  \\quad \\text{for } k = 1, 2, \\ldots, K.\n",
       "$$\n",
       "\n",
       "```julia\n",
       "Categorical(p)   # Categorical distribution with probability vector p\n",
       "params(d)        # Get the parameters, i.e. (p,)\n",
       "probs(d)         # Get the probability vector, i.e. p\n",
       "ncategories(d)   # Get the number of categories, i.e. K\n",
       "```\n",
       "\n",
       "Here, `p` must be a real vector, of which all components are nonnegative and sum to one.\n",
       "\n",
       "**Note:** The input vector `p` is directly used as a field of the constructed distribution, without being copied.\n",
       "\n",
       "`Categorical` is simply a type alias describing a special case of a `DiscreteNonParametric` distribution, so non-specialized methods defined for `DiscreteNonParametric` apply to `Categorical` as well.\n",
       "\n",
       "External links:\n",
       "\n",
       "  * [Categorical distribution on Wikipedia](http://en.wikipedia.org/wiki/Categorical_distribution)\n"
      ],
      "text/plain": [
       "\u001b[36m  Categorical(p)\u001b[39m\n",
       "\n",
       "  A \u001b[4mCategorical distribution\u001b[24m is parameterized by a probability vector \u001b[36mp\u001b[39m (of\n",
       "  length \u001b[36mK\u001b[39m).\n",
       "\n",
       "\u001b[35m  P(X = k) = p[k]  \\quad \\text{for } k = 1, 2, \\ldots, K.\u001b[39m\n",
       "\n",
       "\u001b[36m  Categorical(p)   # Categorical distribution with probability vector p\u001b[39m\n",
       "\u001b[36m  params(d)        # Get the parameters, i.e. (p,)\u001b[39m\n",
       "\u001b[36m  probs(d)         # Get the probability vector, i.e. p\u001b[39m\n",
       "\u001b[36m  ncategories(d)   # Get the number of categories, i.e. K\u001b[39m\n",
       "\n",
       "  Here, \u001b[36mp\u001b[39m must be a real vector, of which all components are nonnegative and\n",
       "  sum to one.\n",
       "\n",
       "  \u001b[1mNote:\u001b[22m The input vector \u001b[36mp\u001b[39m is directly used as a field of the constructed\n",
       "  distribution, without being copied.\n",
       "\n",
       "  \u001b[36mCategorical\u001b[39m is simply a type alias describing a special case of a\n",
       "  \u001b[36mDiscreteNonParametric\u001b[39m distribution, so non-specialized methods defined for\n",
       "  \u001b[36mDiscreteNonParametric\u001b[39m apply to \u001b[36mCategorical\u001b[39m as well.\n",
       "\n",
       "  External links:\n",
       "\n",
       "    •  Categorical distribution on Wikipedia\n",
       "       (http://en.wikipedia.org/wiki/Categorical_distribution)"
      ]
     },
     "execution_count": 4,
     "metadata": {},
     "output_type": "execute_result"
    }
   ],
   "source": [
    "?Categorical"
   ]
  },
  {
   "cell_type": "code",
   "execution_count": 7,
   "metadata": {},
   "outputs": [
    {
     "data": {
      "text/plain": [
       "Categorical{Float64, Vector{Float64}}(support=Base.OneTo(3), p=[0.7, 0.2, 0.1])"
      ]
     },
     "execution_count": 7,
     "metadata": {},
     "output_type": "execute_result"
    }
   ],
   "source": [
    "states_of_world = Categorical([0.7, 0.2, 0.1])"
   ]
  },
  {
   "cell_type": "code",
   "execution_count": 8,
   "metadata": {},
   "outputs": [
    {
     "data": {
      "text/plain": [
       "Categorical{Float64, Vector{Float64}} (alias for DiscreteNonParametric{Int64, Float64, Base.OneTo{Int64}, Array{Float64, 1}})"
      ]
     },
     "execution_count": 8,
     "metadata": {},
     "output_type": "execute_result"
    }
   ],
   "source": [
    "typeof(states_of_world)"
   ]
  },
  {
   "cell_type": "code",
   "execution_count": 10,
   "metadata": {},
   "outputs": [
    {
     "data": {
      "text/plain": [
       "3-element Vector{Float64}:\n",
       " 0.7\n",
       " 0.2\n",
       " 0.1"
      ]
     },
     "execution_count": 10,
     "metadata": {},
     "output_type": "execute_result"
    }
   ],
   "source": [
    "probs(states_of_world)"
   ]
  },
  {
   "cell_type": "markdown",
   "metadata": {},
   "source": [
    "#### Most readable"
   ]
  },
  {
   "cell_type": "code",
   "execution_count": 11,
   "metadata": {},
   "outputs": [
    {
     "data": {
      "text/plain": [
       "1.4000000000000001"
      ]
     },
     "execution_count": 11,
     "metadata": {},
     "output_type": "execute_result"
    }
   ],
   "source": [
    "mean(states_of_world)"
   ]
  },
  {
   "cell_type": "markdown",
   "metadata": {},
   "source": [
    "#### Least readable (vectorized Matlab style)"
   ]
  },
  {
   "cell_type": "code",
   "execution_count": 12,
   "metadata": {},
   "outputs": [
    {
     "data": {
      "text/plain": [
       "1.4000000000000001"
      ]
     },
     "execution_count": 12,
     "metadata": {},
     "output_type": "execute_result"
    }
   ],
   "source": [
    "probs(states_of_world)' * [1,2,3] "
   ]
  },
  {
   "cell_type": "markdown",
   "metadata": {},
   "source": [
    "#### Well readable"
   ]
  },
  {
   "cell_type": "code",
   "execution_count": 14,
   "metadata": {},
   "outputs": [
    {
     "data": {
      "text/plain": [
       "1.4000000000000001"
      ]
     },
     "execution_count": 14,
     "metadata": {},
     "output_type": "execute_result"
    }
   ],
   "source": [
    "sum(probs(states_of_world) .* [1, 2, 3])"
   ]
  },
  {
   "cell_type": "code",
   "execution_count": 15,
   "metadata": {},
   "outputs": [
    {
     "data": {
      "text/plain": [
       "5-element Vector{Int64}:\n",
       " 1\n",
       " 3\n",
       " 1\n",
       " 2\n",
       " 1"
      ]
     },
     "execution_count": 15,
     "metadata": {},
     "output_type": "execute_result"
    }
   ],
   "source": [
    "rand(states_of_world, 5)"
   ]
  },
  {
   "cell_type": "markdown",
   "metadata": {},
   "source": [
    "## Types, composite types and \"type inheritance\""
   ]
  },
  {
   "cell_type": "code",
   "execution_count": 40,
   "metadata": {},
   "outputs": [
    {
     "ename": "LoadError",
     "evalue": "invalid redefinition of type LabeledCategorical",
     "output_type": "error",
     "traceback": [
      "invalid redefinition of type LabeledCategorical",
      "",
      "Stacktrace:",
      " [1] top-level scope",
      "   @ In[40]:1",
      " [2] eval",
      "   @ ./boot.jl:360 [inlined]",
      " [3] include_string(mapexpr::typeof(REPL.softscope), mod::Module, code::String, filename::String)",
      "   @ Base ./loading.jl:1116"
     ]
    }
   ],
   "source": [
    "struct LabeledCategorical\n",
    "    p::Vector{Float64}\n",
    "    labels::Vector\n",
    "end"
   ]
  },
  {
   "cell_type": "code",
   "execution_count": 18,
   "metadata": {},
   "outputs": [
    {
     "name": "stdout",
     "output_type": "stream",
     "text": [
      "search: \u001b[0m\u001b[1mL\u001b[22m\u001b[0m\u001b[1ma\u001b[22m\u001b[0m\u001b[1mb\u001b[22m\u001b[0m\u001b[1me\u001b[22m\u001b[0m\u001b[1ml\u001b[22m\u001b[0m\u001b[1me\u001b[22m\u001b[0m\u001b[1md\u001b[22m\u001b[0m\u001b[1mC\u001b[22m\u001b[0m\u001b[1ma\u001b[22m\u001b[0m\u001b[1mt\u001b[22m\u001b[0m\u001b[1me\u001b[22m\u001b[0m\u001b[1mg\u001b[22m\u001b[0m\u001b[1mo\u001b[22m\u001b[0m\u001b[1mr\u001b[22m\u001b[0m\u001b[1mi\u001b[22m\u001b[0m\u001b[1mc\u001b[22m\u001b[0m\u001b[1ma\u001b[22m\u001b[0m\u001b[1ml\u001b[22m\n",
      "\n"
     ]
    },
    {
     "data": {
      "text/latex": [
       "No documentation found.\n",
       "\n",
       "\\section{Summary}\n",
       "\\begin{verbatim}\n",
       "struct LabeledCategorical <: Any\n",
       "\\end{verbatim}\n",
       "\\section{Fields}\n",
       "\\begin{verbatim}\n",
       "p      :: Vector{Float64}\n",
       "labels :: Vector{T} where T\n",
       "\\end{verbatim}\n"
      ],
      "text/markdown": [
       "No documentation found.\n",
       "\n",
       "# Summary\n",
       "\n",
       "```\n",
       "struct LabeledCategorical <: Any\n",
       "```\n",
       "\n",
       "# Fields\n",
       "\n",
       "```\n",
       "p      :: Vector{Float64}\n",
       "labels :: Vector{T} where T\n",
       "```\n"
      ],
      "text/plain": [
       "  No documentation found.\n",
       "\n",
       "\u001b[1m  Summary\u001b[22m\n",
       "\u001b[1m  ≡≡≡≡≡≡≡≡≡\u001b[22m\n",
       "\n",
       "\u001b[36m  struct LabeledCategorical <: Any\u001b[39m\n",
       "\n",
       "\u001b[1m  Fields\u001b[22m\n",
       "\u001b[1m  ≡≡≡≡≡≡≡≡\u001b[22m\n",
       "\n",
       "\u001b[36m  p      :: Vector{Float64}\u001b[39m\n",
       "\u001b[36m  labels :: Vector{T} where T\u001b[39m"
      ]
     },
     "execution_count": 18,
     "metadata": {},
     "output_type": "execute_result"
    }
   ],
   "source": [
    "?LabeledCategorical"
   ]
  },
  {
   "cell_type": "markdown",
   "metadata": {},
   "source": [
    "**Note**: Has no parent type (only `Any`). `labels` can be a vector of anything."
   ]
  },
  {
   "cell_type": "code",
   "execution_count": 20,
   "metadata": {},
   "outputs": [
    {
     "data": {
      "text/plain": [
       "LabeledCategorical([0.7, 0.3], [\"employed\", \"unemployed\"])"
      ]
     },
     "execution_count": 20,
     "metadata": {},
     "output_type": "execute_result"
    }
   ],
   "source": [
    "z = LabeledCategorical([0.7, 0.3], [\"employed\", \"unemployed\"])"
   ]
  },
  {
   "cell_type": "code",
   "execution_count": 21,
   "metadata": {},
   "outputs": [
    {
     "data": {
      "text/plain": [
       "LabeledCategorical([0.7, 0.3], [\"employed\", \"unemployed\"])"
      ]
     },
     "execution_count": 21,
     "metadata": {},
     "output_type": "execute_result"
    }
   ],
   "source": [
    "z"
   ]
  },
  {
   "cell_type": "code",
   "execution_count": 22,
   "metadata": {},
   "outputs": [
    {
     "data": {
      "text/plain": [
       "LabeledCategorical"
      ]
     },
     "execution_count": 22,
     "metadata": {},
     "output_type": "execute_result"
    }
   ],
   "source": [
    "typeof(z)"
   ]
  },
  {
   "cell_type": "code",
   "execution_count": 23,
   "metadata": {},
   "outputs": [
    {
     "data": {
      "text/plain": [
       "2-element Vector{Float64}:\n",
       " 0.7\n",
       " 0.3"
      ]
     },
     "execution_count": 23,
     "metadata": {},
     "output_type": "execute_result"
    }
   ],
   "source": [
    "z.p"
   ]
  },
  {
   "cell_type": "code",
   "execution_count": 24,
   "metadata": {},
   "outputs": [
    {
     "data": {
      "text/plain": [
       "2-element Vector{String}:\n",
       " \"employed\"\n",
       " \"unemployed\""
      ]
     },
     "execution_count": 24,
     "metadata": {},
     "output_type": "execute_result"
    }
   ],
   "source": [
    "z.labels"
   ]
  },
  {
   "cell_type": "markdown",
   "metadata": {},
   "source": [
    "Let's overwrite the `rand` function for labeled categorical variables. Note that we can still refer to `rand` of a `Categorical` variable. This is an example of **multiple dispatch**."
   ]
  },
  {
   "cell_type": "code",
   "execution_count": 58,
   "metadata": {},
   "outputs": [
    {
     "data": {
      "text/plain": [
       "rand (generic function with 170 methods)"
      ]
     },
     "execution_count": 58,
     "metadata": {},
     "output_type": "execute_result"
    }
   ],
   "source": [
    "import Base: rand\n",
    "function rand(x::LabeledCategorical, sz::Int)::Vector\n",
    "    categorical_pmf = Categorical(x.p)\n",
    "    output = []\n",
    "    for i = 1:sz\n",
    "        j = rand(categorical_pmf, 1)\n",
    "        append!(output, x.labels[j])\n",
    "    end\n",
    "    return output\n",
    "end"
   ]
  },
  {
   "cell_type": "markdown",
   "metadata": {},
   "source": [
    "**Notes**: We create an empty vector in line 4. This is not efficient for large problems with known data types. In that case we want to preassign memory like `output = zeros(sz)`. The function `append!` appends the vector by adding elements at the end. The (strongly held) convention is that if your function modifies its inputs, (1) the modified input should be the first one (2) the function name should end in `!`. This makes for intuitively readable code like `sort!(example_vector)`. "
   ]
  },
  {
   "cell_type": "code",
   "execution_count": 59,
   "metadata": {},
   "outputs": [
    {
     "data": {
      "text/plain": [
       "5-element Vector{Any}:\n",
       " \"unemployed\"\n",
       " \"employed\"\n",
       " \"employed\"\n",
       " \"unemployed\"\n",
       " \"employed\""
      ]
     },
     "execution_count": 59,
     "metadata": {},
     "output_type": "execute_result"
    }
   ],
   "source": [
    "rand(z, 5)"
   ]
  },
  {
   "cell_type": "markdown",
   "metadata": {},
   "source": [
    "### Toxic code \n",
    "```\n",
    "for i = 1:m\n",
    "    x = y[i]^k\n",
    "end\n",
    "```\n",
    "\n",
    "1. Not readable at all even a couple of days later. What is `i`? What is `x`? What is `k`? Why are we doing all this?\n",
    "2. Nobody is every going to touch this again. It's toxic."
   ]
  },
  {
   "cell_type": "markdown",
   "metadata": {},
   "source": [
    "### Readable code\n",
    "```\n",
    "function simulate_trajectory(states_of_world::LabeledCategorical, number_periods::Int)\n",
    "    return rand(states_of_world, number_periods)\n",
    "end\n",
    "```\n",
    "Good variable names. Use high-level language features like composite types. Reuse existing functions like `rand` to\n",
    "1. ease mental burden\n",
    "2. make code explicitly reusable, for example, after we decided to model states of the world with a continuous rather than discrete distribution."
   ]
  },
  {
   "cell_type": "code",
   "execution_count": 62,
   "metadata": {},
   "outputs": [
    {
     "ename": "LoadError",
     "evalue": "invalid subtyping in definition of StringCategorical",
     "output_type": "error",
     "traceback": [
      "invalid subtyping in definition of StringCategorical",
      "",
      "Stacktrace:",
      " [1] top-level scope",
      "   @ In[62]:1",
      " [2] eval",
      "   @ ./boot.jl:360 [inlined]",
      " [3] include_string(mapexpr::typeof(REPL.softscope), mod::Module, code::String, filename::String)",
      "   @ Base ./loading.jl:1116"
     ]
    }
   ],
   "source": [
    "struct StringCategorical <: LabeledCategorical\n",
    "    p::Vector{Float64}\n",
    "    labels::Vector{String}\n",
    "end"
   ]
  },
  {
   "cell_type": "markdown",
   "metadata": {},
   "source": [
    "This has to be done differently, as we will discuss in Class 05."
   ]
  },
  {
   "cell_type": "code",
   "execution_count": null,
   "metadata": {},
   "outputs": [],
   "source": []
  }
 ],
 "metadata": {
  "kernelspec": {
   "display_name": "Julia 1.6.2",
   "language": "julia",
   "name": "julia-1.6"
  },
  "language_info": {
   "file_extension": ".jl",
   "mimetype": "application/julia",
   "name": "julia",
   "version": "1.6.2"
  }
 },
 "nbformat": 4,
 "nbformat_minor": 4
}
