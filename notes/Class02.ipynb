{
 "cells": [
  {
   "cell_type": "markdown",
   "metadata": {},
   "source": [
    "# First-order difference equations\n",
    "$$\n",
    "x_t = F_t(x_{t-1})\n",
    "$$\n",
    ">### What is a solution to a difference equation?\n",
    "> A series $x_t, t=1,2,...$ such that.\n",
    ">1. $x_t=F_t(x_{t-1})$ for every $t$\n",
    ">2. boundary condition: $x_0 = c$\n",
    "\n",
    "## Linear\n",
    "$$\n",
    "x_t = a x_{t-1} +b\n",
    "$$\n",
    "by subtracting $b/(1-a)$\n",
    "$$\n",
    "(x_t-b/(1-a)) = a(x_{t-1} - b/(1-a))\n",
    "- (1-a)b/(1-a) +b\n",
    "$$\n",
    "$$\n",
    "\\tilde x_t = a \\tilde x_{t-1}\n",
    "$$\n",
    "$$\n",
    "\\tilde x_t = c a^t\n",
    "$$\n",
    "with $c$ pinned down by boundary condition, for example:\n",
    "$$\n",
    "\\tilde x_0 = X_0, c=X_0\n",
    "$$\n",
    "With lag operator notation (see later)\n",
    "$$\n",
    "x_t(1-aL) = 0\n",
    "$$\n"
   ]
  },
  {
   "cell_type": "code",
   "execution_count": 1,
   "metadata": {},
   "outputs": [
    {
     "data": {
      "text/plain": [
       "plot_AR1 (generic function with 1 method)"
      ]
     },
     "execution_count": 1,
     "metadata": {},
     "output_type": "execute_result"
    }
   ],
   "source": [
    "using Plots\n",
    "function plot_AR1(A, x0)\n",
    "    x = zeros(30)\n",
    "    x[1] = x0\n",
    "    for t = 2:30\n",
    "        x[t] = A * x[t-1]\n",
    "    end\n",
    "    plot(x)\n",
    "end"
   ]
  },
  {
   "cell_type": "markdown",
   "metadata": {},
   "source": [
    "Better to let one function do one thing."
   ]
  },
  {
   "cell_type": "code",
   "execution_count": 52,
   "metadata": {},
   "outputs": [
    {
     "data": {
      "text/plain": [
       "forecast_AR1 (generic function with 1 method)"
      ]
     },
     "execution_count": 52,
     "metadata": {},
     "output_type": "execute_result"
    }
   ],
   "source": [
    "function forecast_AR1(A, x0)\n",
    "    x = zeros(30)\n",
    "    x[1] = x0\n",
    "    for t = 2:30\n",
    "        x[t] = A * x[t-1]\n",
    "    end\n",
    "    return(x)\n",
    "end"
   ]
  },
  {
   "cell_type": "code",
   "execution_count": 5,
   "metadata": {},
   "outputs": [
    {
     "data": {
      "image/svg+xml": [
       "<?xml version=\"1.0\" encoding=\"utf-8\"?>\n",
       "<svg xmlns=\"http://www.w3.org/2000/svg\" xmlns:xlink=\"http://www.w3.org/1999/xlink\" width=\"600\" height=\"400\" viewBox=\"0 0 2400 1600\">\n",
       "<defs>\n",
       "  <clipPath id=\"clip740\">\n",
       "    <rect x=\"0\" y=\"0\" width=\"2400\" height=\"1600\"/>\n",
       "  </clipPath>\n",
       "</defs>\n",
       "<path clip-path=\"url(#clip740)\" d=\"\n",
       "M0 1600 L2400 1600 L2400 0 L0 0  Z\n",
       "  \" fill=\"#ffffff\" fill-rule=\"evenodd\" fill-opacity=\"1\"/>\n",
       "<defs>\n",
       "  <clipPath id=\"clip741\">\n",
       "    <rect x=\"480\" y=\"0\" width=\"1681\" height=\"1600\"/>\n",
       "  </clipPath>\n",
       "</defs>\n",
       "<path clip-path=\"url(#clip740)\" d=\"\n",
       "M192.941 1486.45 L2352.76 1486.45 L2352.76 47.2441 L192.941 47.2441  Z\n",
       "  \" fill=\"#ffffff\" fill-rule=\"evenodd\" fill-opacity=\"1\"/>\n",
       "<defs>\n",
       "  <clipPath id=\"clip742\">\n",
       "    <rect x=\"192\" y=\"47\" width=\"2161\" height=\"1440\"/>\n",
       "  </clipPath>\n",
       "</defs>\n",
       "<polyline clip-path=\"url(#clip742)\" style=\"stroke:#000000; stroke-linecap:butt; stroke-linejoin:round; stroke-width:2; stroke-opacity:0.1; fill:none\" points=\"\n",
       "  535.11,1486.45 535.11,47.2441 \n",
       "  \"/>\n",
       "<polyline clip-path=\"url(#clip742)\" style=\"stroke:#000000; stroke-linecap:butt; stroke-linejoin:round; stroke-width:2; stroke-opacity:0.1; fill:none\" points=\"\n",
       "  886.414,1486.45 886.414,47.2441 \n",
       "  \"/>\n",
       "<polyline clip-path=\"url(#clip742)\" style=\"stroke:#000000; stroke-linecap:butt; stroke-linejoin:round; stroke-width:2; stroke-opacity:0.1; fill:none\" points=\"\n",
       "  1237.72,1486.45 1237.72,47.2441 \n",
       "  \"/>\n",
       "<polyline clip-path=\"url(#clip742)\" style=\"stroke:#000000; stroke-linecap:butt; stroke-linejoin:round; stroke-width:2; stroke-opacity:0.1; fill:none\" points=\"\n",
       "  1589.02,1486.45 1589.02,47.2441 \n",
       "  \"/>\n",
       "<polyline clip-path=\"url(#clip742)\" style=\"stroke:#000000; stroke-linecap:butt; stroke-linejoin:round; stroke-width:2; stroke-opacity:0.1; fill:none\" points=\"\n",
       "  1940.33,1486.45 1940.33,47.2441 \n",
       "  \"/>\n",
       "<polyline clip-path=\"url(#clip742)\" style=\"stroke:#000000; stroke-linecap:butt; stroke-linejoin:round; stroke-width:2; stroke-opacity:0.1; fill:none\" points=\"\n",
       "  2291.63,1486.45 2291.63,47.2441 \n",
       "  \"/>\n",
       "<polyline clip-path=\"url(#clip740)\" style=\"stroke:#000000; stroke-linecap:butt; stroke-linejoin:round; stroke-width:4; stroke-opacity:1; fill:none\" points=\"\n",
       "  192.941,1486.45 2352.76,1486.45 \n",
       "  \"/>\n",
       "<polyline clip-path=\"url(#clip740)\" style=\"stroke:#000000; stroke-linecap:butt; stroke-linejoin:round; stroke-width:4; stroke-opacity:1; fill:none\" points=\"\n",
       "  535.11,1486.45 535.11,1467.55 \n",
       "  \"/>\n",
       "<polyline clip-path=\"url(#clip740)\" style=\"stroke:#000000; stroke-linecap:butt; stroke-linejoin:round; stroke-width:4; stroke-opacity:1; fill:none\" points=\"\n",
       "  886.414,1486.45 886.414,1467.55 \n",
       "  \"/>\n",
       "<polyline clip-path=\"url(#clip740)\" style=\"stroke:#000000; stroke-linecap:butt; stroke-linejoin:round; stroke-width:4; stroke-opacity:1; fill:none\" points=\"\n",
       "  1237.72,1486.45 1237.72,1467.55 \n",
       "  \"/>\n",
       "<polyline clip-path=\"url(#clip740)\" style=\"stroke:#000000; stroke-linecap:butt; stroke-linejoin:round; stroke-width:4; stroke-opacity:1; fill:none\" points=\"\n",
       "  1589.02,1486.45 1589.02,1467.55 \n",
       "  \"/>\n",
       "<polyline clip-path=\"url(#clip740)\" style=\"stroke:#000000; stroke-linecap:butt; stroke-linejoin:round; stroke-width:4; stroke-opacity:1; fill:none\" points=\"\n",
       "  1940.33,1486.45 1940.33,1467.55 \n",
       "  \"/>\n",
       "<polyline clip-path=\"url(#clip740)\" style=\"stroke:#000000; stroke-linecap:butt; stroke-linejoin:round; stroke-width:4; stroke-opacity:1; fill:none\" points=\"\n",
       "  2291.63,1486.45 2291.63,1467.55 \n",
       "  \"/>\n",
       "<path clip-path=\"url(#clip740)\" d=\"M525.388 1512.56 L543.745 1512.56 L543.745 1516.5 L529.671 1516.5 L529.671 1524.97 Q530.689 1524.62 531.708 1524.46 Q532.726 1524.27 533.745 1524.27 Q539.532 1524.27 542.911 1527.44 Q546.291 1530.62 546.291 1536.03 Q546.291 1541.61 542.819 1544.71 Q539.347 1547.79 533.027 1547.79 Q530.851 1547.79 528.583 1547.42 Q526.337 1547.05 523.93 1546.31 L523.93 1541.61 Q526.013 1542.74 528.235 1543.3 Q530.458 1543.86 532.935 1543.86 Q536.939 1543.86 539.277 1541.75 Q541.615 1539.64 541.615 1536.03 Q541.615 1532.42 539.277 1530.31 Q536.939 1528.21 532.935 1528.21 Q531.06 1528.21 529.185 1528.62 Q527.333 1529.04 525.388 1529.92 L525.388 1512.56 Z\" fill=\"#000000\" fill-rule=\"evenodd\" fill-opacity=\"1\" /><path clip-path=\"url(#clip740)\" d=\"M861.102 1543.18 L868.741 1543.18 L868.741 1516.82 L860.431 1518.49 L860.431 1514.23 L868.694 1512.56 L873.37 1512.56 L873.37 1543.18 L881.009 1543.18 L881.009 1547.12 L861.102 1547.12 L861.102 1543.18 Z\" fill=\"#000000\" fill-rule=\"evenodd\" fill-opacity=\"1\" /><path clip-path=\"url(#clip740)\" d=\"M900.453 1515.64 Q896.842 1515.64 895.014 1519.2 Q893.208 1522.75 893.208 1529.87 Q893.208 1536.98 895.014 1540.55 Q896.842 1544.09 900.453 1544.09 Q904.088 1544.09 905.893 1540.55 Q907.722 1536.98 907.722 1529.87 Q907.722 1522.75 905.893 1519.2 Q904.088 1515.64 900.453 1515.64 M900.453 1511.93 Q906.264 1511.93 909.319 1516.54 Q912.398 1521.12 912.398 1529.87 Q912.398 1538.6 909.319 1543.21 Q906.264 1547.79 900.453 1547.79 Q894.643 1547.79 891.565 1543.21 Q888.509 1538.6 888.509 1529.87 Q888.509 1521.12 891.565 1516.54 Q894.643 1511.93 900.453 1511.93 Z\" fill=\"#000000\" fill-rule=\"evenodd\" fill-opacity=\"1\" /><path clip-path=\"url(#clip740)\" d=\"M1212.9 1543.18 L1220.54 1543.18 L1220.54 1516.82 L1212.23 1518.49 L1212.23 1514.23 L1220.5 1512.56 L1225.17 1512.56 L1225.17 1543.18 L1232.81 1543.18 L1232.81 1547.12 L1212.9 1547.12 L1212.9 1543.18 Z\" fill=\"#000000\" fill-rule=\"evenodd\" fill-opacity=\"1\" /><path clip-path=\"url(#clip740)\" d=\"M1242.3 1512.56 L1260.66 1512.56 L1260.66 1516.5 L1246.58 1516.5 L1246.58 1524.97 Q1247.6 1524.62 1248.62 1524.46 Q1249.64 1524.27 1250.66 1524.27 Q1256.44 1524.27 1259.82 1527.44 Q1263.2 1530.62 1263.2 1536.03 Q1263.2 1541.61 1259.73 1544.71 Q1256.26 1547.79 1249.94 1547.79 Q1247.76 1547.79 1245.5 1547.42 Q1243.25 1547.05 1240.84 1546.31 L1240.84 1541.61 Q1242.93 1542.74 1245.15 1543.3 Q1247.37 1543.86 1249.85 1543.86 Q1253.85 1543.86 1256.19 1541.75 Q1258.53 1539.64 1258.53 1536.03 Q1258.53 1532.42 1256.19 1530.31 Q1253.85 1528.21 1249.85 1528.21 Q1247.97 1528.21 1246.1 1528.62 Q1244.25 1529.04 1242.3 1529.92 L1242.3 1512.56 Z\" fill=\"#000000\" fill-rule=\"evenodd\" fill-opacity=\"1\" /><path clip-path=\"url(#clip740)\" d=\"M1567.79 1543.18 L1584.11 1543.18 L1584.11 1547.12 L1562.17 1547.12 L1562.17 1543.18 Q1564.83 1540.43 1569.42 1535.8 Q1574.02 1531.15 1575.2 1529.81 Q1577.45 1527.28 1578.33 1525.55 Q1579.23 1523.79 1579.23 1522.1 Q1579.23 1519.34 1577.29 1517.61 Q1575.36 1515.87 1572.26 1515.87 Q1570.06 1515.87 1567.61 1516.63 Q1565.18 1517.4 1562.4 1518.95 L1562.4 1514.23 Q1565.23 1513.09 1567.68 1512.51 Q1570.13 1511.93 1572.17 1511.93 Q1577.54 1511.93 1580.73 1514.62 Q1583.93 1517.31 1583.93 1521.8 Q1583.93 1523.93 1583.12 1525.85 Q1582.33 1527.74 1580.23 1530.34 Q1579.65 1531.01 1576.54 1534.23 Q1573.44 1537.42 1567.79 1543.18 Z\" fill=\"#000000\" fill-rule=\"evenodd\" fill-opacity=\"1\" /><path clip-path=\"url(#clip740)\" d=\"M1603.93 1515.64 Q1600.32 1515.64 1598.49 1519.2 Q1596.68 1522.75 1596.68 1529.87 Q1596.68 1536.98 1598.49 1540.55 Q1600.32 1544.09 1603.93 1544.09 Q1607.56 1544.09 1609.37 1540.55 Q1611.2 1536.98 1611.2 1529.87 Q1611.2 1522.75 1609.37 1519.2 Q1607.56 1515.64 1603.93 1515.64 M1603.93 1511.93 Q1609.74 1511.93 1612.79 1516.54 Q1615.87 1521.12 1615.87 1529.87 Q1615.87 1538.6 1612.79 1543.21 Q1609.74 1547.79 1603.93 1547.79 Q1598.12 1547.79 1595.04 1543.21 Q1591.98 1538.6 1591.98 1529.87 Q1591.98 1521.12 1595.04 1516.54 Q1598.12 1511.93 1603.93 1511.93 Z\" fill=\"#000000\" fill-rule=\"evenodd\" fill-opacity=\"1\" /><path clip-path=\"url(#clip740)\" d=\"M1919.6 1543.18 L1935.92 1543.18 L1935.92 1547.12 L1913.97 1547.12 L1913.97 1543.18 Q1916.63 1540.43 1921.22 1535.8 Q1925.82 1531.15 1927 1529.81 Q1929.25 1527.28 1930.13 1525.55 Q1931.03 1523.79 1931.03 1522.1 Q1931.03 1519.34 1929.09 1517.61 Q1927.17 1515.87 1924.06 1515.87 Q1921.86 1515.87 1919.41 1516.63 Q1916.98 1517.4 1914.2 1518.95 L1914.2 1514.23 Q1917.03 1513.09 1919.48 1512.51 Q1921.93 1511.93 1923.97 1511.93 Q1929.34 1511.93 1932.54 1514.62 Q1935.73 1517.31 1935.73 1521.8 Q1935.73 1523.93 1934.92 1525.85 Q1934.13 1527.74 1932.03 1530.34 Q1931.45 1531.01 1928.35 1534.23 Q1925.24 1537.42 1919.6 1543.18 Z\" fill=\"#000000\" fill-rule=\"evenodd\" fill-opacity=\"1\" /><path clip-path=\"url(#clip740)\" d=\"M1945.78 1512.56 L1964.13 1512.56 L1964.13 1516.5 L1950.06 1516.5 L1950.06 1524.97 Q1951.08 1524.62 1952.1 1524.46 Q1953.11 1524.27 1954.13 1524.27 Q1959.92 1524.27 1963.3 1527.44 Q1966.68 1530.62 1966.68 1536.03 Q1966.68 1541.61 1963.21 1544.71 Q1959.73 1547.79 1953.42 1547.79 Q1951.24 1547.79 1948.97 1547.42 Q1946.73 1547.05 1944.32 1546.31 L1944.32 1541.61 Q1946.4 1542.74 1948.62 1543.3 Q1950.85 1543.86 1953.32 1543.86 Q1957.33 1543.86 1959.67 1541.75 Q1962 1539.64 1962 1536.03 Q1962 1532.42 1959.67 1530.31 Q1957.33 1528.21 1953.32 1528.21 Q1951.45 1528.21 1949.57 1528.62 Q1947.72 1529.04 1945.78 1529.92 L1945.78 1512.56 Z\" fill=\"#000000\" fill-rule=\"evenodd\" fill-opacity=\"1\" /><path clip-path=\"url(#clip740)\" d=\"M2280.47 1528.49 Q2283.83 1529.2 2285.7 1531.47 Q2287.6 1533.74 2287.6 1537.07 Q2287.6 1542.19 2284.08 1544.99 Q2280.56 1547.79 2274.08 1547.79 Q2271.91 1547.79 2269.59 1547.35 Q2267.3 1546.93 2264.85 1546.08 L2264.85 1541.56 Q2266.79 1542.7 2269.11 1543.28 Q2271.42 1543.86 2273.94 1543.86 Q2278.34 1543.86 2280.63 1542.12 Q2282.95 1540.38 2282.95 1537.07 Q2282.95 1534.02 2280.8 1532.31 Q2278.67 1530.57 2274.85 1530.57 L2270.82 1530.57 L2270.82 1526.73 L2275.03 1526.73 Q2278.48 1526.73 2280.31 1525.36 Q2282.14 1523.97 2282.14 1521.38 Q2282.14 1518.72 2280.24 1517.31 Q2278.37 1515.87 2274.85 1515.87 Q2272.93 1515.87 2270.73 1516.29 Q2268.53 1516.7 2265.89 1517.58 L2265.89 1513.42 Q2268.55 1512.68 2270.87 1512.31 Q2273.2 1511.93 2275.26 1511.93 Q2280.59 1511.93 2283.69 1514.37 Q2286.79 1516.77 2286.79 1520.89 Q2286.79 1523.76 2285.15 1525.75 Q2283.5 1527.72 2280.47 1528.49 Z\" fill=\"#000000\" fill-rule=\"evenodd\" fill-opacity=\"1\" /><path clip-path=\"url(#clip740)\" d=\"M2306.47 1515.64 Q2302.86 1515.64 2301.03 1519.2 Q2299.22 1522.75 2299.22 1529.87 Q2299.22 1536.98 2301.03 1540.55 Q2302.86 1544.09 2306.47 1544.09 Q2310.1 1544.09 2311.91 1540.55 Q2313.74 1536.98 2313.74 1529.87 Q2313.74 1522.75 2311.91 1519.2 Q2310.1 1515.64 2306.47 1515.64 M2306.47 1511.93 Q2312.28 1511.93 2315.33 1516.54 Q2318.41 1521.12 2318.41 1529.87 Q2318.41 1538.6 2315.33 1543.21 Q2312.28 1547.79 2306.47 1547.79 Q2300.66 1547.79 2297.58 1543.21 Q2294.52 1538.6 2294.52 1529.87 Q2294.52 1521.12 2297.58 1516.54 Q2300.66 1511.93 2306.47 1511.93 Z\" fill=\"#000000\" fill-rule=\"evenodd\" fill-opacity=\"1\" /><polyline clip-path=\"url(#clip742)\" style=\"stroke:#000000; stroke-linecap:butt; stroke-linejoin:round; stroke-width:2; stroke-opacity:0.1; fill:none\" points=\"\n",
       "  192.941,1285.98 2352.76,1285.98 \n",
       "  \"/>\n",
       "<polyline clip-path=\"url(#clip742)\" style=\"stroke:#000000; stroke-linecap:butt; stroke-linejoin:round; stroke-width:2; stroke-opacity:0.1; fill:none\" points=\"\n",
       "  192.941,886.647 2352.76,886.647 \n",
       "  \"/>\n",
       "<polyline clip-path=\"url(#clip742)\" style=\"stroke:#000000; stroke-linecap:butt; stroke-linejoin:round; stroke-width:2; stroke-opacity:0.1; fill:none\" points=\"\n",
       "  192.941,487.311 2352.76,487.311 \n",
       "  \"/>\n",
       "<polyline clip-path=\"url(#clip742)\" style=\"stroke:#000000; stroke-linecap:butt; stroke-linejoin:round; stroke-width:2; stroke-opacity:0.1; fill:none\" points=\"\n",
       "  192.941,87.9763 2352.76,87.9763 \n",
       "  \"/>\n",
       "<polyline clip-path=\"url(#clip740)\" style=\"stroke:#000000; stroke-linecap:butt; stroke-linejoin:round; stroke-width:4; stroke-opacity:1; fill:none\" points=\"\n",
       "  192.941,1486.45 192.941,47.2441 \n",
       "  \"/>\n",
       "<polyline clip-path=\"url(#clip740)\" style=\"stroke:#000000; stroke-linecap:butt; stroke-linejoin:round; stroke-width:4; stroke-opacity:1; fill:none\" points=\"\n",
       "  192.941,1285.98 211.838,1285.98 \n",
       "  \"/>\n",
       "<polyline clip-path=\"url(#clip740)\" style=\"stroke:#000000; stroke-linecap:butt; stroke-linejoin:round; stroke-width:4; stroke-opacity:1; fill:none\" points=\"\n",
       "  192.941,886.647 211.838,886.647 \n",
       "  \"/>\n",
       "<polyline clip-path=\"url(#clip740)\" style=\"stroke:#000000; stroke-linecap:butt; stroke-linejoin:round; stroke-width:4; stroke-opacity:1; fill:none\" points=\"\n",
       "  192.941,487.311 211.838,487.311 \n",
       "  \"/>\n",
       "<polyline clip-path=\"url(#clip740)\" style=\"stroke:#000000; stroke-linecap:butt; stroke-linejoin:round; stroke-width:4; stroke-opacity:1; fill:none\" points=\"\n",
       "  192.941,87.9763 211.838,87.9763 \n",
       "  \"/>\n",
       "<path clip-path=\"url(#clip740)\" d=\"M50.9921 1286.43 L80.6679 1286.43 L80.6679 1290.37 L50.9921 1290.37 L50.9921 1286.43 Z\" fill=\"#000000\" fill-rule=\"evenodd\" fill-opacity=\"1\" /><path clip-path=\"url(#clip740)\" d=\"M100.76 1271.78 Q97.1493 1271.78 95.3206 1275.35 Q93.515 1278.89 93.515 1286.02 Q93.515 1293.12 95.3206 1296.69 Q97.1493 1300.23 100.76 1300.23 Q104.395 1300.23 106.2 1296.69 Q108.029 1293.12 108.029 1286.02 Q108.029 1278.89 106.2 1275.35 Q104.395 1271.78 100.76 1271.78 M100.76 1268.08 Q106.571 1268.08 109.626 1272.68 Q112.705 1277.27 112.705 1286.02 Q112.705 1294.74 109.626 1299.35 Q106.571 1303.93 100.76 1303.93 Q94.9502 1303.93 91.8715 1299.35 Q88.816 1294.74 88.816 1286.02 Q88.816 1277.27 91.8715 1272.68 Q94.9502 1268.08 100.76 1268.08 Z\" fill=\"#000000\" fill-rule=\"evenodd\" fill-opacity=\"1\" /><path clip-path=\"url(#clip740)\" d=\"M120.922 1297.38 L125.807 1297.38 L125.807 1303.26 L120.922 1303.26 L120.922 1297.38 Z\" fill=\"#000000\" fill-rule=\"evenodd\" fill-opacity=\"1\" /><path clip-path=\"url(#clip740)\" d=\"M136.038 1268.7 L154.394 1268.7 L154.394 1272.64 L140.32 1272.64 L140.32 1281.11 Q141.339 1280.76 142.357 1280.6 Q143.376 1280.41 144.394 1280.41 Q150.181 1280.41 153.561 1283.59 Q156.941 1286.76 156.941 1292.17 Q156.941 1297.75 153.468 1300.85 Q149.996 1303.93 143.677 1303.93 Q141.501 1303.93 139.232 1303.56 Q136.987 1303.19 134.58 1302.45 L134.58 1297.75 Q136.663 1298.89 138.885 1299.44 Q141.107 1300 143.584 1300 Q147.589 1300 149.927 1297.89 Q152.265 1295.78 152.265 1292.17 Q152.265 1288.56 149.927 1286.46 Q147.589 1284.35 143.584 1284.35 Q141.709 1284.35 139.834 1284.77 Q137.982 1285.18 136.038 1286.06 L136.038 1268.7 Z\" fill=\"#000000\" fill-rule=\"evenodd\" fill-opacity=\"1\" /><path clip-path=\"url(#clip740)\" d=\"M99.765 872.445 Q96.1539 872.445 94.3252 876.01 Q92.5197 879.552 92.5197 886.681 Q92.5197 893.788 94.3252 897.352 Q96.1539 900.894 99.765 900.894 Q103.399 900.894 105.205 897.352 Q107.033 893.788 107.033 886.681 Q107.033 879.552 105.205 876.01 Q103.399 872.445 99.765 872.445 M99.765 868.742 Q105.575 868.742 108.631 873.348 Q111.709 877.931 111.709 886.681 Q111.709 895.408 108.631 900.015 Q105.575 904.598 99.765 904.598 Q93.9549 904.598 90.8762 900.015 Q87.8206 895.408 87.8206 886.681 Q87.8206 877.931 90.8762 873.348 Q93.9549 868.742 99.765 868.742 Z\" fill=\"#000000\" fill-rule=\"evenodd\" fill-opacity=\"1\" /><path clip-path=\"url(#clip740)\" d=\"M119.927 898.047 L124.811 898.047 L124.811 903.927 L119.927 903.927 L119.927 898.047 Z\" fill=\"#000000\" fill-rule=\"evenodd\" fill-opacity=\"1\" /><path clip-path=\"url(#clip740)\" d=\"M144.996 872.445 Q141.385 872.445 139.556 876.01 Q137.751 879.552 137.751 886.681 Q137.751 893.788 139.556 897.352 Q141.385 900.894 144.996 900.894 Q148.63 900.894 150.436 897.352 Q152.265 893.788 152.265 886.681 Q152.265 879.552 150.436 876.01 Q148.63 872.445 144.996 872.445 M144.996 868.742 Q150.806 868.742 153.862 873.348 Q156.941 877.931 156.941 886.681 Q156.941 895.408 153.862 900.015 Q150.806 904.598 144.996 904.598 Q139.186 904.598 136.107 900.015 Q133.052 895.408 133.052 886.681 Q133.052 877.931 136.107 873.348 Q139.186 868.742 144.996 868.742 Z\" fill=\"#000000\" fill-rule=\"evenodd\" fill-opacity=\"1\" /><path clip-path=\"url(#clip740)\" d=\"M100.76 473.11 Q97.1493 473.11 95.3206 476.675 Q93.515 480.217 93.515 487.346 Q93.515 494.453 95.3206 498.017 Q97.1493 501.559 100.76 501.559 Q104.395 501.559 106.2 498.017 Q108.029 494.453 108.029 487.346 Q108.029 480.217 106.2 476.675 Q104.395 473.11 100.76 473.11 M100.76 469.406 Q106.571 469.406 109.626 474.013 Q112.705 478.596 112.705 487.346 Q112.705 496.073 109.626 500.679 Q106.571 505.263 100.76 505.263 Q94.9502 505.263 91.8715 500.679 Q88.816 496.073 88.816 487.346 Q88.816 478.596 91.8715 474.013 Q94.9502 469.406 100.76 469.406 Z\" fill=\"#000000\" fill-rule=\"evenodd\" fill-opacity=\"1\" /><path clip-path=\"url(#clip740)\" d=\"M120.922 498.712 L125.807 498.712 L125.807 504.591 L120.922 504.591 L120.922 498.712 Z\" fill=\"#000000\" fill-rule=\"evenodd\" fill-opacity=\"1\" /><path clip-path=\"url(#clip740)\" d=\"M136.038 470.031 L154.394 470.031 L154.394 473.967 L140.32 473.967 L140.32 482.439 Q141.339 482.092 142.357 481.929 Q143.376 481.744 144.394 481.744 Q150.181 481.744 153.561 484.916 Q156.941 488.087 156.941 493.503 Q156.941 499.082 153.468 502.184 Q149.996 505.263 143.677 505.263 Q141.501 505.263 139.232 504.892 Q136.987 504.522 134.58 503.781 L134.58 499.082 Q136.663 500.216 138.885 500.772 Q141.107 501.328 143.584 501.328 Q147.589 501.328 149.927 499.221 Q152.265 497.115 152.265 493.503 Q152.265 489.892 149.927 487.786 Q147.589 485.679 143.584 485.679 Q141.709 485.679 139.834 486.096 Q137.982 486.513 136.038 487.392 L136.038 470.031 Z\" fill=\"#000000\" fill-rule=\"evenodd\" fill-opacity=\"1\" /><path clip-path=\"url(#clip740)\" d=\"M90.5752 101.321 L98.2141 101.321 L98.2141 74.9555 L89.904 76.6222 L89.904 72.3629 L98.1678 70.6963 L102.844 70.6963 L102.844 101.321 L110.483 101.321 L110.483 105.256 L90.5752 105.256 L90.5752 101.321 Z\" fill=\"#000000\" fill-rule=\"evenodd\" fill-opacity=\"1\" /><path clip-path=\"url(#clip740)\" d=\"M119.927 99.3767 L124.811 99.3767 L124.811 105.256 L119.927 105.256 L119.927 99.3767 Z\" fill=\"#000000\" fill-rule=\"evenodd\" fill-opacity=\"1\" /><path clip-path=\"url(#clip740)\" d=\"M144.996 73.775 Q141.385 73.775 139.556 77.3398 Q137.751 80.8814 137.751 88.011 Q137.751 95.1174 139.556 98.6822 Q141.385 102.224 144.996 102.224 Q148.63 102.224 150.436 98.6822 Q152.265 95.1174 152.265 88.011 Q152.265 80.8814 150.436 77.3398 Q148.63 73.775 144.996 73.775 M144.996 70.0713 Q150.806 70.0713 153.862 74.6777 Q156.941 79.261 156.941 88.011 Q156.941 96.7378 153.862 101.344 Q150.806 105.928 144.996 105.928 Q139.186 105.928 136.107 101.344 Q133.052 96.7378 133.052 88.011 Q133.052 79.261 136.107 74.6777 Q139.186 70.0713 144.996 70.0713 Z\" fill=\"#000000\" fill-rule=\"evenodd\" fill-opacity=\"1\" /><polyline clip-path=\"url(#clip742)\" style=\"stroke:#009af9; stroke-linecap:butt; stroke-linejoin:round; stroke-width:4; stroke-opacity:1; fill:none\" points=\"\n",
       "  254.067,87.9763 324.328,1445.72 394.589,495.298 464.85,1160.59 535.11,694.886 605.371,1020.88 675.632,792.684 745.893,952.42 816.153,840.605 886.414,918.876 \n",
       "  956.675,864.086 1026.94,902.439 1097.2,875.592 1167.46,894.385 1237.72,881.23 1307.98,890.438 1378.24,883.992 1448.5,888.504 1518.76,885.346 1589.02,887.557 \n",
       "  1659.28,886.009 1729.54,887.093 1799.8,886.334 1870.06,886.865 1940.33,886.494 2010.59,886.754 2080.85,886.572 2151.11,886.699 2221.37,886.61 2291.63,886.672 \n",
       "  \n",
       "  \"/>\n",
       "<path clip-path=\"url(#clip740)\" d=\"\n",
       "M1988.35 198.898 L2280.76 198.898 L2280.76 95.2176 L1988.35 95.2176  Z\n",
       "  \" fill=\"#ffffff\" fill-rule=\"evenodd\" fill-opacity=\"1\"/>\n",
       "<polyline clip-path=\"url(#clip740)\" style=\"stroke:#000000; stroke-linecap:butt; stroke-linejoin:round; stroke-width:4; stroke-opacity:1; fill:none\" points=\"\n",
       "  1988.35,198.898 2280.76,198.898 2280.76,95.2176 1988.35,95.2176 1988.35,198.898 \n",
       "  \"/>\n",
       "<polyline clip-path=\"url(#clip740)\" style=\"stroke:#009af9; stroke-linecap:butt; stroke-linejoin:round; stroke-width:4; stroke-opacity:1; fill:none\" points=\"\n",
       "  2012.35,147.058 2156.34,147.058 \n",
       "  \"/>\n",
       "<path clip-path=\"url(#clip740)\" d=\"M2194.18 166.745 Q2192.37 171.375 2190.66 172.787 Q2188.95 174.199 2186.08 174.199 L2182.67 174.199 L2182.67 170.634 L2185.17 170.634 Q2186.93 170.634 2187.91 169.8 Q2188.88 168.967 2190.06 165.865 L2190.82 163.921 L2180.34 138.412 L2184.85 138.412 L2192.95 158.689 L2201.05 138.412 L2205.57 138.412 L2194.18 166.745 Z\" fill=\"#000000\" fill-rule=\"evenodd\" fill-opacity=\"1\" /><path clip-path=\"url(#clip740)\" d=\"M2212.86 160.402 L2220.5 160.402 L2220.5 134.037 L2212.19 135.703 L2212.19 131.444 L2220.45 129.778 L2225.13 129.778 L2225.13 160.402 L2232.77 160.402 L2232.77 164.338 L2212.86 164.338 L2212.86 160.402 Z\" fill=\"#000000\" fill-rule=\"evenodd\" fill-opacity=\"1\" /></svg>\n"
      ]
     },
     "execution_count": 5,
     "metadata": {},
     "output_type": "execute_result"
    }
   ],
   "source": [
    "plot_AR1(-0.7, 1)"
   ]
  },
  {
   "cell_type": "markdown",
   "metadata": {},
   "source": [
    "## Second order\n",
    "$$\n",
    "x_t = a_1 x_{t-1} + a_2 x_{t-2}\n",
    "$$\n",
    "> Remove $b/(1-a_1-a_2)$\n",
    "## Lag operator\n",
    "$$\n",
    "Lx_t \\equiv x_{t-1}\n",
    "$$ \n",
    "L is a linear operator\n",
    "$$\n",
    "L(a+b x_t) = a+b Lx_t \n",
    "$$\n",
    "with this definition,\n",
    "$$\n",
    "x_t = a_1 Lx_t + a_2 LLx_t\n",
    "$$\n",
    "$$\n",
    "x_t(1 - a_1L - a_2L^2) = 0\n",
    "$$\n",
    "$$\n",
    "x_t(1-\\lambda_1 L)(1-\\lambda_2 L) = 0\n",
    "$$\n",
    "> $$\n",
    "a_1 = \\lambda_1 + \\lambda_2\n",
    "$$\n",
    "> $$\n",
    "a_2 = - \\lambda_1 \\lambda_2\n",
    "$$\n",
    "\n",
    "Suppose $x_{1t}$ is solution to first-order DE, \n",
    "$$\n",
    "x_{1t} (1-\\lambda_1 L) = 0,\n",
    "$$\n",
    "then it is also a solution to the second-order DE.\n",
    "\n",
    "> Because $x_{1t} (1-\\lambda_1 L)(1-\\lambda_2 L) =0(1-\\lambda_2 L)=0.$\n",
    "\n",
    "Let \n",
    "$$\n",
    "x_{1t} = c_1 \\lambda_1^t\n",
    "$$\n",
    "$$\n",
    "x_{2t} = c_2 \\lambda_2^t\n",
    "$$\n",
    "be the first-order solution, then\n",
    "$$\n",
    "c_1 \\lambda_1^t + c_2 \\lambda_2^t\n",
    "$$\n",
    "is the generic solution to second-order DE, with\n",
    "$c_1$ and $c_2$ pinned down by boundary condition."
   ]
  },
  {
   "cell_type": "code",
   "execution_count": 6,
   "metadata": {},
   "outputs": [
    {
     "data": {
      "text/plain": [
       "plot_AR2 (generic function with 1 method)"
      ]
     },
     "execution_count": 6,
     "metadata": {},
     "output_type": "execute_result"
    }
   ],
   "source": [
    "function plot_AR2(a1, a2, x0)\n",
    "    x = zeros(30)\n",
    "    x[1] = x0\n",
    "    x[2] = x0\n",
    "    for t = 3:30\n",
    "        x[t] = a1 * x[t-1] + a2 * x[t-2]\n",
    "    end\n",
    "    plot(x)\n",
    "end"
   ]
  },
  {
   "cell_type": "code",
   "execution_count": 7,
   "metadata": {},
   "outputs": [
    {
     "data": {
      "text/plain": [
       "forecast_AR2 (generic function with 1 method)"
      ]
     },
     "execution_count": 7,
     "metadata": {},
     "output_type": "execute_result"
    }
   ],
   "source": [
    "function forecast_AR2(a1, a2, x0)\n",
    "    T = 30\n",
    "    x = zeros(T)\n",
    "    x[1] = x0\n",
    "    x[2] = x0\n",
    "    for t = 3:T\n",
    "        x[t] = a1 * x[t-1] + a2 * x[t-2]\n",
    "    end\n",
    "    return(x)\n",
    "end"
   ]
  },
  {
   "cell_type": "code",
   "execution_count": 12,
   "metadata": {},
   "outputs": [
    {
     "data": {
      "image/svg+xml": [
       "<?xml version=\"1.0\" encoding=\"utf-8\"?>\n",
       "<svg xmlns=\"http://www.w3.org/2000/svg\" xmlns:xlink=\"http://www.w3.org/1999/xlink\" width=\"600\" height=\"400\" viewBox=\"0 0 2400 1600\">\n",
       "<defs>\n",
       "  <clipPath id=\"clip940\">\n",
       "    <rect x=\"0\" y=\"0\" width=\"2400\" height=\"1600\"/>\n",
       "  </clipPath>\n",
       "</defs>\n",
       "<path clip-path=\"url(#clip940)\" d=\"\n",
       "M0 1600 L2400 1600 L2400 0 L0 0  Z\n",
       "  \" fill=\"#ffffff\" fill-rule=\"evenodd\" fill-opacity=\"1\"/>\n",
       "<defs>\n",
       "  <clipPath id=\"clip941\">\n",
       "    <rect x=\"480\" y=\"0\" width=\"1681\" height=\"1600\"/>\n",
       "  </clipPath>\n",
       "</defs>\n",
       "<path clip-path=\"url(#clip940)\" d=\"\n",
       "M186.274 1486.45 L2352.76 1486.45 L2352.76 47.2441 L186.274 47.2441  Z\n",
       "  \" fill=\"#ffffff\" fill-rule=\"evenodd\" fill-opacity=\"1\"/>\n",
       "<defs>\n",
       "  <clipPath id=\"clip942\">\n",
       "    <rect x=\"186\" y=\"47\" width=\"2167\" height=\"1440\"/>\n",
       "  </clipPath>\n",
       "</defs>\n",
       "<polyline clip-path=\"url(#clip942)\" style=\"stroke:#000000; stroke-linecap:butt; stroke-linejoin:round; stroke-width:2; stroke-opacity:0.1; fill:none\" points=\"\n",
       "  529.5,1486.45 529.5,47.2441 \n",
       "  \"/>\n",
       "<polyline clip-path=\"url(#clip942)\" style=\"stroke:#000000; stroke-linecap:butt; stroke-linejoin:round; stroke-width:2; stroke-opacity:0.1; fill:none\" points=\"\n",
       "  881.888,1486.45 881.888,47.2441 \n",
       "  \"/>\n",
       "<polyline clip-path=\"url(#clip942)\" style=\"stroke:#000000; stroke-linecap:butt; stroke-linejoin:round; stroke-width:2; stroke-opacity:0.1; fill:none\" points=\"\n",
       "  1234.28,1486.45 1234.28,47.2441 \n",
       "  \"/>\n",
       "<polyline clip-path=\"url(#clip942)\" style=\"stroke:#000000; stroke-linecap:butt; stroke-linejoin:round; stroke-width:2; stroke-opacity:0.1; fill:none\" points=\"\n",
       "  1586.66,1486.45 1586.66,47.2441 \n",
       "  \"/>\n",
       "<polyline clip-path=\"url(#clip942)\" style=\"stroke:#000000; stroke-linecap:butt; stroke-linejoin:round; stroke-width:2; stroke-opacity:0.1; fill:none\" points=\"\n",
       "  1939.05,1486.45 1939.05,47.2441 \n",
       "  \"/>\n",
       "<polyline clip-path=\"url(#clip942)\" style=\"stroke:#000000; stroke-linecap:butt; stroke-linejoin:round; stroke-width:2; stroke-opacity:0.1; fill:none\" points=\"\n",
       "  2291.44,1486.45 2291.44,47.2441 \n",
       "  \"/>\n",
       "<polyline clip-path=\"url(#clip940)\" style=\"stroke:#000000; stroke-linecap:butt; stroke-linejoin:round; stroke-width:4; stroke-opacity:1; fill:none\" points=\"\n",
       "  186.274,1486.45 2352.76,1486.45 \n",
       "  \"/>\n",
       "<polyline clip-path=\"url(#clip940)\" style=\"stroke:#000000; stroke-linecap:butt; stroke-linejoin:round; stroke-width:4; stroke-opacity:1; fill:none\" points=\"\n",
       "  529.5,1486.45 529.5,1467.55 \n",
       "  \"/>\n",
       "<polyline clip-path=\"url(#clip940)\" style=\"stroke:#000000; stroke-linecap:butt; stroke-linejoin:round; stroke-width:4; stroke-opacity:1; fill:none\" points=\"\n",
       "  881.888,1486.45 881.888,1467.55 \n",
       "  \"/>\n",
       "<polyline clip-path=\"url(#clip940)\" style=\"stroke:#000000; stroke-linecap:butt; stroke-linejoin:round; stroke-width:4; stroke-opacity:1; fill:none\" points=\"\n",
       "  1234.28,1486.45 1234.28,1467.55 \n",
       "  \"/>\n",
       "<polyline clip-path=\"url(#clip940)\" style=\"stroke:#000000; stroke-linecap:butt; stroke-linejoin:round; stroke-width:4; stroke-opacity:1; fill:none\" points=\"\n",
       "  1586.66,1486.45 1586.66,1467.55 \n",
       "  \"/>\n",
       "<polyline clip-path=\"url(#clip940)\" style=\"stroke:#000000; stroke-linecap:butt; stroke-linejoin:round; stroke-width:4; stroke-opacity:1; fill:none\" points=\"\n",
       "  1939.05,1486.45 1939.05,1467.55 \n",
       "  \"/>\n",
       "<polyline clip-path=\"url(#clip940)\" style=\"stroke:#000000; stroke-linecap:butt; stroke-linejoin:round; stroke-width:4; stroke-opacity:1; fill:none\" points=\"\n",
       "  2291.44,1486.45 2291.44,1467.55 \n",
       "  \"/>\n",
       "<path clip-path=\"url(#clip940)\" d=\"M519.778 1512.56 L538.134 1512.56 L538.134 1516.5 L524.06 1516.5 L524.06 1524.97 Q525.079 1524.62 526.097 1524.46 Q527.116 1524.27 528.134 1524.27 Q533.921 1524.27 537.301 1527.44 Q540.68 1530.62 540.68 1536.03 Q540.68 1541.61 537.208 1544.71 Q533.736 1547.79 527.417 1547.79 Q525.241 1547.79 522.972 1547.42 Q520.727 1547.05 518.319 1546.31 L518.319 1541.61 Q520.403 1542.74 522.625 1543.3 Q524.847 1543.86 527.324 1543.86 Q531.329 1543.86 533.667 1541.75 Q536.005 1539.64 536.005 1536.03 Q536.005 1532.42 533.667 1530.31 Q531.329 1528.21 527.324 1528.21 Q525.449 1528.21 523.574 1528.62 Q521.722 1529.04 519.778 1529.92 L519.778 1512.56 Z\" fill=\"#000000\" fill-rule=\"evenodd\" fill-opacity=\"1\" /><path clip-path=\"url(#clip940)\" d=\"M856.576 1543.18 L864.215 1543.18 L864.215 1516.82 L855.904 1518.49 L855.904 1514.23 L864.168 1512.56 L868.844 1512.56 L868.844 1543.18 L876.483 1543.18 L876.483 1547.12 L856.576 1547.12 L856.576 1543.18 Z\" fill=\"#000000\" fill-rule=\"evenodd\" fill-opacity=\"1\" /><path clip-path=\"url(#clip940)\" d=\"M895.927 1515.64 Q892.316 1515.64 890.488 1519.2 Q888.682 1522.75 888.682 1529.87 Q888.682 1536.98 890.488 1540.55 Q892.316 1544.09 895.927 1544.09 Q899.562 1544.09 901.367 1540.55 Q903.196 1536.98 903.196 1529.87 Q903.196 1522.75 901.367 1519.2 Q899.562 1515.64 895.927 1515.64 M895.927 1511.93 Q901.737 1511.93 904.793 1516.54 Q907.872 1521.12 907.872 1529.87 Q907.872 1538.6 904.793 1543.21 Q901.737 1547.79 895.927 1547.79 Q890.117 1547.79 887.039 1543.21 Q883.983 1538.6 883.983 1529.87 Q883.983 1521.12 887.039 1516.54 Q890.117 1511.93 895.927 1511.93 Z\" fill=\"#000000\" fill-rule=\"evenodd\" fill-opacity=\"1\" /><path clip-path=\"url(#clip940)\" d=\"M1209.46 1543.18 L1217.1 1543.18 L1217.1 1516.82 L1208.79 1518.49 L1208.79 1514.23 L1217.05 1512.56 L1221.73 1512.56 L1221.73 1543.18 L1229.37 1543.18 L1229.37 1547.12 L1209.46 1547.12 L1209.46 1543.18 Z\" fill=\"#000000\" fill-rule=\"evenodd\" fill-opacity=\"1\" /><path clip-path=\"url(#clip940)\" d=\"M1238.86 1512.56 L1257.22 1512.56 L1257.22 1516.5 L1243.14 1516.5 L1243.14 1524.97 Q1244.16 1524.62 1245.18 1524.46 Q1246.2 1524.27 1247.22 1524.27 Q1253 1524.27 1256.38 1527.44 Q1259.76 1530.62 1259.76 1536.03 Q1259.76 1541.61 1256.29 1544.71 Q1252.82 1547.79 1246.5 1547.79 Q1244.32 1547.79 1242.05 1547.42 Q1239.81 1547.05 1237.4 1546.31 L1237.4 1541.61 Q1239.48 1542.74 1241.71 1543.3 Q1243.93 1543.86 1246.41 1543.86 Q1250.41 1543.86 1252.75 1541.75 Q1255.09 1539.64 1255.09 1536.03 Q1255.09 1532.42 1252.75 1530.31 Q1250.41 1528.21 1246.41 1528.21 Q1244.53 1528.21 1242.66 1528.62 Q1240.8 1529.04 1238.86 1529.92 L1238.86 1512.56 Z\" fill=\"#000000\" fill-rule=\"evenodd\" fill-opacity=\"1\" /><path clip-path=\"url(#clip940)\" d=\"M1565.44 1543.18 L1581.76 1543.18 L1581.76 1547.12 L1559.81 1547.12 L1559.81 1543.18 Q1562.47 1540.43 1567.06 1535.8 Q1571.66 1531.15 1572.84 1529.81 Q1575.09 1527.28 1575.97 1525.55 Q1576.87 1523.79 1576.87 1522.1 Q1576.87 1519.34 1574.93 1517.61 Q1573.01 1515.87 1569.91 1515.87 Q1567.71 1515.87 1565.25 1516.63 Q1562.82 1517.4 1560.04 1518.95 L1560.04 1514.23 Q1562.87 1513.09 1565.32 1512.51 Q1567.78 1511.93 1569.81 1511.93 Q1575.18 1511.93 1578.38 1514.62 Q1581.57 1517.31 1581.57 1521.8 Q1581.57 1523.93 1580.76 1525.85 Q1579.97 1527.74 1577.87 1530.34 Q1577.29 1531.01 1574.19 1534.23 Q1571.09 1537.42 1565.44 1543.18 Z\" fill=\"#000000\" fill-rule=\"evenodd\" fill-opacity=\"1\" /><path clip-path=\"url(#clip940)\" d=\"M1601.57 1515.64 Q1597.96 1515.64 1596.13 1519.2 Q1594.33 1522.75 1594.33 1529.87 Q1594.33 1536.98 1596.13 1540.55 Q1597.96 1544.09 1601.57 1544.09 Q1605.21 1544.09 1607.01 1540.55 Q1608.84 1536.98 1608.84 1529.87 Q1608.84 1522.75 1607.01 1519.2 Q1605.21 1515.64 1601.57 1515.64 M1601.57 1511.93 Q1607.38 1511.93 1610.44 1516.54 Q1613.52 1521.12 1613.52 1529.87 Q1613.52 1538.6 1610.44 1543.21 Q1607.38 1547.79 1601.57 1547.79 Q1595.76 1547.79 1592.68 1543.21 Q1589.63 1538.6 1589.63 1529.87 Q1589.63 1521.12 1592.68 1516.54 Q1595.76 1511.93 1601.57 1511.93 Z\" fill=\"#000000\" fill-rule=\"evenodd\" fill-opacity=\"1\" /><path clip-path=\"url(#clip940)\" d=\"M1918.32 1543.18 L1934.64 1543.18 L1934.64 1547.12 L1912.7 1547.12 L1912.7 1543.18 Q1915.36 1540.43 1919.94 1535.8 Q1924.55 1531.15 1925.73 1529.81 Q1927.98 1527.28 1928.86 1525.55 Q1929.76 1523.79 1929.76 1522.1 Q1929.76 1519.34 1927.81 1517.61 Q1925.89 1515.87 1922.79 1515.87 Q1920.59 1515.87 1918.14 1516.63 Q1915.71 1517.4 1912.93 1518.95 L1912.93 1514.23 Q1915.75 1513.09 1918.21 1512.51 Q1920.66 1511.93 1922.7 1511.93 Q1928.07 1511.93 1931.26 1514.62 Q1934.46 1517.31 1934.46 1521.8 Q1934.46 1523.93 1933.65 1525.85 Q1932.86 1527.74 1930.75 1530.34 Q1930.18 1531.01 1927.07 1534.23 Q1923.97 1537.42 1918.32 1543.18 Z\" fill=\"#000000\" fill-rule=\"evenodd\" fill-opacity=\"1\" /><path clip-path=\"url(#clip940)\" d=\"M1944.5 1512.56 L1962.86 1512.56 L1962.86 1516.5 L1948.79 1516.5 L1948.79 1524.97 Q1949.8 1524.62 1950.82 1524.46 Q1951.84 1524.27 1952.86 1524.27 Q1958.65 1524.27 1962.03 1527.44 Q1965.41 1530.62 1965.41 1536.03 Q1965.41 1541.61 1961.93 1544.71 Q1958.46 1547.79 1952.14 1547.79 Q1949.97 1547.79 1947.7 1547.42 Q1945.45 1547.05 1943.05 1546.31 L1943.05 1541.61 Q1945.13 1542.74 1947.35 1543.3 Q1949.57 1543.86 1952.05 1543.86 Q1956.05 1543.86 1958.39 1541.75 Q1960.73 1539.64 1960.73 1536.03 Q1960.73 1532.42 1958.39 1530.31 Q1956.05 1528.21 1952.05 1528.21 Q1950.17 1528.21 1948.3 1528.62 Q1946.45 1529.04 1944.5 1529.92 L1944.5 1512.56 Z\" fill=\"#000000\" fill-rule=\"evenodd\" fill-opacity=\"1\" /><path clip-path=\"url(#clip940)\" d=\"M2280.28 1528.49 Q2283.64 1529.2 2285.51 1531.47 Q2287.41 1533.74 2287.41 1537.07 Q2287.41 1542.19 2283.89 1544.99 Q2280.38 1547.79 2273.89 1547.79 Q2271.72 1547.79 2269.4 1547.35 Q2267.11 1546.93 2264.66 1546.08 L2264.66 1541.56 Q2266.6 1542.7 2268.92 1543.28 Q2271.23 1543.86 2273.76 1543.86 Q2278.15 1543.86 2280.45 1542.12 Q2282.76 1540.38 2282.76 1537.07 Q2282.76 1534.02 2280.61 1532.31 Q2278.48 1530.57 2274.66 1530.57 L2270.63 1530.57 L2270.63 1526.73 L2274.84 1526.73 Q2278.29 1526.73 2280.12 1525.36 Q2281.95 1523.97 2281.95 1521.38 Q2281.95 1518.72 2280.05 1517.31 Q2278.18 1515.87 2274.66 1515.87 Q2272.74 1515.87 2270.54 1516.29 Q2268.34 1516.7 2265.7 1517.58 L2265.7 1513.42 Q2268.36 1512.68 2270.68 1512.31 Q2273.01 1511.93 2275.07 1511.93 Q2280.4 1511.93 2283.5 1514.37 Q2286.6 1516.77 2286.6 1520.89 Q2286.6 1523.76 2284.96 1525.75 Q2283.32 1527.72 2280.28 1528.49 Z\" fill=\"#000000\" fill-rule=\"evenodd\" fill-opacity=\"1\" /><path clip-path=\"url(#clip940)\" d=\"M2306.28 1515.64 Q2302.67 1515.64 2300.84 1519.2 Q2299.03 1522.75 2299.03 1529.87 Q2299.03 1536.98 2300.84 1540.55 Q2302.67 1544.09 2306.28 1544.09 Q2309.91 1544.09 2311.72 1540.55 Q2313.55 1536.98 2313.55 1529.87 Q2313.55 1522.75 2311.72 1519.2 Q2309.91 1515.64 2306.28 1515.64 M2306.28 1511.93 Q2312.09 1511.93 2315.14 1516.54 Q2318.22 1521.12 2318.22 1529.87 Q2318.22 1538.6 2315.14 1543.21 Q2312.09 1547.79 2306.28 1547.79 Q2300.47 1547.79 2297.39 1543.21 Q2294.33 1538.6 2294.33 1529.87 Q2294.33 1521.12 2297.39 1516.54 Q2300.47 1511.93 2306.28 1511.93 Z\" fill=\"#000000\" fill-rule=\"evenodd\" fill-opacity=\"1\" /><polyline clip-path=\"url(#clip942)\" style=\"stroke:#000000; stroke-linecap:butt; stroke-linejoin:round; stroke-width:2; stroke-opacity:0.1; fill:none\" points=\"\n",
       "  186.274,1219.43 2352.76,1219.43 \n",
       "  \"/>\n",
       "<polyline clip-path=\"url(#clip942)\" style=\"stroke:#000000; stroke-linecap:butt; stroke-linejoin:round; stroke-width:2; stroke-opacity:0.1; fill:none\" points=\"\n",
       "  186.274,936.563 2352.76,936.563 \n",
       "  \"/>\n",
       "<polyline clip-path=\"url(#clip942)\" style=\"stroke:#000000; stroke-linecap:butt; stroke-linejoin:round; stroke-width:2; stroke-opacity:0.1; fill:none\" points=\"\n",
       "  186.274,653.701 2352.76,653.701 \n",
       "  \"/>\n",
       "<polyline clip-path=\"url(#clip942)\" style=\"stroke:#000000; stroke-linecap:butt; stroke-linejoin:round; stroke-width:2; stroke-opacity:0.1; fill:none\" points=\"\n",
       "  186.274,370.839 2352.76,370.839 \n",
       "  \"/>\n",
       "<polyline clip-path=\"url(#clip942)\" style=\"stroke:#000000; stroke-linecap:butt; stroke-linejoin:round; stroke-width:2; stroke-opacity:0.1; fill:none\" points=\"\n",
       "  186.274,87.9763 2352.76,87.9763 \n",
       "  \"/>\n",
       "<polyline clip-path=\"url(#clip940)\" style=\"stroke:#000000; stroke-linecap:butt; stroke-linejoin:round; stroke-width:4; stroke-opacity:1; fill:none\" points=\"\n",
       "  186.274,1486.45 186.274,47.2441 \n",
       "  \"/>\n",
       "<polyline clip-path=\"url(#clip940)\" style=\"stroke:#000000; stroke-linecap:butt; stroke-linejoin:round; stroke-width:4; stroke-opacity:1; fill:none\" points=\"\n",
       "  186.274,1219.43 205.172,1219.43 \n",
       "  \"/>\n",
       "<polyline clip-path=\"url(#clip940)\" style=\"stroke:#000000; stroke-linecap:butt; stroke-linejoin:round; stroke-width:4; stroke-opacity:1; fill:none\" points=\"\n",
       "  186.274,936.563 205.172,936.563 \n",
       "  \"/>\n",
       "<polyline clip-path=\"url(#clip940)\" style=\"stroke:#000000; stroke-linecap:butt; stroke-linejoin:round; stroke-width:4; stroke-opacity:1; fill:none\" points=\"\n",
       "  186.274,653.701 205.172,653.701 \n",
       "  \"/>\n",
       "<polyline clip-path=\"url(#clip940)\" style=\"stroke:#000000; stroke-linecap:butt; stroke-linejoin:round; stroke-width:4; stroke-opacity:1; fill:none\" points=\"\n",
       "  186.274,370.839 205.172,370.839 \n",
       "  \"/>\n",
       "<polyline clip-path=\"url(#clip940)\" style=\"stroke:#000000; stroke-linecap:butt; stroke-linejoin:round; stroke-width:4; stroke-opacity:1; fill:none\" points=\"\n",
       "  186.274,87.9763 205.172,87.9763 \n",
       "  \"/>\n",
       "<path clip-path=\"url(#clip940)\" d=\"M62.9365 1205.22 Q59.3254 1205.22 57.4967 1208.79 Q55.6912 1212.33 55.6912 1219.46 Q55.6912 1226.57 57.4967 1230.13 Q59.3254 1233.67 62.9365 1233.67 Q66.5707 1233.67 68.3763 1230.13 Q70.205 1226.57 70.205 1219.46 Q70.205 1212.33 68.3763 1208.79 Q66.5707 1205.22 62.9365 1205.22 M62.9365 1201.52 Q68.7467 1201.52 71.8022 1206.13 Q74.8809 1210.71 74.8809 1219.46 Q74.8809 1228.19 71.8022 1232.79 Q68.7467 1237.38 62.9365 1237.38 Q57.1264 1237.38 54.0477 1232.79 Q50.9921 1228.19 50.9921 1219.46 Q50.9921 1210.71 54.0477 1206.13 Q57.1264 1201.52 62.9365 1201.52 Z\" fill=\"#000000\" fill-rule=\"evenodd\" fill-opacity=\"1\" /><path clip-path=\"url(#clip940)\" d=\"M83.0984 1230.83 L87.9827 1230.83 L87.9827 1236.71 L83.0984 1236.71 L83.0984 1230.83 Z\" fill=\"#000000\" fill-rule=\"evenodd\" fill-opacity=\"1\" /><path clip-path=\"url(#clip940)\" d=\"M108.168 1205.22 Q104.557 1205.22 102.728 1208.79 Q100.922 1212.33 100.922 1219.46 Q100.922 1226.57 102.728 1230.13 Q104.557 1233.67 108.168 1233.67 Q111.802 1233.67 113.608 1230.13 Q115.436 1226.57 115.436 1219.46 Q115.436 1212.33 113.608 1208.79 Q111.802 1205.22 108.168 1205.22 M108.168 1201.52 Q113.978 1201.52 117.033 1206.13 Q120.112 1210.71 120.112 1219.46 Q120.112 1228.19 117.033 1232.79 Q113.978 1237.38 108.168 1237.38 Q102.358 1237.38 99.2789 1232.79 Q96.2234 1228.19 96.2234 1219.46 Q96.2234 1210.71 99.2789 1206.13 Q102.358 1201.52 108.168 1201.52 Z\" fill=\"#000000\" fill-rule=\"evenodd\" fill-opacity=\"1\" /><path clip-path=\"url(#clip940)\" d=\"M138.33 1205.22 Q134.719 1205.22 132.89 1208.79 Q131.084 1212.33 131.084 1219.46 Q131.084 1226.57 132.89 1230.13 Q134.719 1233.67 138.33 1233.67 Q141.964 1233.67 143.769 1230.13 Q145.598 1226.57 145.598 1219.46 Q145.598 1212.33 143.769 1208.79 Q141.964 1205.22 138.33 1205.22 M138.33 1201.52 Q144.14 1201.52 147.195 1206.13 Q150.274 1210.71 150.274 1219.46 Q150.274 1228.19 147.195 1232.79 Q144.14 1237.38 138.33 1237.38 Q132.519 1237.38 129.441 1232.79 Q126.385 1228.19 126.385 1219.46 Q126.385 1210.71 129.441 1206.13 Q132.519 1201.52 138.33 1201.52 Z\" fill=\"#000000\" fill-rule=\"evenodd\" fill-opacity=\"1\" /><path clip-path=\"url(#clip940)\" d=\"M63.9319 922.362 Q60.3208 922.362 58.4921 925.927 Q56.6865 929.469 56.6865 936.598 Q56.6865 943.705 58.4921 947.269 Q60.3208 950.811 63.9319 950.811 Q67.5661 950.811 69.3717 947.269 Q71.2004 943.705 71.2004 936.598 Q71.2004 929.469 69.3717 925.927 Q67.5661 922.362 63.9319 922.362 M63.9319 918.658 Q69.742 918.658 72.7976 923.265 Q75.8763 927.848 75.8763 936.598 Q75.8763 945.325 72.7976 949.931 Q69.742 954.515 63.9319 954.515 Q58.1217 954.515 55.043 949.931 Q51.9875 945.325 51.9875 936.598 Q51.9875 927.848 55.043 923.265 Q58.1217 918.658 63.9319 918.658 Z\" fill=\"#000000\" fill-rule=\"evenodd\" fill-opacity=\"1\" /><path clip-path=\"url(#clip940)\" d=\"M84.0938 947.964 L88.978 947.964 L88.978 953.843 L84.0938 953.843 L84.0938 947.964 Z\" fill=\"#000000\" fill-rule=\"evenodd\" fill-opacity=\"1\" /><path clip-path=\"url(#clip940)\" d=\"M103.191 949.908 L119.51 949.908 L119.51 953.843 L97.566 953.843 L97.566 949.908 Q100.228 947.154 104.811 942.524 Q109.418 937.871 110.598 936.529 Q112.844 934.006 113.723 932.269 Q114.626 930.51 114.626 928.82 Q114.626 926.066 112.682 924.33 Q110.76 922.594 107.658 922.594 Q105.459 922.594 103.006 923.357 Q100.575 924.121 97.7974 925.672 L97.7974 920.95 Q100.621 919.816 103.075 919.237 Q105.529 918.658 107.566 918.658 Q112.936 918.658 116.131 921.344 Q119.325 924.029 119.325 928.519 Q119.325 930.649 118.515 932.57 Q117.728 934.469 115.621 937.061 Q115.043 937.732 111.941 940.95 Q108.839 944.144 103.191 949.908 Z\" fill=\"#000000\" fill-rule=\"evenodd\" fill-opacity=\"1\" /><path clip-path=\"url(#clip940)\" d=\"M129.371 919.283 L147.728 919.283 L147.728 923.219 L133.654 923.219 L133.654 931.691 Q134.672 931.344 135.691 931.181 Q136.709 930.996 137.728 930.996 Q143.515 930.996 146.894 934.168 Q150.274 937.339 150.274 942.756 Q150.274 948.334 146.802 951.436 Q143.33 954.515 137.01 954.515 Q134.834 954.515 132.566 954.144 Q130.32 953.774 127.913 953.033 L127.913 948.334 Q129.996 949.468 132.219 950.024 Q134.441 950.58 136.918 950.58 Q140.922 950.58 143.26 948.473 Q145.598 946.367 145.598 942.756 Q145.598 939.144 143.26 937.038 Q140.922 934.931 136.918 934.931 Q135.043 934.931 133.168 935.348 Q131.316 935.765 129.371 936.644 L129.371 919.283 Z\" fill=\"#000000\" fill-rule=\"evenodd\" fill-opacity=\"1\" /><path clip-path=\"url(#clip940)\" d=\"M62.9365 639.5 Q59.3254 639.5 57.4967 643.065 Q55.6912 646.606 55.6912 653.736 Q55.6912 660.842 57.4967 664.407 Q59.3254 667.949 62.9365 667.949 Q66.5707 667.949 68.3763 664.407 Q70.205 660.842 70.205 653.736 Q70.205 646.606 68.3763 643.065 Q66.5707 639.5 62.9365 639.5 M62.9365 635.796 Q68.7467 635.796 71.8022 640.402 Q74.8809 644.986 74.8809 653.736 Q74.8809 662.463 71.8022 667.069 Q68.7467 671.652 62.9365 671.652 Q57.1264 671.652 54.0477 667.069 Q50.9921 662.463 50.9921 653.736 Q50.9921 644.986 54.0477 640.402 Q57.1264 635.796 62.9365 635.796 Z\" fill=\"#000000\" fill-rule=\"evenodd\" fill-opacity=\"1\" /><path clip-path=\"url(#clip940)\" d=\"M83.0984 665.101 L87.9827 665.101 L87.9827 670.981 L83.0984 670.981 L83.0984 665.101 Z\" fill=\"#000000\" fill-rule=\"evenodd\" fill-opacity=\"1\" /><path clip-path=\"url(#clip940)\" d=\"M98.2141 636.421 L116.57 636.421 L116.57 640.356 L102.496 640.356 L102.496 648.828 Q103.515 648.481 104.534 648.319 Q105.552 648.134 106.571 648.134 Q112.358 648.134 115.737 651.305 Q119.117 654.476 119.117 659.893 Q119.117 665.472 115.645 668.574 Q112.172 671.652 105.853 671.652 Q103.677 671.652 101.409 671.282 Q99.1632 670.912 96.7558 670.171 L96.7558 665.472 Q98.8391 666.606 101.061 667.162 Q103.284 667.717 105.76 667.717 Q109.765 667.717 112.103 665.611 Q114.441 663.504 114.441 659.893 Q114.441 656.282 112.103 654.176 Q109.765 652.069 105.76 652.069 Q103.885 652.069 102.01 652.486 Q100.159 652.902 98.2141 653.782 L98.2141 636.421 Z\" fill=\"#000000\" fill-rule=\"evenodd\" fill-opacity=\"1\" /><path clip-path=\"url(#clip940)\" d=\"M138.33 639.5 Q134.719 639.5 132.89 643.065 Q131.084 646.606 131.084 653.736 Q131.084 660.842 132.89 664.407 Q134.719 667.949 138.33 667.949 Q141.964 667.949 143.769 664.407 Q145.598 660.842 145.598 653.736 Q145.598 646.606 143.769 643.065 Q141.964 639.5 138.33 639.5 M138.33 635.796 Q144.14 635.796 147.195 640.402 Q150.274 644.986 150.274 653.736 Q150.274 662.463 147.195 667.069 Q144.14 671.652 138.33 671.652 Q132.519 671.652 129.441 667.069 Q126.385 662.463 126.385 653.736 Q126.385 644.986 129.441 640.402 Q132.519 635.796 138.33 635.796 Z\" fill=\"#000000\" fill-rule=\"evenodd\" fill-opacity=\"1\" /><path clip-path=\"url(#clip940)\" d=\"M63.9319 356.637 Q60.3208 356.637 58.4921 360.202 Q56.6865 363.744 56.6865 370.873 Q56.6865 377.98 58.4921 381.545 Q60.3208 385.086 63.9319 385.086 Q67.5661 385.086 69.3717 381.545 Q71.2004 377.98 71.2004 370.873 Q71.2004 363.744 69.3717 360.202 Q67.5661 356.637 63.9319 356.637 M63.9319 352.934 Q69.742 352.934 72.7976 357.54 Q75.8763 362.123 75.8763 370.873 Q75.8763 379.6 72.7976 384.207 Q69.742 388.79 63.9319 388.79 Q58.1217 388.79 55.043 384.207 Q51.9875 379.6 51.9875 370.873 Q51.9875 362.123 55.043 357.54 Q58.1217 352.934 63.9319 352.934 Z\" fill=\"#000000\" fill-rule=\"evenodd\" fill-opacity=\"1\" /><path clip-path=\"url(#clip940)\" d=\"M84.0938 382.239 L88.978 382.239 L88.978 388.119 L84.0938 388.119 L84.0938 382.239 Z\" fill=\"#000000\" fill-rule=\"evenodd\" fill-opacity=\"1\" /><path clip-path=\"url(#clip940)\" d=\"M97.9826 353.559 L120.205 353.559 L120.205 355.549 L107.658 388.119 L102.774 388.119 L114.58 357.494 L97.9826 357.494 L97.9826 353.559 Z\" fill=\"#000000\" fill-rule=\"evenodd\" fill-opacity=\"1\" /><path clip-path=\"url(#clip940)\" d=\"M129.371 353.559 L147.728 353.559 L147.728 357.494 L133.654 357.494 L133.654 365.966 Q134.672 365.619 135.691 365.457 Q136.709 365.272 137.728 365.272 Q143.515 365.272 146.894 368.443 Q150.274 371.614 150.274 377.031 Q150.274 382.609 146.802 385.711 Q143.33 388.79 137.01 388.79 Q134.834 388.79 132.566 388.42 Q130.32 388.049 127.913 387.308 L127.913 382.609 Q129.996 383.744 132.219 384.299 Q134.441 384.855 136.918 384.855 Q140.922 384.855 143.26 382.748 Q145.598 380.642 145.598 377.031 Q145.598 373.42 143.26 371.313 Q140.922 369.207 136.918 369.207 Q135.043 369.207 133.168 369.623 Q131.316 370.04 129.371 370.92 L129.371 353.559 Z\" fill=\"#000000\" fill-rule=\"evenodd\" fill-opacity=\"1\" /><path clip-path=\"url(#clip940)\" d=\"M53.7467 101.321 L61.3856 101.321 L61.3856 74.9555 L53.0754 76.6222 L53.0754 72.3629 L61.3393 70.6963 L66.0152 70.6963 L66.0152 101.321 L73.654 101.321 L73.654 105.256 L53.7467 105.256 L53.7467 101.321 Z\" fill=\"#000000\" fill-rule=\"evenodd\" fill-opacity=\"1\" /><path clip-path=\"url(#clip940)\" d=\"M83.0984 99.3767 L87.9827 99.3767 L87.9827 105.256 L83.0984 105.256 L83.0984 99.3767 Z\" fill=\"#000000\" fill-rule=\"evenodd\" fill-opacity=\"1\" /><path clip-path=\"url(#clip940)\" d=\"M108.168 73.775 Q104.557 73.775 102.728 77.3398 Q100.922 80.8814 100.922 88.011 Q100.922 95.1174 102.728 98.6822 Q104.557 102.224 108.168 102.224 Q111.802 102.224 113.608 98.6822 Q115.436 95.1174 115.436 88.011 Q115.436 80.8814 113.608 77.3398 Q111.802 73.775 108.168 73.775 M108.168 70.0713 Q113.978 70.0713 117.033 74.6777 Q120.112 79.261 120.112 88.011 Q120.112 96.7378 117.033 101.344 Q113.978 105.928 108.168 105.928 Q102.358 105.928 99.2789 101.344 Q96.2234 96.7378 96.2234 88.011 Q96.2234 79.261 99.2789 74.6777 Q102.358 70.0713 108.168 70.0713 Z\" fill=\"#000000\" fill-rule=\"evenodd\" fill-opacity=\"1\" /><path clip-path=\"url(#clip940)\" d=\"M138.33 73.775 Q134.719 73.775 132.89 77.3398 Q131.084 80.8814 131.084 88.011 Q131.084 95.1174 132.89 98.6822 Q134.719 102.224 138.33 102.224 Q141.964 102.224 143.769 98.6822 Q145.598 95.1174 145.598 88.011 Q145.598 80.8814 143.769 77.3398 Q141.964 73.775 138.33 73.775 M138.33 70.0713 Q144.14 70.0713 147.195 74.6777 Q150.274 79.261 150.274 88.011 Q150.274 96.7378 147.195 101.344 Q144.14 105.928 138.33 105.928 Q132.519 105.928 129.441 101.344 Q126.385 96.7378 126.385 88.011 Q126.385 79.261 129.441 74.6777 Q132.519 70.0713 138.33 70.0713 Z\" fill=\"#000000\" fill-rule=\"evenodd\" fill-opacity=\"1\" /><polyline clip-path=\"url(#clip942)\" style=\"stroke:#009af9; stroke-linecap:butt; stroke-linejoin:round; stroke-width:4; stroke-opacity:1; fill:none\" points=\"\n",
       "  247.59,87.9763 318.067,87.9763 388.545,993.136 459.022,1445.72 529.5,1400.46 599.978,1242.05 670.455,1176.43 740.933,1191.14 811.41,1218.18 881.888,1227.29 \n",
       "  952.366,1223.73 1022.84,1219.22 1093.32,1218.03 1163.8,1218.79 1234.28,1219.53 1304.75,1219.67 1375.23,1219.52 1445.71,1219.4 1516.19,1219.39 1586.66,1219.41 \n",
       "  1657.14,1219.43 1727.62,1219.43 1798.1,1219.43 1868.57,1219.42 1939.05,1219.42 2009.53,1219.43 2080.01,1219.43 2150.49,1219.43 2220.96,1219.43 2291.44,1219.43 \n",
       "  \n",
       "  \"/>\n",
       "<path clip-path=\"url(#clip940)\" d=\"\n",
       "M1987.39 198.898 L2280.54 198.898 L2280.54 95.2176 L1987.39 95.2176  Z\n",
       "  \" fill=\"#ffffff\" fill-rule=\"evenodd\" fill-opacity=\"1\"/>\n",
       "<polyline clip-path=\"url(#clip940)\" style=\"stroke:#000000; stroke-linecap:butt; stroke-linejoin:round; stroke-width:4; stroke-opacity:1; fill:none\" points=\"\n",
       "  1987.39,198.898 2280.54,198.898 2280.54,95.2176 1987.39,95.2176 1987.39,198.898 \n",
       "  \"/>\n",
       "<polyline clip-path=\"url(#clip940)\" style=\"stroke:#009af9; stroke-linecap:butt; stroke-linejoin:round; stroke-width:4; stroke-opacity:1; fill:none\" points=\"\n",
       "  2011.46,147.058 2155.89,147.058 \n",
       "  \"/>\n",
       "<path clip-path=\"url(#clip940)\" d=\"M2193.81 166.745 Q2192 171.375 2190.29 172.787 Q2188.58 174.199 2185.71 174.199 L2182.3 174.199 L2182.3 170.634 L2184.8 170.634 Q2186.56 170.634 2187.53 169.8 Q2188.51 168.967 2189.69 165.865 L2190.45 163.921 L2179.97 138.412 L2184.48 138.412 L2192.58 158.689 L2200.68 138.412 L2205.2 138.412 L2193.81 166.745 Z\" fill=\"#000000\" fill-rule=\"evenodd\" fill-opacity=\"1\" /><path clip-path=\"url(#clip940)\" d=\"M2212.49 160.402 L2220.13 160.402 L2220.13 134.037 L2211.82 135.703 L2211.82 131.444 L2220.08 129.778 L2224.76 129.778 L2224.76 160.402 L2232.4 160.402 L2232.4 164.338 L2212.49 164.338 L2212.49 160.402 Z\" fill=\"#000000\" fill-rule=\"evenodd\" fill-opacity=\"1\" /></svg>\n"
      ]
     },
     "execution_count": 12,
     "metadata": {},
     "output_type": "execute_result"
    }
   ],
   "source": [
    "plot(forecast_AR2(0.5, -0.3, 1))"
   ]
  },
  {
   "cell_type": "code",
   "execution_count": 13,
   "metadata": {},
   "outputs": [
    {
     "data": {
      "text/plain": [
       "get_a_from_lambda (generic function with 1 method)"
      ]
     },
     "execution_count": 13,
     "metadata": {},
     "output_type": "execute_result"
    }
   ],
   "source": [
    "function get_a_from_lambda(λ1, λ2)\n",
    "    return λ1 + λ2, -λ1 * λ2\n",
    "end"
   ]
  },
  {
   "cell_type": "code",
   "execution_count": 14,
   "metadata": {},
   "outputs": [
    {
     "data": {
      "text/plain": [
       "(0.30000000000000004, -0.020000000000000004)"
      ]
     },
     "execution_count": 14,
     "metadata": {},
     "output_type": "execute_result"
    }
   ],
   "source": [
    "get_a_from_lambda(0.2, 0.1)"
   ]
  },
  {
   "cell_type": "markdown",
   "metadata": {},
   "source": [
    "By the way, we can avoid floating point errors with rational numbers, but this will be rarely used in practice."
   ]
  },
  {
   "cell_type": "code",
   "execution_count": 16,
   "metadata": {},
   "outputs": [
    {
     "data": {
      "text/plain": [
       "3//10"
      ]
     },
     "execution_count": 16,
     "metadata": {},
     "output_type": "execute_result"
    }
   ],
   "source": [
    "2//10 + 1//10"
   ]
  },
  {
   "cell_type": "markdown",
   "metadata": {},
   "source": [
    "## Complex roots\n",
    "if \n",
    "$$\n",
    "\\lambda_{1,2} = l \\pm m\\mathbf i\n",
    "$$\n",
    "$$\n",
    "\\lambda_{1,2} = R e^{\\pm \\theta \\mathbf i}\n",
    "$$\n",
    "$$\n",
    "R^t[e^{+\\theta \\mathbf i t} + e^{-\\theta \\mathbf i t}]\n",
    "$$\n",
    "See\n",
    "https://en.wikipedia.org/wiki/Trigonometric_functions#Relationship_to_exponential_function_(Euler's_formula)"
   ]
  },
  {
   "cell_type": "code",
   "execution_count": 62,
   "metadata": {},
   "outputs": [
    {
     "data": {
      "image/svg+xml": [
       "<?xml version=\"1.0\" encoding=\"utf-8\"?>\n",
       "<svg xmlns=\"http://www.w3.org/2000/svg\" xmlns:xlink=\"http://www.w3.org/1999/xlink\" width=\"600\" height=\"400\" viewBox=\"0 0 2400 1600\">\n",
       "<defs>\n",
       "  <clipPath id=\"clip660\">\n",
       "    <rect x=\"0\" y=\"0\" width=\"2400\" height=\"1600\"/>\n",
       "  </clipPath>\n",
       "</defs>\n",
       "<path clip-path=\"url(#clip660)\" d=\"\n",
       "M0 1600 L2400 1600 L2400 0 L0 0  Z\n",
       "  \" fill=\"#ffffff\" fill-rule=\"evenodd\" fill-opacity=\"1\"/>\n",
       "<defs>\n",
       "  <clipPath id=\"clip661\">\n",
       "    <rect x=\"480\" y=\"0\" width=\"1681\" height=\"1600\"/>\n",
       "  </clipPath>\n",
       "</defs>\n",
       "<path clip-path=\"url(#clip660)\" d=\"\n",
       "M148.057 1486.45 L2352.76 1486.45 L2352.76 47.2441 L148.057 47.2441  Z\n",
       "  \" fill=\"#ffffff\" fill-rule=\"evenodd\" fill-opacity=\"1\"/>\n",
       "<defs>\n",
       "  <clipPath id=\"clip662\">\n",
       "    <rect x=\"148\" y=\"47\" width=\"2206\" height=\"1440\"/>\n",
       "  </clipPath>\n",
       "</defs>\n",
       "<polyline clip-path=\"url(#clip662)\" style=\"stroke:#000000; stroke-linecap:butt; stroke-linejoin:round; stroke-width:2; stroke-opacity:0.1; fill:none\" points=\"\n",
       "  497.337,1486.45 497.337,47.2441 \n",
       "  \"/>\n",
       "<polyline clip-path=\"url(#clip662)\" style=\"stroke:#000000; stroke-linecap:butt; stroke-linejoin:round; stroke-width:2; stroke-opacity:0.1; fill:none\" points=\"\n",
       "  855.942,1486.45 855.942,47.2441 \n",
       "  \"/>\n",
       "<polyline clip-path=\"url(#clip662)\" style=\"stroke:#000000; stroke-linecap:butt; stroke-linejoin:round; stroke-width:2; stroke-opacity:0.1; fill:none\" points=\"\n",
       "  1214.55,1486.45 1214.55,47.2441 \n",
       "  \"/>\n",
       "<polyline clip-path=\"url(#clip662)\" style=\"stroke:#000000; stroke-linecap:butt; stroke-linejoin:round; stroke-width:2; stroke-opacity:0.1; fill:none\" points=\"\n",
       "  1573.15,1486.45 1573.15,47.2441 \n",
       "  \"/>\n",
       "<polyline clip-path=\"url(#clip662)\" style=\"stroke:#000000; stroke-linecap:butt; stroke-linejoin:round; stroke-width:2; stroke-opacity:0.1; fill:none\" points=\"\n",
       "  1931.75,1486.45 1931.75,47.2441 \n",
       "  \"/>\n",
       "<polyline clip-path=\"url(#clip662)\" style=\"stroke:#000000; stroke-linecap:butt; stroke-linejoin:round; stroke-width:2; stroke-opacity:0.1; fill:none\" points=\"\n",
       "  2290.36,1486.45 2290.36,47.2441 \n",
       "  \"/>\n",
       "<polyline clip-path=\"url(#clip660)\" style=\"stroke:#000000; stroke-linecap:butt; stroke-linejoin:round; stroke-width:4; stroke-opacity:1; fill:none\" points=\"\n",
       "  148.057,1486.45 2352.76,1486.45 \n",
       "  \"/>\n",
       "<polyline clip-path=\"url(#clip660)\" style=\"stroke:#000000; stroke-linecap:butt; stroke-linejoin:round; stroke-width:4; stroke-opacity:1; fill:none\" points=\"\n",
       "  497.337,1486.45 497.337,1467.55 \n",
       "  \"/>\n",
       "<polyline clip-path=\"url(#clip660)\" style=\"stroke:#000000; stroke-linecap:butt; stroke-linejoin:round; stroke-width:4; stroke-opacity:1; fill:none\" points=\"\n",
       "  855.942,1486.45 855.942,1467.55 \n",
       "  \"/>\n",
       "<polyline clip-path=\"url(#clip660)\" style=\"stroke:#000000; stroke-linecap:butt; stroke-linejoin:round; stroke-width:4; stroke-opacity:1; fill:none\" points=\"\n",
       "  1214.55,1486.45 1214.55,1467.55 \n",
       "  \"/>\n",
       "<polyline clip-path=\"url(#clip660)\" style=\"stroke:#000000; stroke-linecap:butt; stroke-linejoin:round; stroke-width:4; stroke-opacity:1; fill:none\" points=\"\n",
       "  1573.15,1486.45 1573.15,1467.55 \n",
       "  \"/>\n",
       "<polyline clip-path=\"url(#clip660)\" style=\"stroke:#000000; stroke-linecap:butt; stroke-linejoin:round; stroke-width:4; stroke-opacity:1; fill:none\" points=\"\n",
       "  1931.75,1486.45 1931.75,1467.55 \n",
       "  \"/>\n",
       "<polyline clip-path=\"url(#clip660)\" style=\"stroke:#000000; stroke-linecap:butt; stroke-linejoin:round; stroke-width:4; stroke-opacity:1; fill:none\" points=\"\n",
       "  2290.36,1486.45 2290.36,1467.55 \n",
       "  \"/>\n",
       "<path clip-path=\"url(#clip660)\" d=\"M487.615 1512.56 L505.971 1512.56 L505.971 1516.5 L491.897 1516.5 L491.897 1524.97 Q492.916 1524.62 493.934 1524.46 Q494.953 1524.27 495.971 1524.27 Q501.758 1524.27 505.138 1527.44 Q508.518 1530.62 508.518 1536.03 Q508.518 1541.61 505.046 1544.71 Q501.573 1547.79 495.254 1547.79 Q493.078 1547.79 490.809 1547.42 Q488.564 1547.05 486.157 1546.31 L486.157 1541.61 Q488.24 1542.74 490.462 1543.3 Q492.684 1543.86 495.161 1543.86 Q499.166 1543.86 501.504 1541.75 Q503.842 1539.64 503.842 1536.03 Q503.842 1532.42 501.504 1530.31 Q499.166 1528.21 495.161 1528.21 Q493.286 1528.21 491.411 1528.62 Q489.559 1529.04 487.615 1529.92 L487.615 1512.56 Z\" fill=\"#000000\" fill-rule=\"evenodd\" fill-opacity=\"1\" /><path clip-path=\"url(#clip660)\" d=\"M830.629 1543.18 L838.268 1543.18 L838.268 1516.82 L829.958 1518.49 L829.958 1514.23 L838.222 1512.56 L842.898 1512.56 L842.898 1543.18 L850.536 1543.18 L850.536 1547.12 L830.629 1547.12 L830.629 1543.18 Z\" fill=\"#000000\" fill-rule=\"evenodd\" fill-opacity=\"1\" /><path clip-path=\"url(#clip660)\" d=\"M869.981 1515.64 Q866.37 1515.64 864.541 1519.2 Q862.735 1522.75 862.735 1529.87 Q862.735 1536.98 864.541 1540.55 Q866.37 1544.09 869.981 1544.09 Q873.615 1544.09 875.421 1540.55 Q877.249 1536.98 877.249 1529.87 Q877.249 1522.75 875.421 1519.2 Q873.615 1515.64 869.981 1515.64 M869.981 1511.93 Q875.791 1511.93 878.846 1516.54 Q881.925 1521.12 881.925 1529.87 Q881.925 1538.6 878.846 1543.21 Q875.791 1547.79 869.981 1547.79 Q864.171 1547.79 861.092 1543.21 Q858.036 1538.6 858.036 1529.87 Q858.036 1521.12 861.092 1516.54 Q864.171 1511.93 869.981 1511.93 Z\" fill=\"#000000\" fill-rule=\"evenodd\" fill-opacity=\"1\" /><path clip-path=\"url(#clip660)\" d=\"M1189.73 1543.18 L1197.37 1543.18 L1197.37 1516.82 L1189.06 1518.49 L1189.06 1514.23 L1197.32 1512.56 L1202 1512.56 L1202 1543.18 L1209.64 1543.18 L1209.64 1547.12 L1189.73 1547.12 L1189.73 1543.18 Z\" fill=\"#000000\" fill-rule=\"evenodd\" fill-opacity=\"1\" /><path clip-path=\"url(#clip660)\" d=\"M1219.13 1512.56 L1237.49 1512.56 L1237.49 1516.5 L1223.41 1516.5 L1223.41 1524.97 Q1224.43 1524.62 1225.45 1524.46 Q1226.47 1524.27 1227.49 1524.27 Q1233.27 1524.27 1236.65 1527.44 Q1240.03 1530.62 1240.03 1536.03 Q1240.03 1541.61 1236.56 1544.71 Q1233.09 1547.79 1226.77 1547.79 Q1224.59 1547.79 1222.32 1547.42 Q1220.08 1547.05 1217.67 1546.31 L1217.67 1541.61 Q1219.75 1542.74 1221.98 1543.3 Q1224.2 1543.86 1226.68 1543.86 Q1230.68 1543.86 1233.02 1541.75 Q1235.36 1539.64 1235.36 1536.03 Q1235.36 1532.42 1233.02 1530.31 Q1230.68 1528.21 1226.68 1528.21 Q1224.8 1528.21 1222.93 1528.62 Q1221.07 1529.04 1219.13 1529.92 L1219.13 1512.56 Z\" fill=\"#000000\" fill-rule=\"evenodd\" fill-opacity=\"1\" /><path clip-path=\"url(#clip660)\" d=\"M1551.92 1543.18 L1568.24 1543.18 L1568.24 1547.12 L1546.3 1547.12 L1546.3 1543.18 Q1548.96 1540.43 1553.54 1535.8 Q1558.15 1531.15 1559.33 1529.81 Q1561.58 1527.28 1562.46 1525.55 Q1563.36 1523.79 1563.36 1522.1 Q1563.36 1519.34 1561.41 1517.61 Q1559.49 1515.87 1556.39 1515.87 Q1554.19 1515.87 1551.74 1516.63 Q1549.31 1517.4 1546.53 1518.95 L1546.53 1514.23 Q1549.35 1513.09 1551.81 1512.51 Q1554.26 1511.93 1556.3 1511.93 Q1561.67 1511.93 1564.86 1514.62 Q1568.06 1517.31 1568.06 1521.8 Q1568.06 1523.93 1567.25 1525.85 Q1566.46 1527.74 1564.35 1530.34 Q1563.78 1531.01 1560.67 1534.23 Q1557.57 1537.42 1551.92 1543.18 Z\" fill=\"#000000\" fill-rule=\"evenodd\" fill-opacity=\"1\" /><path clip-path=\"url(#clip660)\" d=\"M1588.06 1515.64 Q1584.45 1515.64 1582.62 1519.2 Q1580.81 1522.75 1580.81 1529.87 Q1580.81 1536.98 1582.62 1540.55 Q1584.45 1544.09 1588.06 1544.09 Q1591.69 1544.09 1593.5 1540.55 Q1595.33 1536.98 1595.33 1529.87 Q1595.33 1522.75 1593.5 1519.2 Q1591.69 1515.64 1588.06 1515.64 M1588.06 1511.93 Q1593.87 1511.93 1596.92 1516.54 Q1600 1521.12 1600 1529.87 Q1600 1538.6 1596.92 1543.21 Q1593.87 1547.79 1588.06 1547.79 Q1582.25 1547.79 1579.17 1543.21 Q1576.11 1538.6 1576.11 1529.87 Q1576.11 1521.12 1579.17 1516.54 Q1582.25 1511.93 1588.06 1511.93 Z\" fill=\"#000000\" fill-rule=\"evenodd\" fill-opacity=\"1\" /><path clip-path=\"url(#clip660)\" d=\"M1911.03 1543.18 L1927.34 1543.18 L1927.34 1547.12 L1905.4 1547.12 L1905.4 1543.18 Q1908.06 1540.43 1912.65 1535.8 Q1917.25 1531.15 1918.43 1529.81 Q1920.68 1527.28 1921.56 1525.55 Q1922.46 1523.79 1922.46 1522.1 Q1922.46 1519.34 1920.52 1517.61 Q1918.59 1515.87 1915.49 1515.87 Q1913.29 1515.87 1910.84 1516.63 Q1908.41 1517.4 1905.63 1518.95 L1905.63 1514.23 Q1908.46 1513.09 1910.91 1512.51 Q1913.36 1511.93 1915.4 1511.93 Q1920.77 1511.93 1923.97 1514.62 Q1927.16 1517.31 1927.16 1521.8 Q1927.16 1523.93 1926.35 1525.85 Q1925.56 1527.74 1923.46 1530.34 Q1922.88 1531.01 1919.78 1534.23 Q1916.67 1537.42 1911.03 1543.18 Z\" fill=\"#000000\" fill-rule=\"evenodd\" fill-opacity=\"1\" /><path clip-path=\"url(#clip660)\" d=\"M1937.21 1512.56 L1955.56 1512.56 L1955.56 1516.5 L1941.49 1516.5 L1941.49 1524.97 Q1942.51 1524.62 1943.53 1524.46 Q1944.54 1524.27 1945.56 1524.27 Q1951.35 1524.27 1954.73 1527.44 Q1958.11 1530.62 1958.11 1536.03 Q1958.11 1541.61 1954.64 1544.71 Q1951.16 1547.79 1944.84 1547.79 Q1942.67 1547.79 1940.4 1547.42 Q1938.15 1547.05 1935.75 1546.31 L1935.75 1541.61 Q1937.83 1542.74 1940.05 1543.3 Q1942.28 1543.86 1944.75 1543.86 Q1948.76 1543.86 1951.09 1541.75 Q1953.43 1539.64 1953.43 1536.03 Q1953.43 1532.42 1951.09 1530.31 Q1948.76 1528.21 1944.75 1528.21 Q1942.88 1528.21 1941 1528.62 Q1939.15 1529.04 1937.21 1529.92 L1937.21 1512.56 Z\" fill=\"#000000\" fill-rule=\"evenodd\" fill-opacity=\"1\" /><path clip-path=\"url(#clip660)\" d=\"M2279.2 1528.49 Q2282.56 1529.2 2284.43 1531.47 Q2286.33 1533.74 2286.33 1537.07 Q2286.33 1542.19 2282.81 1544.99 Q2279.29 1547.79 2272.81 1547.79 Q2270.64 1547.79 2268.32 1547.35 Q2266.03 1546.93 2263.58 1546.08 L2263.58 1541.56 Q2265.52 1542.7 2267.84 1543.28 Q2270.15 1543.86 2272.67 1543.86 Q2277.07 1543.86 2279.36 1542.12 Q2281.68 1540.38 2281.68 1537.07 Q2281.68 1534.02 2279.53 1532.31 Q2277.4 1530.57 2273.58 1530.57 L2269.55 1530.57 L2269.55 1526.73 L2273.76 1526.73 Q2277.21 1526.73 2279.04 1525.36 Q2280.87 1523.97 2280.87 1521.38 Q2280.87 1518.72 2278.97 1517.31 Q2277.09 1515.87 2273.58 1515.87 Q2271.66 1515.87 2269.46 1516.29 Q2267.26 1516.7 2264.62 1517.58 L2264.62 1513.42 Q2267.28 1512.68 2269.59 1512.31 Q2271.93 1511.93 2273.99 1511.93 Q2279.32 1511.93 2282.42 1514.37 Q2285.52 1516.77 2285.52 1520.89 Q2285.52 1523.76 2283.88 1525.75 Q2282.23 1527.72 2279.2 1528.49 Z\" fill=\"#000000\" fill-rule=\"evenodd\" fill-opacity=\"1\" /><path clip-path=\"url(#clip660)\" d=\"M2305.2 1515.64 Q2301.59 1515.64 2299.76 1519.2 Q2297.95 1522.75 2297.95 1529.87 Q2297.95 1536.98 2299.76 1540.55 Q2301.59 1544.09 2305.2 1544.09 Q2308.83 1544.09 2310.64 1540.55 Q2312.47 1536.98 2312.47 1529.87 Q2312.47 1522.75 2310.64 1519.2 Q2308.83 1515.64 2305.2 1515.64 M2305.2 1511.93 Q2311.01 1511.93 2314.06 1516.54 Q2317.14 1521.12 2317.14 1529.87 Q2317.14 1538.6 2314.06 1543.21 Q2311.01 1547.79 2305.2 1547.79 Q2299.39 1547.79 2296.31 1543.21 Q2293.25 1538.6 2293.25 1529.87 Q2293.25 1521.12 2296.31 1516.54 Q2299.39 1511.93 2305.2 1511.93 Z\" fill=\"#000000\" fill-rule=\"evenodd\" fill-opacity=\"1\" /><polyline clip-path=\"url(#clip662)\" style=\"stroke:#000000; stroke-linecap:butt; stroke-linejoin:round; stroke-width:2; stroke-opacity:0.1; fill:none\" points=\"\n",
       "  148.057,1410.6 2352.76,1410.6 \n",
       "  \"/>\n",
       "<polyline clip-path=\"url(#clip662)\" style=\"stroke:#000000; stroke-linecap:butt; stroke-linejoin:round; stroke-width:2; stroke-opacity:0.1; fill:none\" points=\"\n",
       "  148.057,1215.62 2352.76,1215.62 \n",
       "  \"/>\n",
       "<polyline clip-path=\"url(#clip662)\" style=\"stroke:#000000; stroke-linecap:butt; stroke-linejoin:round; stroke-width:2; stroke-opacity:0.1; fill:none\" points=\"\n",
       "  148.057,1020.64 2352.76,1020.64 \n",
       "  \"/>\n",
       "<polyline clip-path=\"url(#clip662)\" style=\"stroke:#000000; stroke-linecap:butt; stroke-linejoin:round; stroke-width:2; stroke-opacity:0.1; fill:none\" points=\"\n",
       "  148.057,825.668 2352.76,825.668 \n",
       "  \"/>\n",
       "<polyline clip-path=\"url(#clip662)\" style=\"stroke:#000000; stroke-linecap:butt; stroke-linejoin:round; stroke-width:2; stroke-opacity:0.1; fill:none\" points=\"\n",
       "  148.057,630.693 2352.76,630.693 \n",
       "  \"/>\n",
       "<polyline clip-path=\"url(#clip662)\" style=\"stroke:#000000; stroke-linecap:butt; stroke-linejoin:round; stroke-width:2; stroke-opacity:0.1; fill:none\" points=\"\n",
       "  148.057,435.717 2352.76,435.717 \n",
       "  \"/>\n",
       "<polyline clip-path=\"url(#clip662)\" style=\"stroke:#000000; stroke-linecap:butt; stroke-linejoin:round; stroke-width:2; stroke-opacity:0.1; fill:none\" points=\"\n",
       "  148.057,240.741 2352.76,240.741 \n",
       "  \"/>\n",
       "<polyline clip-path=\"url(#clip660)\" style=\"stroke:#000000; stroke-linecap:butt; stroke-linejoin:round; stroke-width:4; stroke-opacity:1; fill:none\" points=\"\n",
       "  148.057,1486.45 148.057,47.2441 \n",
       "  \"/>\n",
       "<polyline clip-path=\"url(#clip660)\" style=\"stroke:#000000; stroke-linecap:butt; stroke-linejoin:round; stroke-width:4; stroke-opacity:1; fill:none\" points=\"\n",
       "  148.057,1410.6 166.954,1410.6 \n",
       "  \"/>\n",
       "<polyline clip-path=\"url(#clip660)\" style=\"stroke:#000000; stroke-linecap:butt; stroke-linejoin:round; stroke-width:4; stroke-opacity:1; fill:none\" points=\"\n",
       "  148.057,1215.62 166.954,1215.62 \n",
       "  \"/>\n",
       "<polyline clip-path=\"url(#clip660)\" style=\"stroke:#000000; stroke-linecap:butt; stroke-linejoin:round; stroke-width:4; stroke-opacity:1; fill:none\" points=\"\n",
       "  148.057,1020.64 166.954,1020.64 \n",
       "  \"/>\n",
       "<polyline clip-path=\"url(#clip660)\" style=\"stroke:#000000; stroke-linecap:butt; stroke-linejoin:round; stroke-width:4; stroke-opacity:1; fill:none\" points=\"\n",
       "  148.057,825.668 166.954,825.668 \n",
       "  \"/>\n",
       "<polyline clip-path=\"url(#clip660)\" style=\"stroke:#000000; stroke-linecap:butt; stroke-linejoin:round; stroke-width:4; stroke-opacity:1; fill:none\" points=\"\n",
       "  148.057,630.693 166.954,630.693 \n",
       "  \"/>\n",
       "<polyline clip-path=\"url(#clip660)\" style=\"stroke:#000000; stroke-linecap:butt; stroke-linejoin:round; stroke-width:4; stroke-opacity:1; fill:none\" points=\"\n",
       "  148.057,435.717 166.954,435.717 \n",
       "  \"/>\n",
       "<polyline clip-path=\"url(#clip660)\" style=\"stroke:#000000; stroke-linecap:butt; stroke-linejoin:round; stroke-width:4; stroke-opacity:1; fill:none\" points=\"\n",
       "  148.057,240.741 166.954,240.741 \n",
       "  \"/>\n",
       "<path clip-path=\"url(#clip660)\" d=\"M50.9921 1411.05 L80.6679 1411.05 L80.6679 1414.98 L50.9921 1414.98 L50.9921 1411.05 Z\" fill=\"#000000\" fill-rule=\"evenodd\" fill-opacity=\"1\" /><path clip-path=\"url(#clip660)\" d=\"M104.927 1409.24 Q108.283 1409.96 110.158 1412.23 Q112.057 1414.5 112.057 1417.83 Q112.057 1422.94 108.538 1425.75 Q105.02 1428.55 98.5382 1428.55 Q96.3623 1428.55 94.0475 1428.11 Q91.7558 1427.69 89.3021 1426.83 L89.3021 1422.32 Q91.2465 1423.45 93.5613 1424.03 Q95.8761 1424.61 98.3993 1424.61 Q102.797 1424.61 105.089 1422.88 Q107.404 1421.14 107.404 1417.83 Q107.404 1414.77 105.251 1413.06 Q103.121 1411.32 99.3021 1411.32 L95.2743 1411.32 L95.2743 1407.48 L99.4872 1407.48 Q102.936 1407.48 104.765 1406.12 Q106.594 1404.73 106.594 1402.13 Q106.594 1399.47 104.696 1398.06 Q102.821 1396.63 99.3021 1396.63 Q97.3808 1396.63 95.1817 1397.04 Q92.9826 1397.46 90.3438 1398.34 L90.3438 1394.17 Q93.0058 1393.43 95.3206 1393.06 Q97.6585 1392.69 99.7187 1392.69 Q105.043 1392.69 108.145 1395.12 Q111.246 1397.53 111.246 1401.65 Q111.246 1404.52 109.603 1406.51 Q107.959 1408.48 104.927 1409.24 Z\" fill=\"#000000\" fill-rule=\"evenodd\" fill-opacity=\"1\" /><path clip-path=\"url(#clip660)\" d=\"M51.9412 1216.07 L81.617 1216.07 L81.617 1220.01 L51.9412 1220.01 L51.9412 1216.07 Z\" fill=\"#000000\" fill-rule=\"evenodd\" fill-opacity=\"1\" /><path clip-path=\"url(#clip660)\" d=\"M95.7373 1228.96 L112.057 1228.96 L112.057 1232.9 L90.1123 1232.9 L90.1123 1228.96 Q92.7743 1226.21 97.3576 1221.58 Q101.964 1216.93 103.145 1215.59 Q105.39 1213.06 106.27 1211.33 Q107.172 1209.57 107.172 1207.88 Q107.172 1205.12 105.228 1203.39 Q103.307 1201.65 100.205 1201.65 Q98.0058 1201.65 95.5521 1202.41 Q93.1215 1203.18 90.3438 1204.73 L90.3438 1200.01 Q93.1678 1198.87 95.6215 1198.29 Q98.0752 1197.71 100.112 1197.71 Q105.483 1197.71 108.677 1200.4 Q111.871 1203.09 111.871 1207.58 Q111.871 1209.71 111.061 1211.63 Q110.274 1213.52 108.168 1216.12 Q107.589 1216.79 104.487 1220.01 Q101.385 1223.2 95.7373 1228.96 Z\" fill=\"#000000\" fill-rule=\"evenodd\" fill-opacity=\"1\" /><path clip-path=\"url(#clip660)\" d=\"M51.5708 1021.1 L81.2466 1021.1 L81.2466 1025.03 L51.5708 1025.03 L51.5708 1021.1 Z\" fill=\"#000000\" fill-rule=\"evenodd\" fill-opacity=\"1\" /><path clip-path=\"url(#clip660)\" d=\"M92.1493 1033.99 L99.7882 1033.99 L99.7882 1007.62 L91.478 1009.29 L91.478 1005.03 L99.7419 1003.36 L104.418 1003.36 L104.418 1033.99 L112.057 1033.99 L112.057 1037.92 L92.1493 1037.92 L92.1493 1033.99 Z\" fill=\"#000000\" fill-rule=\"evenodd\" fill-opacity=\"1\" /><path clip-path=\"url(#clip660)\" d=\"M100.112 811.467 Q96.5011 811.467 94.6724 815.032 Q92.8669 818.574 92.8669 825.703 Q92.8669 832.81 94.6724 836.374 Q96.5011 839.916 100.112 839.916 Q103.746 839.916 105.552 836.374 Q107.381 832.81 107.381 825.703 Q107.381 818.574 105.552 815.032 Q103.746 811.467 100.112 811.467 M100.112 807.763 Q105.922 807.763 108.978 812.37 Q112.057 816.953 112.057 825.703 Q112.057 834.43 108.978 839.036 Q105.922 843.62 100.112 843.62 Q94.3021 843.62 91.2234 839.036 Q88.1679 834.43 88.1679 825.703 Q88.1679 816.953 91.2234 812.37 Q94.3021 807.763 100.112 807.763 Z\" fill=\"#000000\" fill-rule=\"evenodd\" fill-opacity=\"1\" /><path clip-path=\"url(#clip660)\" d=\"M92.1493 644.038 L99.7882 644.038 L99.7882 617.672 L91.478 619.339 L91.478 615.079 L99.7419 613.413 L104.418 613.413 L104.418 644.038 L112.057 644.038 L112.057 647.973 L92.1493 647.973 L92.1493 644.038 Z\" fill=\"#000000\" fill-rule=\"evenodd\" fill-opacity=\"1\" /><path clip-path=\"url(#clip660)\" d=\"M95.7373 449.062 L112.057 449.062 L112.057 452.997 L90.1123 452.997 L90.1123 449.062 Q92.7743 446.307 97.3576 441.678 Q101.964 437.025 103.145 435.682 Q105.39 433.159 106.27 431.423 Q107.172 429.664 107.172 427.974 Q107.172 425.22 105.228 423.483 Q103.307 421.747 100.205 421.747 Q98.0058 421.747 95.5521 422.511 Q93.1215 423.275 90.3438 424.826 L90.3438 420.104 Q93.1678 418.97 95.6215 418.391 Q98.0752 417.812 100.112 417.812 Q105.483 417.812 108.677 420.497 Q111.871 423.182 111.871 427.673 Q111.871 429.803 111.061 431.724 Q110.274 433.622 108.168 436.215 Q107.589 436.886 104.487 440.104 Q101.385 443.298 95.7373 449.062 Z\" fill=\"#000000\" fill-rule=\"evenodd\" fill-opacity=\"1\" /><path clip-path=\"url(#clip660)\" d=\"M104.927 239.387 Q108.283 240.105 110.158 242.373 Q112.057 244.642 112.057 247.975 Q112.057 253.091 108.538 255.892 Q105.02 258.693 98.5382 258.693 Q96.3623 258.693 94.0475 258.253 Q91.7558 257.836 89.3021 256.98 L89.3021 252.466 Q91.2465 253.6 93.5613 254.179 Q95.8761 254.758 98.3993 254.758 Q102.797 254.758 105.089 253.022 Q107.404 251.285 107.404 247.975 Q107.404 244.92 105.251 243.207 Q103.121 241.471 99.3021 241.471 L95.2743 241.471 L95.2743 237.628 L99.4872 237.628 Q102.936 237.628 104.765 236.262 Q106.594 234.873 106.594 232.281 Q106.594 229.619 104.696 228.207 Q102.821 226.772 99.3021 226.772 Q97.3808 226.772 95.1817 227.188 Q92.9826 227.605 90.3438 228.485 L90.3438 224.318 Q93.0058 223.577 95.3206 223.207 Q97.6585 222.836 99.7187 222.836 Q105.043 222.836 108.145 225.267 Q111.246 227.674 111.246 231.795 Q111.246 234.665 109.603 236.656 Q107.959 238.623 104.927 239.387 Z\" fill=\"#000000\" fill-rule=\"evenodd\" fill-opacity=\"1\" /><polyline clip-path=\"url(#clip662)\" style=\"stroke:#009af9; stroke-linecap:butt; stroke-linejoin:round; stroke-width:4; stroke-opacity:1; fill:none\" points=\"\n",
       "  210.454,630.693 282.175,630.693 353.895,727.465 425.616,882.898 497.337,1025.86 569.058,1084.11 640.779,1020.06 712.5,852.964 784.221,655.191 855.942,521.759 \n",
       "  927.662,525.491 999.383,678.593 1071.1,920.386 1142.82,1139.95 1214.55,1226.03 1286.27,1122.23 1357.99,860.587 1429.71,554.799 1501.43,352.109 1573.15,363.685 \n",
       "  1644.87,605.745 1716.59,981.771 1788.31,1318.86 1860.03,1445.72 1931.75,1277.82 2003.48,868.305 2075.2,395.648 2146.92,87.9763 2218.64,114.908 2290.36,497.373 \n",
       "  \n",
       "  \"/>\n",
       "<path clip-path=\"url(#clip660)\" d=\"\n",
       "M1981.87 198.898 L2279.27 198.898 L2279.27 95.2176 L1981.87 95.2176  Z\n",
       "  \" fill=\"#ffffff\" fill-rule=\"evenodd\" fill-opacity=\"1\"/>\n",
       "<polyline clip-path=\"url(#clip660)\" style=\"stroke:#000000; stroke-linecap:butt; stroke-linejoin:round; stroke-width:4; stroke-opacity:1; fill:none\" points=\"\n",
       "  1981.87,198.898 2279.27,198.898 2279.27,95.2176 1981.87,95.2176 1981.87,198.898 \n",
       "  \"/>\n",
       "<polyline clip-path=\"url(#clip660)\" style=\"stroke:#009af9; stroke-linecap:butt; stroke-linejoin:round; stroke-width:4; stroke-opacity:1; fill:none\" points=\"\n",
       "  2006.37,147.058 2153.35,147.058 \n",
       "  \"/>\n",
       "<path clip-path=\"url(#clip660)\" d=\"M2191.68 166.745 Q2189.88 171.375 2188.17 172.787 Q2186.45 174.199 2183.58 174.199 L2180.18 174.199 L2180.18 170.634 L2182.68 170.634 Q2184.44 170.634 2185.41 169.8 Q2186.38 168.967 2187.56 165.865 L2188.33 163.921 L2177.84 138.412 L2182.36 138.412 L2190.46 158.689 L2198.56 138.412 L2203.07 138.412 L2191.68 166.745 Z\" fill=\"#000000\" fill-rule=\"evenodd\" fill-opacity=\"1\" /><path clip-path=\"url(#clip660)\" d=\"M2210.37 160.402 L2218 160.402 L2218 134.037 L2209.69 135.703 L2209.69 131.444 L2217.96 129.778 L2222.63 129.778 L2222.63 160.402 L2230.27 160.402 L2230.27 164.338 L2210.37 164.338 L2210.37 160.402 Z\" fill=\"#000000\" fill-rule=\"evenodd\" fill-opacity=\"1\" /></svg>\n"
      ]
     },
     "execution_count": 62,
     "metadata": {},
     "output_type": "execute_result"
    }
   ],
   "source": [
    "a1, a2 = get_a_from_lambda(1.05*exp(0.7im), 1.05*exp(-0.7im))\n",
    "plot(forecast_AR2(a1, a2, 1))"
   ]
  },
  {
   "cell_type": "code",
   "execution_count": 18,
   "metadata": {},
   "outputs": [
    {
     "data": {
      "text/plain": [
       "(1.0, -0.21)"
      ]
     },
     "execution_count": 18,
     "metadata": {},
     "output_type": "execute_result"
    }
   ],
   "source": [
    "a1, _ = get_a_from_lambda(0.7, 0.3)"
   ]
  },
  {
   "cell_type": "code",
   "execution_count": 19,
   "metadata": {},
   "outputs": [
    {
     "data": {
      "text/plain": [
       "1.0"
      ]
     },
     "execution_count": 19,
     "metadata": {},
     "output_type": "execute_result"
    }
   ],
   "source": [
    "a1"
   ]
  },
  {
   "cell_type": "code",
   "execution_count": 27,
   "metadata": {},
   "outputs": [
    {
     "data": {
      "text/plain": [
       "3.0 + 0.4im"
      ]
     },
     "execution_count": 27,
     "metadata": {},
     "output_type": "execute_result"
    }
   ],
   "source": [
    "z = Complex(3.0, 0.4)"
   ]
  },
  {
   "cell_type": "code",
   "execution_count": 28,
   "metadata": {},
   "outputs": [
    {
     "data": {
      "text/plain": [
       "ComplexF64 (alias for Complex{Float64})"
      ]
     },
     "execution_count": 28,
     "metadata": {},
     "output_type": "execute_result"
    }
   ],
   "source": [
    "typeof(z)"
   ]
  },
  {
   "cell_type": "markdown",
   "metadata": {},
   "source": [
    "Two ways of defining complex conjugates:"
   ]
  },
  {
   "cell_type": "code",
   "execution_count": 34,
   "metadata": {},
   "outputs": [
    {
     "data": {
      "text/plain": [
       "(0.6860466044888691 - 0.13906853155654283im, 0.6860466044888691 + 0.13906853155654283im)"
      ]
     },
     "execution_count": 34,
     "metadata": {},
     "output_type": "execute_result"
    }
   ],
   "source": [
    "0.7 * exp(-0.2*im), 0.7 * exp(+0.2*im)"
   ]
  },
  {
   "cell_type": "code",
   "execution_count": 35,
   "metadata": {},
   "outputs": [
    {
     "data": {
      "text/plain": [
       "π = 3.1415926535897..."
      ]
     },
     "execution_count": 35,
     "metadata": {},
     "output_type": "execute_result"
    }
   ],
   "source": [
    "pi"
   ]
  },
  {
   "cell_type": "code",
   "execution_count": 36,
   "metadata": {},
   "outputs": [
    {
     "data": {
      "text/plain": [
       "π = 3.1415926535897..."
      ]
     },
     "execution_count": 36,
     "metadata": {},
     "output_type": "execute_result"
    }
   ],
   "source": [
    "π"
   ]
  },
  {
   "cell_type": "code",
   "execution_count": 37,
   "metadata": {},
   "outputs": [
    {
     "data": {
      "text/plain": [
       "0.6860466044888691 - 0.13906853155654283im"
      ]
     },
     "execution_count": 37,
     "metadata": {},
     "output_type": "execute_result"
    }
   ],
   "source": [
    "z = 0.7 * exp(-0.2*im)"
   ]
  },
  {
   "cell_type": "code",
   "execution_count": 42,
   "metadata": {},
   "outputs": [
    {
     "data": {
      "text/plain": [
       "0.7"
      ]
     },
     "execution_count": 42,
     "metadata": {},
     "output_type": "execute_result"
    }
   ],
   "source": [
    "sqrt(real(z)^2+imag(z)^2)"
   ]
  },
  {
   "cell_type": "code",
   "execution_count": 58,
   "metadata": {},
   "outputs": [
    {
     "data": {
      "text/plain": [
       "(1.0, -0.21)"
      ]
     },
     "execution_count": 58,
     "metadata": {},
     "output_type": "execute_result"
    }
   ],
   "source": [
    "a1, a2 = get_a_from_lambda(0.7, 0.3)"
   ]
  },
  {
   "cell_type": "code",
   "execution_count": 59,
   "metadata": {},
   "outputs": [
    {
     "data": {
      "text/plain": [
       "30-element Vector{Float64}:\n",
       " 1.0\n",
       " 1.0\n",
       " 0.79\n",
       " 0.5800000000000001\n",
       " 0.4141000000000001\n",
       " 0.29230000000000006\n",
       " 0.20533900000000005\n",
       " 0.14395600000000003\n",
       " 0.10083481000000002\n",
       " 0.07060405000000002\n",
       " 0.04942873990000001\n",
       " 0.03460188940000001\n",
       " 0.02422185402100001\n",
       " ⋮\n",
       " 0.0028497235057779206\n",
       " 0.001994806570270691\n",
       " 0.0013963646340573277\n",
       " 0.0009774552543004825\n",
       " 0.0006842186811484437\n",
       " 0.00047895307774534245\n",
       " 0.0003352671547041693\n",
       " 0.00023468700837764737\n",
       " 0.00016428090588977183\n",
       " 0.00011499663413046588\n",
       " 8.049764389361379e-5\n",
       " 5.6348350726215956e-5"
      ]
     },
     "execution_count": 59,
     "metadata": {},
     "output_type": "execute_result"
    }
   ],
   "source": [
    "x1 = forecast_AR1(0.7, 1.0)\n",
    "x2 = forecast_AR1(0.3, 1.0)\n",
    "x = forecast_AR2(a1, a2, 1.0)"
   ]
  },
  {
   "cell_type": "code",
   "execution_count": 68,
   "metadata": {},
   "outputs": [
    {
     "data": {
      "image/svg+xml": [
       "<?xml version=\"1.0\" encoding=\"utf-8\"?>\n",
       "<svg xmlns=\"http://www.w3.org/2000/svg\" xmlns:xlink=\"http://www.w3.org/1999/xlink\" width=\"600\" height=\"400\" viewBox=\"0 0 2400 1600\">\n",
       "<defs>\n",
       "  <clipPath id=\"clip800\">\n",
       "    <rect x=\"0\" y=\"0\" width=\"2400\" height=\"1600\"/>\n",
       "  </clipPath>\n",
       "</defs>\n",
       "<path clip-path=\"url(#clip800)\" d=\"\n",
       "M0 1600 L2400 1600 L2400 0 L0 0  Z\n",
       "  \" fill=\"#ffffff\" fill-rule=\"evenodd\" fill-opacity=\"1\"/>\n",
       "<defs>\n",
       "  <clipPath id=\"clip801\">\n",
       "    <rect x=\"480\" y=\"0\" width=\"1681\" height=\"1600\"/>\n",
       "  </clipPath>\n",
       "</defs>\n",
       "<path clip-path=\"url(#clip800)\" d=\"\n",
       "M186.274 1486.45 L2352.76 1486.45 L2352.76 47.2441 L186.274 47.2441  Z\n",
       "  \" fill=\"#ffffff\" fill-rule=\"evenodd\" fill-opacity=\"1\"/>\n",
       "<defs>\n",
       "  <clipPath id=\"clip802\">\n",
       "    <rect x=\"186\" y=\"47\" width=\"2167\" height=\"1440\"/>\n",
       "  </clipPath>\n",
       "</defs>\n",
       "<polyline clip-path=\"url(#clip802)\" style=\"stroke:#000000; stroke-linecap:butt; stroke-linejoin:round; stroke-width:2; stroke-opacity:0.1; fill:none\" points=\"\n",
       "  529.5,1486.45 529.5,47.2441 \n",
       "  \"/>\n",
       "<polyline clip-path=\"url(#clip802)\" style=\"stroke:#000000; stroke-linecap:butt; stroke-linejoin:round; stroke-width:2; stroke-opacity:0.1; fill:none\" points=\"\n",
       "  881.888,1486.45 881.888,47.2441 \n",
       "  \"/>\n",
       "<polyline clip-path=\"url(#clip802)\" style=\"stroke:#000000; stroke-linecap:butt; stroke-linejoin:round; stroke-width:2; stroke-opacity:0.1; fill:none\" points=\"\n",
       "  1234.28,1486.45 1234.28,47.2441 \n",
       "  \"/>\n",
       "<polyline clip-path=\"url(#clip802)\" style=\"stroke:#000000; stroke-linecap:butt; stroke-linejoin:round; stroke-width:2; stroke-opacity:0.1; fill:none\" points=\"\n",
       "  1586.66,1486.45 1586.66,47.2441 \n",
       "  \"/>\n",
       "<polyline clip-path=\"url(#clip802)\" style=\"stroke:#000000; stroke-linecap:butt; stroke-linejoin:round; stroke-width:2; stroke-opacity:0.1; fill:none\" points=\"\n",
       "  1939.05,1486.45 1939.05,47.2441 \n",
       "  \"/>\n",
       "<polyline clip-path=\"url(#clip802)\" style=\"stroke:#000000; stroke-linecap:butt; stroke-linejoin:round; stroke-width:2; stroke-opacity:0.1; fill:none\" points=\"\n",
       "  2291.44,1486.45 2291.44,47.2441 \n",
       "  \"/>\n",
       "<polyline clip-path=\"url(#clip800)\" style=\"stroke:#000000; stroke-linecap:butt; stroke-linejoin:round; stroke-width:4; stroke-opacity:1; fill:none\" points=\"\n",
       "  186.274,1486.45 2352.76,1486.45 \n",
       "  \"/>\n",
       "<polyline clip-path=\"url(#clip800)\" style=\"stroke:#000000; stroke-linecap:butt; stroke-linejoin:round; stroke-width:4; stroke-opacity:1; fill:none\" points=\"\n",
       "  529.5,1486.45 529.5,1467.55 \n",
       "  \"/>\n",
       "<polyline clip-path=\"url(#clip800)\" style=\"stroke:#000000; stroke-linecap:butt; stroke-linejoin:round; stroke-width:4; stroke-opacity:1; fill:none\" points=\"\n",
       "  881.888,1486.45 881.888,1467.55 \n",
       "  \"/>\n",
       "<polyline clip-path=\"url(#clip800)\" style=\"stroke:#000000; stroke-linecap:butt; stroke-linejoin:round; stroke-width:4; stroke-opacity:1; fill:none\" points=\"\n",
       "  1234.28,1486.45 1234.28,1467.55 \n",
       "  \"/>\n",
       "<polyline clip-path=\"url(#clip800)\" style=\"stroke:#000000; stroke-linecap:butt; stroke-linejoin:round; stroke-width:4; stroke-opacity:1; fill:none\" points=\"\n",
       "  1586.66,1486.45 1586.66,1467.55 \n",
       "  \"/>\n",
       "<polyline clip-path=\"url(#clip800)\" style=\"stroke:#000000; stroke-linecap:butt; stroke-linejoin:round; stroke-width:4; stroke-opacity:1; fill:none\" points=\"\n",
       "  1939.05,1486.45 1939.05,1467.55 \n",
       "  \"/>\n",
       "<polyline clip-path=\"url(#clip800)\" style=\"stroke:#000000; stroke-linecap:butt; stroke-linejoin:round; stroke-width:4; stroke-opacity:1; fill:none\" points=\"\n",
       "  2291.44,1486.45 2291.44,1467.55 \n",
       "  \"/>\n",
       "<path clip-path=\"url(#clip800)\" d=\"M519.778 1512.56 L538.134 1512.56 L538.134 1516.5 L524.06 1516.5 L524.06 1524.97 Q525.079 1524.62 526.097 1524.46 Q527.116 1524.27 528.134 1524.27 Q533.921 1524.27 537.301 1527.44 Q540.68 1530.62 540.68 1536.03 Q540.68 1541.61 537.208 1544.71 Q533.736 1547.79 527.417 1547.79 Q525.241 1547.79 522.972 1547.42 Q520.727 1547.05 518.319 1546.31 L518.319 1541.61 Q520.403 1542.74 522.625 1543.3 Q524.847 1543.86 527.324 1543.86 Q531.329 1543.86 533.667 1541.75 Q536.005 1539.64 536.005 1536.03 Q536.005 1532.42 533.667 1530.31 Q531.329 1528.21 527.324 1528.21 Q525.449 1528.21 523.574 1528.62 Q521.722 1529.04 519.778 1529.92 L519.778 1512.56 Z\" fill=\"#000000\" fill-rule=\"evenodd\" fill-opacity=\"1\" /><path clip-path=\"url(#clip800)\" d=\"M856.576 1543.18 L864.215 1543.18 L864.215 1516.82 L855.904 1518.49 L855.904 1514.23 L864.168 1512.56 L868.844 1512.56 L868.844 1543.18 L876.483 1543.18 L876.483 1547.12 L856.576 1547.12 L856.576 1543.18 Z\" fill=\"#000000\" fill-rule=\"evenodd\" fill-opacity=\"1\" /><path clip-path=\"url(#clip800)\" d=\"M895.927 1515.64 Q892.316 1515.64 890.488 1519.2 Q888.682 1522.75 888.682 1529.87 Q888.682 1536.98 890.488 1540.55 Q892.316 1544.09 895.927 1544.09 Q899.562 1544.09 901.367 1540.55 Q903.196 1536.98 903.196 1529.87 Q903.196 1522.75 901.367 1519.2 Q899.562 1515.64 895.927 1515.64 M895.927 1511.93 Q901.737 1511.93 904.793 1516.54 Q907.872 1521.12 907.872 1529.87 Q907.872 1538.6 904.793 1543.21 Q901.737 1547.79 895.927 1547.79 Q890.117 1547.79 887.039 1543.21 Q883.983 1538.6 883.983 1529.87 Q883.983 1521.12 887.039 1516.54 Q890.117 1511.93 895.927 1511.93 Z\" fill=\"#000000\" fill-rule=\"evenodd\" fill-opacity=\"1\" /><path clip-path=\"url(#clip800)\" d=\"M1209.46 1543.18 L1217.1 1543.18 L1217.1 1516.82 L1208.79 1518.49 L1208.79 1514.23 L1217.05 1512.56 L1221.73 1512.56 L1221.73 1543.18 L1229.37 1543.18 L1229.37 1547.12 L1209.46 1547.12 L1209.46 1543.18 Z\" fill=\"#000000\" fill-rule=\"evenodd\" fill-opacity=\"1\" /><path clip-path=\"url(#clip800)\" d=\"M1238.86 1512.56 L1257.22 1512.56 L1257.22 1516.5 L1243.14 1516.5 L1243.14 1524.97 Q1244.16 1524.62 1245.18 1524.46 Q1246.2 1524.27 1247.22 1524.27 Q1253 1524.27 1256.38 1527.44 Q1259.76 1530.62 1259.76 1536.03 Q1259.76 1541.61 1256.29 1544.71 Q1252.82 1547.79 1246.5 1547.79 Q1244.32 1547.79 1242.05 1547.42 Q1239.81 1547.05 1237.4 1546.31 L1237.4 1541.61 Q1239.48 1542.74 1241.71 1543.3 Q1243.93 1543.86 1246.41 1543.86 Q1250.41 1543.86 1252.75 1541.75 Q1255.09 1539.64 1255.09 1536.03 Q1255.09 1532.42 1252.75 1530.31 Q1250.41 1528.21 1246.41 1528.21 Q1244.53 1528.21 1242.66 1528.62 Q1240.8 1529.04 1238.86 1529.92 L1238.86 1512.56 Z\" fill=\"#000000\" fill-rule=\"evenodd\" fill-opacity=\"1\" /><path clip-path=\"url(#clip800)\" d=\"M1565.44 1543.18 L1581.76 1543.18 L1581.76 1547.12 L1559.81 1547.12 L1559.81 1543.18 Q1562.47 1540.43 1567.06 1535.8 Q1571.66 1531.15 1572.84 1529.81 Q1575.09 1527.28 1575.97 1525.55 Q1576.87 1523.79 1576.87 1522.1 Q1576.87 1519.34 1574.93 1517.61 Q1573.01 1515.87 1569.91 1515.87 Q1567.71 1515.87 1565.25 1516.63 Q1562.82 1517.4 1560.04 1518.95 L1560.04 1514.23 Q1562.87 1513.09 1565.32 1512.51 Q1567.78 1511.93 1569.81 1511.93 Q1575.18 1511.93 1578.38 1514.62 Q1581.57 1517.31 1581.57 1521.8 Q1581.57 1523.93 1580.76 1525.85 Q1579.97 1527.74 1577.87 1530.34 Q1577.29 1531.01 1574.19 1534.23 Q1571.09 1537.42 1565.44 1543.18 Z\" fill=\"#000000\" fill-rule=\"evenodd\" fill-opacity=\"1\" /><path clip-path=\"url(#clip800)\" d=\"M1601.57 1515.64 Q1597.96 1515.64 1596.13 1519.2 Q1594.33 1522.75 1594.33 1529.87 Q1594.33 1536.98 1596.13 1540.55 Q1597.96 1544.09 1601.57 1544.09 Q1605.21 1544.09 1607.01 1540.55 Q1608.84 1536.98 1608.84 1529.87 Q1608.84 1522.75 1607.01 1519.2 Q1605.21 1515.64 1601.57 1515.64 M1601.57 1511.93 Q1607.38 1511.93 1610.44 1516.54 Q1613.52 1521.12 1613.52 1529.87 Q1613.52 1538.6 1610.44 1543.21 Q1607.38 1547.79 1601.57 1547.79 Q1595.76 1547.79 1592.68 1543.21 Q1589.63 1538.6 1589.63 1529.87 Q1589.63 1521.12 1592.68 1516.54 Q1595.76 1511.93 1601.57 1511.93 Z\" fill=\"#000000\" fill-rule=\"evenodd\" fill-opacity=\"1\" /><path clip-path=\"url(#clip800)\" d=\"M1918.32 1543.18 L1934.64 1543.18 L1934.64 1547.12 L1912.7 1547.12 L1912.7 1543.18 Q1915.36 1540.43 1919.94 1535.8 Q1924.55 1531.15 1925.73 1529.81 Q1927.98 1527.28 1928.86 1525.55 Q1929.76 1523.79 1929.76 1522.1 Q1929.76 1519.34 1927.81 1517.61 Q1925.89 1515.87 1922.79 1515.87 Q1920.59 1515.87 1918.14 1516.63 Q1915.71 1517.4 1912.93 1518.95 L1912.93 1514.23 Q1915.75 1513.09 1918.21 1512.51 Q1920.66 1511.93 1922.7 1511.93 Q1928.07 1511.93 1931.26 1514.62 Q1934.46 1517.31 1934.46 1521.8 Q1934.46 1523.93 1933.65 1525.85 Q1932.86 1527.74 1930.75 1530.34 Q1930.18 1531.01 1927.07 1534.23 Q1923.97 1537.42 1918.32 1543.18 Z\" fill=\"#000000\" fill-rule=\"evenodd\" fill-opacity=\"1\" /><path clip-path=\"url(#clip800)\" d=\"M1944.5 1512.56 L1962.86 1512.56 L1962.86 1516.5 L1948.79 1516.5 L1948.79 1524.97 Q1949.8 1524.62 1950.82 1524.46 Q1951.84 1524.27 1952.86 1524.27 Q1958.65 1524.27 1962.03 1527.44 Q1965.41 1530.62 1965.41 1536.03 Q1965.41 1541.61 1961.93 1544.71 Q1958.46 1547.79 1952.14 1547.79 Q1949.97 1547.79 1947.7 1547.42 Q1945.45 1547.05 1943.05 1546.31 L1943.05 1541.61 Q1945.13 1542.74 1947.35 1543.3 Q1949.57 1543.86 1952.05 1543.86 Q1956.05 1543.86 1958.39 1541.75 Q1960.73 1539.64 1960.73 1536.03 Q1960.73 1532.42 1958.39 1530.31 Q1956.05 1528.21 1952.05 1528.21 Q1950.17 1528.21 1948.3 1528.62 Q1946.45 1529.04 1944.5 1529.92 L1944.5 1512.56 Z\" fill=\"#000000\" fill-rule=\"evenodd\" fill-opacity=\"1\" /><path clip-path=\"url(#clip800)\" d=\"M2280.28 1528.49 Q2283.64 1529.2 2285.51 1531.47 Q2287.41 1533.74 2287.41 1537.07 Q2287.41 1542.19 2283.89 1544.99 Q2280.38 1547.79 2273.89 1547.79 Q2271.72 1547.79 2269.4 1547.35 Q2267.11 1546.93 2264.66 1546.08 L2264.66 1541.56 Q2266.6 1542.7 2268.92 1543.28 Q2271.23 1543.86 2273.76 1543.86 Q2278.15 1543.86 2280.45 1542.12 Q2282.76 1540.38 2282.76 1537.07 Q2282.76 1534.02 2280.61 1532.31 Q2278.48 1530.57 2274.66 1530.57 L2270.63 1530.57 L2270.63 1526.73 L2274.84 1526.73 Q2278.29 1526.73 2280.12 1525.36 Q2281.95 1523.97 2281.95 1521.38 Q2281.95 1518.72 2280.05 1517.31 Q2278.18 1515.87 2274.66 1515.87 Q2272.74 1515.87 2270.54 1516.29 Q2268.34 1516.7 2265.7 1517.58 L2265.7 1513.42 Q2268.36 1512.68 2270.68 1512.31 Q2273.01 1511.93 2275.07 1511.93 Q2280.4 1511.93 2283.5 1514.37 Q2286.6 1516.77 2286.6 1520.89 Q2286.6 1523.76 2284.96 1525.75 Q2283.32 1527.72 2280.28 1528.49 Z\" fill=\"#000000\" fill-rule=\"evenodd\" fill-opacity=\"1\" /><path clip-path=\"url(#clip800)\" d=\"M2306.28 1515.64 Q2302.67 1515.64 2300.84 1519.2 Q2299.03 1522.75 2299.03 1529.87 Q2299.03 1536.98 2300.84 1540.55 Q2302.67 1544.09 2306.28 1544.09 Q2309.91 1544.09 2311.72 1540.55 Q2313.55 1536.98 2313.55 1529.87 Q2313.55 1522.75 2311.72 1519.2 Q2309.91 1515.64 2306.28 1515.64 M2306.28 1511.93 Q2312.09 1511.93 2315.14 1516.54 Q2318.22 1521.12 2318.22 1529.87 Q2318.22 1538.6 2315.14 1543.21 Q2312.09 1547.79 2306.28 1547.79 Q2300.47 1547.79 2297.39 1543.21 Q2294.33 1538.6 2294.33 1529.87 Q2294.33 1521.12 2297.39 1516.54 Q2300.47 1511.93 2306.28 1511.93 Z\" fill=\"#000000\" fill-rule=\"evenodd\" fill-opacity=\"1\" /><polyline clip-path=\"url(#clip802)\" style=\"stroke:#000000; stroke-linecap:butt; stroke-linejoin:round; stroke-width:2; stroke-opacity:0.1; fill:none\" points=\"\n",
       "  186.274,1445.72 2352.76,1445.72 \n",
       "  \"/>\n",
       "<polyline clip-path=\"url(#clip802)\" style=\"stroke:#000000; stroke-linecap:butt; stroke-linejoin:round; stroke-width:2; stroke-opacity:0.1; fill:none\" points=\"\n",
       "  186.274,1106.28 2352.76,1106.28 \n",
       "  \"/>\n",
       "<polyline clip-path=\"url(#clip802)\" style=\"stroke:#000000; stroke-linecap:butt; stroke-linejoin:round; stroke-width:2; stroke-opacity:0.1; fill:none\" points=\"\n",
       "  186.274,766.846 2352.76,766.846 \n",
       "  \"/>\n",
       "<polyline clip-path=\"url(#clip802)\" style=\"stroke:#000000; stroke-linecap:butt; stroke-linejoin:round; stroke-width:2; stroke-opacity:0.1; fill:none\" points=\"\n",
       "  186.274,427.411 2352.76,427.411 \n",
       "  \"/>\n",
       "<polyline clip-path=\"url(#clip802)\" style=\"stroke:#000000; stroke-linecap:butt; stroke-linejoin:round; stroke-width:2; stroke-opacity:0.1; fill:none\" points=\"\n",
       "  186.274,87.9763 2352.76,87.9763 \n",
       "  \"/>\n",
       "<polyline clip-path=\"url(#clip800)\" style=\"stroke:#000000; stroke-linecap:butt; stroke-linejoin:round; stroke-width:4; stroke-opacity:1; fill:none\" points=\"\n",
       "  186.274,1486.45 186.274,47.2441 \n",
       "  \"/>\n",
       "<polyline clip-path=\"url(#clip800)\" style=\"stroke:#000000; stroke-linecap:butt; stroke-linejoin:round; stroke-width:4; stroke-opacity:1; fill:none\" points=\"\n",
       "  186.274,1445.72 205.172,1445.72 \n",
       "  \"/>\n",
       "<polyline clip-path=\"url(#clip800)\" style=\"stroke:#000000; stroke-linecap:butt; stroke-linejoin:round; stroke-width:4; stroke-opacity:1; fill:none\" points=\"\n",
       "  186.274,1106.28 205.172,1106.28 \n",
       "  \"/>\n",
       "<polyline clip-path=\"url(#clip800)\" style=\"stroke:#000000; stroke-linecap:butt; stroke-linejoin:round; stroke-width:4; stroke-opacity:1; fill:none\" points=\"\n",
       "  186.274,766.846 205.172,766.846 \n",
       "  \"/>\n",
       "<polyline clip-path=\"url(#clip800)\" style=\"stroke:#000000; stroke-linecap:butt; stroke-linejoin:round; stroke-width:4; stroke-opacity:1; fill:none\" points=\"\n",
       "  186.274,427.411 205.172,427.411 \n",
       "  \"/>\n",
       "<polyline clip-path=\"url(#clip800)\" style=\"stroke:#000000; stroke-linecap:butt; stroke-linejoin:round; stroke-width:4; stroke-opacity:1; fill:none\" points=\"\n",
       "  186.274,87.9763 205.172,87.9763 \n",
       "  \"/>\n",
       "<path clip-path=\"url(#clip800)\" d=\"M62.9365 1431.51 Q59.3254 1431.51 57.4967 1435.08 Q55.6912 1438.62 55.6912 1445.75 Q55.6912 1452.86 57.4967 1456.42 Q59.3254 1459.96 62.9365 1459.96 Q66.5707 1459.96 68.3763 1456.42 Q70.205 1452.86 70.205 1445.75 Q70.205 1438.62 68.3763 1435.08 Q66.5707 1431.51 62.9365 1431.51 M62.9365 1427.81 Q68.7467 1427.81 71.8022 1432.42 Q74.8809 1437 74.8809 1445.75 Q74.8809 1454.48 71.8022 1459.08 Q68.7467 1463.67 62.9365 1463.67 Q57.1264 1463.67 54.0477 1459.08 Q50.9921 1454.48 50.9921 1445.75 Q50.9921 1437 54.0477 1432.42 Q57.1264 1427.81 62.9365 1427.81 Z\" fill=\"#000000\" fill-rule=\"evenodd\" fill-opacity=\"1\" /><path clip-path=\"url(#clip800)\" d=\"M83.0984 1457.12 L87.9827 1457.12 L87.9827 1463 L83.0984 1463 L83.0984 1457.12 Z\" fill=\"#000000\" fill-rule=\"evenodd\" fill-opacity=\"1\" /><path clip-path=\"url(#clip800)\" d=\"M108.168 1431.51 Q104.557 1431.51 102.728 1435.08 Q100.922 1438.62 100.922 1445.75 Q100.922 1452.86 102.728 1456.42 Q104.557 1459.96 108.168 1459.96 Q111.802 1459.96 113.608 1456.42 Q115.436 1452.86 115.436 1445.75 Q115.436 1438.62 113.608 1435.08 Q111.802 1431.51 108.168 1431.51 M108.168 1427.81 Q113.978 1427.81 117.033 1432.42 Q120.112 1437 120.112 1445.75 Q120.112 1454.48 117.033 1459.08 Q113.978 1463.67 108.168 1463.67 Q102.358 1463.67 99.2789 1459.08 Q96.2234 1454.48 96.2234 1445.75 Q96.2234 1437 99.2789 1432.42 Q102.358 1427.81 108.168 1427.81 Z\" fill=\"#000000\" fill-rule=\"evenodd\" fill-opacity=\"1\" /><path clip-path=\"url(#clip800)\" d=\"M138.33 1431.51 Q134.719 1431.51 132.89 1435.08 Q131.084 1438.62 131.084 1445.75 Q131.084 1452.86 132.89 1456.42 Q134.719 1459.96 138.33 1459.96 Q141.964 1459.96 143.769 1456.42 Q145.598 1452.86 145.598 1445.75 Q145.598 1438.62 143.769 1435.08 Q141.964 1431.51 138.33 1431.51 M138.33 1427.81 Q144.14 1427.81 147.195 1432.42 Q150.274 1437 150.274 1445.75 Q150.274 1454.48 147.195 1459.08 Q144.14 1463.67 138.33 1463.67 Q132.519 1463.67 129.441 1459.08 Q126.385 1454.48 126.385 1445.75 Q126.385 1437 129.441 1432.42 Q132.519 1427.81 138.33 1427.81 Z\" fill=\"#000000\" fill-rule=\"evenodd\" fill-opacity=\"1\" /><path clip-path=\"url(#clip800)\" d=\"M63.9319 1092.08 Q60.3208 1092.08 58.4921 1095.64 Q56.6865 1099.19 56.6865 1106.32 Q56.6865 1113.42 58.4921 1116.99 Q60.3208 1120.53 63.9319 1120.53 Q67.5661 1120.53 69.3717 1116.99 Q71.2004 1113.42 71.2004 1106.32 Q71.2004 1099.19 69.3717 1095.64 Q67.5661 1092.08 63.9319 1092.08 M63.9319 1088.38 Q69.742 1088.38 72.7976 1092.98 Q75.8763 1097.57 75.8763 1106.32 Q75.8763 1115.04 72.7976 1119.65 Q69.742 1124.23 63.9319 1124.23 Q58.1217 1124.23 55.043 1119.65 Q51.9875 1115.04 51.9875 1106.32 Q51.9875 1097.57 55.043 1092.98 Q58.1217 1088.38 63.9319 1088.38 Z\" fill=\"#000000\" fill-rule=\"evenodd\" fill-opacity=\"1\" /><path clip-path=\"url(#clip800)\" d=\"M84.0938 1117.68 L88.978 1117.68 L88.978 1123.56 L84.0938 1123.56 L84.0938 1117.68 Z\" fill=\"#000000\" fill-rule=\"evenodd\" fill-opacity=\"1\" /><path clip-path=\"url(#clip800)\" d=\"M103.191 1119.63 L119.51 1119.63 L119.51 1123.56 L97.566 1123.56 L97.566 1119.63 Q100.228 1116.87 104.811 1112.24 Q109.418 1107.59 110.598 1106.25 Q112.844 1103.72 113.723 1101.99 Q114.626 1100.23 114.626 1098.54 Q114.626 1095.78 112.682 1094.05 Q110.76 1092.31 107.658 1092.31 Q105.459 1092.31 103.006 1093.07 Q100.575 1093.84 97.7974 1095.39 L97.7974 1090.67 Q100.621 1089.53 103.075 1088.95 Q105.529 1088.38 107.566 1088.38 Q112.936 1088.38 116.131 1091.06 Q119.325 1093.75 119.325 1098.24 Q119.325 1100.37 118.515 1102.29 Q117.728 1104.19 115.621 1106.78 Q115.043 1107.45 111.941 1110.67 Q108.839 1113.86 103.191 1119.63 Z\" fill=\"#000000\" fill-rule=\"evenodd\" fill-opacity=\"1\" /><path clip-path=\"url(#clip800)\" d=\"M129.371 1089 L147.728 1089 L147.728 1092.94 L133.654 1092.94 L133.654 1101.41 Q134.672 1101.06 135.691 1100.9 Q136.709 1100.71 137.728 1100.71 Q143.515 1100.71 146.894 1103.89 Q150.274 1107.06 150.274 1112.47 Q150.274 1118.05 146.802 1121.15 Q143.33 1124.23 137.01 1124.23 Q134.834 1124.23 132.566 1123.86 Q130.32 1123.49 127.913 1122.75 L127.913 1118.05 Q129.996 1119.19 132.219 1119.74 Q134.441 1120.3 136.918 1120.3 Q140.922 1120.3 143.26 1118.19 Q145.598 1116.08 145.598 1112.47 Q145.598 1108.86 143.26 1106.76 Q140.922 1104.65 136.918 1104.65 Q135.043 1104.65 133.168 1105.07 Q131.316 1105.48 129.371 1106.36 L129.371 1089 Z\" fill=\"#000000\" fill-rule=\"evenodd\" fill-opacity=\"1\" /><path clip-path=\"url(#clip800)\" d=\"M62.9365 752.645 Q59.3254 752.645 57.4967 756.209 Q55.6912 759.751 55.6912 766.881 Q55.6912 773.987 57.4967 777.552 Q59.3254 781.094 62.9365 781.094 Q66.5707 781.094 68.3763 777.552 Q70.205 773.987 70.205 766.881 Q70.205 759.751 68.3763 756.209 Q66.5707 752.645 62.9365 752.645 M62.9365 748.941 Q68.7467 748.941 71.8022 753.547 Q74.8809 758.131 74.8809 766.881 Q74.8809 775.608 71.8022 780.214 Q68.7467 784.797 62.9365 784.797 Q57.1264 784.797 54.0477 780.214 Q50.9921 775.608 50.9921 766.881 Q50.9921 758.131 54.0477 753.547 Q57.1264 748.941 62.9365 748.941 Z\" fill=\"#000000\" fill-rule=\"evenodd\" fill-opacity=\"1\" /><path clip-path=\"url(#clip800)\" d=\"M83.0984 778.246 L87.9827 778.246 L87.9827 784.126 L83.0984 784.126 L83.0984 778.246 Z\" fill=\"#000000\" fill-rule=\"evenodd\" fill-opacity=\"1\" /><path clip-path=\"url(#clip800)\" d=\"M98.2141 749.566 L116.57 749.566 L116.57 753.501 L102.496 753.501 L102.496 761.973 Q103.515 761.626 104.534 761.464 Q105.552 761.279 106.571 761.279 Q112.358 761.279 115.737 764.45 Q119.117 767.621 119.117 773.038 Q119.117 778.617 115.645 781.719 Q112.172 784.797 105.853 784.797 Q103.677 784.797 101.409 784.427 Q99.1632 784.057 96.7558 783.316 L96.7558 778.617 Q98.8391 779.751 101.061 780.307 Q103.284 780.862 105.76 780.862 Q109.765 780.862 112.103 778.756 Q114.441 776.649 114.441 773.038 Q114.441 769.427 112.103 767.321 Q109.765 765.214 105.76 765.214 Q103.885 765.214 102.01 765.631 Q100.159 766.047 98.2141 766.927 L98.2141 749.566 Z\" fill=\"#000000\" fill-rule=\"evenodd\" fill-opacity=\"1\" /><path clip-path=\"url(#clip800)\" d=\"M138.33 752.645 Q134.719 752.645 132.89 756.209 Q131.084 759.751 131.084 766.881 Q131.084 773.987 132.89 777.552 Q134.719 781.094 138.33 781.094 Q141.964 781.094 143.769 777.552 Q145.598 773.987 145.598 766.881 Q145.598 759.751 143.769 756.209 Q141.964 752.645 138.33 752.645 M138.33 748.941 Q144.14 748.941 147.195 753.547 Q150.274 758.131 150.274 766.881 Q150.274 775.608 147.195 780.214 Q144.14 784.797 138.33 784.797 Q132.519 784.797 129.441 780.214 Q126.385 775.608 126.385 766.881 Q126.385 758.131 129.441 753.547 Q132.519 748.941 138.33 748.941 Z\" fill=\"#000000\" fill-rule=\"evenodd\" fill-opacity=\"1\" /><path clip-path=\"url(#clip800)\" d=\"M63.9319 413.21 Q60.3208 413.21 58.4921 416.775 Q56.6865 420.316 56.6865 427.446 Q56.6865 434.552 58.4921 438.117 Q60.3208 441.659 63.9319 441.659 Q67.5661 441.659 69.3717 438.117 Q71.2004 434.552 71.2004 427.446 Q71.2004 420.316 69.3717 416.775 Q67.5661 413.21 63.9319 413.21 M63.9319 409.506 Q69.742 409.506 72.7976 414.113 Q75.8763 418.696 75.8763 427.446 Q75.8763 436.173 72.7976 440.779 Q69.742 445.362 63.9319 445.362 Q58.1217 445.362 55.043 440.779 Q51.9875 436.173 51.9875 427.446 Q51.9875 418.696 55.043 414.113 Q58.1217 409.506 63.9319 409.506 Z\" fill=\"#000000\" fill-rule=\"evenodd\" fill-opacity=\"1\" /><path clip-path=\"url(#clip800)\" d=\"M84.0938 438.812 L88.978 438.812 L88.978 444.691 L84.0938 444.691 L84.0938 438.812 Z\" fill=\"#000000\" fill-rule=\"evenodd\" fill-opacity=\"1\" /><path clip-path=\"url(#clip800)\" d=\"M97.9826 410.131 L120.205 410.131 L120.205 412.122 L107.658 444.691 L102.774 444.691 L114.58 414.066 L97.9826 414.066 L97.9826 410.131 Z\" fill=\"#000000\" fill-rule=\"evenodd\" fill-opacity=\"1\" /><path clip-path=\"url(#clip800)\" d=\"M129.371 410.131 L147.728 410.131 L147.728 414.066 L133.654 414.066 L133.654 422.538 Q134.672 422.191 135.691 422.029 Q136.709 421.844 137.728 421.844 Q143.515 421.844 146.894 425.015 Q150.274 428.187 150.274 433.603 Q150.274 439.182 146.802 442.284 Q143.33 445.362 137.01 445.362 Q134.834 445.362 132.566 444.992 Q130.32 444.622 127.913 443.881 L127.913 439.182 Q129.996 440.316 132.219 440.872 Q134.441 441.427 136.918 441.427 Q140.922 441.427 143.26 439.321 Q145.598 437.214 145.598 433.603 Q145.598 429.992 143.26 427.886 Q140.922 425.779 136.918 425.779 Q135.043 425.779 133.168 426.196 Q131.316 426.613 129.371 427.492 L129.371 410.131 Z\" fill=\"#000000\" fill-rule=\"evenodd\" fill-opacity=\"1\" /><path clip-path=\"url(#clip800)\" d=\"M53.7467 101.321 L61.3856 101.321 L61.3856 74.9555 L53.0754 76.6222 L53.0754 72.3629 L61.3393 70.6963 L66.0152 70.6963 L66.0152 101.321 L73.654 101.321 L73.654 105.256 L53.7467 105.256 L53.7467 101.321 Z\" fill=\"#000000\" fill-rule=\"evenodd\" fill-opacity=\"1\" /><path clip-path=\"url(#clip800)\" d=\"M83.0984 99.3767 L87.9827 99.3767 L87.9827 105.256 L83.0984 105.256 L83.0984 99.3767 Z\" fill=\"#000000\" fill-rule=\"evenodd\" fill-opacity=\"1\" /><path clip-path=\"url(#clip800)\" d=\"M108.168 73.775 Q104.557 73.775 102.728 77.3398 Q100.922 80.8814 100.922 88.011 Q100.922 95.1174 102.728 98.6822 Q104.557 102.224 108.168 102.224 Q111.802 102.224 113.608 98.6822 Q115.436 95.1174 115.436 88.011 Q115.436 80.8814 113.608 77.3398 Q111.802 73.775 108.168 73.775 M108.168 70.0713 Q113.978 70.0713 117.033 74.6777 Q120.112 79.261 120.112 88.011 Q120.112 96.7378 117.033 101.344 Q113.978 105.928 108.168 105.928 Q102.358 105.928 99.2789 101.344 Q96.2234 96.7378 96.2234 88.011 Q96.2234 79.261 99.2789 74.6777 Q102.358 70.0713 108.168 70.0713 Z\" fill=\"#000000\" fill-rule=\"evenodd\" fill-opacity=\"1\" /><path clip-path=\"url(#clip800)\" d=\"M138.33 73.775 Q134.719 73.775 132.89 77.3398 Q131.084 80.8814 131.084 88.011 Q131.084 95.1174 132.89 98.6822 Q134.719 102.224 138.33 102.224 Q141.964 102.224 143.769 98.6822 Q145.598 95.1174 145.598 88.011 Q145.598 80.8814 143.769 77.3398 Q141.964 73.775 138.33 73.775 M138.33 70.0713 Q144.14 70.0713 147.195 74.6777 Q150.274 79.261 150.274 88.011 Q150.274 96.7378 147.195 101.344 Q144.14 105.928 138.33 105.928 Q132.519 105.928 129.441 101.344 Q126.385 96.7378 126.385 88.011 Q126.385 79.261 129.441 74.6777 Q132.519 70.0713 138.33 70.0713 Z\" fill=\"#000000\" fill-rule=\"evenodd\" fill-opacity=\"1\" /><polyline clip-path=\"url(#clip802)\" style=\"stroke:#009af9; stroke-linecap:butt; stroke-linejoin:round; stroke-width:4; stroke-opacity:1; fill:none\" points=\"\n",
       "  247.59,87.9763 318.067,495.298 388.545,780.423 459.022,980.011 529.5,1119.72 599.978,1217.52 670.455,1285.98 740.933,1333.9 811.41,1367.44 881.888,1390.93 \n",
       "  952.366,1407.36 1022.84,1418.87 1093.32,1426.92 1163.8,1432.56 1234.28,1436.51 1304.75,1439.27 1375.23,1441.2 1445.71,1442.56 1516.19,1443.5 1586.66,1444.17 \n",
       "  1657.14,1444.63 1727.62,1444.96 1798.1,1445.18 1868.57,1445.34 1939.05,1445.46 2009.53,1445.53 2080.01,1445.59 2150.49,1445.63 2220.96,1445.65 2291.44,1445.67 \n",
       "  \n",
       "  \"/>\n",
       "<polyline clip-path=\"url(#clip802)\" style=\"stroke:#e26f46; stroke-linecap:butt; stroke-linejoin:round; stroke-width:4; stroke-opacity:1; fill:none\" points=\"\n",
       "  247.59,87.9763 318.067,1038.39 388.545,1323.52 459.022,1409.06 529.5,1434.72 599.978,1442.42 670.455,1444.73 740.933,1445.42 811.41,1445.63 881.888,1445.69 \n",
       "  952.366,1445.71 1022.84,1445.71 1093.32,1445.71 1163.8,1445.72 1234.28,1445.72 1304.75,1445.72 1375.23,1445.72 1445.71,1445.72 1516.19,1445.72 1586.66,1445.72 \n",
       "  1657.14,1445.72 1727.62,1445.72 1798.1,1445.72 1868.57,1445.72 1939.05,1445.72 2009.53,1445.72 2080.01,1445.72 2150.49,1445.72 2220.96,1445.72 2291.44,1445.72 \n",
       "  \n",
       "  \"/>\n",
       "<polyline clip-path=\"url(#clip802)\" style=\"stroke:#3da44d; stroke-linecap:butt; stroke-linejoin:round; stroke-width:4; stroke-opacity:1; fill:none\" points=\"\n",
       "  247.59,87.9763 318.067,87.9763 388.545,373.102 459.022,658.227 529.5,883.476 599.978,1048.85 670.455,1166.92 740.933,1250.26 811.41,1308.81 881.888,1349.85 \n",
       "  952.366,1378.6 1022.84,1398.74 1093.32,1412.83 1163.8,1422.69 1234.28,1429.6 1304.75,1434.44 1375.23,1437.82 1445.71,1440.19 1516.19,1441.85 1586.66,1443.01 \n",
       "  1657.14,1443.82 1727.62,1444.39 1798.1,1444.79 1868.57,1445.07 1939.05,1445.26 2009.53,1445.4 2080.01,1445.49 2150.49,1445.56 2220.96,1445.61 2291.44,1445.64 \n",
       "  \n",
       "  \"/>\n",
       "<path clip-path=\"url(#clip800)\" d=\"\n",
       "M1986.81 302.578 L2280.54 302.578 L2280.54 95.2176 L1986.81 95.2176  Z\n",
       "  \" fill=\"#ffffff\" fill-rule=\"evenodd\" fill-opacity=\"1\"/>\n",
       "<polyline clip-path=\"url(#clip800)\" style=\"stroke:#000000; stroke-linecap:butt; stroke-linejoin:round; stroke-width:4; stroke-opacity:1; fill:none\" points=\"\n",
       "  1986.81,302.578 2280.54,302.578 2280.54,95.2176 1986.81,95.2176 1986.81,302.578 \n",
       "  \"/>\n",
       "<polyline clip-path=\"url(#clip800)\" style=\"stroke:#009af9; stroke-linecap:butt; stroke-linejoin:round; stroke-width:4; stroke-opacity:1; fill:none\" points=\"\n",
       "  2010.88,147.058 2155.31,147.058 \n",
       "  \"/>\n",
       "<path clip-path=\"url(#clip800)\" d=\"M2193.23 166.745 Q2191.42 171.375 2189.71 172.787 Q2188 174.199 2185.13 174.199 L2181.72 174.199 L2181.72 170.634 L2184.22 170.634 Q2185.98 170.634 2186.96 169.8 Q2187.93 168.967 2189.11 165.865 L2189.87 163.921 L2179.39 138.412 L2183.9 138.412 L2192 158.689 L2200.1 138.412 L2204.62 138.412 L2193.23 166.745 Z\" fill=\"#000000\" fill-rule=\"evenodd\" fill-opacity=\"1\" /><path clip-path=\"url(#clip800)\" d=\"M2211.91 160.402 L2219.55 160.402 L2219.55 134.037 L2211.24 135.703 L2211.24 131.444 L2219.5 129.778 L2224.18 129.778 L2224.18 160.402 L2231.82 160.402 L2231.82 164.338 L2211.91 164.338 L2211.91 160.402 Z\" fill=\"#000000\" fill-rule=\"evenodd\" fill-opacity=\"1\" /><polyline clip-path=\"url(#clip800)\" style=\"stroke:#e26f46; stroke-linecap:butt; stroke-linejoin:round; stroke-width:4; stroke-opacity:1; fill:none\" points=\"\n",
       "  2010.88,198.898 2155.31,198.898 \n",
       "  \"/>\n",
       "<path clip-path=\"url(#clip800)\" d=\"M2193.23 218.585 Q2191.42 223.215 2189.71 224.627 Q2188 226.039 2185.13 226.039 L2181.72 226.039 L2181.72 222.474 L2184.22 222.474 Q2185.98 222.474 2186.96 221.64 Q2187.93 220.807 2189.11 217.705 L2189.87 215.761 L2179.39 190.252 L2183.9 190.252 L2192 210.529 L2200.1 190.252 L2204.62 190.252 L2193.23 218.585 Z\" fill=\"#000000\" fill-rule=\"evenodd\" fill-opacity=\"1\" /><path clip-path=\"url(#clip800)\" d=\"M2215.13 212.242 L2231.45 212.242 L2231.45 216.178 L2209.5 216.178 L2209.5 212.242 Q2212.16 209.488 2216.75 204.858 Q2221.35 200.205 2222.53 198.863 Q2224.78 196.34 2225.66 194.604 Q2226.56 192.844 2226.56 191.155 Q2226.56 188.4 2224.62 186.664 Q2222.7 184.928 2219.59 184.928 Q2217.4 184.928 2214.94 185.692 Q2212.51 186.455 2209.73 188.006 L2209.73 183.284 Q2212.56 182.15 2215.01 181.571 Q2217.47 180.993 2219.5 180.993 Q2224.87 180.993 2228.07 183.678 Q2231.26 186.363 2231.26 190.854 Q2231.26 192.983 2230.45 194.905 Q2229.66 196.803 2227.56 199.395 Q2226.98 200.067 2223.88 203.284 Q2220.78 206.479 2215.13 212.242 Z\" fill=\"#000000\" fill-rule=\"evenodd\" fill-opacity=\"1\" /><polyline clip-path=\"url(#clip800)\" style=\"stroke:#3da44d; stroke-linecap:butt; stroke-linejoin:round; stroke-width:4; stroke-opacity:1; fill:none\" points=\"\n",
       "  2010.88,250.738 2155.31,250.738 \n",
       "  \"/>\n",
       "<path clip-path=\"url(#clip800)\" d=\"M2193.23 270.425 Q2191.42 275.055 2189.71 276.467 Q2188 277.879 2185.13 277.879 L2181.72 277.879 L2181.72 274.314 L2184.22 274.314 Q2185.98 274.314 2186.96 273.48 Q2187.93 272.647 2189.11 269.545 L2189.87 267.601 L2179.39 242.092 L2183.9 242.092 L2192 262.369 L2200.1 242.092 L2204.62 242.092 L2193.23 270.425 Z\" fill=\"#000000\" fill-rule=\"evenodd\" fill-opacity=\"1\" /><path clip-path=\"url(#clip800)\" d=\"M2225.27 249.383 Q2228.62 250.101 2230.5 252.369 Q2232.4 254.638 2232.4 257.971 Q2232.4 263.087 2228.88 265.888 Q2225.36 268.689 2218.88 268.689 Q2216.7 268.689 2214.39 268.249 Q2212.09 267.832 2209.64 266.976 L2209.64 262.462 Q2211.59 263.596 2213.9 264.175 Q2216.22 264.754 2218.74 264.754 Q2223.14 264.754 2225.43 263.018 Q2227.74 261.281 2227.74 257.971 Q2227.74 254.916 2225.59 253.203 Q2223.46 251.467 2219.64 251.467 L2215.61 251.467 L2215.61 247.624 L2219.83 247.624 Q2223.28 247.624 2225.1 246.258 Q2226.93 244.87 2226.93 242.277 Q2226.93 239.615 2225.03 238.203 Q2223.16 236.768 2219.64 236.768 Q2217.72 236.768 2215.52 237.184 Q2213.32 237.601 2210.68 238.481 L2210.68 234.314 Q2213.34 233.573 2215.66 233.203 Q2218 232.833 2220.06 232.833 Q2225.38 232.833 2228.48 235.263 Q2231.59 237.67 2231.59 241.791 Q2231.59 244.661 2229.94 246.652 Q2228.3 248.62 2225.27 249.383 Z\" fill=\"#000000\" fill-rule=\"evenodd\" fill-opacity=\"1\" /></svg>\n"
      ]
     },
     "execution_count": 68,
     "metadata": {},
     "output_type": "execute_result"
    }
   ],
   "source": [
    "is_this_a_plot = plot([x1 x2 x])"
   ]
  },
  {
   "cell_type": "code",
   "execution_count": 69,
   "metadata": {},
   "outputs": [
    {
     "data": {
      "text/plain": [
       "Plots.Plot{Plots.GRBackend}"
      ]
     },
     "execution_count": 69,
     "metadata": {},
     "output_type": "execute_result"
    }
   ],
   "source": [
    "typeof(is_this_a_plot)"
   ]
  },
  {
   "cell_type": "code",
   "execution_count": null,
   "metadata": {},
   "outputs": [],
   "source": []
  },
  {
   "cell_type": "markdown",
   "metadata": {},
   "source": [
    "## Extra notes\n",
    "See:\n",
    "https://github.com/CEU-Economics-and-Business/ECBS-6001-Advanced-Macroeconomics/blob/master/ECBS-6001-Advanced-Macroeconomics.md\n",
    "\n",
    "## Export graphs\n"
   ]
  },
  {
   "cell_type": "code",
   "execution_count": 67,
   "metadata": {},
   "outputs": [],
   "source": [
    "savefig(\"figure1.svg\")"
   ]
  },
  {
   "cell_type": "code",
   "execution_count": 70,
   "metadata": {},
   "outputs": [
    {
     "name": "stdout",
     "output_type": "stream",
     "text": [
      "search: \u001b[0m\u001b[1ms\u001b[22m\u001b[0m\u001b[1ma\u001b[22m\u001b[0m\u001b[1mv\u001b[22m\u001b[0m\u001b[1me\u001b[22m\u001b[0m\u001b[1mf\u001b[22m\u001b[0m\u001b[1mi\u001b[22m\u001b[0m\u001b[1mg\u001b[22m \u001b[0m\u001b[1mS\u001b[22mt\u001b[0m\u001b[1ma\u001b[22mckO\u001b[0m\u001b[1mv\u001b[22m\u001b[0m\u001b[1me\u001b[22mr\u001b[0m\u001b[1mf\u001b[22mlowError\n",
      "\n"
     ]
    },
    {
     "data": {
      "text/latex": [
       "\\begin{verbatim}\n",
       "savefig([plot,] filename)\n",
       "\\end{verbatim}\n",
       "Save a Plot (the current plot if \\texttt{plot} is not passed) to file. The file type is inferred from the file extension. All backends support png and pdf file types, some also support svg, ps, eps, html and tex.\n",
       "\n"
      ],
      "text/markdown": [
       "```\n",
       "savefig([plot,] filename)\n",
       "```\n",
       "\n",
       "Save a Plot (the current plot if `plot` is not passed) to file. The file type is inferred from the file extension. All backends support png and pdf file types, some also support svg, ps, eps, html and tex.\n"
      ],
      "text/plain": [
       "\u001b[36m  savefig([plot,] filename)\u001b[39m\n",
       "\n",
       "  Save a Plot (the current plot if \u001b[36mplot\u001b[39m is not passed) to file. The file type\n",
       "  is inferred from the file extension. All backends support png and pdf file\n",
       "  types, some also support svg, ps, eps, html and tex."
      ]
     },
     "execution_count": 70,
     "metadata": {},
     "output_type": "execute_result"
    }
   ],
   "source": [
    "?savefig"
   ]
  },
  {
   "cell_type": "code",
   "execution_count": 71,
   "metadata": {},
   "outputs": [],
   "source": [
    "savefig(is_this_a_plot, \"figure1.png\")"
   ]
  },
  {
   "cell_type": "code",
   "execution_count": null,
   "metadata": {},
   "outputs": [],
   "source": []
  },
  {
   "cell_type": "code",
   "execution_count": null,
   "metadata": {},
   "outputs": [],
   "source": []
  },
  {
   "cell_type": "code",
   "execution_count": null,
   "metadata": {},
   "outputs": [],
   "source": []
  },
  {
   "cell_type": "code",
   "execution_count": null,
   "metadata": {},
   "outputs": [],
   "source": []
  }
 ],
 "metadata": {
  "kernelspec": {
   "display_name": "Julia 1.6.2",
   "language": "julia",
   "name": "julia-1.6"
  },
  "language_info": {
   "file_extension": ".jl",
   "mimetype": "application/julia",
   "name": "julia",
   "version": "1.6.2"
  }
 },
 "nbformat": 4,
 "nbformat_minor": 4
}
