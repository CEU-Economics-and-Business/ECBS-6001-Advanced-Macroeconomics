{
 "cells": [
  {
   "cell_type": "markdown",
   "metadata": {},
   "source": [
    "# Class 10"
   ]
  },
  {
   "cell_type": "code",
   "execution_count": 2,
   "metadata": {},
   "outputs": [],
   "source": [
    "struct MCDP_without_optimization\n",
    "    u::Vector{Real}\n",
    "    β::Real\n",
    "    P::Matrix{Real}\n",
    "end"
   ]
  },
  {
   "cell_type": "code",
   "execution_count": 42,
   "metadata": {},
   "outputs": [
    {
     "data": {
      "text/plain": [
       "MCDP_without_optimization(Real[1.0, 0.3], 0.9958333333333333, Real[0.9 0.1; 0.03 0.97])"
      ]
     },
     "execution_count": 42,
     "metadata": {},
     "output_type": "execute_result"
    }
   ],
   "source": [
    "job_search_problem = MCDP_without_optimization([1.0, 0.3], 1-0.05/12, [0.9 0.1; 0.03 0.97])"
   ]
  },
  {
   "cell_type": "code",
   "execution_count": 6,
   "metadata": {},
   "outputs": [
    {
     "data": {
      "text/plain": [
       "iterate_value_function (generic function with 2 methods)"
      ]
     },
     "execution_count": 6,
     "metadata": {},
     "output_type": "execute_result"
    }
   ],
   "source": [
    "function iterate_value_function(v::Vector{T}, problem::MCDP_without_optimization) where T <: Real\n",
    "    u, β, P = problem.u, problem.β, problem.P\n",
    "    return u .+ β*P*v\n",
    "end"
   ]
  },
  {
   "cell_type": "code",
   "execution_count": 10,
   "metadata": {},
   "outputs": [
    {
     "data": {
      "text/plain": [
       "2-element Vector{Float64}:\n",
       " 1.0\n",
       " 0.3"
      ]
     },
     "execution_count": 10,
     "metadata": {},
     "output_type": "execute_result"
    }
   ],
   "source": [
    "iterate_value_function([0.0, 0.0], job_search_problem)"
   ]
  },
  {
   "cell_type": "code",
   "execution_count": 43,
   "metadata": {},
   "outputs": [
    {
     "data": {
      "text/plain": [
       "2-element Vector{Float64}:\n",
       " 114.63042102531075\n",
       " 109.39188033307501"
      ]
     },
     "execution_count": 43,
     "metadata": {},
     "output_type": "execute_result"
    }
   ],
   "source": [
    "tolerance = 1e-6\n",
    "maxiter = 100000\n",
    "\n",
    "numiter = 1\n",
    "v = zeros(2)\n",
    "for t=1:maxiter\n",
    "    new_v = iterate_value_function(v, job_search_problem)\n",
    "    distance = sum((v .- new_v).^2)\n",
    "    v = new_v\n",
    "    if distance < tolerance \n",
    "        numiter = t\n",
    "        break\n",
    "    end\n",
    "end\n",
    "v"
   ]
  },
  {
   "cell_type": "code",
   "execution_count": 38,
   "metadata": {},
   "outputs": [
    {
     "data": {
      "text/plain": [
       "47311"
      ]
     },
     "execution_count": 38,
     "metadata": {},
     "output_type": "execute_result"
    }
   ],
   "source": [
    "numiter"
   ]
  },
  {
   "cell_type": "code",
   "execution_count": 40,
   "metadata": {},
   "outputs": [
    {
     "data": {
      "text/plain": [
       "solve (generic function with 1 method)"
      ]
     },
     "execution_count": 40,
     "metadata": {},
     "output_type": "execute_result"
    }
   ],
   "source": [
    "using LinearAlgebra: I\n",
    "function solve(problem::MCDP_without_optimization)\n",
    "    return (I - problem.β*problem.P) \\ problem.u\n",
    "end"
   ]
  },
  {
   "cell_type": "code",
   "execution_count": 44,
   "metadata": {},
   "outputs": [
    {
     "data": {
      "text/plain": [
       "2-element Vector{Float64}:\n",
       " 114.79887745556647\n",
       " 109.56033676333075"
      ]
     },
     "execution_count": 44,
     "metadata": {},
     "output_type": "execute_result"
    }
   ],
   "source": [
    "solve(job_search_problem)"
   ]
  },
  {
   "cell_type": "code",
   "execution_count": 45,
   "metadata": {},
   "outputs": [],
   "source": [
    "struct MCDP_with_discrete_choices\n",
    "    choices::Vector{MCDP_without_optimization}\n",
    "end"
   ]
  },
  {
   "cell_type": "code",
   "execution_count": 46,
   "metadata": {},
   "outputs": [
    {
     "data": {
      "text/plain": [
       "2-element Vector{MCDP_without_optimization}:\n",
       " MCDP_without_optimization(Real[1.0, 0.3], 0.95, Real[0.9 0.1; 0.01 0.99])\n",
       " MCDP_without_optimization(Real[1.0, 0.1], 0.95, Real[0.9 0.1; 0.3 0.7])"
      ]
     },
     "execution_count": 46,
     "metadata": {},
     "output_type": "execute_result"
    }
   ],
   "source": [
    "low_intensity  = MCDP_without_optimization([1.0, 0.3], 0.95, [0.9 0.1; 0.01 0.99])\n",
    "high_intensity = MCDP_without_optimization([1.0, 0.1], 0.95, [0.9 0.1; 0.3 0.7])\n",
    "endogenous_job_search = [low_intensity, high_intensity]"
   ]
  },
  {
   "cell_type": "code",
   "execution_count": 49,
   "metadata": {},
   "outputs": [
    {
     "data": {
      "text/plain": [
       "iterate_value_function (generic function with 3 methods)"
      ]
     },
     "execution_count": 49,
     "metadata": {},
     "output_type": "execute_result"
    }
   ],
   "source": [
    "function iterate_value_function(v::Vector{T}, choices::Vector{MCDP_without_optimization}) where T<:Real\n",
    "    N = length(choices)\n",
    "    K = length(choices[1].u)\n",
    "    \n",
    "    new_v = zeros(K)\n",
    "    for k = 1:K\n",
    "        best_index = 0\n",
    "        best_value = -1e+16\n",
    "        for n = 1:N\n",
    "            candidate_value = choices[n].u + choices[n].β * choices[n].P * v\n",
    "            if candidate_value[k] > best_value\n",
    "                best_index = n\n",
    "                best_value = candidate_value[k]\n",
    "            end\n",
    "        end\n",
    "        new_v[k] = best_value\n",
    "    end\n",
    "    return new_v\n",
    "end\n",
    "# rewrite this more julianic"
   ]
  },
  {
   "cell_type": "code",
   "execution_count": 51,
   "metadata": {},
   "outputs": [
    {
     "data": {
      "text/plain": [
       "2-element Vector{Float64}:\n",
       " 86.5\n",
       " 28.599999999999998"
      ]
     },
     "execution_count": 51,
     "metadata": {},
     "output_type": "execute_result"
    }
   ],
   "source": [
    "iterate_value_function([100.0, 0.0], endogenous_job_search)"
   ]
  },
  {
   "cell_type": "code",
   "execution_count": 54,
   "metadata": {},
   "outputs": [
    {
     "data": {
      "text/plain": [
       "2-element Vector{Float64}:\n",
       " 16.010234453917704\n",
       " 13.917211198103743"
      ]
     },
     "execution_count": 54,
     "metadata": {},
     "output_type": "execute_result"
    }
   ],
   "source": [
    "tolerance = 1e-6\n",
    "maxiter = 100000\n",
    "\n",
    "numiter = 1\n",
    "v = zeros(2)\n",
    "for t=1:maxiter\n",
    "    new_v = iterate_value_function(v, endogenous_job_search)\n",
    "    distance = sum((v .- new_v).^2)\n",
    "    v = new_v\n",
    "    if distance < tolerance \n",
    "        numiter = t\n",
    "        break\n",
    "    end\n",
    "end\n",
    "v"
   ]
  },
  {
   "cell_type": "markdown",
   "metadata": {},
   "source": [
    "# Policy function iteration"
   ]
  },
  {
   "cell_type": "code",
   "execution_count": null,
   "metadata": {},
   "outputs": [],
   "source": []
  }
 ],
 "metadata": {
  "kernelspec": {
   "display_name": "Julia 1.6.2",
   "language": "julia",
   "name": "julia-1.6"
  },
  "language_info": {
   "file_extension": ".jl",
   "mimetype": "application/julia",
   "name": "julia",
   "version": "1.6.2"
  }
 },
 "nbformat": 4,
 "nbformat_minor": 4
}
