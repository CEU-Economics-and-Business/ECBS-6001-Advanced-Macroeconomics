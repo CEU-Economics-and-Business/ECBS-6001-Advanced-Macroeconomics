{
 "cells": [
  {
   "cell_type": "markdown",
   "metadata": {},
   "source": [
    "# Class 10"
   ]
  },
  {
   "cell_type": "code",
   "execution_count": 2,
   "metadata": {},
   "outputs": [],
   "source": [
    "struct MCDP_without_optimization\n",
    "    u::Vector{Real}\n",
    "    β::Real\n",
    "    P::Matrix{Real}\n",
    "end"
   ]
  },
  {
   "cell_type": "code",
   "execution_count": 42,
   "metadata": {},
   "outputs": [
    {
     "data": {
      "text/plain": [
       "MCDP_without_optimization(Real[1.0, 0.3], 0.9958333333333333, Real[0.9 0.1; 0.03 0.97])"
      ]
     },
     "execution_count": 42,
     "metadata": {},
     "output_type": "execute_result"
    }
   ],
   "source": [
    "job_search_problem = MCDP_without_optimization([1.0, 0.3], 1-0.05/12, [0.9 0.1; 0.03 0.97])"
   ]
  },
  {
   "cell_type": "code",
   "execution_count": 6,
   "metadata": {},
   "outputs": [
    {
     "data": {
      "text/plain": [
       "iterate_value_function (generic function with 2 methods)"
      ]
     },
     "execution_count": 6,
     "metadata": {},
     "output_type": "execute_result"
    }
   ],
   "source": [
    "function iterate_value_function(v::Vector{T}, problem::MCDP_without_optimization) where T <: Real\n",
    "    u, β, P = problem.u, problem.β, problem.P\n",
    "    return u .+ β*P*v\n",
    "end"
   ]
  },
  {
   "cell_type": "code",
   "execution_count": 10,
   "metadata": {},
   "outputs": [
    {
     "data": {
      "text/plain": [
       "2-element Vector{Float64}:\n",
       " 1.0\n",
       " 0.3"
      ]
     },
     "execution_count": 10,
     "metadata": {},
     "output_type": "execute_result"
    }
   ],
   "source": [
    "iterate_value_function([0.0, 0.0], job_search_problem)"
   ]
  },
  {
   "cell_type": "code",
   "execution_count": 43,
   "metadata": {},
   "outputs": [
    {
     "data": {
      "text/plain": [
       "2-element Vector{Float64}:\n",
       " 114.63042102531075\n",
       " 109.39188033307501"
      ]
     },
     "execution_count": 43,
     "metadata": {},
     "output_type": "execute_result"
    }
   ],
   "source": [
    "tolerance = 1e-6\n",
    "maxiter = 100000\n",
    "\n",
    "numiter = 1\n",
    "v = zeros(2)\n",
    "for t=1:maxiter\n",
    "    new_v = iterate_value_function(v, job_search_problem)\n",
    "    distance = sum((v .- new_v).^2)\n",
    "    v = new_v\n",
    "    if distance < tolerance \n",
    "        numiter = t\n",
    "        break\n",
    "    end\n",
    "end\n",
    "v"
   ]
  },
  {
   "cell_type": "code",
   "execution_count": 38,
   "metadata": {},
   "outputs": [
    {
     "data": {
      "text/plain": [
       "47311"
      ]
     },
     "execution_count": 38,
     "metadata": {},
     "output_type": "execute_result"
    }
   ],
   "source": [
    "numiter"
   ]
  },
  {
   "cell_type": "code",
   "execution_count": 40,
   "metadata": {},
   "outputs": [
    {
     "data": {
      "text/plain": [
       "solve (generic function with 1 method)"
      ]
     },
     "execution_count": 40,
     "metadata": {},
     "output_type": "execute_result"
    }
   ],
   "source": [
    "using LinearAlgebra: I\n",
    "function solve(problem::MCDP_without_optimization)\n",
    "    return (I - problem.β*problem.P) \\ problem.u\n",
    "end"
   ]
  },
  {
   "cell_type": "code",
   "execution_count": 44,
   "metadata": {},
   "outputs": [
    {
     "data": {
      "text/plain": [
       "2-element Vector{Float64}:\n",
       " 114.79887745556647\n",
       " 109.56033676333075"
      ]
     },
     "execution_count": 44,
     "metadata": {},
     "output_type": "execute_result"
    }
   ],
   "source": [
    "solve(job_search_problem)"
   ]
  },
  {
   "cell_type": "markdown",
   "metadata": {},
   "source": [
    "This is not needed:\n",
    "\n",
    "~struct MCDP_with_discrete_choices\n",
    "    choices::Vector{MCDP_without_optimization}\n",
    "end~"
   ]
  },
  {
   "cell_type": "code",
   "execution_count": 46,
   "metadata": {},
   "outputs": [
    {
     "data": {
      "text/plain": [
       "2-element Vector{MCDP_without_optimization}:\n",
       " MCDP_without_optimization(Real[1.0, 0.3], 0.95, Real[0.9 0.1; 0.01 0.99])\n",
       " MCDP_without_optimization(Real[1.0, 0.1], 0.95, Real[0.9 0.1; 0.3 0.7])"
      ]
     },
     "execution_count": 46,
     "metadata": {},
     "output_type": "execute_result"
    }
   ],
   "source": [
    "low_intensity  = MCDP_without_optimization([1.0, 0.3], 0.95, [0.9 0.1; 0.01 0.99])\n",
    "high_intensity = MCDP_without_optimization([1.0, 0.1], 0.95, [0.9 0.1; 0.3 0.7])\n",
    "endogenous_job_search = [low_intensity, high_intensity]"
   ]
  },
  {
   "cell_type": "code",
   "execution_count": 61,
   "metadata": {},
   "outputs": [
    {
     "data": {
      "text/plain": [
       "argmax_bellman (generic function with 1 method)"
      ]
     },
     "execution_count": 61,
     "metadata": {},
     "output_type": "execute_result"
    }
   ],
   "source": [
    "function argmax_bellman(choices::Vector{MCDP_without_optimization}, v::Vector{T})::Vector{Int32} where T<:Real\n",
    "    N = length(choices)\n",
    "    K = length(choices[1].u)\n",
    "    argmax = zeros(Int32, K)\n",
    "    \n",
    "    for k = 1:K\n",
    "        best_index = 0\n",
    "        best_value = -1e+16\n",
    "        for n = 1:N\n",
    "            candidate_value = choices[n].u + choices[n].β * choices[n].P * v\n",
    "            if candidate_value[k] > best_value\n",
    "                best_index = n\n",
    "                best_value = candidate_value[k]\n",
    "            end\n",
    "        end\n",
    "        argmax[k] = best_index\n",
    "    end\n",
    "    return argmax\n",
    "end"
   ]
  },
  {
   "cell_type": "code",
   "execution_count": 59,
   "metadata": {},
   "outputs": [
    {
     "data": {
      "text/plain": [
       "iterate_value_function (generic function with 3 methods)"
      ]
     },
     "execution_count": 59,
     "metadata": {},
     "output_type": "execute_result"
    }
   ],
   "source": [
    "function iterate_value_function(v::Vector{T}, choices::Vector{MCDP_without_optimization}) where T<:Real\n",
    "    N = length(choices)\n",
    "    K = length(choices[1].u)\n",
    "    \n",
    "    c = argmax_bellman(choices, v)\n",
    "    \n",
    "    new_v = zeros(K)\n",
    "    for k = 1:K\n",
    "        n = c[k]\n",
    "        RHS = choices[n].u + choices[n].β * choices[n].P * v\n",
    "        new_v[k] = RHS[k]\n",
    "    end\n",
    "    return new_v\n",
    "end\n"
   ]
  },
  {
   "cell_type": "code",
   "execution_count": 62,
   "metadata": {},
   "outputs": [
    {
     "data": {
      "text/plain": [
       "2-element Vector{Float64}:\n",
       " 86.5\n",
       " 28.599999999999998"
      ]
     },
     "execution_count": 62,
     "metadata": {},
     "output_type": "execute_result"
    }
   ],
   "source": [
    "iterate_value_function([100.0, 0.0], endogenous_job_search)"
   ]
  },
  {
   "cell_type": "code",
   "execution_count": 63,
   "metadata": {},
   "outputs": [
    {
     "data": {
      "text/plain": [
       "2-element Vector{Float64}:\n",
       " 16.010234453917704\n",
       " 13.917211198103743"
      ]
     },
     "execution_count": 63,
     "metadata": {},
     "output_type": "execute_result"
    }
   ],
   "source": [
    "tolerance = 1e-6\n",
    "maxiter = 100000\n",
    "\n",
    "numiter = 1\n",
    "v = zeros(2)\n",
    "for t=1:maxiter\n",
    "    new_v = iterate_value_function(v, endogenous_job_search)\n",
    "    distance = sum((v .- new_v).^2)\n",
    "    v = new_v\n",
    "    if distance < tolerance \n",
    "        numiter = t\n",
    "        break\n",
    "    end\n",
    "end\n",
    "v"
   ]
  },
  {
   "cell_type": "markdown",
   "metadata": {},
   "source": [
    "# Policy function iteration"
   ]
  },
  {
   "cell_type": "code",
   "execution_count": 84,
   "metadata": {},
   "outputs": [
    {
     "data": {
      "text/plain": [
       "iterate_policy_function (generic function with 1 method)"
      ]
     },
     "execution_count": 84,
     "metadata": {},
     "output_type": "execute_result"
    }
   ],
   "source": [
    "function iterate_policy_function(c::Vector{T}, choices::Vector{MCDP_without_optimization})::Vector{T} where T<:Integer\n",
    "    u = similar(choices[1].u)\n",
    "    P = similar(choices[1].P)\n",
    "    β = choices[1].β\n",
    "    \n",
    "    for k = 1:length(c)\n",
    "        choice = choices[c[k]]\n",
    "        # for each choice c[k], what is the flow utility and the transition probs?\n",
    "        u[k] = choice.u[k]\n",
    "        P[k, :] .= choice.P[k, :]\n",
    "    end\n",
    "    # then solve for the value of this choice\n",
    "    v = solve(MCDP_without_optimization(u, β, P))\n",
    "    return argmax_bellman(choices, v)\n",
    "end"
   ]
  },
  {
   "cell_type": "code",
   "execution_count": 85,
   "metadata": {},
   "outputs": [
    {
     "data": {
      "text/plain": [
       "2-element Vector{Int32}:\n",
       " 1\n",
       " 2"
      ]
     },
     "execution_count": 85,
     "metadata": {},
     "output_type": "execute_result"
    }
   ],
   "source": [
    "iterate_policy_function(ones(Int32, 2), endogenous_job_search)"
   ]
  },
  {
   "cell_type": "code",
   "execution_count": 86,
   "metadata": {},
   "outputs": [
    {
     "data": {
      "text/plain": [
       "2-element Vector{Int32}:\n",
       " 1\n",
       " 2"
      ]
     },
     "execution_count": 86,
     "metadata": {},
     "output_type": "execute_result"
    }
   ],
   "source": [
    "tolerance = 1e-6\n",
    "maxiter = 100000\n",
    "\n",
    "numiter = 1\n",
    "c = ones(Int32, 2)\n",
    "for t=1:maxiter\n",
    "    new_c = iterate_policy_function(c, endogenous_job_search)\n",
    "    distance = sum((c .- new_c).^2)\n",
    "    c = new_c\n",
    "    if distance < tolerance \n",
    "        numiter = t\n",
    "        break\n",
    "    end\n",
    "end\n",
    "c"
   ]
  },
  {
   "cell_type": "code",
   "execution_count": null,
   "metadata": {},
   "outputs": [],
   "source": []
  },
  {
   "cell_type": "code",
   "execution_count": null,
   "metadata": {},
   "outputs": [],
   "source": []
  }
 ],
 "metadata": {
  "kernelspec": {
   "display_name": "Julia 1.6.2",
   "language": "julia",
   "name": "julia-1.6"
  },
  "language_info": {
   "file_extension": ".jl",
   "mimetype": "application/julia",
   "name": "julia",
   "version": "1.6.2"
  }
 },
 "nbformat": 4,
 "nbformat_minor": 4
}
