{
 "cells": [
  {
   "cell_type": "markdown",
   "metadata": {},
   "source": [
    "# Class 10"
   ]
  },
  {
   "cell_type": "code",
   "execution_count": 5,
   "metadata": {},
   "outputs": [],
   "source": [
    "struct MCDP_without_optimization\n",
    "    u::Vector{Real}\n",
    "    β::Real\n",
    "    P::Matrix{Real}\n",
    "end"
   ]
  },
  {
   "cell_type": "code",
   "execution_count": 6,
   "metadata": {},
   "outputs": [
    {
     "data": {
      "text/plain": [
       "MCDP_without_optimization(Real[1.0, 0.3], 0.9958333333333333, Real[0.9 0.1; 0.03 0.97])"
      ]
     },
     "execution_count": 6,
     "metadata": {},
     "output_type": "execute_result"
    }
   ],
   "source": [
    "job_search_problem = MCDP_without_optimization([1.0, 0.3], 1-0.05/12, [0.9 0.1; 0.03 0.97])"
   ]
  },
  {
   "cell_type": "code",
   "execution_count": 7,
   "metadata": {},
   "outputs": [
    {
     "data": {
      "text/plain": [
       "iterate_value_function (generic function with 1 method)"
      ]
     },
     "execution_count": 7,
     "metadata": {},
     "output_type": "execute_result"
    }
   ],
   "source": [
    "function iterate_value_function(v::Vector{T}, problem::MCDP_without_optimization) where T <: Real\n",
    "    u, β, P = problem.u, problem.β, problem.P\n",
    "    return u .+ β*P*v\n",
    "end"
   ]
  },
  {
   "cell_type": "code",
   "execution_count": 8,
   "metadata": {},
   "outputs": [
    {
     "data": {
      "text/plain": [
       "2-element Vector{Float64}:\n",
       " 1.0\n",
       " 0.3"
      ]
     },
     "execution_count": 8,
     "metadata": {},
     "output_type": "execute_result"
    }
   ],
   "source": [
    "iterate_value_function([0.0, 0.0], job_search_problem)"
   ]
  },
  {
   "cell_type": "code",
   "execution_count": 9,
   "metadata": {},
   "outputs": [
    {
     "data": {
      "text/plain": [
       "2-element Vector{Float64}:\n",
       " 114.63042102531075\n",
       " 109.39188033307501"
      ]
     },
     "execution_count": 9,
     "metadata": {},
     "output_type": "execute_result"
    }
   ],
   "source": [
    "tolerance = 1e-6\n",
    "maxiter = 100000\n",
    "\n",
    "numiter = 1\n",
    "v = zeros(2)\n",
    "for t=1:maxiter\n",
    "    new_v = iterate_value_function(v, job_search_problem)\n",
    "    distance = sum((v .- new_v).^2)\n",
    "    v = new_v\n",
    "    if distance < tolerance \n",
    "        numiter = t\n",
    "        break\n",
    "    end\n",
    "end\n",
    "v"
   ]
  },
  {
   "cell_type": "code",
   "execution_count": 10,
   "metadata": {},
   "outputs": [
    {
     "data": {
      "text/plain": [
       "1554"
      ]
     },
     "execution_count": 10,
     "metadata": {},
     "output_type": "execute_result"
    }
   ],
   "source": [
    "numiter"
   ]
  },
  {
   "cell_type": "code",
   "execution_count": 11,
   "metadata": {},
   "outputs": [
    {
     "data": {
      "text/plain": [
       "solve (generic function with 1 method)"
      ]
     },
     "execution_count": 11,
     "metadata": {},
     "output_type": "execute_result"
    }
   ],
   "source": [
    "using LinearAlgebra: I\n",
    "function solve(problem::MCDP_without_optimization)\n",
    "    return (I - problem.β*problem.P) \\ problem.u\n",
    "end"
   ]
  },
  {
   "cell_type": "code",
   "execution_count": 29,
   "metadata": {},
   "outputs": [
    {
     "data": {
      "text/plain": [
       "2-element Vector{Float64}:\n",
       " 1.0\n",
       " 2.0"
      ]
     },
     "execution_count": 29,
     "metadata": {},
     "output_type": "execute_result"
    }
   ],
   "source": [
    "A = [1 0; 0 1]\n",
    "b = [1, 2]\n",
    "A \\ b\n",
    "# solution to Ax = b\n",
    "# iterative solution?"
   ]
  },
  {
   "cell_type": "code",
   "execution_count": 31,
   "metadata": {},
   "outputs": [
    {
     "data": {
      "text/plain": [
       "2-element Vector{Float64}:\n",
       " 1.0000000000000002\n",
       " 2.000000000000001"
      ]
     },
     "execution_count": 31,
     "metadata": {},
     "output_type": "execute_result"
    }
   ],
   "source": [
    "AA = [1 0 1; 0 1 2]\n",
    "x = AA \\ b\n",
    "AA * x\n",
    "# minimize (Ax - b)'(Ax - b)"
   ]
  },
  {
   "cell_type": "code",
   "execution_count": 33,
   "metadata": {},
   "outputs": [
    {
     "data": {
      "text/plain": [
       "3-element Vector{Float64}:\n",
       " 0.6666666666666659\n",
       " 1.3333333333333335\n",
       " 3.333333333333333"
      ]
     },
     "execution_count": 33,
     "metadata": {},
     "output_type": "execute_result"
    }
   ],
   "source": [
    "AAA = [1 0; 0 1; 1 2]\n",
    "bb = [1, 2, 3]\n",
    "x = AAA \\ bb\n",
    "AAA * x\n",
    "# this is only a projection"
   ]
  },
  {
   "cell_type": "code",
   "execution_count": 40,
   "metadata": {},
   "outputs": [
    {
     "data": {
      "text/plain": [
       "1000×1 Matrix{Float64}:\n",
       " 1.0\n",
       " 1.0\n",
       " 1.0\n",
       " 1.0\n",
       " 1.0\n",
       " 1.0\n",
       " 1.0\n",
       " 1.0\n",
       " 1.0\n",
       " 1.0\n",
       " 1.0\n",
       " 1.0\n",
       " 1.0\n",
       " ⋮\n",
       " 1.0\n",
       " 1.0\n",
       " 1.0\n",
       " 1.0\n",
       " 1.0\n",
       " 1.0\n",
       " 1.0\n",
       " 1.0\n",
       " 1.0\n",
       " 1.0\n",
       " 1.0\n",
       " 1.0"
      ]
     },
     "execution_count": 40,
     "metadata": {},
     "output_type": "execute_result"
    }
   ],
   "source": [
    "P_large = Array{Float64}(undef, 1_000, 1_000)\n",
    "fill!(P_large, 1/1000)\n",
    "u = ones(1_000, 1)"
   ]
  },
  {
   "cell_type": "code",
   "execution_count": 43,
   "metadata": {},
   "outputs": [
    {
     "name": "stdout",
     "output_type": "stream",
     "text": [
      "  0.248226 seconds (10 allocations: 23.392 MiB, 56.36% gc time)\n"
     ]
    },
    {
     "data": {
      "text/plain": [
       "1000×1 Matrix{Float64}:\n",
       " 20.00000000000002\n",
       " 20.00000000000003\n",
       " 20.00000000000003\n",
       " 20.00000000000002\n",
       " 20.00000000000002\n",
       " 20.000000000000025\n",
       " 20.00000000000002\n",
       " 20.00000000000002\n",
       " 20.00000000000002\n",
       " 20.000000000000025\n",
       " 20.00000000000003\n",
       " 20.00000000000003\n",
       " 20.00000000000002\n",
       "  ⋮\n",
       " 20.00000000000003\n",
       " 20.000000000000036\n",
       " 20.000000000000036\n",
       " 20.00000000000004\n",
       " 20.00000000000003\n",
       " 20.000000000000043\n",
       " 20.000000000000036\n",
       " 20.000000000000036\n",
       " 20.000000000000036\n",
       " 20.000000000000036\n",
       " 20.000000000000032\n",
       " 20.000000000000032"
      ]
     },
     "execution_count": 43,
     "metadata": {},
     "output_type": "execute_result"
    }
   ],
   "source": [
    "@time inv(I - 0.95*P_large) * u"
   ]
  },
  {
   "cell_type": "code",
   "execution_count": 44,
   "metadata": {},
   "outputs": [
    {
     "name": "stdout",
     "output_type": "stream",
     "text": [
      "  0.083586 seconds (8 allocations: 22.904 MiB)\n"
     ]
    },
    {
     "data": {
      "text/plain": [
       "1000×1 Matrix{Float64}:\n",
       " 20.00000000000003\n",
       " 20.000000000000078\n",
       " 19.999999999999904\n",
       " 20.000000000000043\n",
       " 19.99999999999999\n",
       " 20.00000000000003\n",
       " 20.000000000000007\n",
       " 20.000000000000064\n",
       " 19.999999999999996\n",
       " 20.000000000000046\n",
       " 20.000000000000004\n",
       " 19.999999999999968\n",
       " 19.99999999999998\n",
       "  ⋮\n",
       " 20.00000000000003\n",
       " 20.000000000000032\n",
       " 20.00000000000002\n",
       " 20.000000000000036\n",
       " 20.00000000000001\n",
       " 20.000000000000014\n",
       " 20.000000000000014\n",
       " 20.000000000000025\n",
       " 20.000000000000014\n",
       " 20.000000000000018\n",
       " 20.000000000000018\n",
       " 20.000000000000014"
      ]
     },
     "execution_count": 44,
     "metadata": {},
     "output_type": "execute_result"
    }
   ],
   "source": [
    "@time (I - 0.95*P_large) \\ u"
   ]
  },
  {
   "cell_type": "code",
   "execution_count": 45,
   "metadata": {},
   "outputs": [
    {
     "name": "stdout",
     "output_type": "stream",
     "text": [
      "A = [1 0; 0 1]\n"
     ]
    },
    {
     "data": {
      "text/plain": [
       "2×2 Matrix{Int64}:\n",
       " 1  0\n",
       " 0  1"
      ]
     },
     "execution_count": 45,
     "metadata": {},
     "output_type": "execute_result"
    }
   ],
   "source": [
    "@show A"
   ]
  },
  {
   "cell_type": "code",
   "execution_count": 39,
   "metadata": {},
   "outputs": [
    {
     "data": {
      "text/plain": [
       "2-element Vector{Float64}:\n",
       " 114.79887745556647\n",
       " 109.56033676333075"
      ]
     },
     "execution_count": 39,
     "metadata": {},
     "output_type": "execute_result"
    }
   ],
   "source": [
    "solve(job_search_problem)"
   ]
  },
  {
   "cell_type": "code",
   "execution_count": null,
   "metadata": {},
   "outputs": [],
   "source": []
  },
  {
   "cell_type": "markdown",
   "metadata": {},
   "source": [
    "This is not needed:\n",
    "\n",
    "~struct MCDP_with_discrete_choices\n",
    "    choices::Vector{MCDP_without_optimization}\n",
    "end~"
   ]
  },
  {
   "cell_type": "code",
   "execution_count": 13,
   "metadata": {},
   "outputs": [
    {
     "data": {
      "text/plain": [
       "2-element Vector{MCDP_without_optimization}:\n",
       " MCDP_without_optimization(Real[1.0, 0.3], 0.95, Real[0.9 0.1; 0.01 0.99])\n",
       " MCDP_without_optimization(Real[1.0, 0.1], 0.95, Real[0.9 0.1; 0.3 0.7])"
      ]
     },
     "execution_count": 13,
     "metadata": {},
     "output_type": "execute_result"
    }
   ],
   "source": [
    "low_intensity  = MCDP_without_optimization([1.0, 0.3], 0.95, [0.9 0.1; 0.01 0.99])\n",
    "high_intensity = MCDP_without_optimization([1.0, 0.1], 0.95, [0.9 0.1; 0.3 0.7])\n",
    "endogenous_job_search = [low_intensity, high_intensity]"
   ]
  },
  {
   "cell_type": "code",
   "execution_count": 14,
   "metadata": {},
   "outputs": [
    {
     "data": {
      "text/plain": [
       "argmax_bellman (generic function with 1 method)"
      ]
     },
     "execution_count": 14,
     "metadata": {},
     "output_type": "execute_result"
    }
   ],
   "source": [
    "function argmax_bellman(choices::Vector{MCDP_without_optimization}, v::Vector{T})::Vector{Int32} where T<:Real\n",
    "    N = length(choices)\n",
    "    K = length(choices[1].u)\n",
    "    argmax = zeros(Int32, K)\n",
    "    \n",
    "    for k = 1:K\n",
    "        best_index = 0\n",
    "        best_value = -1e+16\n",
    "        for n = 1:N\n",
    "            candidate_value = choices[n].u + choices[n].β * choices[n].P * v\n",
    "            if candidate_value[k] > best_value\n",
    "                best_index = n\n",
    "                best_value = candidate_value[k]\n",
    "            end\n",
    "        end\n",
    "        argmax[k] = best_index\n",
    "    end\n",
    "    return argmax\n",
    "end"
   ]
  },
  {
   "cell_type": "code",
   "execution_count": 15,
   "metadata": {},
   "outputs": [
    {
     "data": {
      "text/plain": [
       "iterate_value_function (generic function with 2 methods)"
      ]
     },
     "execution_count": 15,
     "metadata": {},
     "output_type": "execute_result"
    }
   ],
   "source": [
    "function iterate_value_function(v::Vector{T}, choices::Vector{MCDP_without_optimization}) where T<:Real\n",
    "    N = length(choices)\n",
    "    K = length(choices[1].u)\n",
    "    \n",
    "    c = argmax_bellman(choices, v)\n",
    "    \n",
    "    new_v = zeros(K)\n",
    "    for k = 1:K\n",
    "        n = c[k]\n",
    "        RHS = choices[n].u + choices[n].β * choices[n].P * v\n",
    "        new_v[k] = RHS[k]\n",
    "    end\n",
    "    return new_v\n",
    "end\n"
   ]
  },
  {
   "cell_type": "code",
   "execution_count": 16,
   "metadata": {},
   "outputs": [
    {
     "data": {
      "text/plain": [
       "2-element Vector{Float64}:\n",
       " 86.5\n",
       " 28.599999999999998"
      ]
     },
     "execution_count": 16,
     "metadata": {},
     "output_type": "execute_result"
    }
   ],
   "source": [
    "iterate_value_function([100.0, 0.0], endogenous_job_search)"
   ]
  },
  {
   "cell_type": "code",
   "execution_count": 17,
   "metadata": {},
   "outputs": [
    {
     "data": {
      "text/plain": [
       "2-element Vector{Float64}:\n",
       " 16.010234453917704\n",
       " 13.917211198103743"
      ]
     },
     "execution_count": 17,
     "metadata": {},
     "output_type": "execute_result"
    }
   ],
   "source": [
    "tolerance = 1e-6\n",
    "maxiter = 100000\n",
    "\n",
    "numiter = 1\n",
    "v = zeros(2)\n",
    "for t=1:maxiter\n",
    "    new_v = iterate_value_function(v, endogenous_job_search)\n",
    "    distance = sum((v .- new_v).^2)\n",
    "    v = new_v\n",
    "    if distance < tolerance \n",
    "        numiter = t\n",
    "        break\n",
    "    end\n",
    "end\n",
    "v"
   ]
  },
  {
   "cell_type": "markdown",
   "metadata": {},
   "source": [
    "# Policy function iteration"
   ]
  },
  {
   "cell_type": "code",
   "execution_count": 18,
   "metadata": {},
   "outputs": [
    {
     "data": {
      "text/plain": [
       "iterate_policy_function (generic function with 1 method)"
      ]
     },
     "execution_count": 18,
     "metadata": {},
     "output_type": "execute_result"
    }
   ],
   "source": [
    "function iterate_policy_function(c::Vector{T}, choices::Vector{MCDP_without_optimization})::Vector{T} where T<:Integer\n",
    "    u = similar(choices[1].u)\n",
    "    P = similar(choices[1].P)\n",
    "    β = choices[1].β\n",
    "    \n",
    "    for k = 1:length(c)\n",
    "        choice = choices[c[k]]\n",
    "        # for each choice c[k], what is the flow utility and the transition probs?\n",
    "        u[k] = choice.u[k]\n",
    "        P[k, :] .= choice.P[k, :]\n",
    "    end\n",
    "    # then solve for the value of this choice\n",
    "    v = solve(MCDP_without_optimization(u, β, P))\n",
    "    return argmax_bellman(choices, v)\n",
    "end"
   ]
  },
  {
   "cell_type": "code",
   "execution_count": 19,
   "metadata": {},
   "outputs": [
    {
     "data": {
      "text/plain": [
       "2-element Vector{Int32}:\n",
       " 1\n",
       " 2"
      ]
     },
     "execution_count": 19,
     "metadata": {},
     "output_type": "execute_result"
    }
   ],
   "source": [
    "iterate_policy_function(ones(Int32, 2), endogenous_job_search)"
   ]
  },
  {
   "cell_type": "code",
   "execution_count": 20,
   "metadata": {},
   "outputs": [
    {
     "data": {
      "text/plain": [
       "2-element Vector{Int32}:\n",
       " 1\n",
       " 2"
      ]
     },
     "execution_count": 20,
     "metadata": {},
     "output_type": "execute_result"
    }
   ],
   "source": [
    "tolerance = 1e-6\n",
    "maxiter = 100000\n",
    "\n",
    "numiter = 1\n",
    "c = ones(Int32, 2)\n",
    "for t=1:maxiter\n",
    "    new_c = iterate_policy_function(c, endogenous_job_search)\n",
    "    distance = sum((c .- new_c).^2)\n",
    "    c = new_c\n",
    "    if distance < tolerance \n",
    "        numiter = t\n",
    "        break\n",
    "    end\n",
    "end\n",
    "c"
   ]
  },
  {
   "cell_type": "code",
   "execution_count": 21,
   "metadata": {},
   "outputs": [
    {
     "data": {
      "text/plain": [
       "\"\""
      ]
     },
     "execution_count": 21,
     "metadata": {},
     "output_type": "execute_result"
    }
   ],
   "source": [
    "A = ones(1_000, 1_000)\n",
    "\"\""
   ]
  },
  {
   "cell_type": "code",
   "execution_count": 22,
   "metadata": {},
   "outputs": [
    {
     "data": {
      "text/plain": [
       "\"\""
      ]
     },
     "execution_count": 22,
     "metadata": {},
     "output_type": "execute_result"
    }
   ],
   "source": [
    "B = similar(A)\n",
    "\"\""
   ]
  },
  {
   "cell_type": "code",
   "execution_count": 23,
   "metadata": {},
   "outputs": [
    {
     "data": {
      "text/plain": [
       "\"\""
      ]
     },
     "execution_count": 23,
     "metadata": {},
     "output_type": "execute_result"
    }
   ],
   "source": [
    "C = zeros(size(A))\n",
    "\"\""
   ]
  },
  {
   "cell_type": "code",
   "execution_count": 26,
   "metadata": {},
   "outputs": [
    {
     "data": {
      "text/plain": [
       "2×2 Matrix{Float64}:\n",
       " 1.43e-322  2.18523e-314\n",
       " 3.0e-323   2.18523e-314"
      ]
     },
     "execution_count": 26,
     "metadata": {},
     "output_type": "execute_result"
    }
   ],
   "source": [
    "D = Array{Float64}(undef, 2,2)"
   ]
  },
  {
   "cell_type": "code",
   "execution_count": null,
   "metadata": {},
   "outputs": [],
   "source": []
  }
 ],
 "metadata": {
  "kernelspec": {
   "display_name": "Julia 1.6.2",
   "language": "julia",
   "name": "julia-1.6"
  },
  "language_info": {
   "file_extension": ".jl",
   "mimetype": "application/julia",
   "name": "julia",
   "version": "1.6.2"
  }
 },
 "nbformat": 4,
 "nbformat_minor": 4
}
