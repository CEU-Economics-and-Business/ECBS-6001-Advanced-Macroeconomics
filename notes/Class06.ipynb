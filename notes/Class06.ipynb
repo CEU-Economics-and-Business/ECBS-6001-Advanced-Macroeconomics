{
 "cells": [
  {
   "cell_type": "code",
   "execution_count": 2,
   "metadata": {},
   "outputs": [
    {
     "name": "stdout",
     "output_type": "stream",
     "text": [
      "How come 2+2 is not 4?\n"
     ]
    }
   ],
   "source": [
    "# short circuit evaluation\n",
    "(2 + 2 == 5) || println(\"How come 2+2 is not 4?\")"
   ]
  },
  {
   "cell_type": "code",
   "execution_count": 4,
   "metadata": {},
   "outputs": [
    {
     "name": "stdout",
     "output_type": "stream",
     "text": [
      "How come...\n"
     ]
    }
   ],
   "source": [
    "if !(2 + 2 == 5)\n",
    "    println(\"How come...\")\n",
    "end"
   ]
  },
  {
   "cell_type": "code",
   "execution_count": 7,
   "metadata": {},
   "outputs": [
    {
     "name": "stdout",
     "output_type": "stream",
     "text": [
      "How come..\n"
     ]
    }
   ],
   "source": [
    "(2 + 3 > 4) && println(\"How come...\")"
   ]
  },
  {
   "cell_type": "code",
   "execution_count": 8,
   "metadata": {},
   "outputs": [
    {
     "name": "stdout",
     "output_type": "stream",
     "text": [
      "Hoe come...\n"
     ]
    }
   ],
   "source": [
    "if (2 + 3 > 4) \n",
    "    println(\"How come...\")\n",
    "end"
   ]
  },
  {
   "cell_type": "markdown",
   "metadata": {},
   "source": [
    "Eigenvalues of P\n",
    "$$\n",
    " (\\mathbf I - \\lambda_i \\mathbf P')\\mathbf v_i = \\mathbf 0\n",
    "$$\n",
    "\n",
    "> There is always $\\lambda_1 = 1$.\n",
    ">\n",
    "> ?This is the largest e.v.\n",
    ">\n",
    "> ?All e.v. are real?\n",
    ">\n",
    "> See here: https://en.wikipedia.org/wiki/Stochastic_matrix\n",
    "\n",
    "$$\n",
    "\\exists \\mathbf v_1: (\\mathbf I - \\mathbf P')\\mathbf v_1  = \\mathbf 0\n",
    "$$\n",
    "$\\iff$ $(\\mathbf I - \\mathbf P')$ is not invertible $\\leftarrow$ $\\mathbf P\\mathbf 1 = \\mathbf 1$\n",
    "\n",
    "The role of e.v.s\n",
    "$$\n",
    "\\mathbf P' = \\mathbf Q\\Lambda \\mathbf Q^{-1}\n",
    "$$\n",
    "so that our forecast eq\n",
    "$$\n",
    "\\mathbf Q^{-1}\\pi_{t+1} = \\Lambda\\mathbf Q^{-1}\\pi_t\n",
    "$$\n"
   ]
  },
  {
   "cell_type": "code",
   "execution_count": 9,
   "metadata": {},
   "outputs": [
    {
     "data": {
      "text/plain": [
       "2×2 Matrix{Float64}:\n",
       " 0.7  0.3\n",
       " 0.1  0.9"
      ]
     },
     "execution_count": 9,
     "metadata": {},
     "output_type": "execute_result"
    }
   ],
   "source": [
    "P = [0.7 0.3; 0.1 0.9]"
   ]
  },
  {
   "cell_type": "code",
   "execution_count": 10,
   "metadata": {},
   "outputs": [
    {
     "data": {
      "text/plain": [
       "2×2 Matrix{Float64}:\n",
       "  1.5       -0.5\n",
       " -0.166667   1.16667"
      ]
     },
     "execution_count": 10,
     "metadata": {},
     "output_type": "execute_result"
    }
   ],
   "source": [
    "inv(P)"
   ]
  },
  {
   "cell_type": "code",
   "execution_count": 11,
   "metadata": {},
   "outputs": [
    {
     "data": {
      "text/plain": [
       "2-element Vector{Float64}:\n",
       " 1.0\n",
       " 2.0"
      ]
     },
     "execution_count": 11,
     "metadata": {},
     "output_type": "execute_result"
    }
   ],
   "source": [
    "# aside, do not invert matrices unless absolutely necessary\n",
    "A = P\n",
    "b = [1.0, 2.0]\n",
    "# Ax = b"
   ]
  },
  {
   "cell_type": "code",
   "execution_count": 14,
   "metadata": {},
   "outputs": [
    {
     "data": {
      "text/plain": [
       "2-element Vector{Float64}:\n",
       " 0.5000000000000002\n",
       " 2.1666666666666665"
      ]
     },
     "execution_count": 14,
     "metadata": {},
     "output_type": "execute_result"
    }
   ],
   "source": [
    "x = inv(A) * b"
   ]
  },
  {
   "cell_type": "code",
   "execution_count": 15,
   "metadata": {},
   "outputs": [
    {
     "data": {
      "text/plain": [
       "2-element Vector{Float64}:\n",
       " 0.5000000000000001\n",
       " 2.1666666666666665"
      ]
     },
     "execution_count": 15,
     "metadata": {},
     "output_type": "execute_result"
    }
   ],
   "source": [
    "# more julianic\n",
    "x = A \\ b"
   ]
  },
  {
   "cell_type": "code",
   "execution_count": 18,
   "metadata": {},
   "outputs": [],
   "source": [
    "using LinearAlgebra: I"
   ]
  },
  {
   "cell_type": "code",
   "execution_count": 31,
   "metadata": {},
   "outputs": [
    {
     "data": {
      "text/plain": [
       "2×2 adjoint(::Matrix{Float64}) with eltype Float64:\n",
       " -2.40192e16  -2.40192e16\n",
       " -7.20576e16  -7.20576e16"
      ]
     },
     "execution_count": 31,
     "metadata": {},
     "output_type": "execute_result"
    }
   ],
   "source": [
    "inv(I - P')\n",
    "# why no error?"
   ]
  },
  {
   "cell_type": "code",
   "execution_count": 21,
   "metadata": {},
   "outputs": [
    {
     "data": {
      "text/plain": [
       "2×2 Matrix{Float64}:\n",
       " 1.4  0.6\n",
       " 0.2  1.8"
      ]
     },
     "execution_count": 21,
     "metadata": {},
     "output_type": "execute_result"
    }
   ],
   "source": [
    "A + P"
   ]
  },
  {
   "cell_type": "code",
   "execution_count": 22,
   "metadata": {},
   "outputs": [
    {
     "data": {
      "text/plain": [
       "2×2 Matrix{Float64}:\n",
       " 0.0  0.0\n",
       " 0.0  0.0"
      ]
     },
     "execution_count": 22,
     "metadata": {},
     "output_type": "execute_result"
    }
   ],
   "source": [
    "A - P"
   ]
  },
  {
   "cell_type": "code",
   "execution_count": 23,
   "metadata": {},
   "outputs": [
    {
     "ename": "LoadError",
     "evalue": "DimensionMismatch(\"dimensions must match: a has dims (Base.OneTo(2), Base.OneTo(2)), must have singleton at dim 2\")",
     "output_type": "error",
     "traceback": [
      "DimensionMismatch(\"dimensions must match: a has dims (Base.OneTo(2), Base.OneTo(2)), must have singleton at dim 2\")",
      "",
      "Stacktrace:",
      " [1] promote_shape",
      "   @ ./indices.jl:183 [inlined]",
      " [2] promote_shape(a::Matrix{Float64}, b::Vector{Float64})",
      "   @ Base ./indices.jl:169",
      " [3] +(A::Matrix{Float64}, Bs::Vector{Float64})",
      "   @ Base ./arraymath.jl:45",
      " [4] top-level scope",
      "   @ In[23]:1",
      " [5] eval",
      "   @ ./boot.jl:360 [inlined]",
      " [6] include_string(mapexpr::typeof(REPL.softscope), mod::Module, code::String, filename::String)",
      "   @ Base ./loading.jl:1116"
     ]
    }
   ],
   "source": [
    "A + b"
   ]
  },
  {
   "cell_type": "code",
   "execution_count": 24,
   "metadata": {},
   "outputs": [
    {
     "data": {
      "text/plain": [
       "2×2 Matrix{Float64}:\n",
       " 1.7  1.3\n",
       " 2.1  2.9"
      ]
     },
     "execution_count": 24,
     "metadata": {},
     "output_type": "execute_result"
    }
   ],
   "source": [
    "A .+ b"
   ]
  },
  {
   "cell_type": "code",
   "execution_count": 26,
   "metadata": {},
   "outputs": [
    {
     "data": {
      "text/plain": [
       "UniformScaling{Bool}\n",
       "true*I"
      ]
     },
     "execution_count": 26,
     "metadata": {},
     "output_type": "execute_result"
    }
   ],
   "source": [
    "I"
   ]
  },
  {
   "cell_type": "code",
   "execution_count": 29,
   "metadata": {},
   "outputs": [
    {
     "data": {
      "text/plain": [
       "2×2 Matrix{Float64}:\n",
       " 1.0  0.0\n",
       " 0.0  1.0"
      ]
     },
     "execution_count": 29,
     "metadata": {},
     "output_type": "execute_result"
    }
   ],
   "source": [
    "zeros(2, 2) + I"
   ]
  },
  {
   "cell_type": "code",
   "execution_count": 43,
   "metadata": {},
   "outputs": [
    {
     "data": {
      "text/plain": [
       "true"
      ]
     },
     "execution_count": 43,
     "metadata": {},
     "output_type": "execute_result"
    }
   ],
   "source": [
    "0.9999999999999999999999999 ≈ 1.0\n",
    "# set tolerance?"
   ]
  },
  {
   "cell_type": "code",
   "execution_count": 44,
   "metadata": {},
   "outputs": [
    {
     "data": {
      "text/plain": [
       "Eigen{Float64, Float64, Matrix{Float64}, Vector{Float64}}\n",
       "values:\n",
       "2-element Vector{Float64}:\n",
       " 0.0\n",
       " 0.4\n",
       "vectors:\n",
       "2×2 Matrix{Float64}:\n",
       " 0.707107   0.948683\n",
       " 0.707107  -0.316228"
      ]
     },
     "execution_count": 44,
     "metadata": {},
     "output_type": "execute_result"
    }
   ],
   "source": [
    "eigen(I - P)"
   ]
  },
  {
   "cell_type": "code",
   "execution_count": 45,
   "metadata": {},
   "outputs": [
    {
     "data": {
      "text/plain": [
       "2×2 Matrix{Float64}:\n",
       "  0.3  -0.3\n",
       " -0.1   0.1"
      ]
     },
     "execution_count": 45,
     "metadata": {},
     "output_type": "execute_result"
    }
   ],
   "source": [
    "I - P"
   ]
  },
  {
   "cell_type": "code",
   "execution_count": 46,
   "metadata": {},
   "outputs": [
    {
     "data": {
      "text/plain": [
       "Eigen{Float64, Float64, Matrix{Float64}, Vector{Float64}}\n",
       "values:\n",
       "2-element Vector{Float64}:\n",
       " 0.6\n",
       " 1.0\n",
       "vectors:\n",
       "2×2 Matrix{Float64}:\n",
       " -0.707107  -0.316228\n",
       "  0.707107  -0.948683"
      ]
     },
     "execution_count": 46,
     "metadata": {},
     "output_type": "execute_result"
    }
   ],
   "source": [
    "eigen(P')"
   ]
  },
  {
   "cell_type": "markdown",
   "metadata": {},
   "source": [
    "### The steady state of a 2x2 Markov chain\n",
    "$$\n",
    "\\mathbf P =\n",
    "\\begin{bmatrix}\n",
    "1 - a & a \\\\\n",
    "b & 1-b\n",
    "\\end{bmatrix}\n",
    "$$\n",
    "$$\n",
    "\\mathbf P - \\mathbf I=\n",
    "\\begin{bmatrix}\n",
    " - a & a \\\\\n",
    "b & -b\n",
    "\\end{bmatrix}\n",
    "$$\n",
    "\n",
    "$$\n",
    "\\begin{pmatrix}\n",
    "\\pi_{*1} &\n",
    "1- \\pi_{*1}\n",
    "\\end{pmatrix}\n",
    "\\begin{bmatrix}\n",
    " - a & a \\\\\n",
    "b & -b\n",
    "\\end{bmatrix}\n",
    "=\n",
    "\\begin{pmatrix}\n",
    "0 &\n",
    "0\n",
    "\\end{pmatrix}\n",
    "$$\n",
    "$$\n",
    "\\pi_{*1}(-a) +\n",
    "(1-\\pi_{*1})b = 0\n",
    "$$\n",
    "$$\n",
    "\\pi_{*1}a =\n",
    "(1-\\pi_{*1})b\n",
    "$$\n",
    "$$\n",
    "\\frac{\\pi_{*1}}\n",
    "{1-\\pi_{*1}} =\n",
    "\\frac ba\n",
    "$$\n"
   ]
  },
  {
   "cell_type": "code",
   "execution_count": 47,
   "metadata": {},
   "outputs": [
    {
     "data": {
      "text/plain": [
       "forecast_markov_chain (generic function with 1 method)"
      ]
     },
     "execution_count": 47,
     "metadata": {},
     "output_type": "execute_result"
    }
   ],
   "source": [
    "struct MarkovChain\n",
    "    P::Array{Float64, 2}\n",
    "    π0::Vector{Float64}\n",
    "    \n",
    "    # check values of newly created MarkovChain objects\n",
    "    function MarkovChain(P::Array{Float64, 2}, π0::Vector{Float64})\n",
    "        # note the use of short-circuit \"or\" and \"and\" operators to catch error cases\n",
    "        size(P, 1) == size(P, 2) || error(\"P is not square\")\n",
    "        size(π0, 1) == size(P, 2) || error(\"P is not the same size as π0\")\n",
    "        all((π0 .>= 0) .& (π0 .<= 1)) || error(\"π0 is not in [0,1]\")\n",
    "        all((P .>= 0) .& (P .<= 1)) || error(\"P is not in [0,1]\")\n",
    "        sum(π0) == 1.0 || error(\"π0 does not sum to 1\")\n",
    "        all(sum(P, dims=2) .== 1.0) || error(\"Ps rows do not sum to 1\")\n",
    "\n",
    "        # if all is good, return a new object\n",
    "        return new(P, π0)\n",
    "    end\n",
    "end\n",
    "function forecast_markov_chain(mc::MarkovChain, T::Integer)::Array{Float64, 2}\n",
    "    πprev = mc.π0\n",
    "    output = zeros(length(mc.π0), T)\n",
    "    for t = 1:T\n",
    "        π = mc.P' * πprev\n",
    "        # elementwise assignment is memory efficient\n",
    "        output[:, t] .= π\n",
    "        πprev = π\n",
    "    end\n",
    "    return output\n",
    "    # show examples of Julia code\n",
    "end"
   ]
  },
  {
   "cell_type": "code",
   "execution_count": 48,
   "metadata": {},
   "outputs": [
    {
     "data": {
      "text/plain": [
       "MarkovChain([0.97 0.03; 0.01 0.99], [1.0, 0.0])"
      ]
     },
     "execution_count": 48,
     "metadata": {},
     "output_type": "execute_result"
    }
   ],
   "source": [
    "slow_mc = MarkovChain([0.97 0.03; 0.01 0.99], [1.0, 0.0])"
   ]
  },
  {
   "cell_type": "code",
   "execution_count": 77,
   "metadata": {},
   "outputs": [
    {
     "data": {
      "text/plain": [
       "2×30 Matrix{Float64}:\n",
       " 0.97  0.9412  0.913552  0.88701  0.86153  …  0.489142  0.479576  0.470393\n",
       " 0.03  0.0588  0.086448  0.11299  0.13847     0.510858  0.520424  0.529607"
      ]
     },
     "execution_count": 77,
     "metadata": {},
     "output_type": "execute_result"
    }
   ],
   "source": [
    "z = forecast_markov_chain(slow_mc, 30)"
   ]
  },
  {
   "cell_type": "code",
   "execution_count": 78,
   "metadata": {},
   "outputs": [
    {
     "data": {
      "image/svg+xml": [
       "<?xml version=\"1.0\" encoding=\"utf-8\"?>\n",
       "<svg xmlns=\"http://www.w3.org/2000/svg\" xmlns:xlink=\"http://www.w3.org/1999/xlink\" width=\"600\" height=\"400\" viewBox=\"0 0 2400 1600\">\n",
       "<defs>\n",
       "  <clipPath id=\"clip880\">\n",
       "    <rect x=\"0\" y=\"0\" width=\"2400\" height=\"1600\"/>\n",
       "  </clipPath>\n",
       "</defs>\n",
       "<path clip-path=\"url(#clip880)\" d=\"\n",
       "M0 1600 L2400 1600 L2400 0 L0 0  Z\n",
       "  \" fill=\"#ffffff\" fill-rule=\"evenodd\" fill-opacity=\"1\"/>\n",
       "<defs>\n",
       "  <clipPath id=\"clip881\">\n",
       "    <rect x=\"480\" y=\"0\" width=\"1681\" height=\"1600\"/>\n",
       "  </clipPath>\n",
       "</defs>\n",
       "<path clip-path=\"url(#clip880)\" d=\"\n",
       "M156.598 1486.45 L2352.76 1486.45 L2352.76 47.2441 L156.598 47.2441  Z\n",
       "  \" fill=\"#ffffff\" fill-rule=\"evenodd\" fill-opacity=\"1\"/>\n",
       "<defs>\n",
       "  <clipPath id=\"clip882\">\n",
       "    <rect x=\"156\" y=\"47\" width=\"2197\" height=\"1440\"/>\n",
       "  </clipPath>\n",
       "</defs>\n",
       "<polyline clip-path=\"url(#clip882)\" style=\"stroke:#000000; stroke-linecap:butt; stroke-linejoin:round; stroke-width:2; stroke-opacity:0.1; fill:none\" points=\"\n",
       "  504.526,1486.45 504.526,47.2441 \n",
       "  \"/>\n",
       "<polyline clip-path=\"url(#clip882)\" style=\"stroke:#000000; stroke-linecap:butt; stroke-linejoin:round; stroke-width:2; stroke-opacity:0.1; fill:none\" points=\"\n",
       "  861.741,1486.45 861.741,47.2441 \n",
       "  \"/>\n",
       "<polyline clip-path=\"url(#clip882)\" style=\"stroke:#000000; stroke-linecap:butt; stroke-linejoin:round; stroke-width:2; stroke-opacity:0.1; fill:none\" points=\"\n",
       "  1218.96,1486.45 1218.96,47.2441 \n",
       "  \"/>\n",
       "<polyline clip-path=\"url(#clip882)\" style=\"stroke:#000000; stroke-linecap:butt; stroke-linejoin:round; stroke-width:2; stroke-opacity:0.1; fill:none\" points=\"\n",
       "  1576.17,1486.45 1576.17,47.2441 \n",
       "  \"/>\n",
       "<polyline clip-path=\"url(#clip882)\" style=\"stroke:#000000; stroke-linecap:butt; stroke-linejoin:round; stroke-width:2; stroke-opacity:0.1; fill:none\" points=\"\n",
       "  1933.39,1486.45 1933.39,47.2441 \n",
       "  \"/>\n",
       "<polyline clip-path=\"url(#clip882)\" style=\"stroke:#000000; stroke-linecap:butt; stroke-linejoin:round; stroke-width:2; stroke-opacity:0.1; fill:none\" points=\"\n",
       "  2290.6,1486.45 2290.6,47.2441 \n",
       "  \"/>\n",
       "<polyline clip-path=\"url(#clip880)\" style=\"stroke:#000000; stroke-linecap:butt; stroke-linejoin:round; stroke-width:4; stroke-opacity:1; fill:none\" points=\"\n",
       "  156.598,1486.45 2352.76,1486.45 \n",
       "  \"/>\n",
       "<polyline clip-path=\"url(#clip880)\" style=\"stroke:#000000; stroke-linecap:butt; stroke-linejoin:round; stroke-width:4; stroke-opacity:1; fill:none\" points=\"\n",
       "  504.526,1486.45 504.526,1467.55 \n",
       "  \"/>\n",
       "<polyline clip-path=\"url(#clip880)\" style=\"stroke:#000000; stroke-linecap:butt; stroke-linejoin:round; stroke-width:4; stroke-opacity:1; fill:none\" points=\"\n",
       "  861.741,1486.45 861.741,1467.55 \n",
       "  \"/>\n",
       "<polyline clip-path=\"url(#clip880)\" style=\"stroke:#000000; stroke-linecap:butt; stroke-linejoin:round; stroke-width:4; stroke-opacity:1; fill:none\" points=\"\n",
       "  1218.96,1486.45 1218.96,1467.55 \n",
       "  \"/>\n",
       "<polyline clip-path=\"url(#clip880)\" style=\"stroke:#000000; stroke-linecap:butt; stroke-linejoin:round; stroke-width:4; stroke-opacity:1; fill:none\" points=\"\n",
       "  1576.17,1486.45 1576.17,1467.55 \n",
       "  \"/>\n",
       "<polyline clip-path=\"url(#clip880)\" style=\"stroke:#000000; stroke-linecap:butt; stroke-linejoin:round; stroke-width:4; stroke-opacity:1; fill:none\" points=\"\n",
       "  1933.39,1486.45 1933.39,1467.55 \n",
       "  \"/>\n",
       "<polyline clip-path=\"url(#clip880)\" style=\"stroke:#000000; stroke-linecap:butt; stroke-linejoin:round; stroke-width:4; stroke-opacity:1; fill:none\" points=\"\n",
       "  2290.6,1486.45 2290.6,1467.55 \n",
       "  \"/>\n",
       "<path clip-path=\"url(#clip880)\" d=\"M494.803 1512.56 L513.16 1512.56 L513.16 1516.5 L499.086 1516.5 L499.086 1524.97 Q500.104 1524.62 501.123 1524.46 Q502.141 1524.27 503.16 1524.27 Q508.947 1524.27 512.327 1527.44 Q515.706 1530.62 515.706 1536.03 Q515.706 1541.61 512.234 1544.71 Q508.762 1547.79 502.442 1547.79 Q500.266 1547.79 497.998 1547.42 Q495.753 1547.05 493.345 1546.31 L493.345 1541.61 Q495.428 1542.74 497.651 1543.3 Q499.873 1543.86 502.35 1543.86 Q506.354 1543.86 508.692 1541.75 Q511.03 1539.64 511.03 1536.03 Q511.03 1532.42 508.692 1530.31 Q506.354 1528.21 502.35 1528.21 Q500.475 1528.21 498.6 1528.62 Q496.748 1529.04 494.803 1529.92 L494.803 1512.56 Z\" fill=\"#000000\" fill-rule=\"evenodd\" fill-opacity=\"1\" /><path clip-path=\"url(#clip880)\" d=\"M836.428 1543.18 L844.067 1543.18 L844.067 1516.82 L835.757 1518.49 L835.757 1514.23 L844.021 1512.56 L848.697 1512.56 L848.697 1543.18 L856.336 1543.18 L856.336 1547.12 L836.428 1547.12 L836.428 1543.18 Z\" fill=\"#000000\" fill-rule=\"evenodd\" fill-opacity=\"1\" /><path clip-path=\"url(#clip880)\" d=\"M875.78 1515.64 Q872.169 1515.64 870.34 1519.2 Q868.535 1522.75 868.535 1529.87 Q868.535 1536.98 870.34 1540.55 Q872.169 1544.09 875.78 1544.09 Q879.414 1544.09 881.22 1540.55 Q883.048 1536.98 883.048 1529.87 Q883.048 1522.75 881.22 1519.2 Q879.414 1515.64 875.78 1515.64 M875.78 1511.93 Q881.59 1511.93 884.646 1516.54 Q887.724 1521.12 887.724 1529.87 Q887.724 1538.6 884.646 1543.21 Q881.59 1547.79 875.78 1547.79 Q869.97 1547.79 866.891 1543.21 Q863.835 1538.6 863.835 1529.87 Q863.835 1521.12 866.891 1516.54 Q869.97 1511.93 875.78 1511.93 Z\" fill=\"#000000\" fill-rule=\"evenodd\" fill-opacity=\"1\" /><path clip-path=\"url(#clip880)\" d=\"M1194.14 1543.18 L1201.78 1543.18 L1201.78 1516.82 L1193.47 1518.49 L1193.47 1514.23 L1201.73 1512.56 L1206.41 1512.56 L1206.41 1543.18 L1214.05 1543.18 L1214.05 1547.12 L1194.14 1547.12 L1194.14 1543.18 Z\" fill=\"#000000\" fill-rule=\"evenodd\" fill-opacity=\"1\" /><path clip-path=\"url(#clip880)\" d=\"M1223.54 1512.56 L1241.9 1512.56 L1241.9 1516.5 L1227.82 1516.5 L1227.82 1524.97 Q1228.84 1524.62 1229.86 1524.46 Q1230.88 1524.27 1231.9 1524.27 Q1237.68 1524.27 1241.06 1527.44 Q1244.44 1530.62 1244.44 1536.03 Q1244.44 1541.61 1240.97 1544.71 Q1237.5 1547.79 1231.18 1547.79 Q1229 1547.79 1226.73 1547.42 Q1224.49 1547.05 1222.08 1546.31 L1222.08 1541.61 Q1224.16 1542.74 1226.39 1543.3 Q1228.61 1543.86 1231.09 1543.86 Q1235.09 1543.86 1237.43 1541.75 Q1239.77 1539.64 1239.77 1536.03 Q1239.77 1532.42 1237.43 1530.31 Q1235.09 1528.21 1231.09 1528.21 Q1229.21 1528.21 1227.34 1528.62 Q1225.48 1529.04 1223.54 1529.92 L1223.54 1512.56 Z\" fill=\"#000000\" fill-rule=\"evenodd\" fill-opacity=\"1\" /><path clip-path=\"url(#clip880)\" d=\"M1554.94 1543.18 L1571.26 1543.18 L1571.26 1547.12 L1549.32 1547.12 L1549.32 1543.18 Q1551.98 1540.43 1556.56 1535.8 Q1561.17 1531.15 1562.35 1529.81 Q1564.6 1527.28 1565.48 1525.55 Q1566.38 1523.79 1566.38 1522.1 Q1566.38 1519.34 1564.43 1517.61 Q1562.51 1515.87 1559.41 1515.87 Q1557.21 1515.87 1554.76 1516.63 Q1552.33 1517.4 1549.55 1518.95 L1549.55 1514.23 Q1552.37 1513.09 1554.83 1512.51 Q1557.28 1511.93 1559.32 1511.93 Q1564.69 1511.93 1567.88 1514.62 Q1571.08 1517.31 1571.08 1521.8 Q1571.08 1523.93 1570.27 1525.85 Q1569.48 1527.74 1567.37 1530.34 Q1566.8 1531.01 1563.69 1534.23 Q1560.59 1537.42 1554.94 1543.18 Z\" fill=\"#000000\" fill-rule=\"evenodd\" fill-opacity=\"1\" /><path clip-path=\"url(#clip880)\" d=\"M1591.08 1515.64 Q1587.47 1515.64 1585.64 1519.2 Q1583.83 1522.75 1583.83 1529.87 Q1583.83 1536.98 1585.64 1540.55 Q1587.47 1544.09 1591.08 1544.09 Q1594.71 1544.09 1596.52 1540.55 Q1598.35 1536.98 1598.35 1529.87 Q1598.35 1522.75 1596.52 1519.2 Q1594.71 1515.64 1591.08 1515.64 M1591.08 1511.93 Q1596.89 1511.93 1599.94 1516.54 Q1603.02 1521.12 1603.02 1529.87 Q1603.02 1538.6 1599.94 1543.21 Q1596.89 1547.79 1591.08 1547.79 Q1585.27 1547.79 1582.19 1543.21 Q1579.13 1538.6 1579.13 1529.87 Q1579.13 1521.12 1582.19 1516.54 Q1585.27 1511.93 1591.08 1511.93 Z\" fill=\"#000000\" fill-rule=\"evenodd\" fill-opacity=\"1\" /><path clip-path=\"url(#clip880)\" d=\"M1912.66 1543.18 L1928.98 1543.18 L1928.98 1547.12 L1907.03 1547.12 L1907.03 1543.18 Q1909.69 1540.43 1914.28 1535.8 Q1918.88 1531.15 1920.06 1529.81 Q1922.31 1527.28 1923.19 1525.55 Q1924.09 1523.79 1924.09 1522.1 Q1924.09 1519.34 1922.15 1517.61 Q1920.23 1515.87 1917.12 1515.87 Q1914.92 1515.87 1912.47 1516.63 Q1910.04 1517.4 1907.26 1518.95 L1907.26 1514.23 Q1910.09 1513.09 1912.54 1512.51 Q1914.99 1511.93 1917.03 1511.93 Q1922.4 1511.93 1925.6 1514.62 Q1928.79 1517.31 1928.79 1521.8 Q1928.79 1523.93 1927.98 1525.85 Q1927.19 1527.74 1925.09 1530.34 Q1924.51 1531.01 1921.41 1534.23 Q1918.3 1537.42 1912.66 1543.18 Z\" fill=\"#000000\" fill-rule=\"evenodd\" fill-opacity=\"1\" /><path clip-path=\"url(#clip880)\" d=\"M1938.84 1512.56 L1957.19 1512.56 L1957.19 1516.5 L1943.12 1516.5 L1943.12 1524.97 Q1944.14 1524.62 1945.16 1524.46 Q1946.17 1524.27 1947.19 1524.27 Q1952.98 1524.27 1956.36 1527.44 Q1959.74 1530.62 1959.74 1536.03 Q1959.74 1541.61 1956.27 1544.71 Q1952.8 1547.79 1946.48 1547.79 Q1944.3 1547.79 1942.03 1547.42 Q1939.79 1547.05 1937.38 1546.31 L1937.38 1541.61 Q1939.46 1542.74 1941.68 1543.3 Q1943.91 1543.86 1946.38 1543.86 Q1950.39 1543.86 1952.73 1541.75 Q1955.06 1539.64 1955.06 1536.03 Q1955.06 1532.42 1952.73 1530.31 Q1950.39 1528.21 1946.38 1528.21 Q1944.51 1528.21 1942.63 1528.62 Q1940.78 1529.04 1938.84 1529.92 L1938.84 1512.56 Z\" fill=\"#000000\" fill-rule=\"evenodd\" fill-opacity=\"1\" /><path clip-path=\"url(#clip880)\" d=\"M2279.44 1528.49 Q2282.8 1529.2 2284.67 1531.47 Q2286.57 1533.74 2286.57 1537.07 Q2286.57 1542.19 2283.05 1544.99 Q2279.54 1547.79 2273.05 1547.79 Q2270.88 1547.79 2268.56 1547.35 Q2266.27 1546.93 2263.82 1546.08 L2263.82 1541.56 Q2265.76 1542.7 2268.08 1543.28 Q2270.39 1543.86 2272.92 1543.86 Q2277.31 1543.86 2279.61 1542.12 Q2281.92 1540.38 2281.92 1537.07 Q2281.92 1534.02 2279.77 1532.31 Q2277.64 1530.57 2273.82 1530.57 L2269.79 1530.57 L2269.79 1526.73 L2274 1526.73 Q2277.45 1526.73 2279.28 1525.36 Q2281.11 1523.97 2281.11 1521.38 Q2281.11 1518.72 2279.21 1517.31 Q2277.34 1515.87 2273.82 1515.87 Q2271.9 1515.87 2269.7 1516.29 Q2267.5 1516.7 2264.86 1517.58 L2264.86 1513.42 Q2267.52 1512.68 2269.84 1512.31 Q2272.17 1511.93 2274.23 1511.93 Q2279.56 1511.93 2282.66 1514.37 Q2285.76 1516.77 2285.76 1520.89 Q2285.76 1523.76 2284.12 1525.75 Q2282.48 1527.72 2279.44 1528.49 Z\" fill=\"#000000\" fill-rule=\"evenodd\" fill-opacity=\"1\" /><path clip-path=\"url(#clip880)\" d=\"M2305.44 1515.64 Q2301.83 1515.64 2300 1519.2 Q2298.19 1522.75 2298.19 1529.87 Q2298.19 1536.98 2300 1540.55 Q2301.83 1544.09 2305.44 1544.09 Q2309.07 1544.09 2310.88 1540.55 Q2312.71 1536.98 2312.71 1529.87 Q2312.71 1522.75 2310.88 1519.2 Q2309.07 1515.64 2305.44 1515.64 M2305.44 1511.93 Q2311.25 1511.93 2314.3 1516.54 Q2317.38 1521.12 2317.38 1529.87 Q2317.38 1538.6 2314.3 1543.21 Q2311.25 1547.79 2305.44 1547.79 Q2299.63 1547.79 2296.55 1543.21 Q2293.49 1538.6 2293.49 1529.87 Q2293.49 1521.12 2296.55 1516.54 Q2299.63 1511.93 2305.44 1511.93 Z\" fill=\"#000000\" fill-rule=\"evenodd\" fill-opacity=\"1\" /><polyline clip-path=\"url(#clip882)\" style=\"stroke:#000000; stroke-linecap:butt; stroke-linejoin:round; stroke-width:2; stroke-opacity:0.1; fill:none\" points=\"\n",
       "  156.598,1200.17 2352.76,1200.17 \n",
       "  \"/>\n",
       "<polyline clip-path=\"url(#clip882)\" style=\"stroke:#000000; stroke-linecap:butt; stroke-linejoin:round; stroke-width:2; stroke-opacity:0.1; fill:none\" points=\"\n",
       "  156.598,911.286 2352.76,911.286 \n",
       "  \"/>\n",
       "<polyline clip-path=\"url(#clip882)\" style=\"stroke:#000000; stroke-linecap:butt; stroke-linejoin:round; stroke-width:2; stroke-opacity:0.1; fill:none\" points=\"\n",
       "  156.598,622.406 2352.76,622.406 \n",
       "  \"/>\n",
       "<polyline clip-path=\"url(#clip882)\" style=\"stroke:#000000; stroke-linecap:butt; stroke-linejoin:round; stroke-width:2; stroke-opacity:0.1; fill:none\" points=\"\n",
       "  156.598,333.525 2352.76,333.525 \n",
       "  \"/>\n",
       "<polyline clip-path=\"url(#clip880)\" style=\"stroke:#000000; stroke-linecap:butt; stroke-linejoin:round; stroke-width:4; stroke-opacity:1; fill:none\" points=\"\n",
       "  156.598,1486.45 156.598,47.2441 \n",
       "  \"/>\n",
       "<polyline clip-path=\"url(#clip880)\" style=\"stroke:#000000; stroke-linecap:butt; stroke-linejoin:round; stroke-width:4; stroke-opacity:1; fill:none\" points=\"\n",
       "  156.598,1200.17 175.496,1200.17 \n",
       "  \"/>\n",
       "<polyline clip-path=\"url(#clip880)\" style=\"stroke:#000000; stroke-linecap:butt; stroke-linejoin:round; stroke-width:4; stroke-opacity:1; fill:none\" points=\"\n",
       "  156.598,911.286 175.496,911.286 \n",
       "  \"/>\n",
       "<polyline clip-path=\"url(#clip880)\" style=\"stroke:#000000; stroke-linecap:butt; stroke-linejoin:round; stroke-width:4; stroke-opacity:1; fill:none\" points=\"\n",
       "  156.598,622.406 175.496,622.406 \n",
       "  \"/>\n",
       "<polyline clip-path=\"url(#clip880)\" style=\"stroke:#000000; stroke-linecap:butt; stroke-linejoin:round; stroke-width:4; stroke-opacity:1; fill:none\" points=\"\n",
       "  156.598,333.525 175.496,333.525 \n",
       "  \"/>\n",
       "<path clip-path=\"url(#clip880)\" d=\"M65.0198 1185.97 Q61.4087 1185.97 59.58 1189.53 Q57.7745 1193.07 57.7745 1200.2 Q57.7745 1207.31 59.58 1210.87 Q61.4087 1214.41 65.0198 1214.41 Q68.6541 1214.41 70.4596 1210.87 Q72.2883 1207.31 72.2883 1200.2 Q72.2883 1193.07 70.4596 1189.53 Q68.6541 1185.97 65.0198 1185.97 M65.0198 1182.26 Q70.83 1182.26 73.8855 1186.87 Q76.9642 1191.45 76.9642 1200.2 Q76.9642 1208.93 73.8855 1213.54 Q70.83 1218.12 65.0198 1218.12 Q59.2097 1218.12 56.131 1213.54 Q53.0754 1208.93 53.0754 1200.2 Q53.0754 1191.45 56.131 1186.87 Q59.2097 1182.26 65.0198 1182.26 Z\" fill=\"#000000\" fill-rule=\"evenodd\" fill-opacity=\"1\" /><path clip-path=\"url(#clip880)\" d=\"M85.1818 1211.57 L90.066 1211.57 L90.066 1217.45 L85.1818 1217.45 L85.1818 1211.57 Z\" fill=\"#000000\" fill-rule=\"evenodd\" fill-opacity=\"1\" /><path clip-path=\"url(#clip880)\" d=\"M104.279 1213.51 L120.598 1213.51 L120.598 1217.45 L98.6539 1217.45 L98.6539 1213.51 Q101.316 1210.76 105.899 1206.13 Q110.506 1201.47 111.686 1200.13 Q113.932 1197.61 114.811 1195.87 Q115.714 1194.11 115.714 1192.42 Q115.714 1189.67 113.77 1187.93 Q111.848 1186.2 108.746 1186.2 Q106.547 1186.2 104.094 1186.96 Q101.663 1187.73 98.8854 1189.28 L98.8854 1184.55 Q101.709 1183.42 104.163 1182.84 Q106.617 1182.26 108.654 1182.26 Q114.024 1182.26 117.219 1184.95 Q120.413 1187.63 120.413 1192.12 Q120.413 1194.25 119.603 1196.17 Q118.816 1198.07 116.709 1200.66 Q116.131 1201.34 113.029 1204.55 Q109.927 1207.75 104.279 1213.51 Z\" fill=\"#000000\" fill-rule=\"evenodd\" fill-opacity=\"1\" /><path clip-path=\"url(#clip880)\" d=\"M62.9365 897.085 Q59.3254 897.085 57.4967 900.65 Q55.6912 904.191 55.6912 911.321 Q55.6912 918.428 57.4967 921.992 Q59.3254 925.534 62.9365 925.534 Q66.5707 925.534 68.3763 921.992 Q70.205 918.428 70.205 911.321 Q70.205 904.191 68.3763 900.65 Q66.5707 897.085 62.9365 897.085 M62.9365 893.381 Q68.7467 893.381 71.8022 897.988 Q74.8809 902.571 74.8809 911.321 Q74.8809 920.048 71.8022 924.654 Q68.7467 929.238 62.9365 929.238 Q57.1264 929.238 54.0477 924.654 Q50.9921 920.048 50.9921 911.321 Q50.9921 902.571 54.0477 897.988 Q57.1264 893.381 62.9365 893.381 Z\" fill=\"#000000\" fill-rule=\"evenodd\" fill-opacity=\"1\" /><path clip-path=\"url(#clip880)\" d=\"M83.0984 922.687 L87.9827 922.687 L87.9827 928.566 L83.0984 928.566 L83.0984 922.687 Z\" fill=\"#000000\" fill-rule=\"evenodd\" fill-opacity=\"1\" /><path clip-path=\"url(#clip880)\" d=\"M111.015 898.08 L99.2095 916.529 L111.015 916.529 L111.015 898.08 M109.788 894.006 L115.668 894.006 L115.668 916.529 L120.598 916.529 L120.598 920.418 L115.668 920.418 L115.668 928.566 L111.015 928.566 L111.015 920.418 L95.4132 920.418 L95.4132 915.904 L109.788 894.006 Z\" fill=\"#000000\" fill-rule=\"evenodd\" fill-opacity=\"1\" /><path clip-path=\"url(#clip880)\" d=\"M63.2606 608.204 Q59.6495 608.204 57.8208 611.769 Q56.0152 615.311 56.0152 622.44 Q56.0152 629.547 57.8208 633.112 Q59.6495 636.653 63.2606 636.653 Q66.8948 636.653 68.7004 633.112 Q70.5291 629.547 70.5291 622.44 Q70.5291 615.311 68.7004 611.769 Q66.8948 608.204 63.2606 608.204 M63.2606 604.501 Q69.0707 604.501 72.1263 609.107 Q75.205 613.69 75.205 622.44 Q75.205 631.167 72.1263 635.774 Q69.0707 640.357 63.2606 640.357 Q57.4504 640.357 54.3717 635.774 Q51.3162 631.167 51.3162 622.44 Q51.3162 613.69 54.3717 609.107 Q57.4504 604.501 63.2606 604.501 Z\" fill=\"#000000\" fill-rule=\"evenodd\" fill-opacity=\"1\" /><path clip-path=\"url(#clip880)\" d=\"M83.4225 633.806 L88.3067 633.806 L88.3067 639.686 L83.4225 639.686 L83.4225 633.806 Z\" fill=\"#000000\" fill-rule=\"evenodd\" fill-opacity=\"1\" /><path clip-path=\"url(#clip880)\" d=\"M109.071 620.542 Q105.922 620.542 104.071 622.695 Q102.242 624.848 102.242 628.598 Q102.242 632.325 104.071 634.5 Q105.922 636.653 109.071 636.653 Q112.219 636.653 114.047 634.5 Q115.899 632.325 115.899 628.598 Q115.899 624.848 114.047 622.695 Q112.219 620.542 109.071 620.542 M118.353 605.89 L118.353 610.149 Q116.594 609.315 114.788 608.876 Q113.006 608.436 111.246 608.436 Q106.617 608.436 104.163 611.561 Q101.733 614.686 101.385 621.005 Q102.751 618.991 104.811 617.926 Q106.871 616.839 109.348 616.839 Q114.557 616.839 117.566 620.01 Q120.598 623.158 120.598 628.598 Q120.598 633.922 117.45 637.139 Q114.302 640.357 109.071 640.357 Q103.075 640.357 99.9039 635.774 Q96.7326 631.167 96.7326 622.44 Q96.7326 614.246 100.621 609.385 Q104.51 604.501 111.061 604.501 Q112.82 604.501 114.603 604.848 Q116.408 605.195 118.353 605.89 Z\" fill=\"#000000\" fill-rule=\"evenodd\" fill-opacity=\"1\" /><path clip-path=\"url(#clip880)\" d=\"M63.5152 319.324 Q59.9041 319.324 58.0754 322.888 Q56.2699 326.43 56.2699 333.56 Q56.2699 340.666 58.0754 344.231 Q59.9041 347.773 63.5152 347.773 Q67.1494 347.773 68.955 344.231 Q70.7837 340.666 70.7837 333.56 Q70.7837 326.43 68.955 322.888 Q67.1494 319.324 63.5152 319.324 M63.5152 315.62 Q69.3254 315.62 72.3809 320.226 Q75.4596 324.81 75.4596 333.56 Q75.4596 342.286 72.3809 346.893 Q69.3254 351.476 63.5152 351.476 Q57.7051 351.476 54.6264 346.893 Q51.5708 342.286 51.5708 333.56 Q51.5708 324.81 54.6264 320.226 Q57.7051 315.62 63.5152 315.62 Z\" fill=\"#000000\" fill-rule=\"evenodd\" fill-opacity=\"1\" /><path clip-path=\"url(#clip880)\" d=\"M83.6771 344.925 L88.5614 344.925 L88.5614 350.805 L83.6771 350.805 L83.6771 344.925 Z\" fill=\"#000000\" fill-rule=\"evenodd\" fill-opacity=\"1\" /><path clip-path=\"url(#clip880)\" d=\"M108.746 334.393 Q105.413 334.393 103.492 336.175 Q101.594 337.958 101.594 341.083 Q101.594 344.208 103.492 345.99 Q105.413 347.773 108.746 347.773 Q112.08 347.773 114.001 345.99 Q115.922 344.185 115.922 341.083 Q115.922 337.958 114.001 336.175 Q112.103 334.393 108.746 334.393 M104.071 332.402 Q101.061 331.661 99.3715 329.601 Q97.7048 327.541 97.7048 324.578 Q97.7048 320.435 100.645 318.027 Q103.608 315.62 108.746 315.62 Q113.908 315.62 116.848 318.027 Q119.788 320.435 119.788 324.578 Q119.788 327.541 118.098 329.601 Q116.432 331.661 113.445 332.402 Q116.825 333.189 118.7 335.481 Q120.598 337.773 120.598 341.083 Q120.598 346.106 117.52 348.791 Q114.464 351.476 108.746 351.476 Q103.029 351.476 99.9502 348.791 Q96.8947 346.106 96.8947 341.083 Q96.8947 337.773 98.7928 335.481 Q100.691 333.189 104.071 332.402 M102.358 325.018 Q102.358 327.703 104.024 329.208 Q105.714 330.712 108.746 330.712 Q111.756 330.712 113.445 329.208 Q115.158 327.703 115.158 325.018 Q115.158 322.333 113.445 320.828 Q111.756 319.324 108.746 319.324 Q105.714 319.324 104.024 320.828 Q102.358 322.333 102.358 325.018 Z\" fill=\"#000000\" fill-rule=\"evenodd\" fill-opacity=\"1\" /><polyline clip-path=\"url(#clip882)\" style=\"stroke:#009af9; stroke-linecap:butt; stroke-linejoin:round; stroke-width:4; stroke-opacity:1; fill:none\" points=\"\n",
       "  218.754,87.9763 290.197,129.575 361.64,169.51 433.083,207.847 504.526,244.651 575.969,279.983 647.412,313.902 718.855,346.464 790.298,377.723 861.741,407.732 \n",
       "  933.184,436.54 1004.63,464.197 1076.07,490.747 1147.51,516.235 1218.96,540.703 1290.4,564.193 1361.84,586.743 1433.28,608.391 1504.73,629.174 1576.17,649.124 \n",
       "  1647.61,668.277 1719.06,686.664 1790.5,704.315 1861.94,721.261 1933.39,737.528 2004.83,753.145 2076.27,768.137 2147.71,782.529 2219.16,796.346 2290.6,809.61 \n",
       "  \n",
       "  \"/>\n",
       "<polyline clip-path=\"url(#clip882)\" style=\"stroke:#e26f46; stroke-linecap:butt; stroke-linejoin:round; stroke-width:4; stroke-opacity:1; fill:none\" points=\"\n",
       "  218.754,1445.72 290.197,1404.12 361.64,1364.18 433.083,1325.84 504.526,1289.04 575.969,1253.71 647.412,1219.79 718.855,1187.23 790.298,1155.97 861.741,1125.96 \n",
       "  933.184,1097.15 1004.63,1069.5 1076.07,1042.95 1147.51,1017.46 1218.96,992.989 1290.4,969.499 1361.84,946.949 1433.28,925.301 1504.73,904.518 1576.17,884.568 \n",
       "  1647.61,865.415 1719.06,847.028 1790.5,829.377 1861.94,812.431 1933.39,796.164 2004.83,780.547 2076.27,765.555 2147.71,751.163 2219.16,737.346 2290.6,724.082 \n",
       "  \n",
       "  \"/>\n",
       "<path clip-path=\"url(#clip880)\" d=\"\n",
       "M1983.1 250.738 L2279.55 250.738 L2279.55 95.2176 L1983.1 95.2176  Z\n",
       "  \" fill=\"#ffffff\" fill-rule=\"evenodd\" fill-opacity=\"1\"/>\n",
       "<polyline clip-path=\"url(#clip880)\" style=\"stroke:#000000; stroke-linecap:butt; stroke-linejoin:round; stroke-width:4; stroke-opacity:1; fill:none\" points=\"\n",
       "  1983.1,250.738 2279.55,250.738 2279.55,95.2176 1983.1,95.2176 1983.1,250.738 \n",
       "  \"/>\n",
       "<polyline clip-path=\"url(#clip880)\" style=\"stroke:#009af9; stroke-linecap:butt; stroke-linejoin:round; stroke-width:4; stroke-opacity:1; fill:none\" points=\"\n",
       "  2007.5,147.058 2153.92,147.058 \n",
       "  \"/>\n",
       "<path clip-path=\"url(#clip880)\" d=\"M2192.16 166.745 Q2190.35 171.375 2188.64 172.787 Q2186.93 174.199 2184.06 174.199 L2180.65 174.199 L2180.65 170.634 L2183.15 170.634 Q2184.91 170.634 2185.89 169.8 Q2186.86 168.967 2188.04 165.865 L2188.8 163.921 L2178.32 138.412 L2182.83 138.412 L2190.93 158.689 L2199.03 138.412 L2203.55 138.412 L2192.16 166.745 Z\" fill=\"#000000\" fill-rule=\"evenodd\" fill-opacity=\"1\" /><path clip-path=\"url(#clip880)\" d=\"M2210.84 160.402 L2218.48 160.402 L2218.48 134.037 L2210.17 135.703 L2210.17 131.444 L2218.43 129.778 L2223.11 129.778 L2223.11 160.402 L2230.75 160.402 L2230.75 164.338 L2210.84 164.338 L2210.84 160.402 Z\" fill=\"#000000\" fill-rule=\"evenodd\" fill-opacity=\"1\" /><polyline clip-path=\"url(#clip880)\" style=\"stroke:#e26f46; stroke-linecap:butt; stroke-linejoin:round; stroke-width:4; stroke-opacity:1; fill:none\" points=\"\n",
       "  2007.5,198.898 2153.92,198.898 \n",
       "  \"/>\n",
       "<path clip-path=\"url(#clip880)\" d=\"M2192.16 218.585 Q2190.35 223.215 2188.64 224.627 Q2186.93 226.039 2184.06 226.039 L2180.65 226.039 L2180.65 222.474 L2183.15 222.474 Q2184.91 222.474 2185.89 221.64 Q2186.86 220.807 2188.04 217.705 L2188.8 215.761 L2178.32 190.252 L2182.83 190.252 L2190.93 210.529 L2199.03 190.252 L2203.55 190.252 L2192.16 218.585 Z\" fill=\"#000000\" fill-rule=\"evenodd\" fill-opacity=\"1\" /><path clip-path=\"url(#clip880)\" d=\"M2214.06 212.242 L2230.38 212.242 L2230.38 216.178 L2208.43 216.178 L2208.43 212.242 Q2211.09 209.488 2215.68 204.858 Q2220.28 200.205 2221.46 198.863 Q2223.71 196.34 2224.59 194.604 Q2225.49 192.844 2225.49 191.155 Q2225.49 188.4 2223.55 186.664 Q2221.63 184.928 2218.52 184.928 Q2216.33 184.928 2213.87 185.692 Q2211.44 186.455 2208.66 188.006 L2208.66 183.284 Q2211.49 182.15 2213.94 181.571 Q2216.4 180.993 2218.43 180.993 Q2223.8 180.993 2227 183.678 Q2230.19 186.363 2230.19 190.854 Q2230.19 192.983 2229.38 194.905 Q2228.59 196.803 2226.49 199.395 Q2225.91 200.067 2222.81 203.284 Q2219.71 206.479 2214.06 212.242 Z\" fill=\"#000000\" fill-rule=\"evenodd\" fill-opacity=\"1\" /></svg>\n"
      ]
     },
     "execution_count": 78,
     "metadata": {},
     "output_type": "execute_result"
    }
   ],
   "source": [
    "using Plots\n",
    "plot(z')"
   ]
  },
  {
   "cell_type": "code",
   "execution_count": 55,
   "metadata": {},
   "outputs": [
    {
     "data": {
      "text/plain": [
       "Eigen{Float64, Float64, Matrix{Float64}, Vector{Float64}}\n",
       "values:\n",
       "2-element Vector{Float64}:\n",
       " 0.96\n",
       " 1.0\n",
       "vectors:\n",
       "2×2 Matrix{Float64}:\n",
       " -0.707107  -0.316228\n",
       "  0.707107  -0.948683"
      ]
     },
     "execution_count": 55,
     "metadata": {},
     "output_type": "execute_result"
    }
   ],
   "source": [
    "eigen(slow_mc.P')"
   ]
  },
  {
   "cell_type": "markdown",
   "metadata": {},
   "source": [
    "## What role for other eigenvalues?\n",
    "For every $\\pi_t$,\n",
    "$$\n",
    "\\pi_t = \\sum_{i=1}^K q_i \\mathbf v_i\n",
    "$$\n",
    "for some weights qi, may be <0 (and q1=1).\n",
    "$$\n",
    "(\\pi_t-\\pi_*) = \n",
    "\\sum_{i=2}^K q_i \\mathbf v_i\n",
    "$$\n",
    "for 2-dim\n",
    "$$\n",
    "(\\pi_t-\\pi_*) = \n",
    "q_{2t} \\mathbf v_2\n",
    "$$\n",
    "$$\n",
    "(\\pi_{t+1}-\\pi_*) = \\mathbf P'(\\pi_t-\\pi_*)\n",
    "$$\n",
    "$$\n",
    "\\mathbf v_2 = \\frac{q_{2t}}{q_{2t+1}}\n",
    "\\mathbf P'\n",
    "\\mathbf v_2 = \n",
    "\\frac{q_{2t}}{q_{2t+1}}\n",
    "\\lambda_2\n",
    "\\mathbf v_2 $$\n",
    "$$\n",
    "\\frac{q_{2t+1}}{q_{2t}}\n",
    "= \\lambda_2\n",
    "$$\n",
    "$\\to$ **geometric convergence** to steady state with rate $\\lambda_2$:\n",
    "$$\n",
    "(\\pi_{t}-\\pi_*) = \\lambda_2^t(\\pi_0-\\pi_*)\n",
    "$$\n",
    "\n",
    "> Draw a simplex of probs for K=3?\n"
   ]
  },
  {
   "cell_type": "markdown",
   "metadata": {},
   "source": [
    "Two-dimensional Markov chains are boring. They lead to one-dimensional difference equations. Three of more dimensions where the fun begins:"
   ]
  },
  {
   "cell_type": "code",
   "execution_count": null,
   "metadata": {},
   "outputs": [],
   "source": [
    "larger_mc = MarkovChain([0.7 0.3 0.0; 0.1 0.8 0.1; 0.0 0.0 1.0], [1.0, 0, 0])"
   ]
  },
  {
   "cell_type": "code",
   "execution_count": 61,
   "metadata": {},
   "outputs": [
    {
     "data": {
      "text/plain": [
       "Eigen{Float64, Float64, Matrix{Float64}, Vector{Float64}}\n",
       "values:\n",
       "3-element Vector{Float64}:\n",
       " 0.5697224362268005\n",
       " 0.9302775637731995\n",
       " 1.0\n",
       "vectors:\n",
       "3×3 Matrix{Float64}:\n",
       "  0.598803   0.241044  0.0\n",
       " -0.780106   0.555069  0.0\n",
       "  0.181303  -0.796113  1.0"
      ]
     },
     "execution_count": 61,
     "metadata": {},
     "output_type": "execute_result"
    }
   ],
   "source": [
    "eigen(larger_mc.P')"
   ]
  },
  {
   "cell_type": "code",
   "execution_count": 62,
   "metadata": {},
   "outputs": [
    {
     "data": {
      "text/plain": [
       "3×30 Matrix{Float64}:\n",
       " 0.7  0.52  0.409  0.3379  0.29008  …  0.0477584  0.0444286  0.0413309\n",
       " 0.3  0.45  0.516  0.5355  0.52977     0.109977   0.102309   0.0951756\n",
       " 0.0  0.03  0.075  0.1266  0.18015     0.842265   0.853263   0.863493"
      ]
     },
     "execution_count": 62,
     "metadata": {},
     "output_type": "execute_result"
    }
   ],
   "source": [
    "z = forecast_markov_chain(larger_mc, 30)"
   ]
  },
  {
   "cell_type": "code",
   "execution_count": 63,
   "metadata": {},
   "outputs": [
    {
     "data": {
      "image/svg+xml": [
       "<?xml version=\"1.0\" encoding=\"utf-8\"?>\n",
       "<svg xmlns=\"http://www.w3.org/2000/svg\" xmlns:xlink=\"http://www.w3.org/1999/xlink\" width=\"600\" height=\"400\" viewBox=\"0 0 2400 1600\">\n",
       "<defs>\n",
       "  <clipPath id=\"clip720\">\n",
       "    <rect x=\"0\" y=\"0\" width=\"2400\" height=\"1600\"/>\n",
       "  </clipPath>\n",
       "</defs>\n",
       "<path clip-path=\"url(#clip720)\" d=\"\n",
       "M0 1600 L2400 1600 L2400 0 L0 0  Z\n",
       "  \" fill=\"#ffffff\" fill-rule=\"evenodd\" fill-opacity=\"1\"/>\n",
       "<defs>\n",
       "  <clipPath id=\"clip721\">\n",
       "    <rect x=\"480\" y=\"0\" width=\"1681\" height=\"1600\"/>\n",
       "  </clipPath>\n",
       "</defs>\n",
       "<path clip-path=\"url(#clip720)\" d=\"\n",
       "M156.598 1486.45 L2352.76 1486.45 L2352.76 47.2441 L156.598 47.2441  Z\n",
       "  \" fill=\"#ffffff\" fill-rule=\"evenodd\" fill-opacity=\"1\"/>\n",
       "<defs>\n",
       "  <clipPath id=\"clip722\">\n",
       "    <rect x=\"156\" y=\"47\" width=\"2197\" height=\"1440\"/>\n",
       "  </clipPath>\n",
       "</defs>\n",
       "<polyline clip-path=\"url(#clip722)\" style=\"stroke:#000000; stroke-linecap:butt; stroke-linejoin:round; stroke-width:2; stroke-opacity:0.1; fill:none\" points=\"\n",
       "  504.526,1486.45 504.526,47.2441 \n",
       "  \"/>\n",
       "<polyline clip-path=\"url(#clip722)\" style=\"stroke:#000000; stroke-linecap:butt; stroke-linejoin:round; stroke-width:2; stroke-opacity:0.1; fill:none\" points=\"\n",
       "  861.741,1486.45 861.741,47.2441 \n",
       "  \"/>\n",
       "<polyline clip-path=\"url(#clip722)\" style=\"stroke:#000000; stroke-linecap:butt; stroke-linejoin:round; stroke-width:2; stroke-opacity:0.1; fill:none\" points=\"\n",
       "  1218.96,1486.45 1218.96,47.2441 \n",
       "  \"/>\n",
       "<polyline clip-path=\"url(#clip722)\" style=\"stroke:#000000; stroke-linecap:butt; stroke-linejoin:round; stroke-width:2; stroke-opacity:0.1; fill:none\" points=\"\n",
       "  1576.17,1486.45 1576.17,47.2441 \n",
       "  \"/>\n",
       "<polyline clip-path=\"url(#clip722)\" style=\"stroke:#000000; stroke-linecap:butt; stroke-linejoin:round; stroke-width:2; stroke-opacity:0.1; fill:none\" points=\"\n",
       "  1933.39,1486.45 1933.39,47.2441 \n",
       "  \"/>\n",
       "<polyline clip-path=\"url(#clip722)\" style=\"stroke:#000000; stroke-linecap:butt; stroke-linejoin:round; stroke-width:2; stroke-opacity:0.1; fill:none\" points=\"\n",
       "  2290.6,1486.45 2290.6,47.2441 \n",
       "  \"/>\n",
       "<polyline clip-path=\"url(#clip720)\" style=\"stroke:#000000; stroke-linecap:butt; stroke-linejoin:round; stroke-width:4; stroke-opacity:1; fill:none\" points=\"\n",
       "  156.598,1486.45 2352.76,1486.45 \n",
       "  \"/>\n",
       "<polyline clip-path=\"url(#clip720)\" style=\"stroke:#000000; stroke-linecap:butt; stroke-linejoin:round; stroke-width:4; stroke-opacity:1; fill:none\" points=\"\n",
       "  504.526,1486.45 504.526,1467.55 \n",
       "  \"/>\n",
       "<polyline clip-path=\"url(#clip720)\" style=\"stroke:#000000; stroke-linecap:butt; stroke-linejoin:round; stroke-width:4; stroke-opacity:1; fill:none\" points=\"\n",
       "  861.741,1486.45 861.741,1467.55 \n",
       "  \"/>\n",
       "<polyline clip-path=\"url(#clip720)\" style=\"stroke:#000000; stroke-linecap:butt; stroke-linejoin:round; stroke-width:4; stroke-opacity:1; fill:none\" points=\"\n",
       "  1218.96,1486.45 1218.96,1467.55 \n",
       "  \"/>\n",
       "<polyline clip-path=\"url(#clip720)\" style=\"stroke:#000000; stroke-linecap:butt; stroke-linejoin:round; stroke-width:4; stroke-opacity:1; fill:none\" points=\"\n",
       "  1576.17,1486.45 1576.17,1467.55 \n",
       "  \"/>\n",
       "<polyline clip-path=\"url(#clip720)\" style=\"stroke:#000000; stroke-linecap:butt; stroke-linejoin:round; stroke-width:4; stroke-opacity:1; fill:none\" points=\"\n",
       "  1933.39,1486.45 1933.39,1467.55 \n",
       "  \"/>\n",
       "<polyline clip-path=\"url(#clip720)\" style=\"stroke:#000000; stroke-linecap:butt; stroke-linejoin:round; stroke-width:4; stroke-opacity:1; fill:none\" points=\"\n",
       "  2290.6,1486.45 2290.6,1467.55 \n",
       "  \"/>\n",
       "<path clip-path=\"url(#clip720)\" d=\"M494.803 1512.56 L513.16 1512.56 L513.16 1516.5 L499.086 1516.5 L499.086 1524.97 Q500.104 1524.62 501.123 1524.46 Q502.141 1524.27 503.16 1524.27 Q508.947 1524.27 512.327 1527.44 Q515.706 1530.62 515.706 1536.03 Q515.706 1541.61 512.234 1544.71 Q508.762 1547.79 502.442 1547.79 Q500.266 1547.79 497.998 1547.42 Q495.753 1547.05 493.345 1546.31 L493.345 1541.61 Q495.428 1542.74 497.651 1543.3 Q499.873 1543.86 502.35 1543.86 Q506.354 1543.86 508.692 1541.75 Q511.03 1539.64 511.03 1536.03 Q511.03 1532.42 508.692 1530.31 Q506.354 1528.21 502.35 1528.21 Q500.475 1528.21 498.6 1528.62 Q496.748 1529.04 494.803 1529.92 L494.803 1512.56 Z\" fill=\"#000000\" fill-rule=\"evenodd\" fill-opacity=\"1\" /><path clip-path=\"url(#clip720)\" d=\"M836.428 1543.18 L844.067 1543.18 L844.067 1516.82 L835.757 1518.49 L835.757 1514.23 L844.021 1512.56 L848.697 1512.56 L848.697 1543.18 L856.336 1543.18 L856.336 1547.12 L836.428 1547.12 L836.428 1543.18 Z\" fill=\"#000000\" fill-rule=\"evenodd\" fill-opacity=\"1\" /><path clip-path=\"url(#clip720)\" d=\"M875.78 1515.64 Q872.169 1515.64 870.34 1519.2 Q868.535 1522.75 868.535 1529.87 Q868.535 1536.98 870.34 1540.55 Q872.169 1544.09 875.78 1544.09 Q879.414 1544.09 881.22 1540.55 Q883.048 1536.98 883.048 1529.87 Q883.048 1522.75 881.22 1519.2 Q879.414 1515.64 875.78 1515.64 M875.78 1511.93 Q881.59 1511.93 884.646 1516.54 Q887.724 1521.12 887.724 1529.87 Q887.724 1538.6 884.646 1543.21 Q881.59 1547.79 875.78 1547.79 Q869.97 1547.79 866.891 1543.21 Q863.835 1538.6 863.835 1529.87 Q863.835 1521.12 866.891 1516.54 Q869.97 1511.93 875.78 1511.93 Z\" fill=\"#000000\" fill-rule=\"evenodd\" fill-opacity=\"1\" /><path clip-path=\"url(#clip720)\" d=\"M1194.14 1543.18 L1201.78 1543.18 L1201.78 1516.82 L1193.47 1518.49 L1193.47 1514.23 L1201.73 1512.56 L1206.41 1512.56 L1206.41 1543.18 L1214.05 1543.18 L1214.05 1547.12 L1194.14 1547.12 L1194.14 1543.18 Z\" fill=\"#000000\" fill-rule=\"evenodd\" fill-opacity=\"1\" /><path clip-path=\"url(#clip720)\" d=\"M1223.54 1512.56 L1241.9 1512.56 L1241.9 1516.5 L1227.82 1516.5 L1227.82 1524.97 Q1228.84 1524.62 1229.86 1524.46 Q1230.88 1524.27 1231.9 1524.27 Q1237.68 1524.27 1241.06 1527.44 Q1244.44 1530.62 1244.44 1536.03 Q1244.44 1541.61 1240.97 1544.71 Q1237.5 1547.79 1231.18 1547.79 Q1229 1547.79 1226.73 1547.42 Q1224.49 1547.05 1222.08 1546.31 L1222.08 1541.61 Q1224.16 1542.74 1226.39 1543.3 Q1228.61 1543.86 1231.09 1543.86 Q1235.09 1543.86 1237.43 1541.75 Q1239.77 1539.64 1239.77 1536.03 Q1239.77 1532.42 1237.43 1530.31 Q1235.09 1528.21 1231.09 1528.21 Q1229.21 1528.21 1227.34 1528.62 Q1225.48 1529.04 1223.54 1529.92 L1223.54 1512.56 Z\" fill=\"#000000\" fill-rule=\"evenodd\" fill-opacity=\"1\" /><path clip-path=\"url(#clip720)\" d=\"M1554.94 1543.18 L1571.26 1543.18 L1571.26 1547.12 L1549.32 1547.12 L1549.32 1543.18 Q1551.98 1540.43 1556.56 1535.8 Q1561.17 1531.15 1562.35 1529.81 Q1564.6 1527.28 1565.48 1525.55 Q1566.38 1523.79 1566.38 1522.1 Q1566.38 1519.34 1564.43 1517.61 Q1562.51 1515.87 1559.41 1515.87 Q1557.21 1515.87 1554.76 1516.63 Q1552.33 1517.4 1549.55 1518.95 L1549.55 1514.23 Q1552.37 1513.09 1554.83 1512.51 Q1557.28 1511.93 1559.32 1511.93 Q1564.69 1511.93 1567.88 1514.62 Q1571.08 1517.31 1571.08 1521.8 Q1571.08 1523.93 1570.27 1525.85 Q1569.48 1527.74 1567.37 1530.34 Q1566.8 1531.01 1563.69 1534.23 Q1560.59 1537.42 1554.94 1543.18 Z\" fill=\"#000000\" fill-rule=\"evenodd\" fill-opacity=\"1\" /><path clip-path=\"url(#clip720)\" d=\"M1591.08 1515.64 Q1587.47 1515.64 1585.64 1519.2 Q1583.83 1522.75 1583.83 1529.87 Q1583.83 1536.98 1585.64 1540.55 Q1587.47 1544.09 1591.08 1544.09 Q1594.71 1544.09 1596.52 1540.55 Q1598.35 1536.98 1598.35 1529.87 Q1598.35 1522.75 1596.52 1519.2 Q1594.71 1515.64 1591.08 1515.64 M1591.08 1511.93 Q1596.89 1511.93 1599.94 1516.54 Q1603.02 1521.12 1603.02 1529.87 Q1603.02 1538.6 1599.94 1543.21 Q1596.89 1547.79 1591.08 1547.79 Q1585.27 1547.79 1582.19 1543.21 Q1579.13 1538.6 1579.13 1529.87 Q1579.13 1521.12 1582.19 1516.54 Q1585.27 1511.93 1591.08 1511.93 Z\" fill=\"#000000\" fill-rule=\"evenodd\" fill-opacity=\"1\" /><path clip-path=\"url(#clip720)\" d=\"M1912.66 1543.18 L1928.98 1543.18 L1928.98 1547.12 L1907.03 1547.12 L1907.03 1543.18 Q1909.69 1540.43 1914.28 1535.8 Q1918.88 1531.15 1920.06 1529.81 Q1922.31 1527.28 1923.19 1525.55 Q1924.09 1523.79 1924.09 1522.1 Q1924.09 1519.34 1922.15 1517.61 Q1920.23 1515.87 1917.12 1515.87 Q1914.92 1515.87 1912.47 1516.63 Q1910.04 1517.4 1907.26 1518.95 L1907.26 1514.23 Q1910.09 1513.09 1912.54 1512.51 Q1914.99 1511.93 1917.03 1511.93 Q1922.4 1511.93 1925.6 1514.62 Q1928.79 1517.31 1928.79 1521.8 Q1928.79 1523.93 1927.98 1525.85 Q1927.19 1527.74 1925.09 1530.34 Q1924.51 1531.01 1921.41 1534.23 Q1918.3 1537.42 1912.66 1543.18 Z\" fill=\"#000000\" fill-rule=\"evenodd\" fill-opacity=\"1\" /><path clip-path=\"url(#clip720)\" d=\"M1938.84 1512.56 L1957.19 1512.56 L1957.19 1516.5 L1943.12 1516.5 L1943.12 1524.97 Q1944.14 1524.62 1945.16 1524.46 Q1946.17 1524.27 1947.19 1524.27 Q1952.98 1524.27 1956.36 1527.44 Q1959.74 1530.62 1959.74 1536.03 Q1959.74 1541.61 1956.27 1544.71 Q1952.8 1547.79 1946.48 1547.79 Q1944.3 1547.79 1942.03 1547.42 Q1939.79 1547.05 1937.38 1546.31 L1937.38 1541.61 Q1939.46 1542.74 1941.68 1543.3 Q1943.91 1543.86 1946.38 1543.86 Q1950.39 1543.86 1952.73 1541.75 Q1955.06 1539.64 1955.06 1536.03 Q1955.06 1532.42 1952.73 1530.31 Q1950.39 1528.21 1946.38 1528.21 Q1944.51 1528.21 1942.63 1528.62 Q1940.78 1529.04 1938.84 1529.92 L1938.84 1512.56 Z\" fill=\"#000000\" fill-rule=\"evenodd\" fill-opacity=\"1\" /><path clip-path=\"url(#clip720)\" d=\"M2279.44 1528.49 Q2282.8 1529.2 2284.67 1531.47 Q2286.57 1533.74 2286.57 1537.07 Q2286.57 1542.19 2283.05 1544.99 Q2279.54 1547.79 2273.05 1547.79 Q2270.88 1547.79 2268.56 1547.35 Q2266.27 1546.93 2263.82 1546.08 L2263.82 1541.56 Q2265.76 1542.7 2268.08 1543.28 Q2270.39 1543.86 2272.92 1543.86 Q2277.31 1543.86 2279.61 1542.12 Q2281.92 1540.38 2281.92 1537.07 Q2281.92 1534.02 2279.77 1532.31 Q2277.64 1530.57 2273.82 1530.57 L2269.79 1530.57 L2269.79 1526.73 L2274 1526.73 Q2277.45 1526.73 2279.28 1525.36 Q2281.11 1523.97 2281.11 1521.38 Q2281.11 1518.72 2279.21 1517.31 Q2277.34 1515.87 2273.82 1515.87 Q2271.9 1515.87 2269.7 1516.29 Q2267.5 1516.7 2264.86 1517.58 L2264.86 1513.42 Q2267.52 1512.68 2269.84 1512.31 Q2272.17 1511.93 2274.23 1511.93 Q2279.56 1511.93 2282.66 1514.37 Q2285.76 1516.77 2285.76 1520.89 Q2285.76 1523.76 2284.12 1525.75 Q2282.48 1527.72 2279.44 1528.49 Z\" fill=\"#000000\" fill-rule=\"evenodd\" fill-opacity=\"1\" /><path clip-path=\"url(#clip720)\" d=\"M2305.44 1515.64 Q2301.83 1515.64 2300 1519.2 Q2298.19 1522.75 2298.19 1529.87 Q2298.19 1536.98 2300 1540.55 Q2301.83 1544.09 2305.44 1544.09 Q2309.07 1544.09 2310.88 1540.55 Q2312.71 1536.98 2312.71 1529.87 Q2312.71 1522.75 2310.88 1519.2 Q2309.07 1515.64 2305.44 1515.64 M2305.44 1511.93 Q2311.25 1511.93 2314.3 1516.54 Q2317.38 1521.12 2317.38 1529.87 Q2317.38 1538.6 2314.3 1543.21 Q2311.25 1547.79 2305.44 1547.79 Q2299.63 1547.79 2296.55 1543.21 Q2293.49 1538.6 2293.49 1529.87 Q2293.49 1521.12 2296.55 1516.54 Q2299.63 1511.93 2305.44 1511.93 Z\" fill=\"#000000\" fill-rule=\"evenodd\" fill-opacity=\"1\" /><polyline clip-path=\"url(#clip722)\" style=\"stroke:#000000; stroke-linecap:butt; stroke-linejoin:round; stroke-width:2; stroke-opacity:0.1; fill:none\" points=\"\n",
       "  156.598,1445.72 2352.76,1445.72 \n",
       "  \"/>\n",
       "<polyline clip-path=\"url(#clip722)\" style=\"stroke:#000000; stroke-linecap:butt; stroke-linejoin:round; stroke-width:2; stroke-opacity:0.1; fill:none\" points=\"\n",
       "  156.598,1131.24 2352.76,1131.24 \n",
       "  \"/>\n",
       "<polyline clip-path=\"url(#clip722)\" style=\"stroke:#000000; stroke-linecap:butt; stroke-linejoin:round; stroke-width:2; stroke-opacity:0.1; fill:none\" points=\"\n",
       "  156.598,816.764 2352.76,816.764 \n",
       "  \"/>\n",
       "<polyline clip-path=\"url(#clip722)\" style=\"stroke:#000000; stroke-linecap:butt; stroke-linejoin:round; stroke-width:2; stroke-opacity:0.1; fill:none\" points=\"\n",
       "  156.598,502.288 2352.76,502.288 \n",
       "  \"/>\n",
       "<polyline clip-path=\"url(#clip722)\" style=\"stroke:#000000; stroke-linecap:butt; stroke-linejoin:round; stroke-width:2; stroke-opacity:0.1; fill:none\" points=\"\n",
       "  156.598,187.812 2352.76,187.812 \n",
       "  \"/>\n",
       "<polyline clip-path=\"url(#clip720)\" style=\"stroke:#000000; stroke-linecap:butt; stroke-linejoin:round; stroke-width:4; stroke-opacity:1; fill:none\" points=\"\n",
       "  156.598,1486.45 156.598,47.2441 \n",
       "  \"/>\n",
       "<polyline clip-path=\"url(#clip720)\" style=\"stroke:#000000; stroke-linecap:butt; stroke-linejoin:round; stroke-width:4; stroke-opacity:1; fill:none\" points=\"\n",
       "  156.598,1445.72 175.496,1445.72 \n",
       "  \"/>\n",
       "<polyline clip-path=\"url(#clip720)\" style=\"stroke:#000000; stroke-linecap:butt; stroke-linejoin:round; stroke-width:4; stroke-opacity:1; fill:none\" points=\"\n",
       "  156.598,1131.24 175.496,1131.24 \n",
       "  \"/>\n",
       "<polyline clip-path=\"url(#clip720)\" style=\"stroke:#000000; stroke-linecap:butt; stroke-linejoin:round; stroke-width:4; stroke-opacity:1; fill:none\" points=\"\n",
       "  156.598,816.764 175.496,816.764 \n",
       "  \"/>\n",
       "<polyline clip-path=\"url(#clip720)\" style=\"stroke:#000000; stroke-linecap:butt; stroke-linejoin:round; stroke-width:4; stroke-opacity:1; fill:none\" points=\"\n",
       "  156.598,502.288 175.496,502.288 \n",
       "  \"/>\n",
       "<polyline clip-path=\"url(#clip720)\" style=\"stroke:#000000; stroke-linecap:butt; stroke-linejoin:round; stroke-width:4; stroke-opacity:1; fill:none\" points=\"\n",
       "  156.598,187.812 175.496,187.812 \n",
       "  \"/>\n",
       "<path clip-path=\"url(#clip720)\" d=\"M63.4226 1431.51 Q59.8115 1431.51 57.9828 1435.08 Q56.1773 1438.62 56.1773 1445.75 Q56.1773 1452.86 57.9828 1456.42 Q59.8115 1459.96 63.4226 1459.96 Q67.0569 1459.96 68.8624 1456.42 Q70.6911 1452.86 70.6911 1445.75 Q70.6911 1438.62 68.8624 1435.08 Q67.0569 1431.51 63.4226 1431.51 M63.4226 1427.81 Q69.2328 1427.81 72.2883 1432.42 Q75.367 1437 75.367 1445.75 Q75.367 1454.48 72.2883 1459.08 Q69.2328 1463.67 63.4226 1463.67 Q57.6125 1463.67 54.5338 1459.08 Q51.4782 1454.48 51.4782 1445.75 Q51.4782 1437 54.5338 1432.42 Q57.6125 1427.81 63.4226 1427.81 Z\" fill=\"#000000\" fill-rule=\"evenodd\" fill-opacity=\"1\" /><path clip-path=\"url(#clip720)\" d=\"M83.5845 1457.12 L88.4688 1457.12 L88.4688 1463 L83.5845 1463 L83.5845 1457.12 Z\" fill=\"#000000\" fill-rule=\"evenodd\" fill-opacity=\"1\" /><path clip-path=\"url(#clip720)\" d=\"M108.654 1431.51 Q105.043 1431.51 103.214 1435.08 Q101.409 1438.62 101.409 1445.75 Q101.409 1452.86 103.214 1456.42 Q105.043 1459.96 108.654 1459.96 Q112.288 1459.96 114.094 1456.42 Q115.922 1452.86 115.922 1445.75 Q115.922 1438.62 114.094 1435.08 Q112.288 1431.51 108.654 1431.51 M108.654 1427.81 Q114.464 1427.81 117.52 1432.42 Q120.598 1437 120.598 1445.75 Q120.598 1454.48 117.52 1459.08 Q114.464 1463.67 108.654 1463.67 Q102.844 1463.67 99.765 1459.08 Q96.7095 1454.48 96.7095 1445.75 Q96.7095 1437 99.765 1432.42 Q102.844 1427.81 108.654 1427.81 Z\" fill=\"#000000\" fill-rule=\"evenodd\" fill-opacity=\"1\" /><path clip-path=\"url(#clip720)\" d=\"M65.0198 1117.04 Q61.4087 1117.04 59.58 1120.6 Q57.7745 1124.14 57.7745 1131.27 Q57.7745 1138.38 59.58 1141.95 Q61.4087 1145.49 65.0198 1145.49 Q68.6541 1145.49 70.4596 1141.95 Q72.2883 1138.38 72.2883 1131.27 Q72.2883 1124.14 70.4596 1120.6 Q68.6541 1117.04 65.0198 1117.04 M65.0198 1113.33 Q70.83 1113.33 73.8855 1117.94 Q76.9642 1122.52 76.9642 1131.27 Q76.9642 1140 73.8855 1144.61 Q70.83 1149.19 65.0198 1149.19 Q59.2097 1149.19 56.131 1144.61 Q53.0754 1140 53.0754 1131.27 Q53.0754 1122.52 56.131 1117.94 Q59.2097 1113.33 65.0198 1113.33 Z\" fill=\"#000000\" fill-rule=\"evenodd\" fill-opacity=\"1\" /><path clip-path=\"url(#clip720)\" d=\"M85.1818 1142.64 L90.066 1142.64 L90.066 1148.52 L85.1818 1148.52 L85.1818 1142.64 Z\" fill=\"#000000\" fill-rule=\"evenodd\" fill-opacity=\"1\" /><path clip-path=\"url(#clip720)\" d=\"M104.279 1144.58 L120.598 1144.58 L120.598 1148.52 L98.6539 1148.52 L98.6539 1144.58 Q101.316 1141.83 105.899 1137.2 Q110.506 1132.55 111.686 1131.21 Q113.932 1128.68 114.811 1126.95 Q115.714 1125.19 115.714 1123.5 Q115.714 1120.74 113.77 1119.01 Q111.848 1117.27 108.746 1117.27 Q106.547 1117.27 104.094 1118.03 Q101.663 1118.8 98.8854 1120.35 L98.8854 1115.63 Q101.709 1114.49 104.163 1113.91 Q106.617 1113.33 108.654 1113.33 Q114.024 1113.33 117.219 1116.02 Q120.413 1118.71 120.413 1123.2 Q120.413 1125.33 119.603 1127.25 Q118.816 1129.14 116.709 1131.74 Q116.131 1132.41 113.029 1135.63 Q109.927 1138.82 104.279 1144.58 Z\" fill=\"#000000\" fill-rule=\"evenodd\" fill-opacity=\"1\" /><path clip-path=\"url(#clip720)\" d=\"M62.9365 802.563 Q59.3254 802.563 57.4967 806.127 Q55.6912 809.669 55.6912 816.799 Q55.6912 823.905 57.4967 827.47 Q59.3254 831.012 62.9365 831.012 Q66.5707 831.012 68.3763 827.47 Q70.205 823.905 70.205 816.799 Q70.205 809.669 68.3763 806.127 Q66.5707 802.563 62.9365 802.563 M62.9365 798.859 Q68.7467 798.859 71.8022 803.465 Q74.8809 808.049 74.8809 816.799 Q74.8809 825.525 71.8022 830.132 Q68.7467 834.715 62.9365 834.715 Q57.1264 834.715 54.0477 830.132 Q50.9921 825.525 50.9921 816.799 Q50.9921 808.049 54.0477 803.465 Q57.1264 798.859 62.9365 798.859 Z\" fill=\"#000000\" fill-rule=\"evenodd\" fill-opacity=\"1\" /><path clip-path=\"url(#clip720)\" d=\"M83.0984 828.164 L87.9827 828.164 L87.9827 834.044 L83.0984 834.044 L83.0984 828.164 Z\" fill=\"#000000\" fill-rule=\"evenodd\" fill-opacity=\"1\" /><path clip-path=\"url(#clip720)\" d=\"M111.015 803.558 L99.2095 822.007 L111.015 822.007 L111.015 803.558 M109.788 799.484 L115.668 799.484 L115.668 822.007 L120.598 822.007 L120.598 825.896 L115.668 825.896 L115.668 834.044 L111.015 834.044 L111.015 825.896 L95.4132 825.896 L95.4132 821.382 L109.788 799.484 Z\" fill=\"#000000\" fill-rule=\"evenodd\" fill-opacity=\"1\" /><path clip-path=\"url(#clip720)\" d=\"M63.2606 488.087 Q59.6495 488.087 57.8208 491.651 Q56.0152 495.193 56.0152 502.323 Q56.0152 509.429 57.8208 512.994 Q59.6495 516.536 63.2606 516.536 Q66.8948 516.536 68.7004 512.994 Q70.5291 509.429 70.5291 502.323 Q70.5291 495.193 68.7004 491.651 Q66.8948 488.087 63.2606 488.087 M63.2606 484.383 Q69.0707 484.383 72.1263 488.989 Q75.205 493.573 75.205 502.323 Q75.205 511.05 72.1263 515.656 Q69.0707 520.239 63.2606 520.239 Q57.4504 520.239 54.3717 515.656 Q51.3162 511.05 51.3162 502.323 Q51.3162 493.573 54.3717 488.989 Q57.4504 484.383 63.2606 484.383 Z\" fill=\"#000000\" fill-rule=\"evenodd\" fill-opacity=\"1\" /><path clip-path=\"url(#clip720)\" d=\"M83.4225 513.688 L88.3067 513.688 L88.3067 519.568 L83.4225 519.568 L83.4225 513.688 Z\" fill=\"#000000\" fill-rule=\"evenodd\" fill-opacity=\"1\" /><path clip-path=\"url(#clip720)\" d=\"M109.071 500.425 Q105.922 500.425 104.071 502.577 Q102.242 504.73 102.242 508.48 Q102.242 512.207 104.071 514.383 Q105.922 516.536 109.071 516.536 Q112.219 516.536 114.047 514.383 Q115.899 512.207 115.899 508.48 Q115.899 504.73 114.047 502.577 Q112.219 500.425 109.071 500.425 M118.353 485.772 L118.353 490.031 Q116.594 489.198 114.788 488.758 Q113.006 488.318 111.246 488.318 Q106.617 488.318 104.163 491.443 Q101.733 494.568 101.385 500.888 Q102.751 498.874 104.811 497.809 Q106.871 496.721 109.348 496.721 Q114.557 496.721 117.566 499.892 Q120.598 503.04 120.598 508.48 Q120.598 513.804 117.45 517.022 Q114.302 520.239 109.071 520.239 Q103.075 520.239 99.9039 515.656 Q96.7326 511.05 96.7326 502.323 Q96.7326 494.128 100.621 489.267 Q104.51 484.383 111.061 484.383 Q112.82 484.383 114.603 484.73 Q116.408 485.077 118.353 485.772 Z\" fill=\"#000000\" fill-rule=\"evenodd\" fill-opacity=\"1\" /><path clip-path=\"url(#clip720)\" d=\"M63.5152 173.611 Q59.9041 173.611 58.0754 177.176 Q56.2699 180.717 56.2699 187.847 Q56.2699 194.953 58.0754 198.518 Q59.9041 202.06 63.5152 202.06 Q67.1494 202.06 68.955 198.518 Q70.7837 194.953 70.7837 187.847 Q70.7837 180.717 68.955 177.176 Q67.1494 173.611 63.5152 173.611 M63.5152 169.907 Q69.3254 169.907 72.3809 174.514 Q75.4596 179.097 75.4596 187.847 Q75.4596 196.574 72.3809 201.18 Q69.3254 205.763 63.5152 205.763 Q57.7051 205.763 54.6264 201.18 Q51.5708 196.574 51.5708 187.847 Q51.5708 179.097 54.6264 174.514 Q57.7051 169.907 63.5152 169.907 Z\" fill=\"#000000\" fill-rule=\"evenodd\" fill-opacity=\"1\" /><path clip-path=\"url(#clip720)\" d=\"M83.6771 199.213 L88.5614 199.213 L88.5614 205.092 L83.6771 205.092 L83.6771 199.213 Z\" fill=\"#000000\" fill-rule=\"evenodd\" fill-opacity=\"1\" /><path clip-path=\"url(#clip720)\" d=\"M108.746 188.68 Q105.413 188.68 103.492 190.463 Q101.594 192.245 101.594 195.37 Q101.594 198.495 103.492 200.277 Q105.413 202.06 108.746 202.06 Q112.08 202.06 114.001 200.277 Q115.922 198.472 115.922 195.37 Q115.922 192.245 114.001 190.463 Q112.103 188.68 108.746 188.68 M104.071 186.689 Q101.061 185.949 99.3715 183.889 Q97.7048 181.828 97.7048 178.865 Q97.7048 174.722 100.645 172.315 Q103.608 169.907 108.746 169.907 Q113.908 169.907 116.848 172.315 Q119.788 174.722 119.788 178.865 Q119.788 181.828 118.098 183.889 Q116.432 185.949 113.445 186.689 Q116.825 187.476 118.7 189.768 Q120.598 192.06 120.598 195.37 Q120.598 200.393 117.52 203.078 Q114.464 205.763 108.746 205.763 Q103.029 205.763 99.9502 203.078 Q96.8947 200.393 96.8947 195.37 Q96.8947 192.06 98.7928 189.768 Q100.691 187.476 104.071 186.689 M102.358 179.305 Q102.358 181.99 104.024 183.495 Q105.714 185 108.746 185 Q111.756 185 113.445 183.495 Q115.158 181.99 115.158 179.305 Q115.158 176.62 113.445 175.115 Q111.756 173.611 108.746 173.611 Q105.714 173.611 104.024 175.115 Q102.358 176.62 102.358 179.305 Z\" fill=\"#000000\" fill-rule=\"evenodd\" fill-opacity=\"1\" /><polyline clip-path=\"url(#clip722)\" style=\"stroke:#009af9; stroke-linecap:butt; stroke-linejoin:round; stroke-width:4; stroke-opacity:1; fill:none\" points=\"\n",
       "  218.754,345.05 290.197,628.078 361.64,802.612 433.083,914.409 504.526,989.6 575.969,1043.13 647.412,1083.59 718.855,1115.89 790.298,1142.9 861.741,1166.31 \n",
       "  933.184,1187.09 1004.63,1205.87 1076.07,1223.01 1147.51,1238.78 1218.96,1253.35 1290.4,1266.84 1361.84,1279.35 1433.28,1290.98 1504.73,1301.78 1576.17,1311.83 \n",
       "  1647.61,1321.17 1719.06,1329.85 1790.5,1337.93 1861.94,1345.45 1933.39,1352.44 2004.83,1358.94 2076.27,1364.99 2147.71,1370.62 2219.16,1375.86 2290.6,1380.73 \n",
       "  \n",
       "  \"/>\n",
       "<polyline clip-path=\"url(#clip722)\" style=\"stroke:#e26f46; stroke-linecap:butt; stroke-linejoin:round; stroke-width:4; stroke-opacity:1; fill:none\" points=\"\n",
       "  218.754,974.002 290.197,738.145 361.64,634.368 433.083,603.706 504.526,612.716 575.969,642.481 647.412,682.354 718.855,726.387 790.298,771.305 861.741,815.343 \n",
       "  933.184,857.595 1004.63,897.632 1076.07,935.294 1147.51,970.568 1218.96,1003.52 1290.4,1034.25 1361.84,1062.88 1433.28,1089.54 1504.73,1114.35 1576.17,1137.44 \n",
       "  1647.61,1158.93 1719.06,1178.92 1790.5,1197.52 1861.94,1214.83 1933.39,1230.92 2004.83,1245.9 2076.27,1259.83 2147.71,1272.79 2219.16,1284.85 2290.6,1296.06 \n",
       "  \n",
       "  \"/>\n",
       "<polyline clip-path=\"url(#clip722)\" style=\"stroke:#3da44d; stroke-linecap:butt; stroke-linejoin:round; stroke-width:4; stroke-opacity:1; fill:none\" points=\"\n",
       "  218.754,1445.72 290.197,1398.54 361.64,1327.79 433.083,1246.65 504.526,1162.45 575.969,1079.15 647.412,998.828 718.855,922.492 790.298,850.559 861.741,783.118 \n",
       "  933.184,720.081 1004.63,661.269 1076.07,606.46 1147.51,555.418 1218.96,507.903 1290.4,463.684 1361.84,422.537 1433.28,384.253 1504.73,348.635 1576.17,315.498 \n",
       "  1647.61,284.671 1719.06,255.993 1790.5,229.313 1861.94,204.494 1933.39,181.405 2004.83,159.926 2076.27,139.944 2147.71,121.356 2219.16,104.063 2290.6,87.9763 \n",
       "  \n",
       "  \"/>\n",
       "<path clip-path=\"url(#clip720)\" d=\"\n",
       "M1982.52 302.578 L2279.55 302.578 L2279.55 95.2176 L1982.52 95.2176  Z\n",
       "  \" fill=\"#ffffff\" fill-rule=\"evenodd\" fill-opacity=\"1\"/>\n",
       "<polyline clip-path=\"url(#clip720)\" style=\"stroke:#000000; stroke-linecap:butt; stroke-linejoin:round; stroke-width:4; stroke-opacity:1; fill:none\" points=\"\n",
       "  1982.52,302.578 2279.55,302.578 2279.55,95.2176 1982.52,95.2176 1982.52,302.578 \n",
       "  \"/>\n",
       "<polyline clip-path=\"url(#clip720)\" style=\"stroke:#009af9; stroke-linecap:butt; stroke-linejoin:round; stroke-width:4; stroke-opacity:1; fill:none\" points=\"\n",
       "  2006.93,147.058 2153.34,147.058 \n",
       "  \"/>\n",
       "<path clip-path=\"url(#clip720)\" d=\"M2191.58 166.745 Q2189.78 171.375 2188.06 172.787 Q2186.35 174.199 2183.48 174.199 L2180.08 174.199 L2180.08 170.634 L2182.58 170.634 Q2184.34 170.634 2185.31 169.8 Q2186.28 168.967 2187.46 165.865 L2188.22 163.921 L2177.74 138.412 L2182.25 138.412 L2190.35 158.689 L2198.46 138.412 L2202.97 138.412 L2191.58 166.745 Z\" fill=\"#000000\" fill-rule=\"evenodd\" fill-opacity=\"1\" /><path clip-path=\"url(#clip720)\" d=\"M2210.26 160.402 L2217.9 160.402 L2217.9 134.037 L2209.59 135.703 L2209.59 131.444 L2217.85 129.778 L2222.53 129.778 L2222.53 160.402 L2230.17 160.402 L2230.17 164.338 L2210.26 164.338 L2210.26 160.402 Z\" fill=\"#000000\" fill-rule=\"evenodd\" fill-opacity=\"1\" /><polyline clip-path=\"url(#clip720)\" style=\"stroke:#e26f46; stroke-linecap:butt; stroke-linejoin:round; stroke-width:4; stroke-opacity:1; fill:none\" points=\"\n",
       "  2006.93,198.898 2153.34,198.898 \n",
       "  \"/>\n",
       "<path clip-path=\"url(#clip720)\" d=\"M2191.58 218.585 Q2189.78 223.215 2188.06 224.627 Q2186.35 226.039 2183.48 226.039 L2180.08 226.039 L2180.08 222.474 L2182.58 222.474 Q2184.34 222.474 2185.31 221.64 Q2186.28 220.807 2187.46 217.705 L2188.22 215.761 L2177.74 190.252 L2182.25 190.252 L2190.35 210.529 L2198.46 190.252 L2202.97 190.252 L2191.58 218.585 Z\" fill=\"#000000\" fill-rule=\"evenodd\" fill-opacity=\"1\" /><path clip-path=\"url(#clip720)\" d=\"M2213.48 212.242 L2229.8 212.242 L2229.8 216.178 L2207.85 216.178 L2207.85 212.242 Q2210.52 209.488 2215.1 204.858 Q2219.71 200.205 2220.89 198.863 Q2223.13 196.34 2224.01 194.604 Q2224.91 192.844 2224.91 191.155 Q2224.91 188.4 2222.97 186.664 Q2221.05 184.928 2217.95 184.928 Q2215.75 184.928 2213.29 185.692 Q2210.86 186.455 2208.09 188.006 L2208.09 183.284 Q2210.91 182.15 2213.36 181.571 Q2215.82 180.993 2217.85 180.993 Q2223.22 180.993 2226.42 183.678 Q2229.61 186.363 2229.61 190.854 Q2229.61 192.983 2228.8 194.905 Q2228.02 196.803 2225.91 199.395 Q2225.33 200.067 2222.23 203.284 Q2219.13 206.479 2213.48 212.242 Z\" fill=\"#000000\" fill-rule=\"evenodd\" fill-opacity=\"1\" /><polyline clip-path=\"url(#clip720)\" style=\"stroke:#3da44d; stroke-linecap:butt; stroke-linejoin:round; stroke-width:4; stroke-opacity:1; fill:none\" points=\"\n",
       "  2006.93,250.738 2153.34,250.738 \n",
       "  \"/>\n",
       "<path clip-path=\"url(#clip720)\" d=\"M2191.58 270.425 Q2189.78 275.055 2188.06 276.467 Q2186.35 277.879 2183.48 277.879 L2180.08 277.879 L2180.08 274.314 L2182.58 274.314 Q2184.34 274.314 2185.31 273.48 Q2186.28 272.647 2187.46 269.545 L2188.22 267.601 L2177.74 242.092 L2182.25 242.092 L2190.35 262.369 L2198.46 242.092 L2202.97 242.092 L2191.58 270.425 Z\" fill=\"#000000\" fill-rule=\"evenodd\" fill-opacity=\"1\" /><path clip-path=\"url(#clip720)\" d=\"M2223.62 249.383 Q2226.97 250.101 2228.85 252.369 Q2230.75 254.638 2230.75 257.971 Q2230.75 263.087 2227.23 265.888 Q2223.71 268.689 2217.23 268.689 Q2215.05 268.689 2212.74 268.249 Q2210.45 267.832 2207.99 266.976 L2207.99 262.462 Q2209.94 263.596 2212.25 264.175 Q2214.57 264.754 2217.09 264.754 Q2221.49 264.754 2223.78 263.018 Q2226.09 261.281 2226.09 257.971 Q2226.09 254.916 2223.94 253.203 Q2221.81 251.467 2217.99 251.467 L2213.96 251.467 L2213.96 247.624 L2218.18 247.624 Q2221.63 247.624 2223.46 246.258 Q2225.28 244.87 2225.28 242.277 Q2225.28 239.615 2223.39 238.203 Q2221.51 236.768 2217.99 236.768 Q2216.07 236.768 2213.87 237.184 Q2211.67 237.601 2209.03 238.481 L2209.03 234.314 Q2211.7 233.573 2214.01 233.203 Q2216.35 232.833 2218.41 232.833 Q2223.73 232.833 2226.84 235.263 Q2229.94 237.67 2229.94 241.791 Q2229.94 244.661 2228.29 246.652 Q2226.65 248.62 2223.62 249.383 Z\" fill=\"#000000\" fill-rule=\"evenodd\" fill-opacity=\"1\" /></svg>\n"
      ]
     },
     "execution_count": 63,
     "metadata": {},
     "output_type": "execute_result"
    }
   ],
   "source": [
    "plot(z')"
   ]
  },
  {
   "cell_type": "markdown",
   "metadata": {},
   "source": [
    "This is like the SIR model in epidemilogoy, there is a peak of the middle state (infected). "
   ]
  },
  {
   "cell_type": "markdown",
   "metadata": {},
   "source": [
    "## When does $\\pi_\\infty = \\pi_*$?\n",
    "> ### Sufficient but not necessary conditions\n",
    "> 1. $[P_{ij}]>0$ for all i, j\n",
    "> 2. for some finite $T$: $[\\mathbf P^T]_{ij}>0$\n",
    "\n",
    "Example where #2 is useful:\n",
    "$$\n",
    "\\begin{bmatrix}\n",
    "0 & 1\\\\\n",
    "0.1 & 0.9\n",
    "\\end{bmatrix}\n",
    "$$"
   ]
  },
  {
   "cell_type": "code",
   "execution_count": 64,
   "metadata": {},
   "outputs": [
    {
     "data": {
      "text/plain": [
       "2×2 Matrix{Float64}:\n",
       " 0.0  1.0\n",
       " 0.1  0.9"
      ]
     },
     "execution_count": 64,
     "metadata": {},
     "output_type": "execute_result"
    }
   ],
   "source": [
    "A = [0 1; 0.1 0.9]"
   ]
  },
  {
   "cell_type": "code",
   "execution_count": 65,
   "metadata": {},
   "outputs": [
    {
     "data": {
      "text/plain": [
       "2×2 Matrix{Float64}:\n",
       " 0.1   0.9\n",
       " 0.09  0.91"
      ]
     },
     "execution_count": 65,
     "metadata": {},
     "output_type": "execute_result"
    }
   ],
   "source": [
    "A^2"
   ]
  },
  {
   "cell_type": "code",
   "execution_count": 66,
   "metadata": {},
   "outputs": [
    {
     "data": {
      "text/plain": [
       "2×2 Matrix{Float64}:\n",
       " 1.0  0.0\n",
       " 0.1  0.9"
      ]
     },
     "execution_count": 66,
     "metadata": {},
     "output_type": "execute_result"
    }
   ],
   "source": [
    "B = [1 0; 0.1 0.9]"
   ]
  },
  {
   "cell_type": "code",
   "execution_count": 67,
   "metadata": {},
   "outputs": [
    {
     "data": {
      "text/plain": [
       "2×2 Matrix{Float64}:\n",
       " 1.0   0.0\n",
       " 0.19  0.81"
      ]
     },
     "execution_count": 67,
     "metadata": {},
     "output_type": "execute_result"
    }
   ],
   "source": [
    "B^2"
   ]
  },
  {
   "cell_type": "code",
   "execution_count": 69,
   "metadata": {},
   "outputs": [
    {
     "data": {
      "text/plain": [
       "MarkovChain([0.8 0.1 0.1; 0.0 1.0 0.0; 0.0 0.0 1.0], [1.0, 0.0, 0.0])"
      ]
     },
     "execution_count": 69,
     "metadata": {},
     "output_type": "execute_result"
    }
   ],
   "source": [
    "bad_mc = MarkovChain([0.8 0.1 0.1; 0 1 0; 0 0 1], [1.0, 0, 0])"
   ]
  },
  {
   "cell_type": "code",
   "execution_count": 70,
   "metadata": {},
   "outputs": [
    {
     "data": {
      "text/plain": [
       "Eigen{Float64, Float64, Matrix{Float64}, Vector{Float64}}\n",
       "values:\n",
       "3-element Vector{Float64}:\n",
       " 0.8\n",
       " 1.0\n",
       " 1.0\n",
       "vectors:\n",
       "3×3 Matrix{Float64}:\n",
       "  0.816497  0.0  0.0\n",
       " -0.408248  0.0  1.0\n",
       " -0.408248  1.0  0.0"
      ]
     },
     "execution_count": 70,
     "metadata": {},
     "output_type": "execute_result"
    }
   ],
   "source": [
    "eigen(bad_mc.P')"
   ]
  },
  {
   "cell_type": "code",
   "execution_count": 71,
   "metadata": {},
   "outputs": [
    {
     "data": {
      "image/svg+xml": [
       "<?xml version=\"1.0\" encoding=\"utf-8\"?>\n",
       "<svg xmlns=\"http://www.w3.org/2000/svg\" xmlns:xlink=\"http://www.w3.org/1999/xlink\" width=\"600\" height=\"400\" viewBox=\"0 0 2400 1600\">\n",
       "<defs>\n",
       "  <clipPath id=\"clip760\">\n",
       "    <rect x=\"0\" y=\"0\" width=\"2400\" height=\"1600\"/>\n",
       "  </clipPath>\n",
       "</defs>\n",
       "<path clip-path=\"url(#clip760)\" d=\"\n",
       "M0 1600 L2400 1600 L2400 0 L0 0  Z\n",
       "  \" fill=\"#ffffff\" fill-rule=\"evenodd\" fill-opacity=\"1\"/>\n",
       "<defs>\n",
       "  <clipPath id=\"clip761\">\n",
       "    <rect x=\"480\" y=\"0\" width=\"1681\" height=\"1600\"/>\n",
       "  </clipPath>\n",
       "</defs>\n",
       "<path clip-path=\"url(#clip760)\" d=\"\n",
       "M156.598 1486.45 L2352.76 1486.45 L2352.76 47.2441 L156.598 47.2441  Z\n",
       "  \" fill=\"#ffffff\" fill-rule=\"evenodd\" fill-opacity=\"1\"/>\n",
       "<defs>\n",
       "  <clipPath id=\"clip762\">\n",
       "    <rect x=\"156\" y=\"47\" width=\"2197\" height=\"1440\"/>\n",
       "  </clipPath>\n",
       "</defs>\n",
       "<polyline clip-path=\"url(#clip762)\" style=\"stroke:#000000; stroke-linecap:butt; stroke-linejoin:round; stroke-width:2; stroke-opacity:0.1; fill:none\" points=\"\n",
       "  504.526,1486.45 504.526,47.2441 \n",
       "  \"/>\n",
       "<polyline clip-path=\"url(#clip762)\" style=\"stroke:#000000; stroke-linecap:butt; stroke-linejoin:round; stroke-width:2; stroke-opacity:0.1; fill:none\" points=\"\n",
       "  861.741,1486.45 861.741,47.2441 \n",
       "  \"/>\n",
       "<polyline clip-path=\"url(#clip762)\" style=\"stroke:#000000; stroke-linecap:butt; stroke-linejoin:round; stroke-width:2; stroke-opacity:0.1; fill:none\" points=\"\n",
       "  1218.96,1486.45 1218.96,47.2441 \n",
       "  \"/>\n",
       "<polyline clip-path=\"url(#clip762)\" style=\"stroke:#000000; stroke-linecap:butt; stroke-linejoin:round; stroke-width:2; stroke-opacity:0.1; fill:none\" points=\"\n",
       "  1576.17,1486.45 1576.17,47.2441 \n",
       "  \"/>\n",
       "<polyline clip-path=\"url(#clip762)\" style=\"stroke:#000000; stroke-linecap:butt; stroke-linejoin:round; stroke-width:2; stroke-opacity:0.1; fill:none\" points=\"\n",
       "  1933.39,1486.45 1933.39,47.2441 \n",
       "  \"/>\n",
       "<polyline clip-path=\"url(#clip762)\" style=\"stroke:#000000; stroke-linecap:butt; stroke-linejoin:round; stroke-width:2; stroke-opacity:0.1; fill:none\" points=\"\n",
       "  2290.6,1486.45 2290.6,47.2441 \n",
       "  \"/>\n",
       "<polyline clip-path=\"url(#clip760)\" style=\"stroke:#000000; stroke-linecap:butt; stroke-linejoin:round; stroke-width:4; stroke-opacity:1; fill:none\" points=\"\n",
       "  156.598,1486.45 2352.76,1486.45 \n",
       "  \"/>\n",
       "<polyline clip-path=\"url(#clip760)\" style=\"stroke:#000000; stroke-linecap:butt; stroke-linejoin:round; stroke-width:4; stroke-opacity:1; fill:none\" points=\"\n",
       "  504.526,1486.45 504.526,1467.55 \n",
       "  \"/>\n",
       "<polyline clip-path=\"url(#clip760)\" style=\"stroke:#000000; stroke-linecap:butt; stroke-linejoin:round; stroke-width:4; stroke-opacity:1; fill:none\" points=\"\n",
       "  861.741,1486.45 861.741,1467.55 \n",
       "  \"/>\n",
       "<polyline clip-path=\"url(#clip760)\" style=\"stroke:#000000; stroke-linecap:butt; stroke-linejoin:round; stroke-width:4; stroke-opacity:1; fill:none\" points=\"\n",
       "  1218.96,1486.45 1218.96,1467.55 \n",
       "  \"/>\n",
       "<polyline clip-path=\"url(#clip760)\" style=\"stroke:#000000; stroke-linecap:butt; stroke-linejoin:round; stroke-width:4; stroke-opacity:1; fill:none\" points=\"\n",
       "  1576.17,1486.45 1576.17,1467.55 \n",
       "  \"/>\n",
       "<polyline clip-path=\"url(#clip760)\" style=\"stroke:#000000; stroke-linecap:butt; stroke-linejoin:round; stroke-width:4; stroke-opacity:1; fill:none\" points=\"\n",
       "  1933.39,1486.45 1933.39,1467.55 \n",
       "  \"/>\n",
       "<polyline clip-path=\"url(#clip760)\" style=\"stroke:#000000; stroke-linecap:butt; stroke-linejoin:round; stroke-width:4; stroke-opacity:1; fill:none\" points=\"\n",
       "  2290.6,1486.45 2290.6,1467.55 \n",
       "  \"/>\n",
       "<path clip-path=\"url(#clip760)\" d=\"M494.803 1512.56 L513.16 1512.56 L513.16 1516.5 L499.086 1516.5 L499.086 1524.97 Q500.104 1524.62 501.123 1524.46 Q502.141 1524.27 503.16 1524.27 Q508.947 1524.27 512.327 1527.44 Q515.706 1530.62 515.706 1536.03 Q515.706 1541.61 512.234 1544.71 Q508.762 1547.79 502.442 1547.79 Q500.266 1547.79 497.998 1547.42 Q495.753 1547.05 493.345 1546.31 L493.345 1541.61 Q495.428 1542.74 497.651 1543.3 Q499.873 1543.86 502.35 1543.86 Q506.354 1543.86 508.692 1541.75 Q511.03 1539.64 511.03 1536.03 Q511.03 1532.42 508.692 1530.31 Q506.354 1528.21 502.35 1528.21 Q500.475 1528.21 498.6 1528.62 Q496.748 1529.04 494.803 1529.92 L494.803 1512.56 Z\" fill=\"#000000\" fill-rule=\"evenodd\" fill-opacity=\"1\" /><path clip-path=\"url(#clip760)\" d=\"M836.428 1543.18 L844.067 1543.18 L844.067 1516.82 L835.757 1518.49 L835.757 1514.23 L844.021 1512.56 L848.697 1512.56 L848.697 1543.18 L856.336 1543.18 L856.336 1547.12 L836.428 1547.12 L836.428 1543.18 Z\" fill=\"#000000\" fill-rule=\"evenodd\" fill-opacity=\"1\" /><path clip-path=\"url(#clip760)\" d=\"M875.78 1515.64 Q872.169 1515.64 870.34 1519.2 Q868.535 1522.75 868.535 1529.87 Q868.535 1536.98 870.34 1540.55 Q872.169 1544.09 875.78 1544.09 Q879.414 1544.09 881.22 1540.55 Q883.048 1536.98 883.048 1529.87 Q883.048 1522.75 881.22 1519.2 Q879.414 1515.64 875.78 1515.64 M875.78 1511.93 Q881.59 1511.93 884.646 1516.54 Q887.724 1521.12 887.724 1529.87 Q887.724 1538.6 884.646 1543.21 Q881.59 1547.79 875.78 1547.79 Q869.97 1547.79 866.891 1543.21 Q863.835 1538.6 863.835 1529.87 Q863.835 1521.12 866.891 1516.54 Q869.97 1511.93 875.78 1511.93 Z\" fill=\"#000000\" fill-rule=\"evenodd\" fill-opacity=\"1\" /><path clip-path=\"url(#clip760)\" d=\"M1194.14 1543.18 L1201.78 1543.18 L1201.78 1516.82 L1193.47 1518.49 L1193.47 1514.23 L1201.73 1512.56 L1206.41 1512.56 L1206.41 1543.18 L1214.05 1543.18 L1214.05 1547.12 L1194.14 1547.12 L1194.14 1543.18 Z\" fill=\"#000000\" fill-rule=\"evenodd\" fill-opacity=\"1\" /><path clip-path=\"url(#clip760)\" d=\"M1223.54 1512.56 L1241.9 1512.56 L1241.9 1516.5 L1227.82 1516.5 L1227.82 1524.97 Q1228.84 1524.62 1229.86 1524.46 Q1230.88 1524.27 1231.9 1524.27 Q1237.68 1524.27 1241.06 1527.44 Q1244.44 1530.62 1244.44 1536.03 Q1244.44 1541.61 1240.97 1544.71 Q1237.5 1547.79 1231.18 1547.79 Q1229 1547.79 1226.73 1547.42 Q1224.49 1547.05 1222.08 1546.31 L1222.08 1541.61 Q1224.16 1542.74 1226.39 1543.3 Q1228.61 1543.86 1231.09 1543.86 Q1235.09 1543.86 1237.43 1541.75 Q1239.77 1539.64 1239.77 1536.03 Q1239.77 1532.42 1237.43 1530.31 Q1235.09 1528.21 1231.09 1528.21 Q1229.21 1528.21 1227.34 1528.62 Q1225.48 1529.04 1223.54 1529.92 L1223.54 1512.56 Z\" fill=\"#000000\" fill-rule=\"evenodd\" fill-opacity=\"1\" /><path clip-path=\"url(#clip760)\" d=\"M1554.94 1543.18 L1571.26 1543.18 L1571.26 1547.12 L1549.32 1547.12 L1549.32 1543.18 Q1551.98 1540.43 1556.56 1535.8 Q1561.17 1531.15 1562.35 1529.81 Q1564.6 1527.28 1565.48 1525.55 Q1566.38 1523.79 1566.38 1522.1 Q1566.38 1519.34 1564.43 1517.61 Q1562.51 1515.87 1559.41 1515.87 Q1557.21 1515.87 1554.76 1516.63 Q1552.33 1517.4 1549.55 1518.95 L1549.55 1514.23 Q1552.37 1513.09 1554.83 1512.51 Q1557.28 1511.93 1559.32 1511.93 Q1564.69 1511.93 1567.88 1514.62 Q1571.08 1517.31 1571.08 1521.8 Q1571.08 1523.93 1570.27 1525.85 Q1569.48 1527.74 1567.37 1530.34 Q1566.8 1531.01 1563.69 1534.23 Q1560.59 1537.42 1554.94 1543.18 Z\" fill=\"#000000\" fill-rule=\"evenodd\" fill-opacity=\"1\" /><path clip-path=\"url(#clip760)\" d=\"M1591.08 1515.64 Q1587.47 1515.64 1585.64 1519.2 Q1583.83 1522.75 1583.83 1529.87 Q1583.83 1536.98 1585.64 1540.55 Q1587.47 1544.09 1591.08 1544.09 Q1594.71 1544.09 1596.52 1540.55 Q1598.35 1536.98 1598.35 1529.87 Q1598.35 1522.75 1596.52 1519.2 Q1594.71 1515.64 1591.08 1515.64 M1591.08 1511.93 Q1596.89 1511.93 1599.94 1516.54 Q1603.02 1521.12 1603.02 1529.87 Q1603.02 1538.6 1599.94 1543.21 Q1596.89 1547.79 1591.08 1547.79 Q1585.27 1547.79 1582.19 1543.21 Q1579.13 1538.6 1579.13 1529.87 Q1579.13 1521.12 1582.19 1516.54 Q1585.27 1511.93 1591.08 1511.93 Z\" fill=\"#000000\" fill-rule=\"evenodd\" fill-opacity=\"1\" /><path clip-path=\"url(#clip760)\" d=\"M1912.66 1543.18 L1928.98 1543.18 L1928.98 1547.12 L1907.03 1547.12 L1907.03 1543.18 Q1909.69 1540.43 1914.28 1535.8 Q1918.88 1531.15 1920.06 1529.81 Q1922.31 1527.28 1923.19 1525.55 Q1924.09 1523.79 1924.09 1522.1 Q1924.09 1519.34 1922.15 1517.61 Q1920.23 1515.87 1917.12 1515.87 Q1914.92 1515.87 1912.47 1516.63 Q1910.04 1517.4 1907.26 1518.95 L1907.26 1514.23 Q1910.09 1513.09 1912.54 1512.51 Q1914.99 1511.93 1917.03 1511.93 Q1922.4 1511.93 1925.6 1514.62 Q1928.79 1517.31 1928.79 1521.8 Q1928.79 1523.93 1927.98 1525.85 Q1927.19 1527.74 1925.09 1530.34 Q1924.51 1531.01 1921.41 1534.23 Q1918.3 1537.42 1912.66 1543.18 Z\" fill=\"#000000\" fill-rule=\"evenodd\" fill-opacity=\"1\" /><path clip-path=\"url(#clip760)\" d=\"M1938.84 1512.56 L1957.19 1512.56 L1957.19 1516.5 L1943.12 1516.5 L1943.12 1524.97 Q1944.14 1524.62 1945.16 1524.46 Q1946.17 1524.27 1947.19 1524.27 Q1952.98 1524.27 1956.36 1527.44 Q1959.74 1530.62 1959.74 1536.03 Q1959.74 1541.61 1956.27 1544.71 Q1952.8 1547.79 1946.48 1547.79 Q1944.3 1547.79 1942.03 1547.42 Q1939.79 1547.05 1937.38 1546.31 L1937.38 1541.61 Q1939.46 1542.74 1941.68 1543.3 Q1943.91 1543.86 1946.38 1543.86 Q1950.39 1543.86 1952.73 1541.75 Q1955.06 1539.64 1955.06 1536.03 Q1955.06 1532.42 1952.73 1530.31 Q1950.39 1528.21 1946.38 1528.21 Q1944.51 1528.21 1942.63 1528.62 Q1940.78 1529.04 1938.84 1529.92 L1938.84 1512.56 Z\" fill=\"#000000\" fill-rule=\"evenodd\" fill-opacity=\"1\" /><path clip-path=\"url(#clip760)\" d=\"M2279.44 1528.49 Q2282.8 1529.2 2284.67 1531.47 Q2286.57 1533.74 2286.57 1537.07 Q2286.57 1542.19 2283.05 1544.99 Q2279.54 1547.79 2273.05 1547.79 Q2270.88 1547.79 2268.56 1547.35 Q2266.27 1546.93 2263.82 1546.08 L2263.82 1541.56 Q2265.76 1542.7 2268.08 1543.28 Q2270.39 1543.86 2272.92 1543.86 Q2277.31 1543.86 2279.61 1542.12 Q2281.92 1540.38 2281.92 1537.07 Q2281.92 1534.02 2279.77 1532.31 Q2277.64 1530.57 2273.82 1530.57 L2269.79 1530.57 L2269.79 1526.73 L2274 1526.73 Q2277.45 1526.73 2279.28 1525.36 Q2281.11 1523.97 2281.11 1521.38 Q2281.11 1518.72 2279.21 1517.31 Q2277.34 1515.87 2273.82 1515.87 Q2271.9 1515.87 2269.7 1516.29 Q2267.5 1516.7 2264.86 1517.58 L2264.86 1513.42 Q2267.52 1512.68 2269.84 1512.31 Q2272.17 1511.93 2274.23 1511.93 Q2279.56 1511.93 2282.66 1514.37 Q2285.76 1516.77 2285.76 1520.89 Q2285.76 1523.76 2284.12 1525.75 Q2282.48 1527.72 2279.44 1528.49 Z\" fill=\"#000000\" fill-rule=\"evenodd\" fill-opacity=\"1\" /><path clip-path=\"url(#clip760)\" d=\"M2305.44 1515.64 Q2301.83 1515.64 2300 1519.2 Q2298.19 1522.75 2298.19 1529.87 Q2298.19 1536.98 2300 1540.55 Q2301.83 1544.09 2305.44 1544.09 Q2309.07 1544.09 2310.88 1540.55 Q2312.71 1536.98 2312.71 1529.87 Q2312.71 1522.75 2310.88 1519.2 Q2309.07 1515.64 2305.44 1515.64 M2305.44 1511.93 Q2311.25 1511.93 2314.3 1516.54 Q2317.38 1521.12 2317.38 1529.87 Q2317.38 1538.6 2314.3 1543.21 Q2311.25 1547.79 2305.44 1547.79 Q2299.63 1547.79 2296.55 1543.21 Q2293.49 1538.6 2293.49 1529.87 Q2293.49 1521.12 2296.55 1516.54 Q2299.63 1511.93 2305.44 1511.93 Z\" fill=\"#000000\" fill-rule=\"evenodd\" fill-opacity=\"1\" /><polyline clip-path=\"url(#clip762)\" style=\"stroke:#000000; stroke-linecap:butt; stroke-linejoin:round; stroke-width:2; stroke-opacity:0.1; fill:none\" points=\"\n",
       "  156.598,1447.82 2352.76,1447.82 \n",
       "  \"/>\n",
       "<polyline clip-path=\"url(#clip762)\" style=\"stroke:#000000; stroke-linecap:butt; stroke-linejoin:round; stroke-width:2; stroke-opacity:0.1; fill:none\" points=\"\n",
       "  156.598,1107.86 2352.76,1107.86 \n",
       "  \"/>\n",
       "<polyline clip-path=\"url(#clip762)\" style=\"stroke:#000000; stroke-linecap:butt; stroke-linejoin:round; stroke-width:2; stroke-opacity:0.1; fill:none\" points=\"\n",
       "  156.598,767.898 2352.76,767.898 \n",
       "  \"/>\n",
       "<polyline clip-path=\"url(#clip762)\" style=\"stroke:#000000; stroke-linecap:butt; stroke-linejoin:round; stroke-width:2; stroke-opacity:0.1; fill:none\" points=\"\n",
       "  156.598,427.937 2352.76,427.937 \n",
       "  \"/>\n",
       "<polyline clip-path=\"url(#clip762)\" style=\"stroke:#000000; stroke-linecap:butt; stroke-linejoin:round; stroke-width:2; stroke-opacity:0.1; fill:none\" points=\"\n",
       "  156.598,87.9763 2352.76,87.9763 \n",
       "  \"/>\n",
       "<polyline clip-path=\"url(#clip760)\" style=\"stroke:#000000; stroke-linecap:butt; stroke-linejoin:round; stroke-width:4; stroke-opacity:1; fill:none\" points=\"\n",
       "  156.598,1486.45 156.598,47.2441 \n",
       "  \"/>\n",
       "<polyline clip-path=\"url(#clip760)\" style=\"stroke:#000000; stroke-linecap:butt; stroke-linejoin:round; stroke-width:4; stroke-opacity:1; fill:none\" points=\"\n",
       "  156.598,1447.82 175.496,1447.82 \n",
       "  \"/>\n",
       "<polyline clip-path=\"url(#clip760)\" style=\"stroke:#000000; stroke-linecap:butt; stroke-linejoin:round; stroke-width:4; stroke-opacity:1; fill:none\" points=\"\n",
       "  156.598,1107.86 175.496,1107.86 \n",
       "  \"/>\n",
       "<polyline clip-path=\"url(#clip760)\" style=\"stroke:#000000; stroke-linecap:butt; stroke-linejoin:round; stroke-width:4; stroke-opacity:1; fill:none\" points=\"\n",
       "  156.598,767.898 175.496,767.898 \n",
       "  \"/>\n",
       "<polyline clip-path=\"url(#clip760)\" style=\"stroke:#000000; stroke-linecap:butt; stroke-linejoin:round; stroke-width:4; stroke-opacity:1; fill:none\" points=\"\n",
       "  156.598,427.937 175.496,427.937 \n",
       "  \"/>\n",
       "<polyline clip-path=\"url(#clip760)\" style=\"stroke:#000000; stroke-linecap:butt; stroke-linejoin:round; stroke-width:4; stroke-opacity:1; fill:none\" points=\"\n",
       "  156.598,87.9763 175.496,87.9763 \n",
       "  \"/>\n",
       "<path clip-path=\"url(#clip760)\" d=\"M63.4226 1433.62 Q59.8115 1433.62 57.9828 1437.18 Q56.1773 1440.73 56.1773 1447.85 Q56.1773 1454.96 57.9828 1458.53 Q59.8115 1462.07 63.4226 1462.07 Q67.0569 1462.07 68.8624 1458.53 Q70.6911 1454.96 70.6911 1447.85 Q70.6911 1440.73 68.8624 1437.18 Q67.0569 1433.62 63.4226 1433.62 M63.4226 1429.91 Q69.2328 1429.91 72.2883 1434.52 Q75.367 1439.1 75.367 1447.85 Q75.367 1456.58 72.2883 1461.19 Q69.2328 1465.77 63.4226 1465.77 Q57.6125 1465.77 54.5338 1461.19 Q51.4782 1456.58 51.4782 1447.85 Q51.4782 1439.1 54.5338 1434.52 Q57.6125 1429.91 63.4226 1429.91 Z\" fill=\"#000000\" fill-rule=\"evenodd\" fill-opacity=\"1\" /><path clip-path=\"url(#clip760)\" d=\"M83.5845 1459.22 L88.4688 1459.22 L88.4688 1465.1 L83.5845 1465.1 L83.5845 1459.22 Z\" fill=\"#000000\" fill-rule=\"evenodd\" fill-opacity=\"1\" /><path clip-path=\"url(#clip760)\" d=\"M108.654 1433.62 Q105.043 1433.62 103.214 1437.18 Q101.409 1440.73 101.409 1447.85 Q101.409 1454.96 103.214 1458.53 Q105.043 1462.07 108.654 1462.07 Q112.288 1462.07 114.094 1458.53 Q115.922 1454.96 115.922 1447.85 Q115.922 1440.73 114.094 1437.18 Q112.288 1433.62 108.654 1433.62 M108.654 1429.91 Q114.464 1429.91 117.52 1434.52 Q120.598 1439.1 120.598 1447.85 Q120.598 1456.58 117.52 1461.19 Q114.464 1465.77 108.654 1465.77 Q102.844 1465.77 99.765 1461.19 Q96.7095 1456.58 96.7095 1447.85 Q96.7095 1439.1 99.765 1434.52 Q102.844 1429.91 108.654 1429.91 Z\" fill=\"#000000\" fill-rule=\"evenodd\" fill-opacity=\"1\" /><path clip-path=\"url(#clip760)\" d=\"M65.0198 1093.66 Q61.4087 1093.66 59.58 1097.22 Q57.7745 1100.76 57.7745 1107.89 Q57.7745 1115 59.58 1118.56 Q61.4087 1122.11 65.0198 1122.11 Q68.6541 1122.11 70.4596 1118.56 Q72.2883 1115 72.2883 1107.89 Q72.2883 1100.76 70.4596 1097.22 Q68.6541 1093.66 65.0198 1093.66 M65.0198 1089.95 Q70.83 1089.95 73.8855 1094.56 Q76.9642 1099.14 76.9642 1107.89 Q76.9642 1116.62 73.8855 1121.23 Q70.83 1125.81 65.0198 1125.81 Q59.2097 1125.81 56.131 1121.23 Q53.0754 1116.62 53.0754 1107.89 Q53.0754 1099.14 56.131 1094.56 Q59.2097 1089.95 65.0198 1089.95 Z\" fill=\"#000000\" fill-rule=\"evenodd\" fill-opacity=\"1\" /><path clip-path=\"url(#clip760)\" d=\"M85.1818 1119.26 L90.066 1119.26 L90.066 1125.14 L85.1818 1125.14 L85.1818 1119.26 Z\" fill=\"#000000\" fill-rule=\"evenodd\" fill-opacity=\"1\" /><path clip-path=\"url(#clip760)\" d=\"M104.279 1121.2 L120.598 1121.2 L120.598 1125.14 L98.6539 1125.14 L98.6539 1121.2 Q101.316 1118.45 105.899 1113.82 Q110.506 1109.17 111.686 1107.82 Q113.932 1105.3 114.811 1103.57 Q115.714 1101.81 115.714 1100.12 Q115.714 1097.36 113.77 1095.63 Q111.848 1093.89 108.746 1093.89 Q106.547 1093.89 104.094 1094.65 Q101.663 1095.42 98.8854 1096.97 L98.8854 1092.25 Q101.709 1091.11 104.163 1090.53 Q106.617 1089.95 108.654 1089.95 Q114.024 1089.95 117.219 1092.64 Q120.413 1095.32 120.413 1099.82 Q120.413 1101.94 119.603 1103.87 Q118.816 1105.76 116.709 1108.36 Q116.131 1109.03 113.029 1112.25 Q109.927 1115.44 104.279 1121.2 Z\" fill=\"#000000\" fill-rule=\"evenodd\" fill-opacity=\"1\" /><path clip-path=\"url(#clip760)\" d=\"M62.9365 753.697 Q59.3254 753.697 57.4967 757.262 Q55.6912 760.803 55.6912 767.933 Q55.6912 775.039 57.4967 778.604 Q59.3254 782.146 62.9365 782.146 Q66.5707 782.146 68.3763 778.604 Q70.205 775.039 70.205 767.933 Q70.205 760.803 68.3763 757.262 Q66.5707 753.697 62.9365 753.697 M62.9365 749.993 Q68.7467 749.993 71.8022 754.6 Q74.8809 759.183 74.8809 767.933 Q74.8809 776.66 71.8022 781.266 Q68.7467 785.849 62.9365 785.849 Q57.1264 785.849 54.0477 781.266 Q50.9921 776.66 50.9921 767.933 Q50.9921 759.183 54.0477 754.6 Q57.1264 749.993 62.9365 749.993 Z\" fill=\"#000000\" fill-rule=\"evenodd\" fill-opacity=\"1\" /><path clip-path=\"url(#clip760)\" d=\"M83.0984 779.299 L87.9827 779.299 L87.9827 785.178 L83.0984 785.178 L83.0984 779.299 Z\" fill=\"#000000\" fill-rule=\"evenodd\" fill-opacity=\"1\" /><path clip-path=\"url(#clip760)\" d=\"M111.015 754.692 L99.2095 773.141 L111.015 773.141 L111.015 754.692 M109.788 750.618 L115.668 750.618 L115.668 773.141 L120.598 773.141 L120.598 777.03 L115.668 777.03 L115.668 785.178 L111.015 785.178 L111.015 777.03 L95.4132 777.03 L95.4132 772.516 L109.788 750.618 Z\" fill=\"#000000\" fill-rule=\"evenodd\" fill-opacity=\"1\" /><path clip-path=\"url(#clip760)\" d=\"M63.2606 413.736 Q59.6495 413.736 57.8208 417.301 Q56.0152 420.842 56.0152 427.972 Q56.0152 435.078 57.8208 438.643 Q59.6495 442.185 63.2606 442.185 Q66.8948 442.185 68.7004 438.643 Q70.5291 435.078 70.5291 427.972 Q70.5291 420.842 68.7004 417.301 Q66.8948 413.736 63.2606 413.736 M63.2606 410.032 Q69.0707 410.032 72.1263 414.639 Q75.205 419.222 75.205 427.972 Q75.205 436.699 72.1263 441.305 Q69.0707 445.888 63.2606 445.888 Q57.4504 445.888 54.3717 441.305 Q51.3162 436.699 51.3162 427.972 Q51.3162 419.222 54.3717 414.639 Q57.4504 410.032 63.2606 410.032 Z\" fill=\"#000000\" fill-rule=\"evenodd\" fill-opacity=\"1\" /><path clip-path=\"url(#clip760)\" d=\"M83.4225 439.338 L88.3067 439.338 L88.3067 445.217 L83.4225 445.217 L83.4225 439.338 Z\" fill=\"#000000\" fill-rule=\"evenodd\" fill-opacity=\"1\" /><path clip-path=\"url(#clip760)\" d=\"M109.071 426.074 Q105.922 426.074 104.071 428.227 Q102.242 430.379 102.242 434.129 Q102.242 437.856 104.071 440.032 Q105.922 442.185 109.071 442.185 Q112.219 442.185 114.047 440.032 Q115.899 437.856 115.899 434.129 Q115.899 430.379 114.047 428.227 Q112.219 426.074 109.071 426.074 M118.353 411.421 L118.353 415.68 Q116.594 414.847 114.788 414.407 Q113.006 413.967 111.246 413.967 Q106.617 413.967 104.163 417.092 Q101.733 420.217 101.385 426.537 Q102.751 424.523 104.811 423.458 Q106.871 422.37 109.348 422.37 Q114.557 422.37 117.566 425.541 Q120.598 428.69 120.598 434.129 Q120.598 439.453 117.45 442.671 Q114.302 445.888 109.071 445.888 Q103.075 445.888 99.9039 441.305 Q96.7326 436.699 96.7326 427.972 Q96.7326 419.778 100.621 414.916 Q104.51 410.032 111.061 410.032 Q112.82 410.032 114.603 410.379 Q116.408 410.727 118.353 411.421 Z\" fill=\"#000000\" fill-rule=\"evenodd\" fill-opacity=\"1\" /><path clip-path=\"url(#clip760)\" d=\"M63.5152 73.775 Q59.9041 73.775 58.0754 77.3398 Q56.2699 80.8814 56.2699 88.011 Q56.2699 95.1174 58.0754 98.6822 Q59.9041 102.224 63.5152 102.224 Q67.1494 102.224 68.955 98.6822 Q70.7837 95.1174 70.7837 88.011 Q70.7837 80.8814 68.955 77.3398 Q67.1494 73.775 63.5152 73.775 M63.5152 70.0713 Q69.3254 70.0713 72.3809 74.6777 Q75.4596 79.261 75.4596 88.011 Q75.4596 96.7378 72.3809 101.344 Q69.3254 105.928 63.5152 105.928 Q57.7051 105.928 54.6264 101.344 Q51.5708 96.7378 51.5708 88.011 Q51.5708 79.261 54.6264 74.6777 Q57.7051 70.0713 63.5152 70.0713 Z\" fill=\"#000000\" fill-rule=\"evenodd\" fill-opacity=\"1\" /><path clip-path=\"url(#clip760)\" d=\"M83.6771 99.3767 L88.5614 99.3767 L88.5614 105.256 L83.6771 105.256 L83.6771 99.3767 Z\" fill=\"#000000\" fill-rule=\"evenodd\" fill-opacity=\"1\" /><path clip-path=\"url(#clip760)\" d=\"M108.746 88.8443 Q105.413 88.8443 103.492 90.6267 Q101.594 92.4091 101.594 95.5341 Q101.594 98.6591 103.492 100.441 Q105.413 102.224 108.746 102.224 Q112.08 102.224 114.001 100.441 Q115.922 98.6359 115.922 95.5341 Q115.922 92.4091 114.001 90.6267 Q112.103 88.8443 108.746 88.8443 M104.071 86.8536 Q101.061 86.1129 99.3715 84.0527 Q97.7048 81.9925 97.7048 79.0296 Q97.7048 74.8861 100.645 72.4787 Q103.608 70.0713 108.746 70.0713 Q113.908 70.0713 116.848 72.4787 Q119.788 74.8861 119.788 79.0296 Q119.788 81.9925 118.098 84.0527 Q116.432 86.1129 113.445 86.8536 Q116.825 87.6406 118.7 89.9323 Q120.598 92.2239 120.598 95.5341 Q120.598 100.557 117.52 103.242 Q114.464 105.928 108.746 105.928 Q103.029 105.928 99.9502 103.242 Q96.8947 100.557 96.8947 95.5341 Q96.8947 92.2239 98.7928 89.9323 Q100.691 87.6406 104.071 86.8536 M102.358 79.4694 Q102.358 82.1545 104.024 83.6592 Q105.714 85.1638 108.746 85.1638 Q111.756 85.1638 113.445 83.6592 Q115.158 82.1545 115.158 79.4694 Q115.158 76.7842 113.445 75.2796 Q111.756 73.775 108.746 73.775 Q105.714 73.775 104.024 75.2796 Q102.358 76.7842 102.358 79.4694 Z\" fill=\"#000000\" fill-rule=\"evenodd\" fill-opacity=\"1\" /><polyline clip-path=\"url(#clip762)\" style=\"stroke:#009af9; stroke-linecap:butt; stroke-linejoin:round; stroke-width:4; stroke-opacity:1; fill:none\" points=\"\n",
       "  218.754,87.9763 290.197,359.945 361.64,577.52 433.083,751.58 504.526,890.828 575.969,1002.23 647.412,1091.35 718.855,1162.64 790.298,1219.68 861.741,1265.3 \n",
       "  933.184,1301.81 1004.63,1331.01 1076.07,1354.37 1147.51,1373.06 1218.96,1388.01 1290.4,1399.97 1361.84,1409.54 1433.28,1417.2 1504.73,1423.32 1576.17,1428.22 \n",
       "  1647.61,1432.14 1719.06,1435.28 1790.5,1437.79 1861.94,1439.79 1933.39,1441.4 2004.83,1442.68 2076.27,1443.71 2147.71,1444.53 2219.16,1445.19 2290.6,1445.72 \n",
       "  \n",
       "  \"/>\n",
       "<polyline clip-path=\"url(#clip762)\" style=\"stroke:#e26f46; stroke-linecap:butt; stroke-linejoin:round; stroke-width:4; stroke-opacity:1; fill:none\" points=\"\n",
       "  218.754,1277.84 290.197,1141.86 361.64,1033.07 433.083,946.038 504.526,876.414 575.969,820.714 647.412,776.155 718.855,740.508 790.298,711.99 861.741,689.175 \n",
       "  933.184,670.924 1004.63,656.322 1076.07,644.642 1147.51,635.297 1218.96,627.821 1290.4,621.84 1361.84,617.056 1433.28,613.228 1504.73,610.166 1576.17,607.716 \n",
       "  1647.61,605.757 1719.06,604.189 1790.5,602.935 1861.94,601.931 1933.39,601.128 2004.83,600.486 2076.27,599.973 2147.71,599.562 2219.16,599.233 2290.6,598.97 \n",
       "  \n",
       "  \"/>\n",
       "<polyline clip-path=\"url(#clip762)\" style=\"stroke:#3da44d; stroke-linecap:butt; stroke-linejoin:round; stroke-width:4; stroke-opacity:1; fill:none\" points=\"\n",
       "  218.754,1277.84 290.197,1141.86 361.64,1033.07 433.083,946.038 504.526,876.414 575.969,820.714 647.412,776.155 718.855,740.508 790.298,711.99 861.741,689.175 \n",
       "  933.184,670.924 1004.63,656.322 1076.07,644.642 1147.51,635.297 1218.96,627.821 1290.4,621.84 1361.84,617.056 1433.28,613.228 1504.73,610.166 1576.17,607.716 \n",
       "  1647.61,605.757 1719.06,604.189 1790.5,602.935 1861.94,601.931 1933.39,601.128 2004.83,600.486 2076.27,599.973 2147.71,599.562 2219.16,599.233 2290.6,598.97 \n",
       "  \n",
       "  \"/>\n",
       "<path clip-path=\"url(#clip760)\" d=\"\n",
       "M1982.52 302.578 L2279.55 302.578 L2279.55 95.2176 L1982.52 95.2176  Z\n",
       "  \" fill=\"#ffffff\" fill-rule=\"evenodd\" fill-opacity=\"1\"/>\n",
       "<polyline clip-path=\"url(#clip760)\" style=\"stroke:#000000; stroke-linecap:butt; stroke-linejoin:round; stroke-width:4; stroke-opacity:1; fill:none\" points=\"\n",
       "  1982.52,302.578 2279.55,302.578 2279.55,95.2176 1982.52,95.2176 1982.52,302.578 \n",
       "  \"/>\n",
       "<polyline clip-path=\"url(#clip760)\" style=\"stroke:#009af9; stroke-linecap:butt; stroke-linejoin:round; stroke-width:4; stroke-opacity:1; fill:none\" points=\"\n",
       "  2006.93,147.058 2153.34,147.058 \n",
       "  \"/>\n",
       "<path clip-path=\"url(#clip760)\" d=\"M2191.58 166.745 Q2189.78 171.375 2188.06 172.787 Q2186.35 174.199 2183.48 174.199 L2180.08 174.199 L2180.08 170.634 L2182.58 170.634 Q2184.34 170.634 2185.31 169.8 Q2186.28 168.967 2187.46 165.865 L2188.22 163.921 L2177.74 138.412 L2182.25 138.412 L2190.35 158.689 L2198.46 138.412 L2202.97 138.412 L2191.58 166.745 Z\" fill=\"#000000\" fill-rule=\"evenodd\" fill-opacity=\"1\" /><path clip-path=\"url(#clip760)\" d=\"M2210.26 160.402 L2217.9 160.402 L2217.9 134.037 L2209.59 135.703 L2209.59 131.444 L2217.85 129.778 L2222.53 129.778 L2222.53 160.402 L2230.17 160.402 L2230.17 164.338 L2210.26 164.338 L2210.26 160.402 Z\" fill=\"#000000\" fill-rule=\"evenodd\" fill-opacity=\"1\" /><polyline clip-path=\"url(#clip760)\" style=\"stroke:#e26f46; stroke-linecap:butt; stroke-linejoin:round; stroke-width:4; stroke-opacity:1; fill:none\" points=\"\n",
       "  2006.93,198.898 2153.34,198.898 \n",
       "  \"/>\n",
       "<path clip-path=\"url(#clip760)\" d=\"M2191.58 218.585 Q2189.78 223.215 2188.06 224.627 Q2186.35 226.039 2183.48 226.039 L2180.08 226.039 L2180.08 222.474 L2182.58 222.474 Q2184.34 222.474 2185.31 221.64 Q2186.28 220.807 2187.46 217.705 L2188.22 215.761 L2177.74 190.252 L2182.25 190.252 L2190.35 210.529 L2198.46 190.252 L2202.97 190.252 L2191.58 218.585 Z\" fill=\"#000000\" fill-rule=\"evenodd\" fill-opacity=\"1\" /><path clip-path=\"url(#clip760)\" d=\"M2213.48 212.242 L2229.8 212.242 L2229.8 216.178 L2207.85 216.178 L2207.85 212.242 Q2210.52 209.488 2215.1 204.858 Q2219.71 200.205 2220.89 198.863 Q2223.13 196.34 2224.01 194.604 Q2224.91 192.844 2224.91 191.155 Q2224.91 188.4 2222.97 186.664 Q2221.05 184.928 2217.95 184.928 Q2215.75 184.928 2213.29 185.692 Q2210.86 186.455 2208.09 188.006 L2208.09 183.284 Q2210.91 182.15 2213.36 181.571 Q2215.82 180.993 2217.85 180.993 Q2223.22 180.993 2226.42 183.678 Q2229.61 186.363 2229.61 190.854 Q2229.61 192.983 2228.8 194.905 Q2228.02 196.803 2225.91 199.395 Q2225.33 200.067 2222.23 203.284 Q2219.13 206.479 2213.48 212.242 Z\" fill=\"#000000\" fill-rule=\"evenodd\" fill-opacity=\"1\" /><polyline clip-path=\"url(#clip760)\" style=\"stroke:#3da44d; stroke-linecap:butt; stroke-linejoin:round; stroke-width:4; stroke-opacity:1; fill:none\" points=\"\n",
       "  2006.93,250.738 2153.34,250.738 \n",
       "  \"/>\n",
       "<path clip-path=\"url(#clip760)\" d=\"M2191.58 270.425 Q2189.78 275.055 2188.06 276.467 Q2186.35 277.879 2183.48 277.879 L2180.08 277.879 L2180.08 274.314 L2182.58 274.314 Q2184.34 274.314 2185.31 273.48 Q2186.28 272.647 2187.46 269.545 L2188.22 267.601 L2177.74 242.092 L2182.25 242.092 L2190.35 262.369 L2198.46 242.092 L2202.97 242.092 L2191.58 270.425 Z\" fill=\"#000000\" fill-rule=\"evenodd\" fill-opacity=\"1\" /><path clip-path=\"url(#clip760)\" d=\"M2223.62 249.383 Q2226.97 250.101 2228.85 252.369 Q2230.75 254.638 2230.75 257.971 Q2230.75 263.087 2227.23 265.888 Q2223.71 268.689 2217.23 268.689 Q2215.05 268.689 2212.74 268.249 Q2210.45 267.832 2207.99 266.976 L2207.99 262.462 Q2209.94 263.596 2212.25 264.175 Q2214.57 264.754 2217.09 264.754 Q2221.49 264.754 2223.78 263.018 Q2226.09 261.281 2226.09 257.971 Q2226.09 254.916 2223.94 253.203 Q2221.81 251.467 2217.99 251.467 L2213.96 251.467 L2213.96 247.624 L2218.18 247.624 Q2221.63 247.624 2223.46 246.258 Q2225.28 244.87 2225.28 242.277 Q2225.28 239.615 2223.39 238.203 Q2221.51 236.768 2217.99 236.768 Q2216.07 236.768 2213.87 237.184 Q2211.67 237.601 2209.03 238.481 L2209.03 234.314 Q2211.7 233.573 2214.01 233.203 Q2216.35 232.833 2218.41 232.833 Q2223.73 232.833 2226.84 235.263 Q2229.94 237.67 2229.94 241.791 Q2229.94 244.661 2228.29 246.652 Q2226.65 248.62 2223.62 249.383 Z\" fill=\"#000000\" fill-rule=\"evenodd\" fill-opacity=\"1\" /></svg>\n"
      ]
     },
     "execution_count": 71,
     "metadata": {},
     "output_type": "execute_result"
    }
   ],
   "source": [
    "z = forecast_markov_chain(bad_mc, 30)\n",
    "plot(z')"
   ]
  },
  {
   "cell_type": "code",
   "execution_count": 75,
   "metadata": {},
   "outputs": [
    {
     "data": {
      "text/plain": [
       "MarkovChain([0.8 0.1 0.1; 0.0 1.0 0.0; 0.0 0.0 1.0], [0.1, 0.9, 0.0])"
      ]
     },
     "execution_count": 75,
     "metadata": {},
     "output_type": "execute_result"
    }
   ],
   "source": [
    "another_starting_value = MarkovChain(bad_mc.P, [0.1, 0.9, 0.0])"
   ]
  },
  {
   "cell_type": "code",
   "execution_count": 76,
   "metadata": {},
   "outputs": [
    {
     "data": {
      "image/svg+xml": [
       "<?xml version=\"1.0\" encoding=\"utf-8\"?>\n",
       "<svg xmlns=\"http://www.w3.org/2000/svg\" xmlns:xlink=\"http://www.w3.org/1999/xlink\" width=\"600\" height=\"400\" viewBox=\"0 0 2400 1600\">\n",
       "<defs>\n",
       "  <clipPath id=\"clip840\">\n",
       "    <rect x=\"0\" y=\"0\" width=\"2400\" height=\"1600\"/>\n",
       "  </clipPath>\n",
       "</defs>\n",
       "<path clip-path=\"url(#clip840)\" d=\"\n",
       "M0 1600 L2400 1600 L2400 0 L0 0  Z\n",
       "  \" fill=\"#ffffff\" fill-rule=\"evenodd\" fill-opacity=\"1\"/>\n",
       "<defs>\n",
       "  <clipPath id=\"clip841\">\n",
       "    <rect x=\"480\" y=\"0\" width=\"1681\" height=\"1600\"/>\n",
       "  </clipPath>\n",
       "</defs>\n",
       "<path clip-path=\"url(#clip840)\" d=\"\n",
       "M156.598 1486.45 L2352.76 1486.45 L2352.76 47.2441 L156.598 47.2441  Z\n",
       "  \" fill=\"#ffffff\" fill-rule=\"evenodd\" fill-opacity=\"1\"/>\n",
       "<defs>\n",
       "  <clipPath id=\"clip842\">\n",
       "    <rect x=\"156\" y=\"47\" width=\"2197\" height=\"1440\"/>\n",
       "  </clipPath>\n",
       "</defs>\n",
       "<polyline clip-path=\"url(#clip842)\" style=\"stroke:#000000; stroke-linecap:butt; stroke-linejoin:round; stroke-width:2; stroke-opacity:0.1; fill:none\" points=\"\n",
       "  504.526,1486.45 504.526,47.2441 \n",
       "  \"/>\n",
       "<polyline clip-path=\"url(#clip842)\" style=\"stroke:#000000; stroke-linecap:butt; stroke-linejoin:round; stroke-width:2; stroke-opacity:0.1; fill:none\" points=\"\n",
       "  861.741,1486.45 861.741,47.2441 \n",
       "  \"/>\n",
       "<polyline clip-path=\"url(#clip842)\" style=\"stroke:#000000; stroke-linecap:butt; stroke-linejoin:round; stroke-width:2; stroke-opacity:0.1; fill:none\" points=\"\n",
       "  1218.96,1486.45 1218.96,47.2441 \n",
       "  \"/>\n",
       "<polyline clip-path=\"url(#clip842)\" style=\"stroke:#000000; stroke-linecap:butt; stroke-linejoin:round; stroke-width:2; stroke-opacity:0.1; fill:none\" points=\"\n",
       "  1576.17,1486.45 1576.17,47.2441 \n",
       "  \"/>\n",
       "<polyline clip-path=\"url(#clip842)\" style=\"stroke:#000000; stroke-linecap:butt; stroke-linejoin:round; stroke-width:2; stroke-opacity:0.1; fill:none\" points=\"\n",
       "  1933.39,1486.45 1933.39,47.2441 \n",
       "  \"/>\n",
       "<polyline clip-path=\"url(#clip842)\" style=\"stroke:#000000; stroke-linecap:butt; stroke-linejoin:round; stroke-width:2; stroke-opacity:0.1; fill:none\" points=\"\n",
       "  2290.6,1486.45 2290.6,47.2441 \n",
       "  \"/>\n",
       "<polyline clip-path=\"url(#clip840)\" style=\"stroke:#000000; stroke-linecap:butt; stroke-linejoin:round; stroke-width:4; stroke-opacity:1; fill:none\" points=\"\n",
       "  156.598,1486.45 2352.76,1486.45 \n",
       "  \"/>\n",
       "<polyline clip-path=\"url(#clip840)\" style=\"stroke:#000000; stroke-linecap:butt; stroke-linejoin:round; stroke-width:4; stroke-opacity:1; fill:none\" points=\"\n",
       "  504.526,1486.45 504.526,1467.55 \n",
       "  \"/>\n",
       "<polyline clip-path=\"url(#clip840)\" style=\"stroke:#000000; stroke-linecap:butt; stroke-linejoin:round; stroke-width:4; stroke-opacity:1; fill:none\" points=\"\n",
       "  861.741,1486.45 861.741,1467.55 \n",
       "  \"/>\n",
       "<polyline clip-path=\"url(#clip840)\" style=\"stroke:#000000; stroke-linecap:butt; stroke-linejoin:round; stroke-width:4; stroke-opacity:1; fill:none\" points=\"\n",
       "  1218.96,1486.45 1218.96,1467.55 \n",
       "  \"/>\n",
       "<polyline clip-path=\"url(#clip840)\" style=\"stroke:#000000; stroke-linecap:butt; stroke-linejoin:round; stroke-width:4; stroke-opacity:1; fill:none\" points=\"\n",
       "  1576.17,1486.45 1576.17,1467.55 \n",
       "  \"/>\n",
       "<polyline clip-path=\"url(#clip840)\" style=\"stroke:#000000; stroke-linecap:butt; stroke-linejoin:round; stroke-width:4; stroke-opacity:1; fill:none\" points=\"\n",
       "  1933.39,1486.45 1933.39,1467.55 \n",
       "  \"/>\n",
       "<polyline clip-path=\"url(#clip840)\" style=\"stroke:#000000; stroke-linecap:butt; stroke-linejoin:round; stroke-width:4; stroke-opacity:1; fill:none\" points=\"\n",
       "  2290.6,1486.45 2290.6,1467.55 \n",
       "  \"/>\n",
       "<path clip-path=\"url(#clip840)\" d=\"M494.803 1512.56 L513.16 1512.56 L513.16 1516.5 L499.086 1516.5 L499.086 1524.97 Q500.104 1524.62 501.123 1524.46 Q502.141 1524.27 503.16 1524.27 Q508.947 1524.27 512.327 1527.44 Q515.706 1530.62 515.706 1536.03 Q515.706 1541.61 512.234 1544.71 Q508.762 1547.79 502.442 1547.79 Q500.266 1547.79 497.998 1547.42 Q495.753 1547.05 493.345 1546.31 L493.345 1541.61 Q495.428 1542.74 497.651 1543.3 Q499.873 1543.86 502.35 1543.86 Q506.354 1543.86 508.692 1541.75 Q511.03 1539.64 511.03 1536.03 Q511.03 1532.42 508.692 1530.31 Q506.354 1528.21 502.35 1528.21 Q500.475 1528.21 498.6 1528.62 Q496.748 1529.04 494.803 1529.92 L494.803 1512.56 Z\" fill=\"#000000\" fill-rule=\"evenodd\" fill-opacity=\"1\" /><path clip-path=\"url(#clip840)\" d=\"M836.428 1543.18 L844.067 1543.18 L844.067 1516.82 L835.757 1518.49 L835.757 1514.23 L844.021 1512.56 L848.697 1512.56 L848.697 1543.18 L856.336 1543.18 L856.336 1547.12 L836.428 1547.12 L836.428 1543.18 Z\" fill=\"#000000\" fill-rule=\"evenodd\" fill-opacity=\"1\" /><path clip-path=\"url(#clip840)\" d=\"M875.78 1515.64 Q872.169 1515.64 870.34 1519.2 Q868.535 1522.75 868.535 1529.87 Q868.535 1536.98 870.34 1540.55 Q872.169 1544.09 875.78 1544.09 Q879.414 1544.09 881.22 1540.55 Q883.048 1536.98 883.048 1529.87 Q883.048 1522.75 881.22 1519.2 Q879.414 1515.64 875.78 1515.64 M875.78 1511.93 Q881.59 1511.93 884.646 1516.54 Q887.724 1521.12 887.724 1529.87 Q887.724 1538.6 884.646 1543.21 Q881.59 1547.79 875.78 1547.79 Q869.97 1547.79 866.891 1543.21 Q863.835 1538.6 863.835 1529.87 Q863.835 1521.12 866.891 1516.54 Q869.97 1511.93 875.78 1511.93 Z\" fill=\"#000000\" fill-rule=\"evenodd\" fill-opacity=\"1\" /><path clip-path=\"url(#clip840)\" d=\"M1194.14 1543.18 L1201.78 1543.18 L1201.78 1516.82 L1193.47 1518.49 L1193.47 1514.23 L1201.73 1512.56 L1206.41 1512.56 L1206.41 1543.18 L1214.05 1543.18 L1214.05 1547.12 L1194.14 1547.12 L1194.14 1543.18 Z\" fill=\"#000000\" fill-rule=\"evenodd\" fill-opacity=\"1\" /><path clip-path=\"url(#clip840)\" d=\"M1223.54 1512.56 L1241.9 1512.56 L1241.9 1516.5 L1227.82 1516.5 L1227.82 1524.97 Q1228.84 1524.62 1229.86 1524.46 Q1230.88 1524.27 1231.9 1524.27 Q1237.68 1524.27 1241.06 1527.44 Q1244.44 1530.62 1244.44 1536.03 Q1244.44 1541.61 1240.97 1544.71 Q1237.5 1547.79 1231.18 1547.79 Q1229 1547.79 1226.73 1547.42 Q1224.49 1547.05 1222.08 1546.31 L1222.08 1541.61 Q1224.16 1542.74 1226.39 1543.3 Q1228.61 1543.86 1231.09 1543.86 Q1235.09 1543.86 1237.43 1541.75 Q1239.77 1539.64 1239.77 1536.03 Q1239.77 1532.42 1237.43 1530.31 Q1235.09 1528.21 1231.09 1528.21 Q1229.21 1528.21 1227.34 1528.62 Q1225.48 1529.04 1223.54 1529.92 L1223.54 1512.56 Z\" fill=\"#000000\" fill-rule=\"evenodd\" fill-opacity=\"1\" /><path clip-path=\"url(#clip840)\" d=\"M1554.94 1543.18 L1571.26 1543.18 L1571.26 1547.12 L1549.32 1547.12 L1549.32 1543.18 Q1551.98 1540.43 1556.56 1535.8 Q1561.17 1531.15 1562.35 1529.81 Q1564.6 1527.28 1565.48 1525.55 Q1566.38 1523.79 1566.38 1522.1 Q1566.38 1519.34 1564.43 1517.61 Q1562.51 1515.87 1559.41 1515.87 Q1557.21 1515.87 1554.76 1516.63 Q1552.33 1517.4 1549.55 1518.95 L1549.55 1514.23 Q1552.37 1513.09 1554.83 1512.51 Q1557.28 1511.93 1559.32 1511.93 Q1564.69 1511.93 1567.88 1514.62 Q1571.08 1517.31 1571.08 1521.8 Q1571.08 1523.93 1570.27 1525.85 Q1569.48 1527.74 1567.37 1530.34 Q1566.8 1531.01 1563.69 1534.23 Q1560.59 1537.42 1554.94 1543.18 Z\" fill=\"#000000\" fill-rule=\"evenodd\" fill-opacity=\"1\" /><path clip-path=\"url(#clip840)\" d=\"M1591.08 1515.64 Q1587.47 1515.64 1585.64 1519.2 Q1583.83 1522.75 1583.83 1529.87 Q1583.83 1536.98 1585.64 1540.55 Q1587.47 1544.09 1591.08 1544.09 Q1594.71 1544.09 1596.52 1540.55 Q1598.35 1536.98 1598.35 1529.87 Q1598.35 1522.75 1596.52 1519.2 Q1594.71 1515.64 1591.08 1515.64 M1591.08 1511.93 Q1596.89 1511.93 1599.94 1516.54 Q1603.02 1521.12 1603.02 1529.87 Q1603.02 1538.6 1599.94 1543.21 Q1596.89 1547.79 1591.08 1547.79 Q1585.27 1547.79 1582.19 1543.21 Q1579.13 1538.6 1579.13 1529.87 Q1579.13 1521.12 1582.19 1516.54 Q1585.27 1511.93 1591.08 1511.93 Z\" fill=\"#000000\" fill-rule=\"evenodd\" fill-opacity=\"1\" /><path clip-path=\"url(#clip840)\" d=\"M1912.66 1543.18 L1928.98 1543.18 L1928.98 1547.12 L1907.03 1547.12 L1907.03 1543.18 Q1909.69 1540.43 1914.28 1535.8 Q1918.88 1531.15 1920.06 1529.81 Q1922.31 1527.28 1923.19 1525.55 Q1924.09 1523.79 1924.09 1522.1 Q1924.09 1519.34 1922.15 1517.61 Q1920.23 1515.87 1917.12 1515.87 Q1914.92 1515.87 1912.47 1516.63 Q1910.04 1517.4 1907.26 1518.95 L1907.26 1514.23 Q1910.09 1513.09 1912.54 1512.51 Q1914.99 1511.93 1917.03 1511.93 Q1922.4 1511.93 1925.6 1514.62 Q1928.79 1517.31 1928.79 1521.8 Q1928.79 1523.93 1927.98 1525.85 Q1927.19 1527.74 1925.09 1530.34 Q1924.51 1531.01 1921.41 1534.23 Q1918.3 1537.42 1912.66 1543.18 Z\" fill=\"#000000\" fill-rule=\"evenodd\" fill-opacity=\"1\" /><path clip-path=\"url(#clip840)\" d=\"M1938.84 1512.56 L1957.19 1512.56 L1957.19 1516.5 L1943.12 1516.5 L1943.12 1524.97 Q1944.14 1524.62 1945.16 1524.46 Q1946.17 1524.27 1947.19 1524.27 Q1952.98 1524.27 1956.36 1527.44 Q1959.74 1530.62 1959.74 1536.03 Q1959.74 1541.61 1956.27 1544.71 Q1952.8 1547.79 1946.48 1547.79 Q1944.3 1547.79 1942.03 1547.42 Q1939.79 1547.05 1937.38 1546.31 L1937.38 1541.61 Q1939.46 1542.74 1941.68 1543.3 Q1943.91 1543.86 1946.38 1543.86 Q1950.39 1543.86 1952.73 1541.75 Q1955.06 1539.64 1955.06 1536.03 Q1955.06 1532.42 1952.73 1530.31 Q1950.39 1528.21 1946.38 1528.21 Q1944.51 1528.21 1942.63 1528.62 Q1940.78 1529.04 1938.84 1529.92 L1938.84 1512.56 Z\" fill=\"#000000\" fill-rule=\"evenodd\" fill-opacity=\"1\" /><path clip-path=\"url(#clip840)\" d=\"M2279.44 1528.49 Q2282.8 1529.2 2284.67 1531.47 Q2286.57 1533.74 2286.57 1537.07 Q2286.57 1542.19 2283.05 1544.99 Q2279.54 1547.79 2273.05 1547.79 Q2270.88 1547.79 2268.56 1547.35 Q2266.27 1546.93 2263.82 1546.08 L2263.82 1541.56 Q2265.76 1542.7 2268.08 1543.28 Q2270.39 1543.86 2272.92 1543.86 Q2277.31 1543.86 2279.61 1542.12 Q2281.92 1540.38 2281.92 1537.07 Q2281.92 1534.02 2279.77 1532.31 Q2277.64 1530.57 2273.82 1530.57 L2269.79 1530.57 L2269.79 1526.73 L2274 1526.73 Q2277.45 1526.73 2279.28 1525.36 Q2281.11 1523.97 2281.11 1521.38 Q2281.11 1518.72 2279.21 1517.31 Q2277.34 1515.87 2273.82 1515.87 Q2271.9 1515.87 2269.7 1516.29 Q2267.5 1516.7 2264.86 1517.58 L2264.86 1513.42 Q2267.52 1512.68 2269.84 1512.31 Q2272.17 1511.93 2274.23 1511.93 Q2279.56 1511.93 2282.66 1514.37 Q2285.76 1516.77 2285.76 1520.89 Q2285.76 1523.76 2284.12 1525.75 Q2282.48 1527.72 2279.44 1528.49 Z\" fill=\"#000000\" fill-rule=\"evenodd\" fill-opacity=\"1\" /><path clip-path=\"url(#clip840)\" d=\"M2305.44 1515.64 Q2301.83 1515.64 2300 1519.2 Q2298.19 1522.75 2298.19 1529.87 Q2298.19 1536.98 2300 1540.55 Q2301.83 1544.09 2305.44 1544.09 Q2309.07 1544.09 2310.88 1540.55 Q2312.71 1536.98 2312.71 1529.87 Q2312.71 1522.75 2310.88 1519.2 Q2309.07 1515.64 2305.44 1515.64 M2305.44 1511.93 Q2311.25 1511.93 2314.3 1516.54 Q2317.38 1521.12 2317.38 1529.87 Q2317.38 1538.6 2314.3 1543.21 Q2311.25 1547.79 2305.44 1547.79 Q2299.63 1547.79 2296.55 1543.21 Q2293.49 1538.6 2293.49 1529.87 Q2293.49 1521.12 2296.55 1516.54 Q2299.63 1511.93 2305.44 1511.93 Z\" fill=\"#000000\" fill-rule=\"evenodd\" fill-opacity=\"1\" /><polyline clip-path=\"url(#clip842)\" style=\"stroke:#000000; stroke-linecap:butt; stroke-linejoin:round; stroke-width:2; stroke-opacity:0.1; fill:none\" points=\"\n",
       "  156.598,1445.89 2352.76,1445.89 \n",
       "  \"/>\n",
       "<polyline clip-path=\"url(#clip842)\" style=\"stroke:#000000; stroke-linecap:butt; stroke-linejoin:round; stroke-width:2; stroke-opacity:0.1; fill:none\" points=\"\n",
       "  156.598,1160 2352.76,1160 \n",
       "  \"/>\n",
       "<polyline clip-path=\"url(#clip842)\" style=\"stroke:#000000; stroke-linecap:butt; stroke-linejoin:round; stroke-width:2; stroke-opacity:0.1; fill:none\" points=\"\n",
       "  156.598,874.101 2352.76,874.101 \n",
       "  \"/>\n",
       "<polyline clip-path=\"url(#clip842)\" style=\"stroke:#000000; stroke-linecap:butt; stroke-linejoin:round; stroke-width:2; stroke-opacity:0.1; fill:none\" points=\"\n",
       "  156.598,588.205 2352.76,588.205 \n",
       "  \"/>\n",
       "<polyline clip-path=\"url(#clip842)\" style=\"stroke:#000000; stroke-linecap:butt; stroke-linejoin:round; stroke-width:2; stroke-opacity:0.1; fill:none\" points=\"\n",
       "  156.598,302.31 2352.76,302.31 \n",
       "  \"/>\n",
       "<polyline clip-path=\"url(#clip840)\" style=\"stroke:#000000; stroke-linecap:butt; stroke-linejoin:round; stroke-width:4; stroke-opacity:1; fill:none\" points=\"\n",
       "  156.598,1486.45 156.598,47.2441 \n",
       "  \"/>\n",
       "<polyline clip-path=\"url(#clip840)\" style=\"stroke:#000000; stroke-linecap:butt; stroke-linejoin:round; stroke-width:4; stroke-opacity:1; fill:none\" points=\"\n",
       "  156.598,1445.89 175.496,1445.89 \n",
       "  \"/>\n",
       "<polyline clip-path=\"url(#clip840)\" style=\"stroke:#000000; stroke-linecap:butt; stroke-linejoin:round; stroke-width:4; stroke-opacity:1; fill:none\" points=\"\n",
       "  156.598,1160 175.496,1160 \n",
       "  \"/>\n",
       "<polyline clip-path=\"url(#clip840)\" style=\"stroke:#000000; stroke-linecap:butt; stroke-linejoin:round; stroke-width:4; stroke-opacity:1; fill:none\" points=\"\n",
       "  156.598,874.101 175.496,874.101 \n",
       "  \"/>\n",
       "<polyline clip-path=\"url(#clip840)\" style=\"stroke:#000000; stroke-linecap:butt; stroke-linejoin:round; stroke-width:4; stroke-opacity:1; fill:none\" points=\"\n",
       "  156.598,588.205 175.496,588.205 \n",
       "  \"/>\n",
       "<polyline clip-path=\"url(#clip840)\" style=\"stroke:#000000; stroke-linecap:butt; stroke-linejoin:round; stroke-width:4; stroke-opacity:1; fill:none\" points=\"\n",
       "  156.598,302.31 175.496,302.31 \n",
       "  \"/>\n",
       "<path clip-path=\"url(#clip840)\" d=\"M63.4226 1431.69 Q59.8115 1431.69 57.9828 1435.26 Q56.1773 1438.8 56.1773 1445.93 Q56.1773 1453.03 57.9828 1456.6 Q59.8115 1460.14 63.4226 1460.14 Q67.0569 1460.14 68.8624 1456.6 Q70.6911 1453.03 70.6911 1445.93 Q70.6911 1438.8 68.8624 1435.26 Q67.0569 1431.69 63.4226 1431.69 M63.4226 1427.99 Q69.2328 1427.99 72.2883 1432.59 Q75.367 1437.18 75.367 1445.93 Q75.367 1454.65 72.2883 1459.26 Q69.2328 1463.84 63.4226 1463.84 Q57.6125 1463.84 54.5338 1459.26 Q51.4782 1454.65 51.4782 1445.93 Q51.4782 1437.18 54.5338 1432.59 Q57.6125 1427.99 63.4226 1427.99 Z\" fill=\"#000000\" fill-rule=\"evenodd\" fill-opacity=\"1\" /><path clip-path=\"url(#clip840)\" d=\"M83.5845 1457.29 L88.4688 1457.29 L88.4688 1463.17 L83.5845 1463.17 L83.5845 1457.29 Z\" fill=\"#000000\" fill-rule=\"evenodd\" fill-opacity=\"1\" /><path clip-path=\"url(#clip840)\" d=\"M108.654 1431.69 Q105.043 1431.69 103.214 1435.26 Q101.409 1438.8 101.409 1445.93 Q101.409 1453.03 103.214 1456.6 Q105.043 1460.14 108.654 1460.14 Q112.288 1460.14 114.094 1456.6 Q115.922 1453.03 115.922 1445.93 Q115.922 1438.8 114.094 1435.26 Q112.288 1431.69 108.654 1431.69 M108.654 1427.99 Q114.464 1427.99 117.52 1432.59 Q120.598 1437.18 120.598 1445.93 Q120.598 1454.65 117.52 1459.26 Q114.464 1463.84 108.654 1463.84 Q102.844 1463.84 99.765 1459.26 Q96.7095 1454.65 96.7095 1445.93 Q96.7095 1437.18 99.765 1432.59 Q102.844 1427.99 108.654 1427.99 Z\" fill=\"#000000\" fill-rule=\"evenodd\" fill-opacity=\"1\" /><path clip-path=\"url(#clip840)\" d=\"M65.0198 1145.8 Q61.4087 1145.8 59.58 1149.36 Q57.7745 1152.9 57.7745 1160.03 Q57.7745 1167.14 59.58 1170.7 Q61.4087 1174.24 65.0198 1174.24 Q68.6541 1174.24 70.4596 1170.7 Q72.2883 1167.14 72.2883 1160.03 Q72.2883 1152.9 70.4596 1149.36 Q68.6541 1145.8 65.0198 1145.8 M65.0198 1142.09 Q70.83 1142.09 73.8855 1146.7 Q76.9642 1151.28 76.9642 1160.03 Q76.9642 1168.76 73.8855 1173.36 Q70.83 1177.95 65.0198 1177.95 Q59.2097 1177.95 56.131 1173.36 Q53.0754 1168.76 53.0754 1160.03 Q53.0754 1151.28 56.131 1146.7 Q59.2097 1142.09 65.0198 1142.09 Z\" fill=\"#000000\" fill-rule=\"evenodd\" fill-opacity=\"1\" /><path clip-path=\"url(#clip840)\" d=\"M85.1818 1171.4 L90.066 1171.4 L90.066 1177.28 L85.1818 1177.28 L85.1818 1171.4 Z\" fill=\"#000000\" fill-rule=\"evenodd\" fill-opacity=\"1\" /><path clip-path=\"url(#clip840)\" d=\"M104.279 1173.34 L120.598 1173.34 L120.598 1177.28 L98.6539 1177.28 L98.6539 1173.34 Q101.316 1170.59 105.899 1165.96 Q110.506 1161.3 111.686 1159.96 Q113.932 1157.44 114.811 1155.7 Q115.714 1153.94 115.714 1152.25 Q115.714 1149.5 113.77 1147.76 Q111.848 1146.03 108.746 1146.03 Q106.547 1146.03 104.094 1146.79 Q101.663 1147.55 98.8854 1149.11 L98.8854 1144.38 Q101.709 1143.25 104.163 1142.67 Q106.617 1142.09 108.654 1142.09 Q114.024 1142.09 117.219 1144.78 Q120.413 1147.46 120.413 1151.95 Q120.413 1154.08 119.603 1156 Q118.816 1157.9 116.709 1160.49 Q116.131 1161.17 113.029 1164.38 Q109.927 1167.58 104.279 1173.34 Z\" fill=\"#000000\" fill-rule=\"evenodd\" fill-opacity=\"1\" /><path clip-path=\"url(#clip840)\" d=\"M62.9365 859.9 Q59.3254 859.9 57.4967 863.465 Q55.6912 867.006 55.6912 874.136 Q55.6912 881.242 57.4967 884.807 Q59.3254 888.349 62.9365 888.349 Q66.5707 888.349 68.3763 884.807 Q70.205 881.242 70.205 874.136 Q70.205 867.006 68.3763 863.465 Q66.5707 859.9 62.9365 859.9 M62.9365 856.196 Q68.7467 856.196 71.8022 860.803 Q74.8809 865.386 74.8809 874.136 Q74.8809 882.863 71.8022 887.469 Q68.7467 892.052 62.9365 892.052 Q57.1264 892.052 54.0477 887.469 Q50.9921 882.863 50.9921 874.136 Q50.9921 865.386 54.0477 860.803 Q57.1264 856.196 62.9365 856.196 Z\" fill=\"#000000\" fill-rule=\"evenodd\" fill-opacity=\"1\" /><path clip-path=\"url(#clip840)\" d=\"M83.0984 885.502 L87.9827 885.502 L87.9827 891.381 L83.0984 891.381 L83.0984 885.502 Z\" fill=\"#000000\" fill-rule=\"evenodd\" fill-opacity=\"1\" /><path clip-path=\"url(#clip840)\" d=\"M111.015 860.895 L99.2095 879.344 L111.015 879.344 L111.015 860.895 M109.788 856.821 L115.668 856.821 L115.668 879.344 L120.598 879.344 L120.598 883.233 L115.668 883.233 L115.668 891.381 L111.015 891.381 L111.015 883.233 L95.4132 883.233 L95.4132 878.719 L109.788 856.821 Z\" fill=\"#000000\" fill-rule=\"evenodd\" fill-opacity=\"1\" /><path clip-path=\"url(#clip840)\" d=\"M63.2606 574.004 Q59.6495 574.004 57.8208 577.569 Q56.0152 581.111 56.0152 588.24 Q56.0152 595.347 57.8208 598.911 Q59.6495 602.453 63.2606 602.453 Q66.8948 602.453 68.7004 598.911 Q70.5291 595.347 70.5291 588.24 Q70.5291 581.111 68.7004 577.569 Q66.8948 574.004 63.2606 574.004 M63.2606 570.3 Q69.0707 570.3 72.1263 574.907 Q75.205 579.49 75.205 588.24 Q75.205 596.967 72.1263 601.573 Q69.0707 606.157 63.2606 606.157 Q57.4504 606.157 54.3717 601.573 Q51.3162 596.967 51.3162 588.24 Q51.3162 579.49 54.3717 574.907 Q57.4504 570.3 63.2606 570.3 Z\" fill=\"#000000\" fill-rule=\"evenodd\" fill-opacity=\"1\" /><path clip-path=\"url(#clip840)\" d=\"M83.4225 599.606 L88.3067 599.606 L88.3067 605.485 L83.4225 605.485 L83.4225 599.606 Z\" fill=\"#000000\" fill-rule=\"evenodd\" fill-opacity=\"1\" /><path clip-path=\"url(#clip840)\" d=\"M109.071 586.342 Q105.922 586.342 104.071 588.495 Q102.242 590.647 102.242 594.397 Q102.242 598.124 104.071 600.3 Q105.922 602.453 109.071 602.453 Q112.219 602.453 114.047 600.3 Q115.899 598.124 115.899 594.397 Q115.899 590.647 114.047 588.495 Q112.219 586.342 109.071 586.342 M118.353 571.689 L118.353 575.948 Q116.594 575.115 114.788 574.675 Q113.006 574.236 111.246 574.236 Q106.617 574.236 104.163 577.361 Q101.733 580.486 101.385 586.805 Q102.751 584.791 104.811 583.726 Q106.871 582.638 109.348 582.638 Q114.557 582.638 117.566 585.81 Q120.598 588.958 120.598 594.397 Q120.598 599.722 117.45 602.939 Q114.302 606.157 109.071 606.157 Q103.075 606.157 99.9039 601.573 Q96.7326 596.967 96.7326 588.24 Q96.7326 580.046 100.621 575.185 Q104.51 570.3 111.061 570.3 Q112.82 570.3 114.603 570.648 Q116.408 570.995 118.353 571.689 Z\" fill=\"#000000\" fill-rule=\"evenodd\" fill-opacity=\"1\" /><path clip-path=\"url(#clip840)\" d=\"M63.5152 288.108 Q59.9041 288.108 58.0754 291.673 Q56.2699 295.215 56.2699 302.344 Q56.2699 309.451 58.0754 313.016 Q59.9041 316.557 63.5152 316.557 Q67.1494 316.557 68.955 313.016 Q70.7837 309.451 70.7837 302.344 Q70.7837 295.215 68.955 291.673 Q67.1494 288.108 63.5152 288.108 M63.5152 284.405 Q69.3254 284.405 72.3809 289.011 Q75.4596 293.594 75.4596 302.344 Q75.4596 311.071 72.3809 315.678 Q69.3254 320.261 63.5152 320.261 Q57.7051 320.261 54.6264 315.678 Q51.5708 311.071 51.5708 302.344 Q51.5708 293.594 54.6264 289.011 Q57.7051 284.405 63.5152 284.405 Z\" fill=\"#000000\" fill-rule=\"evenodd\" fill-opacity=\"1\" /><path clip-path=\"url(#clip840)\" d=\"M83.6771 313.71 L88.5614 313.71 L88.5614 319.59 L83.6771 319.59 L83.6771 313.71 Z\" fill=\"#000000\" fill-rule=\"evenodd\" fill-opacity=\"1\" /><path clip-path=\"url(#clip840)\" d=\"M108.746 303.178 Q105.413 303.178 103.492 304.96 Q101.594 306.742 101.594 309.867 Q101.594 312.992 103.492 314.775 Q105.413 316.557 108.746 316.557 Q112.08 316.557 114.001 314.775 Q115.922 312.969 115.922 309.867 Q115.922 306.742 114.001 304.96 Q112.103 303.178 108.746 303.178 M104.071 301.187 Q101.061 300.446 99.3715 298.386 Q97.7048 296.326 97.7048 293.363 Q97.7048 289.219 100.645 286.812 Q103.608 284.405 108.746 284.405 Q113.908 284.405 116.848 286.812 Q119.788 289.219 119.788 293.363 Q119.788 296.326 118.098 298.386 Q116.432 300.446 113.445 301.187 Q116.825 301.974 118.7 304.266 Q120.598 306.557 120.598 309.867 Q120.598 314.891 117.52 317.576 Q114.464 320.261 108.746 320.261 Q103.029 320.261 99.9502 317.576 Q96.8947 314.891 96.8947 309.867 Q96.8947 306.557 98.7928 304.266 Q100.691 301.974 104.071 301.187 M102.358 293.803 Q102.358 296.488 104.024 297.993 Q105.714 299.497 108.746 299.497 Q111.756 299.497 113.445 297.993 Q115.158 296.488 115.158 293.803 Q115.158 291.118 113.445 289.613 Q111.756 288.108 108.746 288.108 Q105.714 288.108 104.024 289.613 Q102.358 291.118 102.358 293.803 Z\" fill=\"#000000\" fill-rule=\"evenodd\" fill-opacity=\"1\" /><polyline clip-path=\"url(#clip842)\" style=\"stroke:#009af9; stroke-linecap:butt; stroke-linejoin:round; stroke-width:4; stroke-opacity:1; fill:none\" points=\"\n",
       "  218.754,1331.53 290.197,1354.41 361.64,1372.7 433.083,1387.34 504.526,1399.05 575.969,1408.42 647.412,1415.91 718.855,1421.91 790.298,1426.71 861.741,1430.54 \n",
       "  933.184,1433.61 1004.63,1436.07 1076.07,1438.03 1147.51,1439.61 1218.96,1440.86 1290.4,1441.87 1361.84,1442.67 1433.28,1443.32 1504.73,1443.83 1576.17,1444.24 \n",
       "  1647.61,1444.57 1719.06,1444.84 1790.5,1445.05 1861.94,1445.22 1933.39,1445.35 2004.83,1445.46 2076.27,1445.55 2147.71,1445.62 2219.16,1445.67 2290.6,1445.72 \n",
       "  \n",
       "  \"/>\n",
       "<polyline clip-path=\"url(#clip842)\" style=\"stroke:#e26f46; stroke-linecap:butt; stroke-linejoin:round; stroke-width:4; stroke-opacity:1; fill:none\" points=\"\n",
       "  218.754,145.067 290.197,133.631 361.64,124.482 433.083,117.164 504.526,111.308 575.969,106.624 647.412,102.877 718.855,99.8791 790.298,97.4809 861.741,95.5623 \n",
       "  933.184,94.0274 1004.63,92.7994 1076.07,91.8171 1147.51,91.0313 1218.96,90.4026 1290.4,89.8996 1361.84,89.4972 1433.28,89.1754 1504.73,88.9178 1576.17,88.7118 \n",
       "  1647.61,88.547 1719.06,88.4152 1790.5,88.3097 1861.94,88.2253 1933.39,88.1578 2004.83,88.1038 2076.27,88.0606 2147.71,88.026 2219.16,87.9984 2290.6,87.9763 \n",
       "  \n",
       "  \"/>\n",
       "<polyline clip-path=\"url(#clip842)\" style=\"stroke:#3da44d; stroke-linecap:butt; stroke-linejoin:round; stroke-width:4; stroke-opacity:1; fill:none\" points=\"\n",
       "  218.754,1431.6 290.197,1420.16 361.64,1411.01 433.083,1403.69 504.526,1397.84 575.969,1393.16 647.412,1389.41 718.855,1386.41 790.298,1384.01 861.741,1382.09 \n",
       "  933.184,1380.56 1004.63,1379.33 1076.07,1378.35 1147.51,1377.56 1218.96,1376.93 1290.4,1376.43 1361.84,1376.03 1433.28,1375.71 1504.73,1375.45 1576.17,1375.24 \n",
       "  1647.61,1375.08 1719.06,1374.95 1790.5,1374.84 1861.94,1374.76 1933.39,1374.69 2004.83,1374.63 2076.27,1374.59 2147.71,1374.56 2219.16,1374.53 2290.6,1374.51 \n",
       "  \n",
       "  \"/>\n",
       "<path clip-path=\"url(#clip840)\" d=\"\n",
       "M1982.52 302.578 L2279.55 302.578 L2279.55 95.2176 L1982.52 95.2176  Z\n",
       "  \" fill=\"#ffffff\" fill-rule=\"evenodd\" fill-opacity=\"1\"/>\n",
       "<polyline clip-path=\"url(#clip840)\" style=\"stroke:#000000; stroke-linecap:butt; stroke-linejoin:round; stroke-width:4; stroke-opacity:1; fill:none\" points=\"\n",
       "  1982.52,302.578 2279.55,302.578 2279.55,95.2176 1982.52,95.2176 1982.52,302.578 \n",
       "  \"/>\n",
       "<polyline clip-path=\"url(#clip840)\" style=\"stroke:#009af9; stroke-linecap:butt; stroke-linejoin:round; stroke-width:4; stroke-opacity:1; fill:none\" points=\"\n",
       "  2006.93,147.058 2153.34,147.058 \n",
       "  \"/>\n",
       "<path clip-path=\"url(#clip840)\" d=\"M2191.58 166.745 Q2189.78 171.375 2188.06 172.787 Q2186.35 174.199 2183.48 174.199 L2180.08 174.199 L2180.08 170.634 L2182.58 170.634 Q2184.34 170.634 2185.31 169.8 Q2186.28 168.967 2187.46 165.865 L2188.22 163.921 L2177.74 138.412 L2182.25 138.412 L2190.35 158.689 L2198.46 138.412 L2202.97 138.412 L2191.58 166.745 Z\" fill=\"#000000\" fill-rule=\"evenodd\" fill-opacity=\"1\" /><path clip-path=\"url(#clip840)\" d=\"M2210.26 160.402 L2217.9 160.402 L2217.9 134.037 L2209.59 135.703 L2209.59 131.444 L2217.85 129.778 L2222.53 129.778 L2222.53 160.402 L2230.17 160.402 L2230.17 164.338 L2210.26 164.338 L2210.26 160.402 Z\" fill=\"#000000\" fill-rule=\"evenodd\" fill-opacity=\"1\" /><polyline clip-path=\"url(#clip840)\" style=\"stroke:#e26f46; stroke-linecap:butt; stroke-linejoin:round; stroke-width:4; stroke-opacity:1; fill:none\" points=\"\n",
       "  2006.93,198.898 2153.34,198.898 \n",
       "  \"/>\n",
       "<path clip-path=\"url(#clip840)\" d=\"M2191.58 218.585 Q2189.78 223.215 2188.06 224.627 Q2186.35 226.039 2183.48 226.039 L2180.08 226.039 L2180.08 222.474 L2182.58 222.474 Q2184.34 222.474 2185.31 221.64 Q2186.28 220.807 2187.46 217.705 L2188.22 215.761 L2177.74 190.252 L2182.25 190.252 L2190.35 210.529 L2198.46 190.252 L2202.97 190.252 L2191.58 218.585 Z\" fill=\"#000000\" fill-rule=\"evenodd\" fill-opacity=\"1\" /><path clip-path=\"url(#clip840)\" d=\"M2213.48 212.242 L2229.8 212.242 L2229.8 216.178 L2207.85 216.178 L2207.85 212.242 Q2210.52 209.488 2215.1 204.858 Q2219.71 200.205 2220.89 198.863 Q2223.13 196.34 2224.01 194.604 Q2224.91 192.844 2224.91 191.155 Q2224.91 188.4 2222.97 186.664 Q2221.05 184.928 2217.95 184.928 Q2215.75 184.928 2213.29 185.692 Q2210.86 186.455 2208.09 188.006 L2208.09 183.284 Q2210.91 182.15 2213.36 181.571 Q2215.82 180.993 2217.85 180.993 Q2223.22 180.993 2226.42 183.678 Q2229.61 186.363 2229.61 190.854 Q2229.61 192.983 2228.8 194.905 Q2228.02 196.803 2225.91 199.395 Q2225.33 200.067 2222.23 203.284 Q2219.13 206.479 2213.48 212.242 Z\" fill=\"#000000\" fill-rule=\"evenodd\" fill-opacity=\"1\" /><polyline clip-path=\"url(#clip840)\" style=\"stroke:#3da44d; stroke-linecap:butt; stroke-linejoin:round; stroke-width:4; stroke-opacity:1; fill:none\" points=\"\n",
       "  2006.93,250.738 2153.34,250.738 \n",
       "  \"/>\n",
       "<path clip-path=\"url(#clip840)\" d=\"M2191.58 270.425 Q2189.78 275.055 2188.06 276.467 Q2186.35 277.879 2183.48 277.879 L2180.08 277.879 L2180.08 274.314 L2182.58 274.314 Q2184.34 274.314 2185.31 273.48 Q2186.28 272.647 2187.46 269.545 L2188.22 267.601 L2177.74 242.092 L2182.25 242.092 L2190.35 262.369 L2198.46 242.092 L2202.97 242.092 L2191.58 270.425 Z\" fill=\"#000000\" fill-rule=\"evenodd\" fill-opacity=\"1\" /><path clip-path=\"url(#clip840)\" d=\"M2223.62 249.383 Q2226.97 250.101 2228.85 252.369 Q2230.75 254.638 2230.75 257.971 Q2230.75 263.087 2227.23 265.888 Q2223.71 268.689 2217.23 268.689 Q2215.05 268.689 2212.74 268.249 Q2210.45 267.832 2207.99 266.976 L2207.99 262.462 Q2209.94 263.596 2212.25 264.175 Q2214.57 264.754 2217.09 264.754 Q2221.49 264.754 2223.78 263.018 Q2226.09 261.281 2226.09 257.971 Q2226.09 254.916 2223.94 253.203 Q2221.81 251.467 2217.99 251.467 L2213.96 251.467 L2213.96 247.624 L2218.18 247.624 Q2221.63 247.624 2223.46 246.258 Q2225.28 244.87 2225.28 242.277 Q2225.28 239.615 2223.39 238.203 Q2221.51 236.768 2217.99 236.768 Q2216.07 236.768 2213.87 237.184 Q2211.67 237.601 2209.03 238.481 L2209.03 234.314 Q2211.7 233.573 2214.01 233.203 Q2216.35 232.833 2218.41 232.833 Q2223.73 232.833 2226.84 235.263 Q2229.94 237.67 2229.94 241.791 Q2229.94 244.661 2228.29 246.652 Q2226.65 248.62 2223.62 249.383 Z\" fill=\"#000000\" fill-rule=\"evenodd\" fill-opacity=\"1\" /></svg>\n"
      ]
     },
     "execution_count": 76,
     "metadata": {},
     "output_type": "execute_result"
    }
   ],
   "source": [
    "plot(forecast_markov_chain(another_starting_value, 30)')"
   ]
  },
  {
   "cell_type": "markdown",
   "metadata": {},
   "source": [
    "When $\\lambda_1=1$ has multiplicity >1, limit behavior depends on where we start from. "
   ]
  },
  {
   "cell_type": "code",
   "execution_count": null,
   "metadata": {},
   "outputs": [],
   "source": []
  }
 ],
 "metadata": {
  "kernelspec": {
   "display_name": "Julia 1.6.2",
   "language": "julia",
   "name": "julia-1.6"
  },
  "language_info": {
   "file_extension": ".jl",
   "mimetype": "application/julia",
   "name": "julia",
   "version": "1.6.2"
  }
 },
 "nbformat": 4,
 "nbformat_minor": 4
}
