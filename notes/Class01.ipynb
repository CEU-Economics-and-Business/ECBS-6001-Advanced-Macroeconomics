{
 "cells": [
  {
   "cell_type": "code",
   "execution_count": 1,
   "metadata": {},
   "outputs": [
    {
     "data": {
      "text/plain": [
       "2"
      ]
     },
     "execution_count": 1,
     "metadata": {},
     "output_type": "execute_result"
    }
   ],
   "source": [
    "1+1"
   ]
  },
  {
   "cell_type": "code",
   "execution_count": 2,
   "metadata": {},
   "outputs": [
    {
     "data": {
      "text/plain": [
       "2×3 Matrix{Float64}:\n",
       " 0.0  0.0  0.0\n",
       " 0.0  0.0  0.0"
      ]
     },
     "execution_count": 2,
     "metadata": {},
     "output_type": "execute_result"
    }
   ],
   "source": [
    "A = zeros(2, 3)"
   ]
  },
  {
   "cell_type": "code",
   "execution_count": 3,
   "metadata": {},
   "outputs": [
    {
     "data": {
      "text/plain": [
       "2×3×2 Array{Float64, 3}:\n",
       "[:, :, 1] =\n",
       " 0.0  0.0  0.0\n",
       " 0.0  0.0  0.0\n",
       "\n",
       "[:, :, 2] =\n",
       " 0.0  0.0  0.0\n",
       " 0.0  0.0  0.0"
      ]
     },
     "execution_count": 3,
     "metadata": {},
     "output_type": "execute_result"
    }
   ],
   "source": [
    "B = zeros(2, 3, 2)"
   ]
  },
  {
   "cell_type": "code",
   "execution_count": 4,
   "metadata": {},
   "outputs": [
    {
     "data": {
      "text/plain": [
       "3×1 Matrix{Float64}:\n",
       " 0.0\n",
       " 0.0\n",
       " 0.0"
      ]
     },
     "execution_count": 4,
     "metadata": {},
     "output_type": "execute_result"
    }
   ],
   "source": [
    "c = zeros(3, 1)"
   ]
  },
  {
   "cell_type": "code",
   "execution_count": 5,
   "metadata": {},
   "outputs": [
    {
     "data": {
      "text/plain": [
       "1×3 Matrix{Float64}:\n",
       " 0.0  0.0  0.0"
      ]
     },
     "execution_count": 5,
     "metadata": {},
     "output_type": "execute_result"
    }
   ],
   "source": [
    "d = zeros(1, 3)"
   ]
  },
  {
   "cell_type": "code",
   "execution_count": 6,
   "metadata": {},
   "outputs": [
    {
     "data": {
      "text/plain": [
       "3-element Vector{Float64}:\n",
       " 0.0\n",
       " 0.0\n",
       " 0.0"
      ]
     },
     "execution_count": 6,
     "metadata": {},
     "output_type": "execute_result"
    }
   ],
   "source": [
    "x = zeros(3)"
   ]
  },
  {
   "cell_type": "code",
   "execution_count": 7,
   "metadata": {},
   "outputs": [
    {
     "data": {
      "text/plain": [
       "2×1 Matrix{Float64}:\n",
       " 0.0\n",
       " 0.0"
      ]
     },
     "execution_count": 7,
     "metadata": {},
     "output_type": "execute_result"
    }
   ],
   "source": [
    "A * c"
   ]
  },
  {
   "cell_type": "code",
   "execution_count": 8,
   "metadata": {},
   "outputs": [
    {
     "ename": "LoadError",
     "evalue": "DimensionMismatch(\"A has dimensions (2,3) but B has dimensions (1,3)\")",
     "output_type": "error",
     "traceback": [
      "DimensionMismatch(\"A has dimensions (2,3) but B has dimensions (1,3)\")",
      "",
      "Stacktrace:",
      " [1] gemm_wrapper!(C::Matrix{Float64}, tA::Char, tB::Char, A::Matrix{Float64}, B::Matrix{Float64}, _add::LinearAlgebra.MulAddMul{true, true, Bool, Bool})",
      "   @ LinearAlgebra /Users/julia/buildbot/worker/package_macos64/build/usr/share/julia/stdlib/v1.6/LinearAlgebra/src/matmul.jl:643",
      " [2] mul!",
      "   @ /Users/julia/buildbot/worker/package_macos64/build/usr/share/julia/stdlib/v1.6/LinearAlgebra/src/matmul.jl:169 [inlined]",
      " [3] mul!",
      "   @ /Users/julia/buildbot/worker/package_macos64/build/usr/share/julia/stdlib/v1.6/LinearAlgebra/src/matmul.jl:275 [inlined]",
      " [4] *(A::Matrix{Float64}, B::Matrix{Float64})",
      "   @ LinearAlgebra /Users/julia/buildbot/worker/package_macos64/build/usr/share/julia/stdlib/v1.6/LinearAlgebra/src/matmul.jl:160",
      " [5] top-level scope",
      "   @ In[8]:1",
      " [6] eval",
      "   @ ./boot.jl:360 [inlined]",
      " [7] include_string(mapexpr::typeof(REPL.softscope), mod::Module, code::String, filename::String)",
      "   @ Base ./loading.jl:1116"
     ]
    }
   ],
   "source": [
    "A * d"
   ]
  },
  {
   "cell_type": "code",
   "execution_count": 9,
   "metadata": {},
   "outputs": [
    {
     "data": {
      "text/plain": [
       "(2, 3)"
      ]
     },
     "execution_count": 9,
     "metadata": {},
     "output_type": "execute_result"
    }
   ],
   "source": [
    "size(A)"
   ]
  },
  {
   "cell_type": "code",
   "execution_count": 10,
   "metadata": {},
   "outputs": [
    {
     "data": {
      "text/plain": [
       "(1, 3)"
      ]
     },
     "execution_count": 10,
     "metadata": {},
     "output_type": "execute_result"
    }
   ],
   "source": [
    "size(d)"
   ]
  },
  {
   "cell_type": "code",
   "execution_count": 11,
   "metadata": {},
   "outputs": [
    {
     "data": {
      "text/plain": [
       "2-element Vector{Float64}:\n",
       " 0.0\n",
       " 0.0"
      ]
     },
     "execution_count": 11,
     "metadata": {},
     "output_type": "execute_result"
    }
   ],
   "source": [
    "A * x"
   ]
  },
  {
   "cell_type": "code",
   "execution_count": 12,
   "metadata": {},
   "outputs": [
    {
     "data": {
      "text/plain": [
       "1×2 Matrix{Float64}:\n",
       " 0.0  0.0"
      ]
     },
     "execution_count": 12,
     "metadata": {},
     "output_type": "execute_result"
    }
   ],
   "source": [
    "d * A'"
   ]
  },
  {
   "cell_type": "code",
   "execution_count": 13,
   "metadata": {},
   "outputs": [
    {
     "data": {
      "text/plain": [
       "(2, 3)"
      ]
     },
     "execution_count": 13,
     "metadata": {},
     "output_type": "execute_result"
    }
   ],
   "source": [
    "size(A)"
   ]
  },
  {
   "cell_type": "code",
   "execution_count": 14,
   "metadata": {},
   "outputs": [
    {
     "data": {
      "text/plain": [
       "(1, 3)"
      ]
     },
     "execution_count": 14,
     "metadata": {},
     "output_type": "execute_result"
    }
   ],
   "source": [
    "size(d)"
   ]
  },
  {
   "cell_type": "code",
   "execution_count": 15,
   "metadata": {},
   "outputs": [
    {
     "data": {
      "text/plain": [
       "2×3 Matrix{Float64}:\n",
       " 0.0  0.0  0.0\n",
       " 0.0  0.0  0.0"
      ]
     },
     "execution_count": 15,
     "metadata": {},
     "output_type": "execute_result"
    }
   ],
   "source": [
    "A .+ d"
   ]
  },
  {
   "cell_type": "code",
   "execution_count": 16,
   "metadata": {},
   "outputs": [
    {
     "data": {
      "text/plain": [
       "2×3 Matrix{Float64}:\n",
       " 0.0  0.0  0.0\n",
       " 0.0  0.0  0.0"
      ]
     },
     "execution_count": 16,
     "metadata": {},
     "output_type": "execute_result"
    }
   ],
   "source": [
    "A .* d"
   ]
  },
  {
   "cell_type": "code",
   "execution_count": 17,
   "metadata": {},
   "outputs": [
    {
     "data": {
      "text/plain": [
       "2×3 Matrix{Int64}:\n",
       " 1  2  3\n",
       " 4  5  6"
      ]
     },
     "execution_count": 17,
     "metadata": {},
     "output_type": "execute_result"
    }
   ],
   "source": [
    "Z = [1 2 3; 4 5 6]"
   ]
  },
  {
   "cell_type": "code",
   "execution_count": 18,
   "metadata": {},
   "outputs": [
    {
     "data": {
      "text/plain": [
       "1×3 Matrix{Int64}:\n",
       " 5  7  9"
      ]
     },
     "execution_count": 18,
     "metadata": {},
     "output_type": "execute_result"
    }
   ],
   "source": [
    "sum(Z, dims=1)"
   ]
  },
  {
   "cell_type": "code",
   "execution_count": 19,
   "metadata": {},
   "outputs": [
    {
     "data": {
      "text/plain": [
       "2×3 Matrix{Float64}:\n",
       " 0.166667  0.333333  0.5\n",
       " 0.266667  0.333333  0.4"
      ]
     },
     "execution_count": 19,
     "metadata": {},
     "output_type": "execute_result"
    }
   ],
   "source": [
    "Z ./ sum(Z, dims=2)"
   ]
  },
  {
   "cell_type": "markdown",
   "metadata": {},
   "source": [
    "# First-order difference equations\n",
    "## AR(1)\n",
    "$$\n",
    "x_t = A x_{t-1}\n",
    "$$\n",
    "$$\n",
    "= A\\cdot A \\cdot x_{t-2}\n",
    "$$\n",
    "$$\n",
    "= A^t x_0\n",
    "$$"
   ]
  },
  {
   "cell_type": "code",
   "execution_count": 20,
   "metadata": {},
   "outputs": [
    {
     "data": {
      "text/plain": [
       "plot_AR1 (generic function with 1 method)"
      ]
     },
     "execution_count": 20,
     "metadata": {},
     "output_type": "execute_result"
    }
   ],
   "source": [
    "using Plots\n",
    "function plot_AR1(A, x0)\n",
    "    x = zeros(30)\n",
    "    x[1] = x0\n",
    "    for t = 2:30\n",
    "        x[t] = A * x[t-1]\n",
    "    end\n",
    "    plot(x)\n",
    "end"
   ]
  },
  {
   "cell_type": "code",
   "execution_count": 21,
   "metadata": {},
   "outputs": [
    {
     "data": {
      "image/svg+xml": [
       "<?xml version=\"1.0\" encoding=\"utf-8\"?>\n",
       "<svg xmlns=\"http://www.w3.org/2000/svg\" xmlns:xlink=\"http://www.w3.org/1999/xlink\" width=\"600\" height=\"400\" viewBox=\"0 0 2400 1600\">\n",
       "<defs>\n",
       "  <clipPath id=\"clip590\">\n",
       "    <rect x=\"0\" y=\"0\" width=\"2400\" height=\"1600\"/>\n",
       "  </clipPath>\n",
       "</defs>\n",
       "<path clip-path=\"url(#clip590)\" d=\"\n",
       "M0 1600 L2400 1600 L2400 0 L0 0  Z\n",
       "  \" fill=\"#ffffff\" fill-rule=\"evenodd\" fill-opacity=\"1\"/>\n",
       "<defs>\n",
       "  <clipPath id=\"clip591\">\n",
       "    <rect x=\"480\" y=\"0\" width=\"1681\" height=\"1600\"/>\n",
       "  </clipPath>\n",
       "</defs>\n",
       "<path clip-path=\"url(#clip590)\" d=\"\n",
       "M170.857 1486.45 L2352.76 1486.45 L2352.76 47.2441 L170.857 47.2441  Z\n",
       "  \" fill=\"#ffffff\" fill-rule=\"evenodd\" fill-opacity=\"1\"/>\n",
       "<defs>\n",
       "  <clipPath id=\"clip592\">\n",
       "    <rect x=\"170\" y=\"47\" width=\"2183\" height=\"1440\"/>\n",
       "  </clipPath>\n",
       "</defs>\n",
       "<polyline clip-path=\"url(#clip592)\" style=\"stroke:#000000; stroke-linecap:butt; stroke-linejoin:round; stroke-width:2; stroke-opacity:0.1; fill:none\" points=\"\n",
       "  516.526,1486.45 516.526,47.2441 \n",
       "  \"/>\n",
       "<polyline clip-path=\"url(#clip592)\" style=\"stroke:#000000; stroke-linecap:butt; stroke-linejoin:round; stroke-width:2; stroke-opacity:0.1; fill:none\" points=\"\n",
       "  871.421,1486.45 871.421,47.2441 \n",
       "  \"/>\n",
       "<polyline clip-path=\"url(#clip592)\" style=\"stroke:#000000; stroke-linecap:butt; stroke-linejoin:round; stroke-width:2; stroke-opacity:0.1; fill:none\" points=\"\n",
       "  1226.32,1486.45 1226.32,47.2441 \n",
       "  \"/>\n",
       "<polyline clip-path=\"url(#clip592)\" style=\"stroke:#000000; stroke-linecap:butt; stroke-linejoin:round; stroke-width:2; stroke-opacity:0.1; fill:none\" points=\"\n",
       "  1581.21,1486.45 1581.21,47.2441 \n",
       "  \"/>\n",
       "<polyline clip-path=\"url(#clip592)\" style=\"stroke:#000000; stroke-linecap:butt; stroke-linejoin:round; stroke-width:2; stroke-opacity:0.1; fill:none\" points=\"\n",
       "  1936.11,1486.45 1936.11,47.2441 \n",
       "  \"/>\n",
       "<polyline clip-path=\"url(#clip592)\" style=\"stroke:#000000; stroke-linecap:butt; stroke-linejoin:round; stroke-width:2; stroke-opacity:0.1; fill:none\" points=\"\n",
       "  2291,1486.45 2291,47.2441 \n",
       "  \"/>\n",
       "<polyline clip-path=\"url(#clip590)\" style=\"stroke:#000000; stroke-linecap:butt; stroke-linejoin:round; stroke-width:4; stroke-opacity:1; fill:none\" points=\"\n",
       "  170.857,1486.45 2352.76,1486.45 \n",
       "  \"/>\n",
       "<polyline clip-path=\"url(#clip590)\" style=\"stroke:#000000; stroke-linecap:butt; stroke-linejoin:round; stroke-width:4; stroke-opacity:1; fill:none\" points=\"\n",
       "  516.526,1486.45 516.526,1467.55 \n",
       "  \"/>\n",
       "<polyline clip-path=\"url(#clip590)\" style=\"stroke:#000000; stroke-linecap:butt; stroke-linejoin:round; stroke-width:4; stroke-opacity:1; fill:none\" points=\"\n",
       "  871.421,1486.45 871.421,1467.55 \n",
       "  \"/>\n",
       "<polyline clip-path=\"url(#clip590)\" style=\"stroke:#000000; stroke-linecap:butt; stroke-linejoin:round; stroke-width:4; stroke-opacity:1; fill:none\" points=\"\n",
       "  1226.32,1486.45 1226.32,1467.55 \n",
       "  \"/>\n",
       "<polyline clip-path=\"url(#clip590)\" style=\"stroke:#000000; stroke-linecap:butt; stroke-linejoin:round; stroke-width:4; stroke-opacity:1; fill:none\" points=\"\n",
       "  1581.21,1486.45 1581.21,1467.55 \n",
       "  \"/>\n",
       "<polyline clip-path=\"url(#clip590)\" style=\"stroke:#000000; stroke-linecap:butt; stroke-linejoin:round; stroke-width:4; stroke-opacity:1; fill:none\" points=\"\n",
       "  1936.11,1486.45 1936.11,1467.55 \n",
       "  \"/>\n",
       "<polyline clip-path=\"url(#clip590)\" style=\"stroke:#000000; stroke-linecap:butt; stroke-linejoin:round; stroke-width:4; stroke-opacity:1; fill:none\" points=\"\n",
       "  2291,1486.45 2291,1467.55 \n",
       "  \"/>\n",
       "<path clip-path=\"url(#clip590)\" d=\"M506.804 1512.56 L525.16 1512.56 L525.16 1516.5 L511.086 1516.5 L511.086 1524.97 Q512.105 1524.62 513.123 1524.46 Q514.142 1524.27 515.16 1524.27 Q520.947 1524.27 524.327 1527.44 Q527.706 1530.62 527.706 1536.03 Q527.706 1541.61 524.234 1544.71 Q520.762 1547.79 514.442 1547.79 Q512.267 1547.79 509.998 1547.42 Q507.753 1547.05 505.345 1546.31 L505.345 1541.61 Q507.429 1542.74 509.651 1543.3 Q511.873 1543.86 514.35 1543.86 Q518.354 1543.86 520.692 1541.75 Q523.03 1539.64 523.03 1536.03 Q523.03 1532.42 520.692 1530.31 Q518.354 1528.21 514.35 1528.21 Q512.475 1528.21 510.6 1528.62 Q508.748 1529.04 506.804 1529.92 L506.804 1512.56 Z\" fill=\"#000000\" fill-rule=\"evenodd\" fill-opacity=\"1\" /><path clip-path=\"url(#clip590)\" d=\"M846.109 1543.18 L853.748 1543.18 L853.748 1516.82 L845.438 1518.49 L845.438 1514.23 L853.702 1512.56 L858.378 1512.56 L858.378 1543.18 L866.016 1543.18 L866.016 1547.12 L846.109 1547.12 L846.109 1543.18 Z\" fill=\"#000000\" fill-rule=\"evenodd\" fill-opacity=\"1\" /><path clip-path=\"url(#clip590)\" d=\"M885.461 1515.64 Q881.85 1515.64 880.021 1519.2 Q878.215 1522.75 878.215 1529.87 Q878.215 1536.98 880.021 1540.55 Q881.85 1544.09 885.461 1544.09 Q889.095 1544.09 890.901 1540.55 Q892.729 1536.98 892.729 1529.87 Q892.729 1522.75 890.901 1519.2 Q889.095 1515.64 885.461 1515.64 M885.461 1511.93 Q891.271 1511.93 894.326 1516.54 Q897.405 1521.12 897.405 1529.87 Q897.405 1538.6 894.326 1543.21 Q891.271 1547.79 885.461 1547.79 Q879.651 1547.79 876.572 1543.21 Q873.516 1538.6 873.516 1529.87 Q873.516 1521.12 876.572 1516.54 Q879.651 1511.93 885.461 1511.93 Z\" fill=\"#000000\" fill-rule=\"evenodd\" fill-opacity=\"1\" /><path clip-path=\"url(#clip590)\" d=\"M1201.5 1543.18 L1209.14 1543.18 L1209.14 1516.82 L1200.83 1518.49 L1200.83 1514.23 L1209.09 1512.56 L1213.77 1512.56 L1213.77 1543.18 L1221.41 1543.18 L1221.41 1547.12 L1201.5 1547.12 L1201.5 1543.18 Z\" fill=\"#000000\" fill-rule=\"evenodd\" fill-opacity=\"1\" /><path clip-path=\"url(#clip590)\" d=\"M1230.9 1512.56 L1249.26 1512.56 L1249.26 1516.5 L1235.18 1516.5 L1235.18 1524.97 Q1236.2 1524.62 1237.22 1524.46 Q1238.24 1524.27 1239.26 1524.27 Q1245.04 1524.27 1248.42 1527.44 Q1251.8 1530.62 1251.8 1536.03 Q1251.8 1541.61 1248.33 1544.71 Q1244.86 1547.79 1238.54 1547.79 Q1236.36 1547.79 1234.09 1547.42 Q1231.85 1547.05 1229.44 1546.31 L1229.44 1541.61 Q1231.53 1542.74 1233.75 1543.3 Q1235.97 1543.86 1238.45 1543.86 Q1242.45 1543.86 1244.79 1541.75 Q1247.13 1539.64 1247.13 1536.03 Q1247.13 1532.42 1244.79 1530.31 Q1242.45 1528.21 1238.45 1528.21 Q1236.57 1528.21 1234.7 1528.62 Q1232.84 1529.04 1230.9 1529.92 L1230.9 1512.56 Z\" fill=\"#000000\" fill-rule=\"evenodd\" fill-opacity=\"1\" /><path clip-path=\"url(#clip590)\" d=\"M1559.99 1543.18 L1576.31 1543.18 L1576.31 1547.12 L1554.36 1547.12 L1554.36 1543.18 Q1557.02 1540.43 1561.61 1535.8 Q1566.21 1531.15 1567.39 1529.81 Q1569.64 1527.28 1570.52 1525.55 Q1571.42 1523.79 1571.42 1522.1 Q1571.42 1519.34 1569.48 1517.61 Q1567.56 1515.87 1564.45 1515.87 Q1562.25 1515.87 1559.8 1516.63 Q1557.37 1517.4 1554.59 1518.95 L1554.59 1514.23 Q1557.42 1513.09 1559.87 1512.51 Q1562.32 1511.93 1564.36 1511.93 Q1569.73 1511.93 1572.93 1514.62 Q1576.12 1517.31 1576.12 1521.8 Q1576.12 1523.93 1575.31 1525.85 Q1574.52 1527.74 1572.42 1530.34 Q1571.84 1531.01 1568.74 1534.23 Q1565.63 1537.42 1559.99 1543.18 Z\" fill=\"#000000\" fill-rule=\"evenodd\" fill-opacity=\"1\" /><path clip-path=\"url(#clip590)\" d=\"M1596.12 1515.64 Q1592.51 1515.64 1590.68 1519.2 Q1588.87 1522.75 1588.87 1529.87 Q1588.87 1536.98 1590.68 1540.55 Q1592.51 1544.09 1596.12 1544.09 Q1599.75 1544.09 1601.56 1540.55 Q1603.39 1536.98 1603.39 1529.87 Q1603.39 1522.75 1601.56 1519.2 Q1599.75 1515.64 1596.12 1515.64 M1596.12 1511.93 Q1601.93 1511.93 1604.99 1516.54 Q1608.06 1521.12 1608.06 1529.87 Q1608.06 1538.6 1604.99 1543.21 Q1601.93 1547.79 1596.12 1547.79 Q1590.31 1547.79 1587.23 1543.21 Q1584.18 1538.6 1584.18 1529.87 Q1584.18 1521.12 1587.23 1516.54 Q1590.31 1511.93 1596.12 1511.93 Z\" fill=\"#000000\" fill-rule=\"evenodd\" fill-opacity=\"1\" /><path clip-path=\"url(#clip590)\" d=\"M1915.38 1543.18 L1931.7 1543.18 L1931.7 1547.12 L1909.75 1547.12 L1909.75 1543.18 Q1912.42 1540.43 1917 1535.8 Q1921.61 1531.15 1922.79 1529.81 Q1925.03 1527.28 1925.91 1525.55 Q1926.81 1523.79 1926.81 1522.1 Q1926.81 1519.34 1924.87 1517.61 Q1922.95 1515.87 1919.85 1515.87 Q1917.65 1515.87 1915.19 1516.63 Q1912.76 1517.4 1909.99 1518.95 L1909.99 1514.23 Q1912.81 1513.09 1915.26 1512.51 Q1917.72 1511.93 1919.75 1511.93 Q1925.12 1511.93 1928.32 1514.62 Q1931.51 1517.31 1931.51 1521.8 Q1931.51 1523.93 1930.7 1525.85 Q1929.92 1527.74 1927.81 1530.34 Q1927.23 1531.01 1924.13 1534.23 Q1921.03 1537.42 1915.38 1543.18 Z\" fill=\"#000000\" fill-rule=\"evenodd\" fill-opacity=\"1\" /><path clip-path=\"url(#clip590)\" d=\"M1941.56 1512.56 L1959.92 1512.56 L1959.92 1516.5 L1945.84 1516.5 L1945.84 1524.97 Q1946.86 1524.62 1947.88 1524.46 Q1948.9 1524.27 1949.92 1524.27 Q1955.7 1524.27 1959.08 1527.44 Q1962.46 1530.62 1962.46 1536.03 Q1962.46 1541.61 1958.99 1544.71 Q1955.52 1547.79 1949.2 1547.79 Q1947.02 1547.79 1944.75 1547.42 Q1942.51 1547.05 1940.1 1546.31 L1940.1 1541.61 Q1942.18 1542.74 1944.41 1543.3 Q1946.63 1543.86 1949.11 1543.86 Q1953.11 1543.86 1955.45 1541.75 Q1957.79 1539.64 1957.79 1536.03 Q1957.79 1532.42 1955.45 1530.31 Q1953.11 1528.21 1949.11 1528.21 Q1947.23 1528.21 1945.36 1528.62 Q1943.5 1529.04 1941.56 1529.92 L1941.56 1512.56 Z\" fill=\"#000000\" fill-rule=\"evenodd\" fill-opacity=\"1\" /><path clip-path=\"url(#clip590)\" d=\"M2279.85 1528.49 Q2283.2 1529.2 2285.08 1531.47 Q2286.98 1533.74 2286.98 1537.07 Q2286.98 1542.19 2283.46 1544.99 Q2279.94 1547.79 2273.46 1547.79 Q2271.28 1547.79 2268.97 1547.35 Q2266.68 1546.93 2264.22 1546.08 L2264.22 1541.56 Q2266.17 1542.7 2268.48 1543.28 Q2270.8 1543.86 2273.32 1543.86 Q2277.72 1543.86 2280.01 1542.12 Q2282.32 1540.38 2282.32 1537.07 Q2282.32 1534.02 2280.17 1532.31 Q2278.04 1530.57 2274.22 1530.57 L2270.19 1530.57 L2270.19 1526.73 L2274.41 1526.73 Q2277.86 1526.73 2279.68 1525.36 Q2281.51 1523.97 2281.51 1521.38 Q2281.51 1518.72 2279.62 1517.31 Q2277.74 1515.87 2274.22 1515.87 Q2272.3 1515.87 2270.1 1516.29 Q2267.9 1516.7 2265.26 1517.58 L2265.26 1513.42 Q2267.93 1512.68 2270.24 1512.31 Q2272.58 1511.93 2274.64 1511.93 Q2279.96 1511.93 2283.06 1514.37 Q2286.17 1516.77 2286.17 1520.89 Q2286.17 1523.76 2284.52 1525.75 Q2282.88 1527.72 2279.85 1528.49 Z\" fill=\"#000000\" fill-rule=\"evenodd\" fill-opacity=\"1\" /><path clip-path=\"url(#clip590)\" d=\"M2305.84 1515.64 Q2302.23 1515.64 2300.4 1519.2 Q2298.6 1522.75 2298.6 1529.87 Q2298.6 1536.98 2300.4 1540.55 Q2302.23 1544.09 2305.84 1544.09 Q2309.48 1544.09 2311.28 1540.55 Q2313.11 1536.98 2313.11 1529.87 Q2313.11 1522.75 2311.28 1519.2 Q2309.48 1515.64 2305.84 1515.64 M2305.84 1511.93 Q2311.65 1511.93 2314.71 1516.54 Q2317.79 1521.12 2317.79 1529.87 Q2317.79 1538.6 2314.71 1543.21 Q2311.65 1547.79 2305.84 1547.79 Q2300.03 1547.79 2296.95 1543.21 Q2293.9 1538.6 2293.9 1529.87 Q2293.9 1521.12 2296.95 1516.54 Q2300.03 1511.93 2305.84 1511.93 Z\" fill=\"#000000\" fill-rule=\"evenodd\" fill-opacity=\"1\" /><polyline clip-path=\"url(#clip592)\" style=\"stroke:#000000; stroke-linecap:butt; stroke-linejoin:round; stroke-width:2; stroke-opacity:0.1; fill:none\" points=\"\n",
       "  170.857,1452.61 2352.76,1452.61 \n",
       "  \"/>\n",
       "<polyline clip-path=\"url(#clip592)\" style=\"stroke:#000000; stroke-linecap:butt; stroke-linejoin:round; stroke-width:2; stroke-opacity:0.1; fill:none\" points=\"\n",
       "  170.857,1107.68 2352.76,1107.68 \n",
       "  \"/>\n",
       "<polyline clip-path=\"url(#clip592)\" style=\"stroke:#000000; stroke-linecap:butt; stroke-linejoin:round; stroke-width:2; stroke-opacity:0.1; fill:none\" points=\"\n",
       "  170.857,762.754 2352.76,762.754 \n",
       "  \"/>\n",
       "<polyline clip-path=\"url(#clip592)\" style=\"stroke:#000000; stroke-linecap:butt; stroke-linejoin:round; stroke-width:2; stroke-opacity:0.1; fill:none\" points=\"\n",
       "  170.857,417.823 2352.76,417.823 \n",
       "  \"/>\n",
       "<polyline clip-path=\"url(#clip592)\" style=\"stroke:#000000; stroke-linecap:butt; stroke-linejoin:round; stroke-width:2; stroke-opacity:0.1; fill:none\" points=\"\n",
       "  170.857,72.8931 2352.76,72.8931 \n",
       "  \"/>\n",
       "<polyline clip-path=\"url(#clip590)\" style=\"stroke:#000000; stroke-linecap:butt; stroke-linejoin:round; stroke-width:4; stroke-opacity:1; fill:none\" points=\"\n",
       "  170.857,1486.45 170.857,47.2441 \n",
       "  \"/>\n",
       "<polyline clip-path=\"url(#clip590)\" style=\"stroke:#000000; stroke-linecap:butt; stroke-linejoin:round; stroke-width:4; stroke-opacity:1; fill:none\" points=\"\n",
       "  170.857,1452.61 189.755,1452.61 \n",
       "  \"/>\n",
       "<polyline clip-path=\"url(#clip590)\" style=\"stroke:#000000; stroke-linecap:butt; stroke-linejoin:round; stroke-width:4; stroke-opacity:1; fill:none\" points=\"\n",
       "  170.857,1107.68 189.755,1107.68 \n",
       "  \"/>\n",
       "<polyline clip-path=\"url(#clip590)\" style=\"stroke:#000000; stroke-linecap:butt; stroke-linejoin:round; stroke-width:4; stroke-opacity:1; fill:none\" points=\"\n",
       "  170.857,762.754 189.755,762.754 \n",
       "  \"/>\n",
       "<polyline clip-path=\"url(#clip590)\" style=\"stroke:#000000; stroke-linecap:butt; stroke-linejoin:round; stroke-width:4; stroke-opacity:1; fill:none\" points=\"\n",
       "  170.857,417.823 189.755,417.823 \n",
       "  \"/>\n",
       "<polyline clip-path=\"url(#clip590)\" style=\"stroke:#000000; stroke-linecap:butt; stroke-linejoin:round; stroke-width:4; stroke-opacity:1; fill:none\" points=\"\n",
       "  170.857,72.8931 189.755,72.8931 \n",
       "  \"/>\n",
       "<path clip-path=\"url(#clip590)\" d=\"M122.913 1438.41 Q119.302 1438.41 117.473 1441.98 Q115.668 1445.52 115.668 1452.65 Q115.668 1459.76 117.473 1463.32 Q119.302 1466.86 122.913 1466.86 Q126.547 1466.86 128.353 1463.32 Q130.182 1459.76 130.182 1452.65 Q130.182 1445.52 128.353 1441.98 Q126.547 1438.41 122.913 1438.41 M122.913 1434.71 Q128.723 1434.71 131.779 1439.32 Q134.857 1443.9 134.857 1452.65 Q134.857 1461.38 131.779 1465.98 Q128.723 1470.57 122.913 1470.57 Q117.103 1470.57 114.024 1465.98 Q110.969 1461.38 110.969 1452.65 Q110.969 1443.9 114.024 1439.32 Q117.103 1434.71 122.913 1434.71 Z\" fill=\"#000000\" fill-rule=\"evenodd\" fill-opacity=\"1\" /><path clip-path=\"url(#clip590)\" d=\"M82.7975 1090.4 L101.154 1090.4 L101.154 1094.34 L87.0799 1094.34 L87.0799 1102.81 Q88.0984 1102.46 89.1169 1102.3 Q90.1354 1102.12 91.1539 1102.12 Q96.941 1102.12 100.321 1105.29 Q103.7 1108.46 103.7 1113.88 Q103.7 1119.45 100.228 1122.56 Q96.7558 1125.64 90.4364 1125.64 Q88.2604 1125.64 85.9919 1125.26 Q83.7466 1124.89 81.3392 1124.15 L81.3392 1119.45 Q83.4225 1120.59 85.6447 1121.14 Q87.8669 1121.7 90.3438 1121.7 Q94.3484 1121.7 96.6863 1119.59 Q99.0243 1117.49 99.0243 1113.88 Q99.0243 1110.27 96.6863 1108.16 Q94.3484 1106.05 90.3438 1106.05 Q88.4688 1106.05 86.5938 1106.47 Q84.7419 1106.89 82.7975 1107.77 L82.7975 1090.4 Z\" fill=\"#000000\" fill-rule=\"evenodd\" fill-opacity=\"1\" /><path clip-path=\"url(#clip590)\" d=\"M122.913 1093.48 Q119.302 1093.48 117.473 1097.05 Q115.668 1100.59 115.668 1107.72 Q115.668 1114.83 117.473 1118.39 Q119.302 1121.93 122.913 1121.93 Q126.547 1121.93 128.353 1118.39 Q130.182 1114.83 130.182 1107.72 Q130.182 1100.59 128.353 1097.05 Q126.547 1093.48 122.913 1093.48 M122.913 1089.78 Q128.723 1089.78 131.779 1094.39 Q134.857 1098.97 134.857 1107.72 Q134.857 1116.45 131.779 1121.05 Q128.723 1125.64 122.913 1125.64 Q117.103 1125.64 114.024 1121.05 Q110.969 1116.45 110.969 1107.72 Q110.969 1098.97 114.024 1094.39 Q117.103 1089.78 122.913 1089.78 Z\" fill=\"#000000\" fill-rule=\"evenodd\" fill-opacity=\"1\" /><path clip-path=\"url(#clip590)\" d=\"M53.3995 776.099 L61.0384 776.099 L61.0384 749.733 L52.7282 751.4 L52.7282 747.14 L60.9921 745.474 L65.668 745.474 L65.668 776.099 L73.3068 776.099 L73.3068 780.034 L53.3995 780.034 L53.3995 776.099 Z\" fill=\"#000000\" fill-rule=\"evenodd\" fill-opacity=\"1\" /><path clip-path=\"url(#clip590)\" d=\"M92.7512 748.552 Q89.1401 748.552 87.3114 752.117 Q85.5058 755.659 85.5058 762.788 Q85.5058 769.895 87.3114 773.46 Q89.1401 777.001 92.7512 777.001 Q96.3854 777.001 98.1909 773.46 Q100.02 769.895 100.02 762.788 Q100.02 755.659 98.1909 752.117 Q96.3854 748.552 92.7512 748.552 M92.7512 744.849 Q98.5613 744.849 101.617 749.455 Q104.696 754.038 104.696 762.788 Q104.696 771.515 101.617 776.122 Q98.5613 780.705 92.7512 780.705 Q86.941 780.705 83.8623 776.122 Q80.8068 771.515 80.8068 762.788 Q80.8068 754.038 83.8623 749.455 Q86.941 744.849 92.7512 744.849 Z\" fill=\"#000000\" fill-rule=\"evenodd\" fill-opacity=\"1\" /><path clip-path=\"url(#clip590)\" d=\"M122.913 748.552 Q119.302 748.552 117.473 752.117 Q115.668 755.659 115.668 762.788 Q115.668 769.895 117.473 773.46 Q119.302 777.001 122.913 777.001 Q126.547 777.001 128.353 773.46 Q130.182 769.895 130.182 762.788 Q130.182 755.659 128.353 752.117 Q126.547 748.552 122.913 748.552 M122.913 744.849 Q128.723 744.849 131.779 749.455 Q134.857 754.038 134.857 762.788 Q134.857 771.515 131.779 776.122 Q128.723 780.705 122.913 780.705 Q117.103 780.705 114.024 776.122 Q110.969 771.515 110.969 762.788 Q110.969 754.038 114.024 749.455 Q117.103 744.849 122.913 744.849 Z\" fill=\"#000000\" fill-rule=\"evenodd\" fill-opacity=\"1\" /><path clip-path=\"url(#clip590)\" d=\"M53.3995 431.168 L61.0384 431.168 L61.0384 404.803 L52.7282 406.469 L52.7282 402.21 L60.9921 400.543 L65.668 400.543 L65.668 431.168 L73.3068 431.168 L73.3068 435.103 L53.3995 435.103 L53.3995 431.168 Z\" fill=\"#000000\" fill-rule=\"evenodd\" fill-opacity=\"1\" /><path clip-path=\"url(#clip590)\" d=\"M82.7975 400.543 L101.154 400.543 L101.154 404.479 L87.0799 404.479 L87.0799 412.951 Q88.0984 412.604 89.1169 412.442 Q90.1354 412.256 91.1539 412.256 Q96.941 412.256 100.321 415.428 Q103.7 418.599 103.7 424.016 Q103.7 429.594 100.228 432.696 Q96.7558 435.775 90.4364 435.775 Q88.2604 435.775 85.9919 435.404 Q83.7466 435.034 81.3392 434.293 L81.3392 429.594 Q83.4225 430.728 85.6447 431.284 Q87.8669 431.84 90.3438 431.84 Q94.3484 431.84 96.6863 429.733 Q99.0243 427.627 99.0243 424.016 Q99.0243 420.404 96.6863 418.298 Q94.3484 416.191 90.3438 416.191 Q88.4688 416.191 86.5938 416.608 Q84.7419 417.025 82.7975 417.904 L82.7975 400.543 Z\" fill=\"#000000\" fill-rule=\"evenodd\" fill-opacity=\"1\" /><path clip-path=\"url(#clip590)\" d=\"M122.913 403.622 Q119.302 403.622 117.473 407.187 Q115.668 410.729 115.668 417.858 Q115.668 424.965 117.473 428.529 Q119.302 432.071 122.913 432.071 Q126.547 432.071 128.353 428.529 Q130.182 424.965 130.182 417.858 Q130.182 410.729 128.353 407.187 Q126.547 403.622 122.913 403.622 M122.913 399.918 Q128.723 399.918 131.779 404.525 Q134.857 409.108 134.857 417.858 Q134.857 426.585 131.779 431.191 Q128.723 435.775 122.913 435.775 Q117.103 435.775 114.024 431.191 Q110.969 426.585 110.969 417.858 Q110.969 409.108 114.024 404.525 Q117.103 399.918 122.913 399.918 Z\" fill=\"#000000\" fill-rule=\"evenodd\" fill-opacity=\"1\" /><path clip-path=\"url(#clip590)\" d=\"M56.6171 86.238 L72.9365 86.238 L72.9365 90.1731 L50.9921 90.1731 L50.9921 86.238 Q53.6541 83.4834 58.2375 78.8537 Q62.8439 74.201 64.0245 72.8584 Q66.2698 70.3353 67.1494 68.5992 Q68.0522 66.8399 68.0522 65.1501 Q68.0522 62.3955 66.1078 60.6594 Q64.1865 58.9233 61.0847 58.9233 Q58.8856 58.9233 56.4319 59.6872 Q54.0014 60.4511 51.2236 62.002 L51.2236 57.2798 Q54.0477 56.1455 56.5014 55.5668 Q58.955 54.9881 60.9921 54.9881 Q66.3624 54.9881 69.5568 57.6733 Q72.7513 60.3585 72.7513 64.8492 Q72.7513 66.9788 71.9411 68.9001 Q71.1541 70.7982 69.0476 73.3908 Q68.4689 74.0621 65.367 77.2797 Q62.2652 80.4741 56.6171 86.238 Z\" fill=\"#000000\" fill-rule=\"evenodd\" fill-opacity=\"1\" /><path clip-path=\"url(#clip590)\" d=\"M92.7512 58.6918 Q89.1401 58.6918 87.3114 62.2566 Q85.5058 65.7983 85.5058 72.9279 Q85.5058 80.0343 87.3114 83.5991 Q89.1401 87.1407 92.7512 87.1407 Q96.3854 87.1407 98.1909 83.5991 Q100.02 80.0343 100.02 72.9279 Q100.02 65.7983 98.1909 62.2566 Q96.3854 58.6918 92.7512 58.6918 M92.7512 54.9881 Q98.5613 54.9881 101.617 59.5946 Q104.696 64.1779 104.696 72.9279 Q104.696 81.6547 101.617 86.2611 Q98.5613 90.8444 92.7512 90.8444 Q86.941 90.8444 83.8623 86.2611 Q80.8068 81.6547 80.8068 72.9279 Q80.8068 64.1779 83.8623 59.5946 Q86.941 54.9881 92.7512 54.9881 Z\" fill=\"#000000\" fill-rule=\"evenodd\" fill-opacity=\"1\" /><path clip-path=\"url(#clip590)\" d=\"M122.913 58.6918 Q119.302 58.6918 117.473 62.2566 Q115.668 65.7983 115.668 72.9279 Q115.668 80.0343 117.473 83.5991 Q119.302 87.1407 122.913 87.1407 Q126.547 87.1407 128.353 83.5991 Q130.182 80.0343 130.182 72.9279 Q130.182 65.7983 128.353 62.2566 Q126.547 58.6918 122.913 58.6918 M122.913 54.9881 Q128.723 54.9881 131.779 59.5946 Q134.857 64.1779 134.857 72.9279 Q134.857 81.6547 131.779 86.2611 Q128.723 90.8444 122.913 90.8444 Q117.103 90.8444 114.024 86.2611 Q110.969 81.6547 110.969 72.9279 Q110.969 64.1779 114.024 59.5946 Q117.103 54.9881 122.913 54.9881 Z\" fill=\"#000000\" fill-rule=\"evenodd\" fill-opacity=\"1\" /><polyline clip-path=\"url(#clip592)\" style=\"stroke:#009af9; stroke-linecap:butt; stroke-linejoin:round; stroke-width:4; stroke-opacity:1; fill:none\" points=\"\n",
       "  232.609,1445.72 303.588,1444.34 374.568,1442.68 445.547,1440.69 516.526,1438.31 587.505,1435.45 658.484,1432.02 729.463,1427.9 800.442,1422.95 871.421,1417.02 \n",
       "  942.401,1409.9 1013.38,1401.36 1084.36,1391.11 1155.34,1378.8 1226.32,1364.04 1297.3,1346.33 1368.28,1325.07 1439.25,1299.56 1510.23,1268.95 1581.21,1232.22 \n",
       "  1652.19,1188.14 1723.17,1135.24 1794.15,1071.77 1865.13,995.6 1936.11,904.197 2007.09,794.513 2078.07,662.893 2149.05,504.949 2220.02,315.416 2291,87.9763 \n",
       "  \n",
       "  \"/>\n",
       "<path clip-path=\"url(#clip590)\" d=\"\n",
       "M1985.16 198.898 L2280.03 198.898 L2280.03 95.2176 L1985.16 95.2176  Z\n",
       "  \" fill=\"#ffffff\" fill-rule=\"evenodd\" fill-opacity=\"1\"/>\n",
       "<polyline clip-path=\"url(#clip590)\" style=\"stroke:#000000; stroke-linecap:butt; stroke-linejoin:round; stroke-width:4; stroke-opacity:1; fill:none\" points=\"\n",
       "  1985.16,198.898 2280.03,198.898 2280.03,95.2176 1985.16,95.2176 1985.16,198.898 \n",
       "  \"/>\n",
       "<polyline clip-path=\"url(#clip590)\" style=\"stroke:#009af9; stroke-linecap:butt; stroke-linejoin:round; stroke-width:4; stroke-opacity:1; fill:none\" points=\"\n",
       "  2009.41,147.058 2154.87,147.058 \n",
       "  \"/>\n",
       "<path clip-path=\"url(#clip590)\" d=\"M2192.95 166.745 Q2191.15 171.375 2189.43 172.787 Q2187.72 174.199 2184.85 174.199 L2181.45 174.199 L2181.45 170.634 L2183.95 170.634 Q2185.71 170.634 2186.68 169.8 Q2187.65 168.967 2188.83 165.865 L2189.6 163.921 L2179.11 138.412 L2183.62 138.412 L2191.72 158.689 L2199.83 138.412 L2204.34 138.412 L2192.95 166.745 Z\" fill=\"#000000\" fill-rule=\"evenodd\" fill-opacity=\"1\" /><path clip-path=\"url(#clip590)\" d=\"M2211.63 160.402 L2219.27 160.402 L2219.27 134.037 L2210.96 135.703 L2210.96 131.444 L2219.22 129.778 L2223.9 129.778 L2223.9 160.402 L2231.54 160.402 L2231.54 164.338 L2211.63 164.338 L2211.63 160.402 Z\" fill=\"#000000\" fill-rule=\"evenodd\" fill-opacity=\"1\" /></svg>\n"
      ]
     },
     "execution_count": 21,
     "metadata": {},
     "output_type": "execute_result"
    }
   ],
   "source": [
    "plot_AR1(1.2, 1.0)"
   ]
  },
  {
   "cell_type": "code",
   "execution_count": null,
   "metadata": {},
   "outputs": [],
   "source": []
  },
  {
   "cell_type": "code",
   "execution_count": null,
   "metadata": {},
   "outputs": [],
   "source": []
  },
  {
   "cell_type": "code",
   "execution_count": 22,
   "metadata": {},
   "outputs": [
    {
     "name": "stdout",
     "output_type": "stream",
     "text": [
      "1\n",
      "3\n",
      "5\n",
      "7\n",
      "9\n"
     ]
    }
   ],
   "source": [
    "for i = 1:2:10\n",
    "    println(i)\n",
    "end"
   ]
  },
  {
   "cell_type": "code",
   "execution_count": 23,
   "metadata": {},
   "outputs": [
    {
     "data": {
      "text/plain": [
       "3-element Vector{Int64}:\n",
       " 1\n",
       " 2\n",
       " 3"
      ]
     },
     "execution_count": 23,
     "metadata": {},
     "output_type": "execute_result"
    }
   ],
   "source": [
    "z = [1, 2, 3]"
   ]
  },
  {
   "cell_type": "code",
   "execution_count": 24,
   "metadata": {},
   "outputs": [
    {
     "data": {
      "text/plain": [
       "1"
      ]
     },
     "execution_count": 24,
     "metadata": {},
     "output_type": "execute_result"
    }
   ],
   "source": [
    "z[1]"
   ]
  },
  {
   "cell_type": "code",
   "execution_count": 25,
   "metadata": {},
   "outputs": [
    {
     "data": {
      "text/plain": [
       "2"
      ]
     },
     "execution_count": 25,
     "metadata": {},
     "output_type": "execute_result"
    }
   ],
   "source": [
    "z[2]"
   ]
  },
  {
   "cell_type": "code",
   "execution_count": 26,
   "metadata": {},
   "outputs": [
    {
     "ename": "LoadError",
     "evalue": "UndefVarError: mean not defined",
     "output_type": "error",
     "traceback": [
      "UndefVarError: mean not defined",
      "",
      "Stacktrace:",
      " [1] top-level scope",
      "   @ In[26]:1",
      " [2] eval",
      "   @ ./boot.jl:360 [inlined]",
      " [3] include_string(mapexpr::typeof(REPL.softscope), mod::Module, code::String, filename::String)",
      "   @ Base ./loading.jl:1116"
     ]
    }
   ],
   "source": [
    "mean(z)"
   ]
  },
  {
   "cell_type": "code",
   "execution_count": 27,
   "metadata": {},
   "outputs": [],
   "source": [
    "using Statistics"
   ]
  },
  {
   "cell_type": "code",
   "execution_count": 28,
   "metadata": {},
   "outputs": [
    {
     "data": {
      "text/plain": [
       "2.0"
      ]
     },
     "execution_count": 28,
     "metadata": {},
     "output_type": "execute_result"
    }
   ],
   "source": [
    "mean(z)"
   ]
  },
  {
   "cell_type": "code",
   "execution_count": 29,
   "metadata": {},
   "outputs": [
    {
     "data": {
      "text/plain": [
       "2.0"
      ]
     },
     "execution_count": 29,
     "metadata": {},
     "output_type": "execute_result"
    }
   ],
   "source": [
    "Statistics.mean(z)"
   ]
  },
  {
   "cell_type": "code",
   "execution_count": 30,
   "metadata": {},
   "outputs": [],
   "source": [
    "using Pkg"
   ]
  },
  {
   "cell_type": "code",
   "execution_count": 31,
   "metadata": {},
   "outputs": [
    {
     "name": "stderr",
     "output_type": "stream",
     "text": [
      "\u001b[32m\u001b[1m    Updating\u001b[22m\u001b[39m registry at `~/.julia/registries/General`\n",
      "\u001b[32m\u001b[1m    Updating\u001b[22m\u001b[39m git-repo `https://github.com/JuliaRegistries/General.git`\n",
      "\u001b[32m\u001b[1m   Resolving\u001b[22m\u001b[39m package versions...\n",
      "\u001b[32m\u001b[1m   Installed\u001b[22m\u001b[39m OpenSpecFun_jll ───── v0.5.5+0\n",
      "\u001b[32m\u001b[1m   Installed\u001b[22m\u001b[39m IrrationalConstants ─ v0.1.0\n",
      "\u001b[32m\u001b[1m   Installed\u001b[22m\u001b[39m Rmath_jll ─────────── v0.3.0+0\n",
      "\u001b[32m\u001b[1m   Installed\u001b[22m\u001b[39m PDMats ────────────── v0.11.1\n",
      "\u001b[32m\u001b[1m   Installed\u001b[22m\u001b[39m StatsFuns ─────────── v0.9.10\n",
      "\u001b[32m\u001b[1m   Installed\u001b[22m\u001b[39m LogExpFunctions ───── v0.3.3\n",
      "\u001b[32m\u001b[1m   Installed\u001b[22m\u001b[39m SpecialFunctions ──── v1.6.1\n",
      "\u001b[32m\u001b[1m   Installed\u001b[22m\u001b[39m Distributions ─────── v0.25.16\n",
      "\u001b[32m\u001b[1m   Installed\u001b[22m\u001b[39m Rmath ─────────────── v0.7.0\n",
      "\u001b[32m\u001b[1m   Installed\u001b[22m\u001b[39m FillArrays ────────── v0.12.4\n",
      "\u001b[32m\u001b[1m   Installed\u001b[22m\u001b[39m ChainRulesCore ────── v1.4.0\n",
      "\u001b[32m\u001b[1m    Updating\u001b[22m\u001b[39m `~/Tresorit/teaching/courses/2020/ECBS-6001-Advanced-Macroeconomics/Project.toml`\n",
      " \u001b[90m [31c24e10] \u001b[39m\u001b[92m+ Distributions v0.25.16\u001b[39m\n",
      "\u001b[32m\u001b[1m    Updating\u001b[22m\u001b[39m `~/Tresorit/teaching/courses/2020/ECBS-6001-Advanced-Macroeconomics/Manifest.toml`\n",
      " \u001b[90m [d360d2e6] \u001b[39m\u001b[92m+ ChainRulesCore v1.4.0\u001b[39m\n",
      " \u001b[90m [31c24e10] \u001b[39m\u001b[92m+ Distributions v0.25.16\u001b[39m\n",
      " \u001b[90m [ffbed154] \u001b[39m\u001b[92m+ DocStringExtensions v0.8.5\u001b[39m\n",
      " \u001b[90m [1a297f60] \u001b[39m\u001b[92m+ FillArrays v0.12.4\u001b[39m\n",
      " \u001b[90m [92d709cd] \u001b[39m\u001b[92m+ IrrationalConstants v0.1.0\u001b[39m\n",
      " \u001b[90m [2ab3a3ac] \u001b[39m\u001b[92m+ LogExpFunctions v0.3.3\u001b[39m\n",
      " \u001b[90m [90014a1f] \u001b[39m\u001b[92m+ PDMats v0.11.1\u001b[39m\n",
      " \u001b[90m [1fd47b50] \u001b[39m\u001b[92m+ QuadGK v2.4.2\u001b[39m\n",
      " \u001b[90m [79098fc4] \u001b[39m\u001b[92m+ Rmath v0.7.0\u001b[39m\n",
      " \u001b[90m [276daf66] \u001b[39m\u001b[92m+ SpecialFunctions v1.6.1\u001b[39m\n",
      " \u001b[90m [4c63d2b9] \u001b[39m\u001b[92m+ StatsFuns v0.9.10\u001b[39m\n",
      " \u001b[90m [efe28fd5] \u001b[39m\u001b[92m+ OpenSpecFun_jll v0.5.5+0\u001b[39m\n",
      " \u001b[90m [f50d1b31] \u001b[39m\u001b[92m+ Rmath_jll v0.3.0+0\u001b[39m\n",
      " \u001b[90m [4607b0f0] \u001b[39m\u001b[92m+ SuiteSparse\u001b[39m\n",
      "\u001b[32m\u001b[1mPrecompiling\u001b[22m\u001b[39m project...\n",
      "\u001b[32m  ✓ \u001b[39m\u001b[90mPDMats\u001b[39m\n",
      "\u001b[32m  ✓ \u001b[39m\u001b[90mIrrationalConstants\u001b[39m\n",
      "\u001b[32m  ✓ \u001b[39m\u001b[90mChainRulesCore\u001b[39m\n",
      "\u001b[32m  ✓ \u001b[39m\u001b[90mFillArrays\u001b[39m\n",
      "\u001b[32m  ✓ \u001b[39m\u001b[90mDocStringExtensions\u001b[39m\n",
      "\u001b[32m  ✓ \u001b[39m\u001b[90mRmath_jll\u001b[39m\n",
      "\u001b[32m  ✓ \u001b[39m\u001b[90mOpenSpecFun_jll\u001b[39m\n",
      "\u001b[32m  ✓ \u001b[39m\u001b[90mRmath\u001b[39m\n",
      "\u001b[32m  ✓ \u001b[39m\u001b[90mQuadGK\u001b[39m\n",
      "\u001b[32m  ✓ \u001b[39m\u001b[90mLogExpFunctions\u001b[39m\n",
      "\u001b[32m  ✓ \u001b[39m\u001b[90mSpecialFunctions\u001b[39m\n",
      "\u001b[32m  ✓ \u001b[39m\u001b[90mStatsFuns\u001b[39m\n",
      "\u001b[32m  ✓ \u001b[39mDistributions\n",
      "  13 dependencies successfully precompiled in 17 seconds (123 already precompiled)\n"
     ]
    }
   ],
   "source": [
    "Pkg.add(\"Distributions\")"
   ]
  },
  {
   "cell_type": "code",
   "execution_count": 32,
   "metadata": {},
   "outputs": [],
   "source": [
    "using Plots"
   ]
  },
  {
   "cell_type": "code",
   "execution_count": 33,
   "metadata": {},
   "outputs": [
    {
     "data": {
      "text/plain": [
       "\"/Users/koren/Tresorit/teaching/courses/2020/ECBS-6001-Advanced-Macroeconomics/notes\""
      ]
     },
     "execution_count": 33,
     "metadata": {},
     "output_type": "execute_result"
    }
   ],
   "source": [
    "pwd()"
   ]
  },
  {
   "cell_type": "code",
   "execution_count": 34,
   "metadata": {},
   "outputs": [],
   "source": [
    "cd(\"..\")"
   ]
  },
  {
   "cell_type": "code",
   "execution_count": 35,
   "metadata": {},
   "outputs": [
    {
     "name": "stderr",
     "output_type": "stream",
     "text": [
      "\u001b[32m\u001b[1m   Resolving\u001b[22m\u001b[39m package versions...\n",
      "\u001b[32m\u001b[1m    Updating\u001b[22m\u001b[39m `~/Tresorit/teaching/courses/2020/ECBS-6001-Advanced-Macroeconomics/Project.toml`\n",
      " \u001b[90m [a93c6f00] \u001b[39m\u001b[92m+ DataFrames v1.2.2\u001b[39m\n",
      "\u001b[32m\u001b[1m    Updating\u001b[22m\u001b[39m `~/Tresorit/teaching/courses/2020/ECBS-6001-Advanced-Macroeconomics/Manifest.toml`\n",
      " \u001b[90m [a8cc5b0e] \u001b[39m\u001b[92m+ Crayons v4.0.4\u001b[39m\n",
      " \u001b[90m [a93c6f00] \u001b[39m\u001b[92m+ DataFrames v1.2.2\u001b[39m\n",
      " \u001b[90m [41ab1584] \u001b[39m\u001b[92m+ InvertedIndices v1.1.0\u001b[39m\n",
      " \u001b[90m [2dfb63ee] \u001b[39m\u001b[92m+ PooledArrays v1.3.0\u001b[39m\n",
      " \u001b[90m [08abe8d2] \u001b[39m\u001b[92m+ PrettyTables v1.1.0\u001b[39m\n",
      " \u001b[90m [9fa8497b] \u001b[39m\u001b[92m+ Future\u001b[39m\n",
      "\u001b[32m\u001b[1mPrecompiling\u001b[22m\u001b[39m project...\n",
      "\u001b[32m  ✓ \u001b[39m\u001b[90mInvertedIndices\u001b[39m\n",
      "\u001b[32m  ✓ \u001b[39m\u001b[90mPooledArrays\u001b[39m\n",
      "\u001b[32m  ✓ \u001b[39m\u001b[90mCrayons\u001b[39m\n",
      "\u001b[32m  ✓ \u001b[39m\u001b[90mPrettyTables\u001b[39m\n",
      "\u001b[32m  ✓ \u001b[39mDataFrames\n",
      "  5 dependencies successfully precompiled in 28 seconds (136 already precompiled)\n"
     ]
    }
   ],
   "source": [
    "Pkg.add(\"DataFrames\")"
   ]
  },
  {
   "cell_type": "code",
   "execution_count": 36,
   "metadata": {},
   "outputs": [
    {
     "name": "stderr",
     "output_type": "stream",
     "text": [
      "\u001b[32m\u001b[1m   Resolving\u001b[22m\u001b[39m package versions...\n",
      "\u001b[32m\u001b[1m  No Changes\u001b[22m\u001b[39m to `~/Tresorit/teaching/courses/2020/ECBS-6001-Advanced-Macroeconomics/Project.toml`\n",
      "\u001b[32m\u001b[1m  No Changes\u001b[22m\u001b[39m to `~/Tresorit/teaching/courses/2020/ECBS-6001-Advanced-Macroeconomics/Manifest.toml`\n"
     ]
    }
   ],
   "source": [
    "Pkg.add(\"IJulia\")"
   ]
  },
  {
   "cell_type": "code",
   "execution_count": 37,
   "metadata": {},
   "outputs": [
    {
     "name": "stderr",
     "output_type": "stream",
     "text": [
      "\u001b[32m\u001b[1m  Activating\u001b[22m\u001b[39m environment at `~/Tresorit/teaching/courses/2020/ECBS-6001-Advanced-Macroeconomics/Project.toml`\n"
     ]
    }
   ],
   "source": [
    "Pkg.activate(\".\")"
   ]
  },
  {
   "cell_type": "code",
   "execution_count": 38,
   "metadata": {},
   "outputs": [],
   "source": [
    "Pkg.instantiate()"
   ]
  },
  {
   "cell_type": "code",
   "execution_count": null,
   "metadata": {},
   "outputs": [],
   "source": []
  }
 ],
 "metadata": {
  "kernelspec": {
   "display_name": "Julia 1.6.2",
   "language": "julia",
   "name": "julia-1.6"
  },
  "language_info": {
   "file_extension": ".jl",
   "mimetype": "application/julia",
   "name": "julia",
   "version": "1.6.2"
  }
 },
 "nbformat": 4,
 "nbformat_minor": 4
}
