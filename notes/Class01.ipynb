{
 "cells": [
  {
   "cell_type": "code",
   "execution_count": 1,
   "metadata": {},
   "outputs": [
    {
     "data": {
      "text/plain": [
       "2"
      ]
     },
     "execution_count": 1,
     "metadata": {},
     "output_type": "execute_result"
    }
   ],
   "source": [
    "1+1"
   ]
  },
  {
   "cell_type": "code",
   "execution_count": 2,
   "metadata": {},
   "outputs": [
    {
     "data": {
      "text/plain": [
       "2×3 Array{Float64,2}:\n",
       " 0.0  0.0  0.0\n",
       " 0.0  0.0  0.0"
      ]
     },
     "execution_count": 2,
     "metadata": {},
     "output_type": "execute_result"
    }
   ],
   "source": [
    "A = zeros(2, 3)"
   ]
  },
  {
   "cell_type": "code",
   "execution_count": 3,
   "metadata": {},
   "outputs": [
    {
     "data": {
      "text/plain": [
       "2×3×2 Array{Float64,3}:\n",
       "[:, :, 1] =\n",
       " 0.0  0.0  0.0\n",
       " 0.0  0.0  0.0\n",
       "\n",
       "[:, :, 2] =\n",
       " 0.0  0.0  0.0\n",
       " 0.0  0.0  0.0"
      ]
     },
     "execution_count": 3,
     "metadata": {},
     "output_type": "execute_result"
    }
   ],
   "source": [
    "B = zeros(2, 3, 2)"
   ]
  },
  {
   "cell_type": "code",
   "execution_count": 4,
   "metadata": {},
   "outputs": [
    {
     "data": {
      "text/plain": [
       "3×1 Array{Float64,2}:\n",
       " 0.0\n",
       " 0.0\n",
       " 0.0"
      ]
     },
     "execution_count": 4,
     "metadata": {},
     "output_type": "execute_result"
    }
   ],
   "source": [
    "c = zeros(3, 1)"
   ]
  },
  {
   "cell_type": "code",
   "execution_count": 5,
   "metadata": {},
   "outputs": [
    {
     "data": {
      "text/plain": [
       "1×3 Array{Float64,2}:\n",
       " 0.0  0.0  0.0"
      ]
     },
     "execution_count": 5,
     "metadata": {},
     "output_type": "execute_result"
    }
   ],
   "source": [
    "d = zeros(1, 3)"
   ]
  },
  {
   "cell_type": "code",
   "execution_count": 6,
   "metadata": {},
   "outputs": [
    {
     "data": {
      "text/plain": [
       "3-element Array{Float64,1}:\n",
       " 0.0\n",
       " 0.0\n",
       " 0.0"
      ]
     },
     "execution_count": 6,
     "metadata": {},
     "output_type": "execute_result"
    }
   ],
   "source": [
    "x = zeros(3)"
   ]
  },
  {
   "cell_type": "code",
   "execution_count": 7,
   "metadata": {},
   "outputs": [
    {
     "data": {
      "text/plain": [
       "2×1 Array{Float64,2}:\n",
       " 0.0\n",
       " 0.0"
      ]
     },
     "execution_count": 7,
     "metadata": {},
     "output_type": "execute_result"
    }
   ],
   "source": [
    "A * c"
   ]
  },
  {
   "cell_type": "code",
   "execution_count": 8,
   "metadata": {},
   "outputs": [
    {
     "ename": "DimensionMismatch",
     "evalue": "DimensionMismatch(\"A has dimensions (2,3) but B has dimensions (1,3)\")",
     "output_type": "error",
     "traceback": [
      "DimensionMismatch(\"A has dimensions (2,3) but B has dimensions (1,3)\")",
      "",
      "Stacktrace:",
      " [1] gemm_wrapper!(::Array{Float64,2}, ::Char, ::Char, ::Array{Float64,2}, ::Array{Float64,2}, ::LinearAlgebra.MulAddMul{true,true,Bool,Bool}) at /Users/julia/buildbot/worker/package_macos64/build/usr/share/julia/stdlib/v1.4/LinearAlgebra/src/matmul.jl:569",
      " [2] mul! at /Users/julia/buildbot/worker/package_macos64/build/usr/share/julia/stdlib/v1.4/LinearAlgebra/src/matmul.jl:169 [inlined]",
      " [3] mul! at /Users/julia/buildbot/worker/package_macos64/build/usr/share/julia/stdlib/v1.4/LinearAlgebra/src/matmul.jl:208 [inlined]",
      " [4] *(::Array{Float64,2}, ::Array{Float64,2}) at /Users/julia/buildbot/worker/package_macos64/build/usr/share/julia/stdlib/v1.4/LinearAlgebra/src/matmul.jl:160",
      " [5] top-level scope at In[8]:1"
     ]
    }
   ],
   "source": [
    "A * d"
   ]
  },
  {
   "cell_type": "code",
   "execution_count": 9,
   "metadata": {},
   "outputs": [
    {
     "data": {
      "text/plain": [
       "(2, 3)"
      ]
     },
     "execution_count": 9,
     "metadata": {},
     "output_type": "execute_result"
    }
   ],
   "source": [
    "size(A)"
   ]
  },
  {
   "cell_type": "code",
   "execution_count": 10,
   "metadata": {},
   "outputs": [
    {
     "data": {
      "text/plain": [
       "(1, 3)"
      ]
     },
     "execution_count": 10,
     "metadata": {},
     "output_type": "execute_result"
    }
   ],
   "source": [
    "size(d)"
   ]
  },
  {
   "cell_type": "code",
   "execution_count": 11,
   "metadata": {},
   "outputs": [
    {
     "data": {
      "text/plain": [
       "2-element Array{Float64,1}:\n",
       " 0.0\n",
       " 0.0"
      ]
     },
     "execution_count": 11,
     "metadata": {},
     "output_type": "execute_result"
    }
   ],
   "source": [
    "A * x"
   ]
  },
  {
   "cell_type": "code",
   "execution_count": 14,
   "metadata": {},
   "outputs": [
    {
     "data": {
      "text/plain": [
       "1×2 Array{Float64,2}:\n",
       " 0.0  0.0"
      ]
     },
     "execution_count": 14,
     "metadata": {},
     "output_type": "execute_result"
    }
   ],
   "source": [
    "d * A'"
   ]
  },
  {
   "cell_type": "code",
   "execution_count": 15,
   "metadata": {},
   "outputs": [
    {
     "data": {
      "text/plain": [
       "(2, 3)"
      ]
     },
     "execution_count": 15,
     "metadata": {},
     "output_type": "execute_result"
    }
   ],
   "source": [
    "size(A)"
   ]
  },
  {
   "cell_type": "code",
   "execution_count": 16,
   "metadata": {},
   "outputs": [
    {
     "data": {
      "text/plain": [
       "(1, 3)"
      ]
     },
     "execution_count": 16,
     "metadata": {},
     "output_type": "execute_result"
    }
   ],
   "source": [
    "size(d)"
   ]
  },
  {
   "cell_type": "code",
   "execution_count": 18,
   "metadata": {},
   "outputs": [
    {
     "data": {
      "text/plain": [
       "2×3 Array{Float64,2}:\n",
       " 0.0  0.0  0.0\n",
       " 0.0  0.0  0.0"
      ]
     },
     "execution_count": 18,
     "metadata": {},
     "output_type": "execute_result"
    }
   ],
   "source": [
    "A .+ d"
   ]
  },
  {
   "cell_type": "code",
   "execution_count": 19,
   "metadata": {},
   "outputs": [
    {
     "data": {
      "text/plain": [
       "2×3 Array{Float64,2}:\n",
       " 0.0  0.0  0.0\n",
       " 0.0  0.0  0.0"
      ]
     },
     "execution_count": 19,
     "metadata": {},
     "output_type": "execute_result"
    }
   ],
   "source": [
    "A .* d"
   ]
  },
  {
   "cell_type": "code",
   "execution_count": 20,
   "metadata": {},
   "outputs": [
    {
     "data": {
      "text/plain": [
       "2×3 Array{Int64,2}:\n",
       " 1  2  3\n",
       " 4  5  6"
      ]
     },
     "execution_count": 20,
     "metadata": {},
     "output_type": "execute_result"
    }
   ],
   "source": [
    "Z = [1 2 3; 4 5 6]"
   ]
  },
  {
   "cell_type": "code",
   "execution_count": 24,
   "metadata": {},
   "outputs": [
    {
     "data": {
      "text/plain": [
       "1×3 Array{Int64,2}:\n",
       " 5  7  9"
      ]
     },
     "execution_count": 24,
     "metadata": {},
     "output_type": "execute_result"
    }
   ],
   "source": [
    "sum(Z, dims=1)"
   ]
  },
  {
   "cell_type": "code",
   "execution_count": 26,
   "metadata": {},
   "outputs": [
    {
     "data": {
      "text/plain": [
       "2×3 Array{Float64,2}:\n",
       " 0.166667  0.333333  0.5\n",
       " 0.266667  0.333333  0.4"
      ]
     },
     "execution_count": 26,
     "metadata": {},
     "output_type": "execute_result"
    }
   ],
   "source": [
    "Z ./ sum(Z, dims=2)"
   ]
  },
  {
   "cell_type": "markdown",
   "metadata": {},
   "source": [
    "# First-order difference equations\n",
    "## AR(1)\n",
    "$$\n",
    "x_t = A x_{t-1}\n",
    "$$\n",
    "$$\n",
    "= A\\cdot A \\cdot x_{t-2}\n",
    "$$\n",
    "$$\n",
    "= A^t x_0\n",
    "$$"
   ]
  },
  {
   "cell_type": "code",
   "execution_count": 41,
   "metadata": {},
   "outputs": [
    {
     "name": "stderr",
     "output_type": "stream",
     "text": [
      "┌ Info: Precompiling Plots [91a5bcdd-55d7-5caf-9e0b-520d859cae80]\n",
      "└ @ Base loading.jl:1260\n"
     ]
    },
    {
     "data": {
      "text/plain": [
       "plot_AR1 (generic function with 1 method)"
      ]
     },
     "execution_count": 41,
     "metadata": {},
     "output_type": "execute_result"
    }
   ],
   "source": [
    "using Plots\n",
    "function plot_AR1(A, x0)\n",
    "    x = zeros(30)\n",
    "    x[1] = x0\n",
    "    for t = 2:30\n",
    "        x[t] = A * x[t-1]\n",
    "    end\n",
    "    plot(x)\n",
    "end"
   ]
  },
  {
   "cell_type": "code",
   "execution_count": 44,
   "metadata": {},
   "outputs": [
    {
     "data": {
      "image/svg+xml": [
       "<?xml version=\"1.0\" encoding=\"utf-8\"?>\n",
       "<svg xmlns=\"http://www.w3.org/2000/svg\" xmlns:xlink=\"http://www.w3.org/1999/xlink\" width=\"600\" height=\"400\" viewBox=\"0 0 2400 1600\">\n",
       "<defs>\n",
       "  <clipPath id=\"clip010\">\n",
       "    <rect x=\"0\" y=\"0\" width=\"2400\" height=\"1600\"/>\n",
       "  </clipPath>\n",
       "</defs>\n",
       "<path clip-path=\"url(#clip010)\" d=\"\n",
       "M0 1600 L2400 1600 L2400 0 L0 0  Z\n",
       "  \" fill=\"#ffffff\" fill-rule=\"evenodd\" fill-opacity=\"1\"/>\n",
       "<defs>\n",
       "  <clipPath id=\"clip011\">\n",
       "    <rect x=\"480\" y=\"0\" width=\"1681\" height=\"1600\"/>\n",
       "  </clipPath>\n",
       "</defs>\n",
       "<path clip-path=\"url(#clip010)\" d=\"\n",
       "M162.964 1486.45 L2352.76 1486.45 L2352.76 47.2441 L162.964 47.2441  Z\n",
       "  \" fill=\"#ffffff\" fill-rule=\"evenodd\" fill-opacity=\"1\"/>\n",
       "<defs>\n",
       "  <clipPath id=\"clip012\">\n",
       "    <rect x=\"162\" y=\"47\" width=\"2191\" height=\"1440\"/>\n",
       "  </clipPath>\n",
       "</defs>\n",
       "<polyline clip-path=\"url(#clip012)\" style=\"stroke:#000000; stroke-width:2; stroke-opacity:0.1; fill:none\" points=\"\n",
       "  509.883,1486.45 509.883,47.2441 \n",
       "  \"/>\n",
       "<polyline clip-path=\"url(#clip012)\" style=\"stroke:#000000; stroke-width:2; stroke-opacity:0.1; fill:none\" points=\"\n",
       "  866.062,1486.45 866.062,47.2441 \n",
       "  \"/>\n",
       "<polyline clip-path=\"url(#clip012)\" style=\"stroke:#000000; stroke-width:2; stroke-opacity:0.1; fill:none\" points=\"\n",
       "  1222.24,1486.45 1222.24,47.2441 \n",
       "  \"/>\n",
       "<polyline clip-path=\"url(#clip012)\" style=\"stroke:#000000; stroke-width:2; stroke-opacity:0.1; fill:none\" points=\"\n",
       "  1578.42,1486.45 1578.42,47.2441 \n",
       "  \"/>\n",
       "<polyline clip-path=\"url(#clip012)\" style=\"stroke:#000000; stroke-width:2; stroke-opacity:0.1; fill:none\" points=\"\n",
       "  1934.6,1486.45 1934.6,47.2441 \n",
       "  \"/>\n",
       "<polyline clip-path=\"url(#clip012)\" style=\"stroke:#000000; stroke-width:2; stroke-opacity:0.1; fill:none\" points=\"\n",
       "  2290.78,1486.45 2290.78,47.2441 \n",
       "  \"/>\n",
       "<polyline clip-path=\"url(#clip010)\" style=\"stroke:#000000; stroke-width:4; stroke-opacity:1; fill:none\" points=\"\n",
       "  162.964,1486.45 2352.76,1486.45 \n",
       "  \"/>\n",
       "<polyline clip-path=\"url(#clip010)\" style=\"stroke:#000000; stroke-width:4; stroke-opacity:1; fill:none\" points=\"\n",
       "  509.883,1486.45 509.883,1469.18 \n",
       "  \"/>\n",
       "<polyline clip-path=\"url(#clip010)\" style=\"stroke:#000000; stroke-width:4; stroke-opacity:1; fill:none\" points=\"\n",
       "  866.062,1486.45 866.062,1469.18 \n",
       "  \"/>\n",
       "<polyline clip-path=\"url(#clip010)\" style=\"stroke:#000000; stroke-width:4; stroke-opacity:1; fill:none\" points=\"\n",
       "  1222.24,1486.45 1222.24,1469.18 \n",
       "  \"/>\n",
       "<polyline clip-path=\"url(#clip010)\" style=\"stroke:#000000; stroke-width:4; stroke-opacity:1; fill:none\" points=\"\n",
       "  1578.42,1486.45 1578.42,1469.18 \n",
       "  \"/>\n",
       "<polyline clip-path=\"url(#clip010)\" style=\"stroke:#000000; stroke-width:4; stroke-opacity:1; fill:none\" points=\"\n",
       "  1934.6,1486.45 1934.6,1469.18 \n",
       "  \"/>\n",
       "<polyline clip-path=\"url(#clip010)\" style=\"stroke:#000000; stroke-width:4; stroke-opacity:1; fill:none\" points=\"\n",
       "  2290.78,1486.45 2290.78,1469.18 \n",
       "  \"/>\n",
       "<path clip-path=\"url(#clip010)\" d=\"M 0 0 M500.161 1512.56 L518.517 1512.56 L518.517 1516.5 L504.443 1516.5 L504.443 1524.97 Q505.462 1524.62 506.48 1524.46 Q507.499 1524.27 508.517 1524.27 Q514.304 1524.27 517.684 1527.44 Q521.063 1530.62 521.063 1536.03 Q521.063 1541.61 517.591 1544.71 Q514.119 1547.79 507.8 1547.79 Q505.624 1547.79 503.355 1547.42 Q501.11 1547.05 498.702 1546.31 L498.702 1541.61 Q500.786 1542.74 503.008 1543.3 Q505.23 1543.86 507.707 1543.86 Q511.712 1543.86 514.049 1541.75 Q516.387 1539.64 516.387 1536.03 Q516.387 1532.42 514.049 1530.31 Q511.712 1528.21 507.707 1528.21 Q505.832 1528.21 503.957 1528.62 Q502.105 1529.04 500.161 1529.92 L500.161 1512.56 Z\" fill=\"#000000\" fill-rule=\"evenodd\" fill-opacity=\"1\" /><path clip-path=\"url(#clip010)\" d=\"M 0 0 M842.938 1543.18 L850.576 1543.18 L850.576 1516.82 L842.266 1518.49 L842.266 1514.23 L850.53 1512.56 L855.206 1512.56 L855.206 1543.18 L862.845 1543.18 L862.845 1547.12 L842.938 1547.12 L842.938 1543.18 Z\" fill=\"#000000\" fill-rule=\"evenodd\" fill-opacity=\"1\" /><path clip-path=\"url(#clip010)\" d=\"M 0 0 M877.914 1515.64 Q874.303 1515.64 872.474 1519.2 Q870.669 1522.75 870.669 1529.87 Q870.669 1536.98 872.474 1540.55 Q874.303 1544.09 877.914 1544.09 Q881.548 1544.09 883.354 1540.55 Q885.183 1536.98 885.183 1529.87 Q885.183 1522.75 883.354 1519.2 Q881.548 1515.64 877.914 1515.64 M877.914 1511.93 Q883.724 1511.93 886.78 1516.54 Q889.859 1521.12 889.859 1529.87 Q889.859 1538.6 886.78 1543.21 Q883.724 1547.79 877.914 1547.79 Q872.104 1547.79 869.025 1543.21 Q865.97 1538.6 865.97 1529.87 Q865.97 1521.12 869.025 1516.54 Q872.104 1511.93 877.914 1511.93 Z\" fill=\"#000000\" fill-rule=\"evenodd\" fill-opacity=\"1\" /><path clip-path=\"url(#clip010)\" d=\"M 0 0 M1199.61 1543.18 L1207.25 1543.18 L1207.25 1516.82 L1198.94 1518.49 L1198.94 1514.23 L1207.21 1512.56 L1211.88 1512.56 L1211.88 1543.18 L1219.52 1543.18 L1219.52 1547.12 L1199.61 1547.12 L1199.61 1543.18 Z\" fill=\"#000000\" fill-rule=\"evenodd\" fill-opacity=\"1\" /><path clip-path=\"url(#clip010)\" d=\"M 0 0 M1224.64 1512.56 L1242.99 1512.56 L1242.99 1516.5 L1228.92 1516.5 L1228.92 1524.97 Q1229.94 1524.62 1230.96 1524.46 Q1231.98 1524.27 1232.99 1524.27 Q1238.78 1524.27 1242.16 1527.44 Q1245.54 1530.62 1245.54 1536.03 Q1245.54 1541.61 1242.07 1544.71 Q1238.6 1547.79 1232.28 1547.79 Q1230.1 1547.79 1227.83 1547.42 Q1225.59 1547.05 1223.18 1546.31 L1223.18 1541.61 Q1225.26 1542.74 1227.48 1543.3 Q1229.71 1543.86 1232.18 1543.86 Q1236.19 1543.86 1238.53 1541.75 Q1240.86 1539.64 1240.86 1536.03 Q1240.86 1532.42 1238.53 1530.31 Q1236.19 1528.21 1232.18 1528.21 Q1230.31 1528.21 1228.43 1528.62 Q1226.58 1529.04 1224.64 1529.92 L1224.64 1512.56 Z\" fill=\"#000000\" fill-rule=\"evenodd\" fill-opacity=\"1\" /><path clip-path=\"url(#clip010)\" d=\"M 0 0 M1559.57 1543.18 L1575.89 1543.18 L1575.89 1547.12 L1553.94 1547.12 L1553.94 1543.18 Q1556.6 1540.43 1561.19 1535.8 Q1565.79 1531.15 1566.97 1529.81 Q1569.22 1527.28 1570.1 1525.55 Q1571 1523.79 1571 1522.1 Q1571 1519.34 1569.06 1517.61 Q1567.14 1515.87 1564.04 1515.87 Q1561.84 1515.87 1559.38 1516.63 Q1556.95 1517.4 1554.17 1518.95 L1554.17 1514.23 Q1557 1513.09 1559.45 1512.51 Q1561.91 1511.93 1563.94 1511.93 Q1569.31 1511.93 1572.51 1514.62 Q1575.7 1517.31 1575.7 1521.8 Q1575.7 1523.93 1574.89 1525.85 Q1574.1 1527.74 1572 1530.34 Q1571.42 1531.01 1568.32 1534.23 Q1565.22 1537.42 1559.57 1543.18 Z\" fill=\"#000000\" fill-rule=\"evenodd\" fill-opacity=\"1\" /><path clip-path=\"url(#clip010)\" d=\"M 0 0 M1590.96 1515.64 Q1587.35 1515.64 1585.52 1519.2 Q1583.71 1522.75 1583.71 1529.87 Q1583.71 1536.98 1585.52 1540.55 Q1587.35 1544.09 1590.96 1544.09 Q1594.59 1544.09 1596.4 1540.55 Q1598.22 1536.98 1598.22 1529.87 Q1598.22 1522.75 1596.4 1519.2 Q1594.59 1515.64 1590.96 1515.64 M1590.96 1511.93 Q1596.77 1511.93 1599.82 1516.54 Q1602.9 1521.12 1602.9 1529.87 Q1602.9 1538.6 1599.82 1543.21 Q1596.77 1547.79 1590.96 1547.79 Q1585.15 1547.79 1582.07 1543.21 Q1579.01 1538.6 1579.01 1529.87 Q1579.01 1521.12 1582.07 1516.54 Q1585.15 1511.93 1590.96 1511.93 Z\" fill=\"#000000\" fill-rule=\"evenodd\" fill-opacity=\"1\" /><path clip-path=\"url(#clip010)\" d=\"M 0 0 M1916.24 1543.18 L1932.56 1543.18 L1932.56 1547.12 L1910.62 1547.12 L1910.62 1543.18 Q1913.28 1540.43 1917.87 1535.8 Q1922.47 1531.15 1923.65 1529.81 Q1925.9 1527.28 1926.78 1525.55 Q1927.68 1523.79 1927.68 1522.1 Q1927.68 1519.34 1925.74 1517.61 Q1923.81 1515.87 1920.71 1515.87 Q1918.51 1515.87 1916.06 1516.63 Q1913.63 1517.4 1910.85 1518.95 L1910.85 1514.23 Q1913.68 1513.09 1916.13 1512.51 Q1918.58 1511.93 1920.62 1511.93 Q1925.99 1511.93 1929.18 1514.62 Q1932.38 1517.31 1932.38 1521.8 Q1932.38 1523.93 1931.57 1525.85 Q1930.78 1527.74 1928.68 1530.34 Q1928.1 1531.01 1924.99 1534.23 Q1921.89 1537.42 1916.24 1543.18 Z\" fill=\"#000000\" fill-rule=\"evenodd\" fill-opacity=\"1\" /><path clip-path=\"url(#clip010)\" d=\"M 0 0 M1937.68 1512.56 L1956.04 1512.56 L1956.04 1516.5 L1941.96 1516.5 L1941.96 1524.97 Q1942.98 1524.62 1944 1524.46 Q1945.02 1524.27 1946.04 1524.27 Q1951.82 1524.27 1955.2 1527.44 Q1958.58 1530.62 1958.58 1536.03 Q1958.58 1541.61 1955.11 1544.71 Q1951.64 1547.79 1945.32 1547.79 Q1943.14 1547.79 1940.87 1547.42 Q1938.63 1547.05 1936.22 1546.31 L1936.22 1541.61 Q1938.3 1542.74 1940.53 1543.3 Q1942.75 1543.86 1945.23 1543.86 Q1949.23 1543.86 1951.57 1541.75 Q1953.91 1539.64 1953.91 1536.03 Q1953.91 1532.42 1951.57 1530.31 Q1949.23 1528.21 1945.23 1528.21 Q1943.35 1528.21 1941.48 1528.62 Q1939.62 1529.04 1937.68 1529.92 L1937.68 1512.56 Z\" fill=\"#000000\" fill-rule=\"evenodd\" fill-opacity=\"1\" /><path clip-path=\"url(#clip010)\" d=\"M 0 0 M2281.52 1528.49 Q2284.88 1529.2 2286.75 1531.47 Q2288.65 1533.74 2288.65 1537.07 Q2288.65 1542.19 2285.13 1544.99 Q2281.61 1547.79 2275.13 1547.79 Q2272.96 1547.79 2270.64 1547.35 Q2268.35 1546.93 2265.9 1546.08 L2265.9 1541.56 Q2267.84 1542.7 2270.16 1543.28 Q2272.47 1543.86 2274.99 1543.86 Q2279.39 1543.86 2281.68 1542.12 Q2284 1540.38 2284 1537.07 Q2284 1534.02 2281.85 1532.31 Q2279.72 1530.57 2275.9 1530.57 L2271.87 1530.57 L2271.87 1526.73 L2276.08 1526.73 Q2279.53 1526.73 2281.36 1525.36 Q2283.19 1523.97 2283.19 1521.38 Q2283.19 1518.72 2281.29 1517.31 Q2279.41 1515.87 2275.9 1515.87 Q2273.98 1515.87 2271.78 1516.29 Q2269.58 1516.7 2266.94 1517.58 L2266.94 1513.42 Q2269.6 1512.68 2271.92 1512.31 Q2274.25 1511.93 2276.31 1511.93 Q2281.64 1511.93 2284.74 1514.37 Q2287.84 1516.77 2287.84 1520.89 Q2287.84 1523.76 2286.2 1525.75 Q2284.55 1527.72 2281.52 1528.49 Z\" fill=\"#000000\" fill-rule=\"evenodd\" fill-opacity=\"1\" /><path clip-path=\"url(#clip010)\" d=\"M 0 0 M2303.72 1515.64 Q2300.11 1515.64 2298.28 1519.2 Q2296.48 1522.75 2296.48 1529.87 Q2296.48 1536.98 2298.28 1540.55 Q2300.11 1544.09 2303.72 1544.09 Q2307.35 1544.09 2309.16 1540.55 Q2310.99 1536.98 2310.99 1529.87 Q2310.99 1522.75 2309.16 1519.2 Q2307.35 1515.64 2303.72 1515.64 M2303.72 1511.93 Q2309.53 1511.93 2312.59 1516.54 Q2315.66 1521.12 2315.66 1529.87 Q2315.66 1538.6 2312.59 1543.21 Q2309.53 1547.79 2303.72 1547.79 Q2297.91 1547.79 2294.83 1543.21 Q2291.78 1538.6 2291.78 1529.87 Q2291.78 1521.12 2294.83 1516.54 Q2297.91 1511.93 2303.72 1511.93 Z\" fill=\"#000000\" fill-rule=\"evenodd\" fill-opacity=\"1\" /><polyline clip-path=\"url(#clip012)\" style=\"stroke:#000000; stroke-width:2; stroke-opacity:0.1; fill:none\" points=\"\n",
       "  162.964,1452.61 2352.76,1452.61 \n",
       "  \"/>\n",
       "<polyline clip-path=\"url(#clip012)\" style=\"stroke:#000000; stroke-width:2; stroke-opacity:0.1; fill:none\" points=\"\n",
       "  162.964,1107.68 2352.76,1107.68 \n",
       "  \"/>\n",
       "<polyline clip-path=\"url(#clip012)\" style=\"stroke:#000000; stroke-width:2; stroke-opacity:0.1; fill:none\" points=\"\n",
       "  162.964,762.754 2352.76,762.754 \n",
       "  \"/>\n",
       "<polyline clip-path=\"url(#clip012)\" style=\"stroke:#000000; stroke-width:2; stroke-opacity:0.1; fill:none\" points=\"\n",
       "  162.964,417.823 2352.76,417.823 \n",
       "  \"/>\n",
       "<polyline clip-path=\"url(#clip012)\" style=\"stroke:#000000; stroke-width:2; stroke-opacity:0.1; fill:none\" points=\"\n",
       "  162.964,72.8931 2352.76,72.8931 \n",
       "  \"/>\n",
       "<polyline clip-path=\"url(#clip010)\" style=\"stroke:#000000; stroke-width:4; stroke-opacity:1; fill:none\" points=\"\n",
       "  162.964,1486.45 162.964,47.2441 \n",
       "  \"/>\n",
       "<polyline clip-path=\"url(#clip010)\" style=\"stroke:#000000; stroke-width:4; stroke-opacity:1; fill:none\" points=\"\n",
       "  162.964,1452.61 189.241,1452.61 \n",
       "  \"/>\n",
       "<polyline clip-path=\"url(#clip010)\" style=\"stroke:#000000; stroke-width:4; stroke-opacity:1; fill:none\" points=\"\n",
       "  162.964,1107.68 189.241,1107.68 \n",
       "  \"/>\n",
       "<polyline clip-path=\"url(#clip010)\" style=\"stroke:#000000; stroke-width:4; stroke-opacity:1; fill:none\" points=\"\n",
       "  162.964,762.754 189.241,762.754 \n",
       "  \"/>\n",
       "<polyline clip-path=\"url(#clip010)\" style=\"stroke:#000000; stroke-width:4; stroke-opacity:1; fill:none\" points=\"\n",
       "  162.964,417.823 189.241,417.823 \n",
       "  \"/>\n",
       "<polyline clip-path=\"url(#clip010)\" style=\"stroke:#000000; stroke-width:4; stroke-opacity:1; fill:none\" points=\"\n",
       "  162.964,72.8931 189.241,72.8931 \n",
       "  \"/>\n",
       "<path clip-path=\"url(#clip010)\" d=\"M 0 0 M115.02 1438.41 Q111.408 1438.41 109.58 1441.98 Q107.774 1445.52 107.774 1452.65 Q107.774 1459.76 109.58 1463.32 Q111.408 1466.86 115.02 1466.86 Q118.654 1466.86 120.459 1463.32 Q122.288 1459.76 122.288 1452.65 Q122.288 1445.52 120.459 1441.98 Q118.654 1438.41 115.02 1438.41 M115.02 1434.71 Q120.83 1434.71 123.885 1439.32 Q126.964 1443.9 126.964 1452.65 Q126.964 1461.38 123.885 1465.98 Q120.83 1470.57 115.02 1470.57 Q109.209 1470.57 106.131 1465.98 Q103.075 1461.38 103.075 1452.65 Q103.075 1443.9 106.131 1439.32 Q109.209 1434.71 115.02 1434.71 Z\" fill=\"#000000\" fill-rule=\"evenodd\" fill-opacity=\"1\" /><path clip-path=\"url(#clip010)\" d=\"M 0 0 M79.0475 1090.4 L97.4039 1090.4 L97.4039 1094.34 L83.3299 1094.34 L83.3299 1102.81 Q84.3484 1102.46 85.3669 1102.3 Q86.3855 1102.12 87.404 1102.12 Q93.191 1102.12 96.5706 1105.29 Q99.9502 1108.46 99.9502 1113.88 Q99.9502 1119.45 96.478 1122.56 Q93.0058 1125.64 86.6864 1125.64 Q84.5105 1125.64 82.242 1125.26 Q79.9966 1124.89 77.5892 1124.15 L77.5892 1119.45 Q79.6725 1120.59 81.8947 1121.14 Q84.1169 1121.7 86.5938 1121.7 Q90.5984 1121.7 92.9363 1119.59 Q95.2743 1117.49 95.2743 1113.88 Q95.2743 1110.27 92.9363 1108.16 Q90.5984 1106.05 86.5938 1106.05 Q84.7188 1106.05 82.8438 1106.47 Q80.992 1106.89 79.0475 1107.77 L79.0475 1090.4 Z\" fill=\"#000000\" fill-rule=\"evenodd\" fill-opacity=\"1\" /><path clip-path=\"url(#clip010)\" d=\"M 0 0 M115.02 1093.48 Q111.408 1093.48 109.58 1097.05 Q107.774 1100.59 107.774 1107.72 Q107.774 1114.83 109.58 1118.39 Q111.408 1121.93 115.02 1121.93 Q118.654 1121.93 120.459 1118.39 Q122.288 1114.83 122.288 1107.72 Q122.288 1100.59 120.459 1097.05 Q118.654 1093.48 115.02 1093.48 M115.02 1089.78 Q120.83 1089.78 123.885 1094.39 Q126.964 1098.97 126.964 1107.72 Q126.964 1116.45 123.885 1121.05 Q120.83 1125.64 115.02 1125.64 Q109.209 1125.64 106.131 1121.05 Q103.075 1116.45 103.075 1107.72 Q103.075 1098.97 106.131 1094.39 Q109.209 1089.78 115.02 1089.78 Z\" fill=\"#000000\" fill-rule=\"evenodd\" fill-opacity=\"1\" /><path clip-path=\"url(#clip010)\" d=\"M 0 0 M53.0292 776.099 L60.668 776.099 L60.668 749.733 L52.3579 751.4 L52.3579 747.14 L60.6217 745.474 L65.2976 745.474 L65.2976 776.099 L72.9365 776.099 L72.9365 780.034 L53.0292 780.034 L53.0292 776.099 Z\" fill=\"#000000\" fill-rule=\"evenodd\" fill-opacity=\"1\" /><path clip-path=\"url(#clip010)\" d=\"M 0 0 M88.0058 748.552 Q84.3947 748.552 82.566 752.117 Q80.7605 755.659 80.7605 762.788 Q80.7605 769.895 82.566 773.46 Q84.3947 777.001 88.0058 777.001 Q91.6401 777.001 93.4456 773.46 Q95.2743 769.895 95.2743 762.788 Q95.2743 755.659 93.4456 752.117 Q91.6401 748.552 88.0058 748.552 M88.0058 744.849 Q93.816 744.849 96.8715 749.455 Q99.9502 754.038 99.9502 762.788 Q99.9502 771.515 96.8715 776.122 Q93.816 780.705 88.0058 780.705 Q82.1957 780.705 79.117 776.122 Q76.0614 771.515 76.0614 762.788 Q76.0614 754.038 79.117 749.455 Q82.1957 744.849 88.0058 744.849 Z\" fill=\"#000000\" fill-rule=\"evenodd\" fill-opacity=\"1\" /><path clip-path=\"url(#clip010)\" d=\"M 0 0 M115.02 748.552 Q111.408 748.552 109.58 752.117 Q107.774 755.659 107.774 762.788 Q107.774 769.895 109.58 773.46 Q111.408 777.001 115.02 777.001 Q118.654 777.001 120.459 773.46 Q122.288 769.895 122.288 762.788 Q122.288 755.659 120.459 752.117 Q118.654 748.552 115.02 748.552 M115.02 744.849 Q120.83 744.849 123.885 749.455 Q126.964 754.038 126.964 762.788 Q126.964 771.515 123.885 776.122 Q120.83 780.705 115.02 780.705 Q109.209 780.705 106.131 776.122 Q103.075 771.515 103.075 762.788 Q103.075 754.038 106.131 749.455 Q109.209 744.849 115.02 744.849 Z\" fill=\"#000000\" fill-rule=\"evenodd\" fill-opacity=\"1\" /><path clip-path=\"url(#clip010)\" d=\"M 0 0 M54.0245 431.168 L61.6634 431.168 L61.6634 404.803 L53.3532 406.469 L53.3532 402.21 L61.6171 400.543 L66.293 400.543 L66.293 431.168 L73.9318 431.168 L73.9318 435.103 L54.0245 435.103 L54.0245 431.168 Z\" fill=\"#000000\" fill-rule=\"evenodd\" fill-opacity=\"1\" /><path clip-path=\"url(#clip010)\" d=\"M 0 0 M79.0475 400.543 L97.4039 400.543 L97.4039 404.479 L83.3299 404.479 L83.3299 412.951 Q84.3484 412.604 85.3669 412.442 Q86.3855 412.256 87.404 412.256 Q93.191 412.256 96.5706 415.428 Q99.9502 418.599 99.9502 424.016 Q99.9502 429.594 96.478 432.696 Q93.0058 435.775 86.6864 435.775 Q84.5105 435.775 82.242 435.404 Q79.9966 435.034 77.5892 434.293 L77.5892 429.594 Q79.6725 430.728 81.8947 431.284 Q84.1169 431.84 86.5938 431.84 Q90.5984 431.84 92.9363 429.733 Q95.2743 427.627 95.2743 424.016 Q95.2743 420.404 92.9363 418.298 Q90.5984 416.191 86.5938 416.191 Q84.7188 416.191 82.8438 416.608 Q80.992 417.025 79.0475 417.904 L79.0475 400.543 Z\" fill=\"#000000\" fill-rule=\"evenodd\" fill-opacity=\"1\" /><path clip-path=\"url(#clip010)\" d=\"M 0 0 M115.02 403.622 Q111.408 403.622 109.58 407.187 Q107.774 410.729 107.774 417.858 Q107.774 424.965 109.58 428.529 Q111.408 432.071 115.02 432.071 Q118.654 432.071 120.459 428.529 Q122.288 424.965 122.288 417.858 Q122.288 410.729 120.459 407.187 Q118.654 403.622 115.02 403.622 M115.02 399.918 Q120.83 399.918 123.885 404.525 Q126.964 409.108 126.964 417.858 Q126.964 426.585 123.885 431.191 Q120.83 435.775 115.02 435.775 Q109.209 435.775 106.131 431.191 Q103.075 426.585 103.075 417.858 Q103.075 409.108 106.131 404.525 Q109.209 399.918 115.02 399.918 Z\" fill=\"#000000\" fill-rule=\"evenodd\" fill-opacity=\"1\" /><path clip-path=\"url(#clip010)\" d=\"M 0 0 M56.6171 86.238 L72.9365 86.238 L72.9365 90.1731 L50.9921 90.1731 L50.9921 86.238 Q53.6541 83.4834 58.2375 78.8537 Q62.8439 74.201 64.0245 72.8584 Q66.2698 70.3353 67.1494 68.5992 Q68.0522 66.8399 68.0522 65.1501 Q68.0522 62.3955 66.1078 60.6594 Q64.1865 58.9233 61.0847 58.9233 Q58.8856 58.9233 56.4319 59.6872 Q54.0014 60.4511 51.2236 62.002 L51.2236 57.2798 Q54.0477 56.1455 56.5014 55.5668 Q58.955 54.9881 60.9921 54.9881 Q66.3624 54.9881 69.5568 57.6733 Q72.7513 60.3585 72.7513 64.8492 Q72.7513 66.9788 71.9411 68.9001 Q71.1541 70.7982 69.0476 73.3908 Q68.4689 74.0621 65.367 77.2797 Q62.2652 80.4741 56.6171 86.238 Z\" fill=\"#000000\" fill-rule=\"evenodd\" fill-opacity=\"1\" /><path clip-path=\"url(#clip010)\" d=\"M 0 0 M88.0058 58.6918 Q84.3947 58.6918 82.566 62.2566 Q80.7605 65.7983 80.7605 72.9279 Q80.7605 80.0343 82.566 83.5991 Q84.3947 87.1407 88.0058 87.1407 Q91.6401 87.1407 93.4456 83.5991 Q95.2743 80.0343 95.2743 72.9279 Q95.2743 65.7983 93.4456 62.2566 Q91.6401 58.6918 88.0058 58.6918 M88.0058 54.9881 Q93.816 54.9881 96.8715 59.5946 Q99.9502 64.1779 99.9502 72.9279 Q99.9502 81.6547 96.8715 86.2611 Q93.816 90.8444 88.0058 90.8444 Q82.1957 90.8444 79.117 86.2611 Q76.0614 81.6547 76.0614 72.9279 Q76.0614 64.1779 79.117 59.5946 Q82.1957 54.9881 88.0058 54.9881 Z\" fill=\"#000000\" fill-rule=\"evenodd\" fill-opacity=\"1\" /><path clip-path=\"url(#clip010)\" d=\"M 0 0 M115.02 58.6918 Q111.408 58.6918 109.58 62.2566 Q107.774 65.7983 107.774 72.9279 Q107.774 80.0343 109.58 83.5991 Q111.408 87.1407 115.02 87.1407 Q118.654 87.1407 120.459 83.5991 Q122.288 80.0343 122.288 72.9279 Q122.288 65.7983 120.459 62.2566 Q118.654 58.6918 115.02 58.6918 M115.02 54.9881 Q120.83 54.9881 123.885 59.5946 Q126.964 64.1779 126.964 72.9279 Q126.964 81.6547 123.885 86.2611 Q120.83 90.8444 115.02 90.8444 Q109.209 90.8444 106.131 86.2611 Q103.075 81.6547 103.075 72.9279 Q103.075 64.1779 106.131 59.5946 Q109.209 54.9881 115.02 54.9881 Z\" fill=\"#000000\" fill-rule=\"evenodd\" fill-opacity=\"1\" /><polyline clip-path=\"url(#clip012)\" style=\"stroke:#009af9; stroke-width:4; stroke-opacity:1; fill:none\" points=\"\n",
       "  224.939,1445.72 296.175,1444.34 367.411,1442.68 438.647,1440.69 509.883,1438.31 581.119,1435.45 652.355,1432.02 723.591,1427.9 794.826,1422.95 866.062,1417.02 \n",
       "  937.298,1409.9 1008.53,1401.36 1079.77,1391.11 1151.01,1378.8 1222.24,1364.04 1293.48,1346.33 1364.71,1325.07 1435.95,1299.56 1507.19,1268.95 1578.42,1232.22 \n",
       "  1649.66,1188.14 1720.89,1135.24 1792.13,1071.77 1863.37,995.6 1934.6,904.197 2005.84,794.513 2077.07,662.893 2148.31,504.949 2219.54,315.416 2290.78,87.9763 \n",
       "  \n",
       "  \"/>\n",
       "<path clip-path=\"url(#clip010)\" d=\"\n",
       "M1985.43 216.178 L2279.76 216.178 L2279.76 95.2176 L1985.43 95.2176  Z\n",
       "  \" fill=\"#ffffff\" fill-rule=\"evenodd\" fill-opacity=\"1\"/>\n",
       "<polyline clip-path=\"url(#clip010)\" style=\"stroke:#000000; stroke-width:4; stroke-opacity:1; fill:none\" points=\"\n",
       "  1985.43,216.178 2279.76,216.178 2279.76,95.2176 1985.43,95.2176 1985.43,216.178 \n",
       "  \"/>\n",
       "<polyline clip-path=\"url(#clip010)\" style=\"stroke:#009af9; stroke-width:4; stroke-opacity:1; fill:none\" points=\"\n",
       "  2009.77,155.698 2155.75,155.698 \n",
       "  \"/>\n",
       "<path clip-path=\"url(#clip010)\" d=\"M 0 0 M2193.93 175.385 Q2192.12 180.015 2190.41 181.427 Q2188.69 182.839 2185.82 182.839 L2182.42 182.839 L2182.42 179.274 L2184.92 179.274 Q2186.68 179.274 2187.65 178.44 Q2188.62 177.607 2189.8 174.505 L2190.57 172.561 L2180.08 147.052 L2184.6 147.052 L2192.7 167.329 L2200.8 147.052 L2205.31 147.052 L2193.93 175.385 Z\" fill=\"#000000\" fill-rule=\"evenodd\" fill-opacity=\"1\" /><path clip-path=\"url(#clip010)\" d=\"M 0 0 M2211.19 169.042 L2218.83 169.042 L2218.83 142.677 L2210.52 144.343 L2210.52 140.084 L2218.79 138.418 L2223.46 138.418 L2223.46 169.042 L2231.1 169.042 L2231.1 172.978 L2211.19 172.978 L2211.19 169.042 Z\" fill=\"#000000\" fill-rule=\"evenodd\" fill-opacity=\"1\" /></svg>\n"
      ]
     },
     "execution_count": 44,
     "metadata": {},
     "output_type": "execute_result"
    }
   ],
   "source": [
    "plot_AR1(1.2, 1.0)"
   ]
  },
  {
   "cell_type": "code",
   "execution_count": null,
   "metadata": {},
   "outputs": [],
   "source": []
  },
  {
   "cell_type": "code",
   "execution_count": null,
   "metadata": {},
   "outputs": [],
   "source": []
  },
  {
   "cell_type": "code",
   "execution_count": 31,
   "metadata": {},
   "outputs": [
    {
     "name": "stdout",
     "output_type": "stream",
     "text": [
      "1\n",
      "3\n",
      "5\n",
      "7\n",
      "9\n"
     ]
    }
   ],
   "source": [
    "for i = 1:2:10\n",
    "    println(i)\n",
    "end"
   ]
  },
  {
   "cell_type": "code",
   "execution_count": 35,
   "metadata": {},
   "outputs": [
    {
     "data": {
      "text/plain": [
       "3-element Array{Int64,1}:\n",
       " 1\n",
       " 2\n",
       " 3"
      ]
     },
     "execution_count": 35,
     "metadata": {},
     "output_type": "execute_result"
    }
   ],
   "source": [
    "z = [1, 2, 3]"
   ]
  },
  {
   "cell_type": "code",
   "execution_count": 36,
   "metadata": {},
   "outputs": [
    {
     "data": {
      "text/plain": [
       "1"
      ]
     },
     "execution_count": 36,
     "metadata": {},
     "output_type": "execute_result"
    }
   ],
   "source": [
    "z[1]"
   ]
  },
  {
   "cell_type": "code",
   "execution_count": 37,
   "metadata": {},
   "outputs": [
    {
     "data": {
      "text/plain": [
       "2"
      ]
     },
     "execution_count": 37,
     "metadata": {},
     "output_type": "execute_result"
    }
   ],
   "source": [
    "z[2]"
   ]
  },
  {
   "cell_type": "code",
   "execution_count": 45,
   "metadata": {},
   "outputs": [
    {
     "ename": "UndefVarError",
     "evalue": "UndefVarError: mean not defined",
     "output_type": "error",
     "traceback": [
      "UndefVarError: mean not defined",
      "",
      "Stacktrace:",
      " [1] top-level scope at In[45]:1"
     ]
    }
   ],
   "source": [
    "mean(z)"
   ]
  },
  {
   "cell_type": "code",
   "execution_count": 46,
   "metadata": {},
   "outputs": [],
   "source": [
    "using Statistics"
   ]
  },
  {
   "cell_type": "code",
   "execution_count": 47,
   "metadata": {},
   "outputs": [
    {
     "data": {
      "text/plain": [
       "2.0"
      ]
     },
     "execution_count": 47,
     "metadata": {},
     "output_type": "execute_result"
    }
   ],
   "source": [
    "mean(z)"
   ]
  },
  {
   "cell_type": "code",
   "execution_count": 48,
   "metadata": {},
   "outputs": [
    {
     "data": {
      "text/plain": [
       "2.0"
      ]
     },
     "execution_count": 48,
     "metadata": {},
     "output_type": "execute_result"
    }
   ],
   "source": [
    "Statistics.mean(z)"
   ]
  },
  {
   "cell_type": "code",
   "execution_count": 49,
   "metadata": {},
   "outputs": [],
   "source": [
    "using Pkg"
   ]
  },
  {
   "cell_type": "code",
   "execution_count": 56,
   "metadata": {},
   "outputs": [
    {
     "name": "stderr",
     "output_type": "stream",
     "text": [
      "\u001b[32m\u001b[1m  Resolving\u001b[22m\u001b[39m package versions...\n",
      "\u001b[32m\u001b[1m   Updating\u001b[22m\u001b[39m `~/Tresorit/teaching/courses/2020/ECBS-6001-Advanced-Macroeconomics/Project.toml`\n",
      " \u001b[90m [31c24e10]\u001b[39m\u001b[92m + Distributions v0.23.12\u001b[39m\n",
      "\u001b[32m\u001b[1m   Updating\u001b[22m\u001b[39m `~/Tresorit/teaching/courses/2020/ECBS-6001-Advanced-Macroeconomics/Manifest.toml`\n",
      "\u001b[90m [no changes]\u001b[39m\n"
     ]
    }
   ],
   "source": [
    "Pkg.add(\"Distributions\")"
   ]
  },
  {
   "cell_type": "code",
   "execution_count": 51,
   "metadata": {},
   "outputs": [],
   "source": [
    "using Plots"
   ]
  },
  {
   "cell_type": "code",
   "execution_count": 60,
   "metadata": {},
   "outputs": [
    {
     "data": {
      "text/plain": [
       "\"/Users/koren/Tresorit/teaching/courses/2020/ECBS-6001-Advanced-Macroeconomics\""
      ]
     },
     "execution_count": 60,
     "metadata": {},
     "output_type": "execute_result"
    }
   ],
   "source": [
    "pwd()"
   ]
  },
  {
   "cell_type": "code",
   "execution_count": 59,
   "metadata": {},
   "outputs": [],
   "source": [
    "cd(\"..\")"
   ]
  },
  {
   "cell_type": "code",
   "execution_count": 62,
   "metadata": {},
   "outputs": [
    {
     "name": "stderr",
     "output_type": "stream",
     "text": [
      "\u001b[32m\u001b[1m  Resolving\u001b[22m\u001b[39m package versions...\n",
      "\u001b[32m\u001b[1m  Installed\u001b[22m\u001b[39m PooledArrays ──── v1.3.0\n",
      "\u001b[32m\u001b[1m  Installed\u001b[22m\u001b[39m InvertedIndices ─ v1.1.0\n",
      "\u001b[32m\u001b[1m  Installed\u001b[22m\u001b[39m DataFrames ────── v1.2.2\n",
      "\u001b[32m\u001b[1m  Installed\u001b[22m\u001b[39m PrettyTables ──── v1.1.0\n",
      "\u001b[32m\u001b[1m   Updating\u001b[22m\u001b[39m `~/Tresorit/teaching/courses/2020/ECBS-6001-Advanced-Macroeconomics/Project.toml`\n",
      " \u001b[90m [a93c6f00]\u001b[39m\u001b[92m + DataFrames v1.2.2\u001b[39m\n",
      "\u001b[32m\u001b[1m   Updating\u001b[22m\u001b[39m `~/Tresorit/teaching/courses/2020/ECBS-6001-Advanced-Macroeconomics/Manifest.toml`\n",
      " \u001b[90m [a8cc5b0e]\u001b[39m\u001b[92m + Crayons v4.0.4\u001b[39m\n",
      " \u001b[90m [a93c6f00]\u001b[39m\u001b[92m + DataFrames v1.2.2\u001b[39m\n",
      " \u001b[90m [59287772]\u001b[39m\u001b[92m + Formatting v0.4.2\u001b[39m\n",
      " \u001b[90m [41ab1584]\u001b[39m\u001b[92m + InvertedIndices v1.1.0\u001b[39m\n",
      " \u001b[90m [2dfb63ee]\u001b[39m\u001b[92m + PooledArrays v1.3.0\u001b[39m\n",
      " \u001b[90m [08abe8d2]\u001b[39m\u001b[92m + PrettyTables v1.1.0\u001b[39m\n"
     ]
    }
   ],
   "source": [
    "Pkg.add(\"DataFrames\")"
   ]
  },
  {
   "cell_type": "code",
   "execution_count": 63,
   "metadata": {},
   "outputs": [
    {
     "name": "stderr",
     "output_type": "stream",
     "text": [
      "\u001b[32m\u001b[1m  Resolving\u001b[22m\u001b[39m package versions...\n",
      "\u001b[32m\u001b[1m  Installed\u001b[22m\u001b[39m IJulia ─ v1.23.2\n",
      "\u001b[32m\u001b[1m   Updating\u001b[22m\u001b[39m `~/Tresorit/teaching/courses/2020/ECBS-6001-Advanced-Macroeconomics/Project.toml`\n",
      " \u001b[90m [7073ff75]\u001b[39m\u001b[92m + IJulia v1.23.2\u001b[39m\n",
      "\u001b[32m\u001b[1m   Updating\u001b[22m\u001b[39m `~/Tresorit/teaching/courses/2020/ECBS-6001-Advanced-Macroeconomics/Manifest.toml`\n",
      " \u001b[90m [56f22d72]\u001b[39m\u001b[92m + Artifacts v1.3.0\u001b[39m\n",
      " \u001b[90m [8f4d0f93]\u001b[39m\u001b[92m + Conda v1.5.2\u001b[39m\n",
      " \u001b[90m [7073ff75]\u001b[39m\u001b[92m + IJulia v1.23.2\u001b[39m\n",
      " \u001b[90m [692b3bcd]\u001b[39m\u001b[92m + JLLWrappers v1.3.0\u001b[39m\n",
      " \u001b[90m [682c06a0]\u001b[39m\u001b[92m + JSON v0.21.2\u001b[39m\n",
      " \u001b[90m [739be429]\u001b[39m\u001b[92m + MbedTLS v1.0.3\u001b[39m\n",
      " \u001b[90m [c8ffd9c3]\u001b[39m\u001b[92m + MbedTLS_jll v2.16.8+1\u001b[39m\n",
      " \u001b[90m [69de0a69]\u001b[39m\u001b[92m + Parsers v2.0.3\u001b[39m\n",
      " \u001b[90m [21216c6a]\u001b[39m\u001b[92m + Preferences v1.2.2\u001b[39m\n",
      " \u001b[90m [b85f4697]\u001b[39m\u001b[92m + SoftGlobalScope v1.1.0\u001b[39m\n",
      " \u001b[90m [fa267f1f]\u001b[39m\u001b[92m + TOML v1.0.3\u001b[39m\n",
      " \u001b[90m [81def892]\u001b[39m\u001b[92m + VersionParsing v1.2.0\u001b[39m\n",
      " \u001b[90m [c2297ded]\u001b[39m\u001b[92m + ZMQ v1.2.1\u001b[39m\n",
      " \u001b[90m [8f1865be]\u001b[39m\u001b[92m + ZeroMQ_jll v4.3.2+6\u001b[39m\n",
      " \u001b[90m [a9144af2]\u001b[39m\u001b[92m + libsodium_jll v1.0.19+0\u001b[39m\n",
      " \u001b[90m [2a0f44e3]\u001b[39m\u001b[92m + Base64 \u001b[39m\n",
      " \u001b[90m [ade2ca70]\u001b[39m\u001b[92m + Dates \u001b[39m\n",
      " \u001b[90m [8ba89e20]\u001b[39m\u001b[92m + Distributed \u001b[39m\n",
      " \u001b[90m [7b1f6079]\u001b[39m\u001b[92m + FileWatching \u001b[39m\n",
      " \u001b[90m [b77e0a4c]\u001b[39m\u001b[92m + InteractiveUtils \u001b[39m\n",
      " \u001b[90m [76f85450]\u001b[39m\u001b[92m + LibGit2 \u001b[39m\n",
      " \u001b[90m [8f399da3]\u001b[39m\u001b[92m + Libdl \u001b[39m\n",
      " \u001b[90m [56ddb016]\u001b[39m\u001b[92m + Logging \u001b[39m\n",
      " \u001b[90m [d6f4376e]\u001b[39m\u001b[92m + Markdown \u001b[39m\n",
      " \u001b[90m [a63ad114]\u001b[39m\u001b[92m + Mmap \u001b[39m\n",
      " \u001b[90m [44cfe95a]\u001b[39m\u001b[92m + Pkg \u001b[39m\n",
      " \u001b[90m [de0858da]\u001b[39m\u001b[92m + Printf \u001b[39m\n",
      " \u001b[90m [3fa0cd96]\u001b[39m\u001b[92m + REPL \u001b[39m\n",
      " \u001b[90m [9a3f8284]\u001b[39m\u001b[92m + Random \u001b[39m\n",
      " \u001b[90m [ea8e919c]\u001b[39m\u001b[92m + SHA \u001b[39m\n",
      " \u001b[90m [9e88b42a]\u001b[39m\u001b[92m + Serialization \u001b[39m\n",
      " \u001b[90m [6462fe0b]\u001b[39m\u001b[92m + Sockets \u001b[39m\n",
      " \u001b[90m [8dfed614]\u001b[39m\u001b[92m + Test \u001b[39m\n",
      " \u001b[90m [cf7118a7]\u001b[39m\u001b[92m + UUIDs \u001b[39m\n",
      " \u001b[90m [4ec0a83e]\u001b[39m\u001b[92m + Unicode \u001b[39m\n",
      "\u001b[32m\u001b[1m   Building\u001b[22m\u001b[39m IJulia → `~/.julia/packages/IJulia/e8kqU/deps/build.log`\n",
      "┌ Error: Error building `IJulia`: \n",
      "│ ERROR: LoadError: Conda is not properly configured.  Run Pkg.build(\"Conda\") before importing the Conda module.\n",
      "│ Stacktrace:\n",
      "│  [1] error(::String) at ./error.jl:33\n",
      "│  [2] top-level scope at /Users/koren/.julia/packages/Conda/sNGum/src/Conda.jl:25\n",
      "│  [3] include(::Module, ::String) at ./Base.jl:377\n",
      "│  [4] top-level scope at none:2\n",
      "│  [5] eval at ./boot.jl:331 [inlined]\n",
      "│  [6] eval(::Expr) at ./client.jl:449\n",
      "│  [7] top-level scope at ./none:3\n",
      "│ in expression starting at /Users/koren/.julia/packages/Conda/sNGum/src/Conda.jl:21\n",
      "│  Activating environment at `~/Tresorit/teaching/courses/2020/ECBS-6001-Advanced-Macroeconomics/Project.toml`\n",
      "│ ERROR: LoadError: Failed to precompile Conda [8f4d0f93-b110-5947-807f-2305c1781a2d] to /Users/koren/.julia/compiled/v1.4/Conda/WZE3U_F7AHr.ji.\n",
      "│ Stacktrace:\n",
      "│  [1] error(::String) at ./error.jl:33\n",
      "│  [2] compilecache(::Base.PkgId, ::String) at ./loading.jl:1272\n",
      "│  [3] _require(::Base.PkgId) at ./loading.jl:1029\n",
      "│  [4] require(::Base.PkgId) at ./loading.jl:927\n",
      "│  [5] require(::Module, ::Symbol) at ./loading.jl:922\n",
      "│  [6] include(::String) at ./client.jl:439\n",
      "│  [7] top-level scope at none:5\n",
      "│ in expression starting at /Users/koren/.julia/packages/IJulia/e8kqU/deps/build.jl:1\n",
      "└ @ Pkg.Operations /Users/julia/buildbot/worker/package_macos64/build/usr/share/julia/stdlib/v1.4/Pkg/src/Operations.jl:899\n"
     ]
    }
   ],
   "source": [
    "Pkg.add(\"IJulia\")"
   ]
  },
  {
   "cell_type": "code",
   "execution_count": 64,
   "metadata": {},
   "outputs": [
    {
     "name": "stderr",
     "output_type": "stream",
     "text": [
      "\u001b[32m\u001b[1m Activating\u001b[22m\u001b[39m environment at `~/Tresorit/teaching/courses/2020/ECBS-6001-Advanced-Macroeconomics/Project.toml`\n"
     ]
    }
   ],
   "source": [
    "Pkg.activate(\".\")"
   ]
  },
  {
   "cell_type": "code",
   "execution_count": 65,
   "metadata": {},
   "outputs": [],
   "source": [
    "Pkg.instantiate()"
   ]
  },
  {
   "cell_type": "code",
   "execution_count": null,
   "metadata": {},
   "outputs": [],
   "source": []
  }
 ],
 "metadata": {
  "kernelspec": {
   "display_name": "Julia 1.4.2",
   "language": "julia",
   "name": "julia-1.4"
  },
  "language_info": {
   "file_extension": ".jl",
   "mimetype": "application/julia",
   "name": "julia",
   "version": "1.4.2"
  }
 },
 "nbformat": 4,
 "nbformat_minor": 4
}
