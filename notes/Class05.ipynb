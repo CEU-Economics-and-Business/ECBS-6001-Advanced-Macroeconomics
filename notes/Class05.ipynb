{
 "cells": [
  {
   "cell_type": "markdown",
   "metadata": {},
   "source": [
    "#### Markov chain\n",
    "$x_t$ is **categorical**, $x_t \\in \\{1, 2, ..., K\\}$\n",
    "\n",
    "> \"distribution\" of x is **probability mass function**\n",
    "> $$\n",
    "\\pi_k \\equiv  \\Pr(x_t = k)\n",
    "$$\n",
    ">$$ \\pi_{k}\\in [0,1]$$\n",
    ">$$\\sum_k \\pi_k = 1$$\n",
    "\n",
    "Markovness means\n",
    "$$\n",
    "\\Pr(x_t = k|x_{t-1} = i) = \\pi_{ik}\n",
    "$$\n",
    "then (*) holds\n",
    "\n",
    "#### Example\n",
    "$x_{t} \\in \\{employed, unemployed\\}$\n",
    "\n",
    "Collect these values into a **transition matrix**\n",
    "$$\n",
    "\\mathbf P = [\\pi_{ik}]\n",
    "$$\n",
    "For ex,\n",
    "$$\n",
    "\\begin{bmatrix}\n",
    "0.7 & 0.3 \\\\\n",
    "0.1 & 0.9\n",
    "\\end{bmatrix}\n",
    "$$\n",
    "#### Example\n",
    "Employed people lose their job with prob 0.3. Unemployed find a job w prob 0.1.\n",
    "\n",
    "> ### Remark\n",
    "> Transition prob depend on time horizon.\n",
    "\n",
    "> ### Properties\n",
    "> $K\\times K$ square\n",
    "> $$\n",
    "0 \\le \\mathbf P \\le 1\n",
    "$$\n",
    "> $$\n",
    "\\mathbf P \\mathbf 1 = \\mathbf 1\n",
    "$$\n",
    "> (rows sum up to 1)\n"
   ]
  },
  {
   "cell_type": "code",
   "execution_count": 1,
   "metadata": {},
   "outputs": [
    {
     "data": {
      "text/plain": [
       "2×2 Matrix{Float64}:\n",
       " 0.7  0.3\n",
       " 0.1  0.9"
      ]
     },
     "execution_count": 1,
     "metadata": {},
     "output_type": "execute_result"
    }
   ],
   "source": [
    "transition_matrix = [0.7 0.3; 0.1 0.9]"
   ]
  },
  {
   "cell_type": "markdown",
   "metadata": {},
   "source": [
    "Testing:"
   ]
  },
  {
   "cell_type": "code",
   "execution_count": 8,
   "metadata": {},
   "outputs": [
    {
     "data": {
      "text/plain": [
       "true"
      ]
     },
     "execution_count": 8,
     "metadata": {},
     "output_type": "execute_result"
    }
   ],
   "source": [
    "all(sum(transition_matrix, dims=2) .== 1)"
   ]
  },
  {
   "cell_type": "code",
   "execution_count": 5,
   "metadata": {},
   "outputs": [
    {
     "data": {
      "text/plain": [
       "2×1 BitMatrix:\n",
       " 1\n",
       " 1"
      ]
     },
     "execution_count": 5,
     "metadata": {},
     "output_type": "execute_result"
    }
   ],
   "source": [
    "sum(transition_matrix, dims=2) .== 1"
   ]
  },
  {
   "cell_type": "code",
   "execution_count": 10,
   "metadata": {},
   "outputs": [
    {
     "data": {
      "text/plain": [
       "false"
      ]
     },
     "execution_count": 10,
     "metadata": {},
     "output_type": "execute_result"
    }
   ],
   "source": [
    "all([false true false])"
   ]
  },
  {
   "cell_type": "code",
   "execution_count": 11,
   "metadata": {},
   "outputs": [
    {
     "data": {
      "text/plain": [
       "true"
      ]
     },
     "execution_count": 11,
     "metadata": {},
     "output_type": "execute_result"
    }
   ],
   "source": [
    "any([false true false])"
   ]
  },
  {
   "cell_type": "code",
   "execution_count": 15,
   "metadata": {},
   "outputs": [
    {
     "data": {
      "text/plain": [
       "false"
      ]
     },
     "execution_count": 15,
     "metadata": {},
     "output_type": "execute_result"
    }
   ],
   "source": [
    "transition_matrix .^ 2 == transition_matrix ^ 2"
   ]
  },
  {
   "cell_type": "markdown",
   "metadata": {},
   "source": [
    "## Markov chain\n",
    "1. Transition matrix $\\mathbf P$\n",
    "2. Starting state $x_0$\n",
    "\t1. more generally, $\\pi_0 = \\{\\pi_{k0}\\} = \\Pr(x_0=k)$\n"
   ]
  },
  {
   "cell_type": "code",
   "execution_count": 69,
   "metadata": {},
   "outputs": [],
   "source": [
    "struct MarkovChain\n",
    "    P::Array{Float64, 2}\n",
    "    π0::Vector{Float64}\n",
    "    \n",
    "    # check values of newly created MarkovChain objects\n",
    "    function MarkovChain(P::Array{Float64, 2}, π0::Vector{Float64})\n",
    "        # note the use of short-circuit \"or\" and \"and\" operators to catch error cases\n",
    "        size(P, 1) != size(P, 2) && error(\"P is not square\")\n",
    "        size(π0, 1) != size(P, 2) && error(\"P is not the same size as π0\")\n",
    "        all((π0 .>= 0) .& (π0 .<= 1)) || error(\"π0 is not in [0,1]\")\n",
    "        all((P .>= 0) .& (P .<= 1)) || error(\"P is not in [0,1]\")\n",
    "        sum(π0) == 1.0 || error(\"π0 does not sum to 1\")\n",
    "        all(sum(P, dims=2) .== 1.0) || error(\"Ps rows do not sum to 1\")\n",
    "\n",
    "        # if all is good, return a new object\n",
    "        return new(P, π0)\n",
    "    end\n",
    "end"
   ]
  },
  {
   "cell_type": "markdown",
   "metadata": {},
   "source": [
    "### Forecasting\n",
    "#### 1-period\n",
    "$$\n",
    "\\Pr(x_1 = k|x_0 = j) = ? = [\\mathbf P]_{jk}\n",
    "$$\n",
    "from a fixed state $j$, \n",
    "$$\n",
    "\\pi_1 = [\\mathbf P]_{j.}\n",
    "$$\n",
    "\n",
    "> ### Example\n",
    "> Probability being Employed vs Unemployed given Employed at time 0 \n",
    "> $$\n",
    "\\begin{pmatrix}0.7  & 0.3\\end{pmatrix}\n",
    "$$\n",
    "\n",
    "Starting from a distribution? Let's do a 2-period forecast\n",
    "$$\n",
    "\\Pr(x_2 = k | x_0 = j)\n",
    "= \\sum_i\n",
    "\\Pr(x_2 = k | x_1 = i)\n",
    "\\Pr(x_1 = i | x_0 = j)\n",
    "$$\n",
    "$$\n",
    "= \\sum_i\n",
    "[\\mathbf P]_{ik}\\pi_{1i} =\n",
    "\\pi_1'\\mathbf P\n",
    "$$\n",
    "with $\\pi_1$ a $K\\times 1$ column vector\n",
    "\n",
    "> ### Special case\n",
    "> $\\pi_1 = (0,...,0,1,0,...0) \\equiv \\mathbf e_j$\n",
    "> $\\mathbf e_j ' \\mathbf P = \\mathbf P_j$\n",
    "\n",
    "> ### Example\n",
    "> $$\n",
    "\\pi_{22} = 0.3\\times 0.9 + 0.7\\times 0.3 = 0.48\n",
    "$$\n"
   ]
  },
  {
   "cell_type": "markdown",
   "metadata": {},
   "source": [
    "### One-period ahead prediction\n",
    "$$\n",
    "\\pi_t' \\mathbf P = \\pi_{t+1}'\n",
    "$$\n",
    "or\n",
    "$$\n",
    "\\mathbf P'\\pi_t  = \\pi_{t+1}\n",
    "$$\n"
   ]
  },
  {
   "cell_type": "code",
   "execution_count": 28,
   "metadata": {},
   "outputs": [
    {
     "data": {
      "text/plain": [
       "forecast_markov_chain (generic function with 2 methods)"
      ]
     },
     "execution_count": 28,
     "metadata": {},
     "output_type": "execute_result"
    }
   ],
   "source": [
    "function forecast_markov_chain(mc::MarkovChain, T::Integer)::Array{Float64, 2}\n",
    "    πprev = mc.π0\n",
    "    output = zeros(length(mc.π0), T)\n",
    "    for t = 1:T\n",
    "        π = mc.P' * πprev\n",
    "        # elementwise assignment is memory efficient\n",
    "        output[:, t] .= π\n",
    "        πprev = π\n",
    "    end\n",
    "    return output\n",
    "    # show examples of Julia code\n",
    "end"
   ]
  },
  {
   "cell_type": "code",
   "execution_count": 72,
   "metadata": {},
   "outputs": [
    {
     "data": {
      "text/plain": [
       "MarkovChain([0.7 0.3; 0.1 0.9], [1.0, 0.0])"
      ]
     },
     "execution_count": 72,
     "metadata": {},
     "output_type": "execute_result"
    }
   ],
   "source": [
    "unemployment_application = MarkovChain([0.7 0.3; 0.1 0.9], [1.0, 0.0])"
   ]
  },
  {
   "cell_type": "code",
   "execution_count": 64,
   "metadata": {},
   "outputs": [
    {
     "data": {
      "text/plain": [
       "2×30 Matrix{Float64}:\n",
       " 0.7  0.52  0.412  0.3472  0.30832  0.284992  …  0.250001  0.25  0.25  0.25\n",
       " 0.3  0.48  0.588  0.6528  0.69168  0.715008     0.749999  0.75  0.75  0.75"
      ]
     },
     "execution_count": 64,
     "metadata": {},
     "output_type": "execute_result"
    }
   ],
   "source": [
    "πt = forecast_markov_chain(unemployment_application, 30)"
   ]
  },
  {
   "cell_type": "code",
   "execution_count": 65,
   "metadata": {},
   "outputs": [
    {
     "data": {
      "text/plain": [
       "2"
      ]
     },
     "execution_count": 65,
     "metadata": {},
     "output_type": "execute_result"
    }
   ],
   "source": [
    "length(unemployment_application.π0)"
   ]
  },
  {
   "cell_type": "code",
   "execution_count": 66,
   "metadata": {},
   "outputs": [
    {
     "data": {
      "image/svg+xml": [
       "<?xml version=\"1.0\" encoding=\"utf-8\"?>\n",
       "<svg xmlns=\"http://www.w3.org/2000/svg\" xmlns:xlink=\"http://www.w3.org/1999/xlink\" width=\"600\" height=\"400\" viewBox=\"0 0 2400 1600\">\n",
       "<defs>\n",
       "  <clipPath id=\"clip750\">\n",
       "    <rect x=\"0\" y=\"0\" width=\"2400\" height=\"1600\"/>\n",
       "  </clipPath>\n",
       "</defs>\n",
       "<path clip-path=\"url(#clip750)\" d=\"\n",
       "M0 1600 L2400 1600 L2400 0 L0 0  Z\n",
       "  \" fill=\"#ffffff\" fill-rule=\"evenodd\" fill-opacity=\"1\"/>\n",
       "<defs>\n",
       "  <clipPath id=\"clip751\">\n",
       "    <rect x=\"480\" y=\"0\" width=\"1681\" height=\"1600\"/>\n",
       "  </clipPath>\n",
       "</defs>\n",
       "<path clip-path=\"url(#clip750)\" d=\"\n",
       "M156.598 1486.45 L2352.76 1486.45 L2352.76 47.2441 L156.598 47.2441  Z\n",
       "  \" fill=\"#ffffff\" fill-rule=\"evenodd\" fill-opacity=\"1\"/>\n",
       "<defs>\n",
       "  <clipPath id=\"clip752\">\n",
       "    <rect x=\"156\" y=\"47\" width=\"2197\" height=\"1440\"/>\n",
       "  </clipPath>\n",
       "</defs>\n",
       "<polyline clip-path=\"url(#clip752)\" style=\"stroke:#000000; stroke-linecap:butt; stroke-linejoin:round; stroke-width:2; stroke-opacity:0.1; fill:none\" points=\"\n",
       "  504.526,1486.45 504.526,47.2441 \n",
       "  \"/>\n",
       "<polyline clip-path=\"url(#clip752)\" style=\"stroke:#000000; stroke-linecap:butt; stroke-linejoin:round; stroke-width:2; stroke-opacity:0.1; fill:none\" points=\"\n",
       "  861.741,1486.45 861.741,47.2441 \n",
       "  \"/>\n",
       "<polyline clip-path=\"url(#clip752)\" style=\"stroke:#000000; stroke-linecap:butt; stroke-linejoin:round; stroke-width:2; stroke-opacity:0.1; fill:none\" points=\"\n",
       "  1218.96,1486.45 1218.96,47.2441 \n",
       "  \"/>\n",
       "<polyline clip-path=\"url(#clip752)\" style=\"stroke:#000000; stroke-linecap:butt; stroke-linejoin:round; stroke-width:2; stroke-opacity:0.1; fill:none\" points=\"\n",
       "  1576.17,1486.45 1576.17,47.2441 \n",
       "  \"/>\n",
       "<polyline clip-path=\"url(#clip752)\" style=\"stroke:#000000; stroke-linecap:butt; stroke-linejoin:round; stroke-width:2; stroke-opacity:0.1; fill:none\" points=\"\n",
       "  1933.39,1486.45 1933.39,47.2441 \n",
       "  \"/>\n",
       "<polyline clip-path=\"url(#clip752)\" style=\"stroke:#000000; stroke-linecap:butt; stroke-linejoin:round; stroke-width:2; stroke-opacity:0.1; fill:none\" points=\"\n",
       "  2290.6,1486.45 2290.6,47.2441 \n",
       "  \"/>\n",
       "<polyline clip-path=\"url(#clip750)\" style=\"stroke:#000000; stroke-linecap:butt; stroke-linejoin:round; stroke-width:4; stroke-opacity:1; fill:none\" points=\"\n",
       "  156.598,1486.45 2352.76,1486.45 \n",
       "  \"/>\n",
       "<polyline clip-path=\"url(#clip750)\" style=\"stroke:#000000; stroke-linecap:butt; stroke-linejoin:round; stroke-width:4; stroke-opacity:1; fill:none\" points=\"\n",
       "  504.526,1486.45 504.526,1467.55 \n",
       "  \"/>\n",
       "<polyline clip-path=\"url(#clip750)\" style=\"stroke:#000000; stroke-linecap:butt; stroke-linejoin:round; stroke-width:4; stroke-opacity:1; fill:none\" points=\"\n",
       "  861.741,1486.45 861.741,1467.55 \n",
       "  \"/>\n",
       "<polyline clip-path=\"url(#clip750)\" style=\"stroke:#000000; stroke-linecap:butt; stroke-linejoin:round; stroke-width:4; stroke-opacity:1; fill:none\" points=\"\n",
       "  1218.96,1486.45 1218.96,1467.55 \n",
       "  \"/>\n",
       "<polyline clip-path=\"url(#clip750)\" style=\"stroke:#000000; stroke-linecap:butt; stroke-linejoin:round; stroke-width:4; stroke-opacity:1; fill:none\" points=\"\n",
       "  1576.17,1486.45 1576.17,1467.55 \n",
       "  \"/>\n",
       "<polyline clip-path=\"url(#clip750)\" style=\"stroke:#000000; stroke-linecap:butt; stroke-linejoin:round; stroke-width:4; stroke-opacity:1; fill:none\" points=\"\n",
       "  1933.39,1486.45 1933.39,1467.55 \n",
       "  \"/>\n",
       "<polyline clip-path=\"url(#clip750)\" style=\"stroke:#000000; stroke-linecap:butt; stroke-linejoin:round; stroke-width:4; stroke-opacity:1; fill:none\" points=\"\n",
       "  2290.6,1486.45 2290.6,1467.55 \n",
       "  \"/>\n",
       "<path clip-path=\"url(#clip750)\" d=\"M494.803 1512.56 L513.16 1512.56 L513.16 1516.5 L499.086 1516.5 L499.086 1524.97 Q500.104 1524.62 501.123 1524.46 Q502.141 1524.27 503.16 1524.27 Q508.947 1524.27 512.327 1527.44 Q515.706 1530.62 515.706 1536.03 Q515.706 1541.61 512.234 1544.71 Q508.762 1547.79 502.442 1547.79 Q500.266 1547.79 497.998 1547.42 Q495.753 1547.05 493.345 1546.31 L493.345 1541.61 Q495.428 1542.74 497.651 1543.3 Q499.873 1543.86 502.35 1543.86 Q506.354 1543.86 508.692 1541.75 Q511.03 1539.64 511.03 1536.03 Q511.03 1532.42 508.692 1530.31 Q506.354 1528.21 502.35 1528.21 Q500.475 1528.21 498.6 1528.62 Q496.748 1529.04 494.803 1529.92 L494.803 1512.56 Z\" fill=\"#000000\" fill-rule=\"evenodd\" fill-opacity=\"1\" /><path clip-path=\"url(#clip750)\" d=\"M836.428 1543.18 L844.067 1543.18 L844.067 1516.82 L835.757 1518.49 L835.757 1514.23 L844.021 1512.56 L848.697 1512.56 L848.697 1543.18 L856.336 1543.18 L856.336 1547.12 L836.428 1547.12 L836.428 1543.18 Z\" fill=\"#000000\" fill-rule=\"evenodd\" fill-opacity=\"1\" /><path clip-path=\"url(#clip750)\" d=\"M875.78 1515.64 Q872.169 1515.64 870.34 1519.2 Q868.535 1522.75 868.535 1529.87 Q868.535 1536.98 870.34 1540.55 Q872.169 1544.09 875.78 1544.09 Q879.414 1544.09 881.22 1540.55 Q883.048 1536.98 883.048 1529.87 Q883.048 1522.75 881.22 1519.2 Q879.414 1515.64 875.78 1515.64 M875.78 1511.93 Q881.59 1511.93 884.646 1516.54 Q887.724 1521.12 887.724 1529.87 Q887.724 1538.6 884.646 1543.21 Q881.59 1547.79 875.78 1547.79 Q869.97 1547.79 866.891 1543.21 Q863.835 1538.6 863.835 1529.87 Q863.835 1521.12 866.891 1516.54 Q869.97 1511.93 875.78 1511.93 Z\" fill=\"#000000\" fill-rule=\"evenodd\" fill-opacity=\"1\" /><path clip-path=\"url(#clip750)\" d=\"M1194.14 1543.18 L1201.78 1543.18 L1201.78 1516.82 L1193.47 1518.49 L1193.47 1514.23 L1201.73 1512.56 L1206.41 1512.56 L1206.41 1543.18 L1214.05 1543.18 L1214.05 1547.12 L1194.14 1547.12 L1194.14 1543.18 Z\" fill=\"#000000\" fill-rule=\"evenodd\" fill-opacity=\"1\" /><path clip-path=\"url(#clip750)\" d=\"M1223.54 1512.56 L1241.9 1512.56 L1241.9 1516.5 L1227.82 1516.5 L1227.82 1524.97 Q1228.84 1524.62 1229.86 1524.46 Q1230.88 1524.27 1231.9 1524.27 Q1237.68 1524.27 1241.06 1527.44 Q1244.44 1530.62 1244.44 1536.03 Q1244.44 1541.61 1240.97 1544.71 Q1237.5 1547.79 1231.18 1547.79 Q1229 1547.79 1226.73 1547.42 Q1224.49 1547.05 1222.08 1546.31 L1222.08 1541.61 Q1224.16 1542.74 1226.39 1543.3 Q1228.61 1543.86 1231.09 1543.86 Q1235.09 1543.86 1237.43 1541.75 Q1239.77 1539.64 1239.77 1536.03 Q1239.77 1532.42 1237.43 1530.31 Q1235.09 1528.21 1231.09 1528.21 Q1229.21 1528.21 1227.34 1528.62 Q1225.48 1529.04 1223.54 1529.92 L1223.54 1512.56 Z\" fill=\"#000000\" fill-rule=\"evenodd\" fill-opacity=\"1\" /><path clip-path=\"url(#clip750)\" d=\"M1554.94 1543.18 L1571.26 1543.18 L1571.26 1547.12 L1549.32 1547.12 L1549.32 1543.18 Q1551.98 1540.43 1556.56 1535.8 Q1561.17 1531.15 1562.35 1529.81 Q1564.6 1527.28 1565.48 1525.55 Q1566.38 1523.79 1566.38 1522.1 Q1566.38 1519.34 1564.43 1517.61 Q1562.51 1515.87 1559.41 1515.87 Q1557.21 1515.87 1554.76 1516.63 Q1552.33 1517.4 1549.55 1518.95 L1549.55 1514.23 Q1552.37 1513.09 1554.83 1512.51 Q1557.28 1511.93 1559.32 1511.93 Q1564.69 1511.93 1567.88 1514.62 Q1571.08 1517.31 1571.08 1521.8 Q1571.08 1523.93 1570.27 1525.85 Q1569.48 1527.74 1567.37 1530.34 Q1566.8 1531.01 1563.69 1534.23 Q1560.59 1537.42 1554.94 1543.18 Z\" fill=\"#000000\" fill-rule=\"evenodd\" fill-opacity=\"1\" /><path clip-path=\"url(#clip750)\" d=\"M1591.08 1515.64 Q1587.47 1515.64 1585.64 1519.2 Q1583.83 1522.75 1583.83 1529.87 Q1583.83 1536.98 1585.64 1540.55 Q1587.47 1544.09 1591.08 1544.09 Q1594.71 1544.09 1596.52 1540.55 Q1598.35 1536.98 1598.35 1529.87 Q1598.35 1522.75 1596.52 1519.2 Q1594.71 1515.64 1591.08 1515.64 M1591.08 1511.93 Q1596.89 1511.93 1599.94 1516.54 Q1603.02 1521.12 1603.02 1529.87 Q1603.02 1538.6 1599.94 1543.21 Q1596.89 1547.79 1591.08 1547.79 Q1585.27 1547.79 1582.19 1543.21 Q1579.13 1538.6 1579.13 1529.87 Q1579.13 1521.12 1582.19 1516.54 Q1585.27 1511.93 1591.08 1511.93 Z\" fill=\"#000000\" fill-rule=\"evenodd\" fill-opacity=\"1\" /><path clip-path=\"url(#clip750)\" d=\"M1912.66 1543.18 L1928.98 1543.18 L1928.98 1547.12 L1907.03 1547.12 L1907.03 1543.18 Q1909.69 1540.43 1914.28 1535.8 Q1918.88 1531.15 1920.06 1529.81 Q1922.31 1527.28 1923.19 1525.55 Q1924.09 1523.79 1924.09 1522.1 Q1924.09 1519.34 1922.15 1517.61 Q1920.23 1515.87 1917.12 1515.87 Q1914.92 1515.87 1912.47 1516.63 Q1910.04 1517.4 1907.26 1518.95 L1907.26 1514.23 Q1910.09 1513.09 1912.54 1512.51 Q1914.99 1511.93 1917.03 1511.93 Q1922.4 1511.93 1925.6 1514.62 Q1928.79 1517.31 1928.79 1521.8 Q1928.79 1523.93 1927.98 1525.85 Q1927.19 1527.74 1925.09 1530.34 Q1924.51 1531.01 1921.41 1534.23 Q1918.3 1537.42 1912.66 1543.18 Z\" fill=\"#000000\" fill-rule=\"evenodd\" fill-opacity=\"1\" /><path clip-path=\"url(#clip750)\" d=\"M1938.84 1512.56 L1957.19 1512.56 L1957.19 1516.5 L1943.12 1516.5 L1943.12 1524.97 Q1944.14 1524.62 1945.16 1524.46 Q1946.17 1524.27 1947.19 1524.27 Q1952.98 1524.27 1956.36 1527.44 Q1959.74 1530.62 1959.74 1536.03 Q1959.74 1541.61 1956.27 1544.71 Q1952.8 1547.79 1946.48 1547.79 Q1944.3 1547.79 1942.03 1547.42 Q1939.79 1547.05 1937.38 1546.31 L1937.38 1541.61 Q1939.46 1542.74 1941.68 1543.3 Q1943.91 1543.86 1946.38 1543.86 Q1950.39 1543.86 1952.73 1541.75 Q1955.06 1539.64 1955.06 1536.03 Q1955.06 1532.42 1952.73 1530.31 Q1950.39 1528.21 1946.38 1528.21 Q1944.51 1528.21 1942.63 1528.62 Q1940.78 1529.04 1938.84 1529.92 L1938.84 1512.56 Z\" fill=\"#000000\" fill-rule=\"evenodd\" fill-opacity=\"1\" /><path clip-path=\"url(#clip750)\" d=\"M2279.44 1528.49 Q2282.8 1529.2 2284.67 1531.47 Q2286.57 1533.74 2286.57 1537.07 Q2286.57 1542.19 2283.05 1544.99 Q2279.54 1547.79 2273.05 1547.79 Q2270.88 1547.79 2268.56 1547.35 Q2266.27 1546.93 2263.82 1546.08 L2263.82 1541.56 Q2265.76 1542.7 2268.08 1543.28 Q2270.39 1543.86 2272.92 1543.86 Q2277.31 1543.86 2279.61 1542.12 Q2281.92 1540.38 2281.92 1537.07 Q2281.92 1534.02 2279.77 1532.31 Q2277.64 1530.57 2273.82 1530.57 L2269.79 1530.57 L2269.79 1526.73 L2274 1526.73 Q2277.45 1526.73 2279.28 1525.36 Q2281.11 1523.97 2281.11 1521.38 Q2281.11 1518.72 2279.21 1517.31 Q2277.34 1515.87 2273.82 1515.87 Q2271.9 1515.87 2269.7 1516.29 Q2267.5 1516.7 2264.86 1517.58 L2264.86 1513.42 Q2267.52 1512.68 2269.84 1512.31 Q2272.17 1511.93 2274.23 1511.93 Q2279.56 1511.93 2282.66 1514.37 Q2285.76 1516.77 2285.76 1520.89 Q2285.76 1523.76 2284.12 1525.75 Q2282.48 1527.72 2279.44 1528.49 Z\" fill=\"#000000\" fill-rule=\"evenodd\" fill-opacity=\"1\" /><path clip-path=\"url(#clip750)\" d=\"M2305.44 1515.64 Q2301.83 1515.64 2300 1519.2 Q2298.19 1522.75 2298.19 1529.87 Q2298.19 1536.98 2300 1540.55 Q2301.83 1544.09 2305.44 1544.09 Q2309.07 1544.09 2310.88 1540.55 Q2312.71 1536.98 2312.71 1529.87 Q2312.71 1522.75 2310.88 1519.2 Q2309.07 1515.64 2305.44 1515.64 M2305.44 1511.93 Q2311.25 1511.93 2314.3 1516.54 Q2317.38 1521.12 2317.38 1529.87 Q2317.38 1538.6 2314.3 1543.21 Q2311.25 1547.79 2305.44 1547.79 Q2299.63 1547.79 2296.55 1543.21 Q2293.49 1538.6 2293.49 1529.87 Q2293.49 1521.12 2296.55 1516.54 Q2299.63 1511.93 2305.44 1511.93 Z\" fill=\"#000000\" fill-rule=\"evenodd\" fill-opacity=\"1\" /><polyline clip-path=\"url(#clip752)\" style=\"stroke:#000000; stroke-linecap:butt; stroke-linejoin:round; stroke-width:2; stroke-opacity:0.1; fill:none\" points=\"\n",
       "  156.598,1309.94 2352.76,1309.94 \n",
       "  \"/>\n",
       "<polyline clip-path=\"url(#clip752)\" style=\"stroke:#000000; stroke-linecap:butt; stroke-linejoin:round; stroke-width:2; stroke-opacity:0.1; fill:none\" points=\"\n",
       "  156.598,1038.39 2352.76,1038.39 \n",
       "  \"/>\n",
       "<polyline clip-path=\"url(#clip752)\" style=\"stroke:#000000; stroke-linecap:butt; stroke-linejoin:round; stroke-width:2; stroke-opacity:0.1; fill:none\" points=\"\n",
       "  156.598,766.846 2352.76,766.846 \n",
       "  \"/>\n",
       "<polyline clip-path=\"url(#clip752)\" style=\"stroke:#000000; stroke-linecap:butt; stroke-linejoin:round; stroke-width:2; stroke-opacity:0.1; fill:none\" points=\"\n",
       "  156.598,495.298 2352.76,495.298 \n",
       "  \"/>\n",
       "<polyline clip-path=\"url(#clip752)\" style=\"stroke:#000000; stroke-linecap:butt; stroke-linejoin:round; stroke-width:2; stroke-opacity:0.1; fill:none\" points=\"\n",
       "  156.598,223.75 2352.76,223.75 \n",
       "  \"/>\n",
       "<polyline clip-path=\"url(#clip750)\" style=\"stroke:#000000; stroke-linecap:butt; stroke-linejoin:round; stroke-width:4; stroke-opacity:1; fill:none\" points=\"\n",
       "  156.598,1486.45 156.598,47.2441 \n",
       "  \"/>\n",
       "<polyline clip-path=\"url(#clip750)\" style=\"stroke:#000000; stroke-linecap:butt; stroke-linejoin:round; stroke-width:4; stroke-opacity:1; fill:none\" points=\"\n",
       "  156.598,1309.94 175.496,1309.94 \n",
       "  \"/>\n",
       "<polyline clip-path=\"url(#clip750)\" style=\"stroke:#000000; stroke-linecap:butt; stroke-linejoin:round; stroke-width:4; stroke-opacity:1; fill:none\" points=\"\n",
       "  156.598,1038.39 175.496,1038.39 \n",
       "  \"/>\n",
       "<polyline clip-path=\"url(#clip750)\" style=\"stroke:#000000; stroke-linecap:butt; stroke-linejoin:round; stroke-width:4; stroke-opacity:1; fill:none\" points=\"\n",
       "  156.598,766.846 175.496,766.846 \n",
       "  \"/>\n",
       "<polyline clip-path=\"url(#clip750)\" style=\"stroke:#000000; stroke-linecap:butt; stroke-linejoin:round; stroke-width:4; stroke-opacity:1; fill:none\" points=\"\n",
       "  156.598,495.298 175.496,495.298 \n",
       "  \"/>\n",
       "<polyline clip-path=\"url(#clip750)\" style=\"stroke:#000000; stroke-linecap:butt; stroke-linejoin:round; stroke-width:4; stroke-opacity:1; fill:none\" points=\"\n",
       "  156.598,223.75 175.496,223.75 \n",
       "  \"/>\n",
       "<path clip-path=\"url(#clip750)\" d=\"M64.0708 1295.74 Q60.4597 1295.74 58.631 1299.31 Q56.8254 1302.85 56.8254 1309.98 Q56.8254 1317.08 58.631 1320.65 Q60.4597 1324.19 64.0708 1324.19 Q67.705 1324.19 69.5105 1320.65 Q71.3392 1317.08 71.3392 1309.98 Q71.3392 1302.85 69.5105 1299.31 Q67.705 1295.74 64.0708 1295.74 M64.0708 1292.04 Q69.8809 1292.04 72.9365 1296.64 Q76.0151 1301.23 76.0151 1309.98 Q76.0151 1318.7 72.9365 1323.31 Q69.8809 1327.89 64.0708 1327.89 Q58.2606 1327.89 55.1819 1323.31 Q52.1264 1318.7 52.1264 1309.98 Q52.1264 1301.23 55.1819 1296.64 Q58.2606 1292.04 64.0708 1292.04 Z\" fill=\"#000000\" fill-rule=\"evenodd\" fill-opacity=\"1\" /><path clip-path=\"url(#clip750)\" d=\"M84.2327 1321.34 L89.1169 1321.34 L89.1169 1327.22 L84.2327 1327.22 L84.2327 1321.34 Z\" fill=\"#000000\" fill-rule=\"evenodd\" fill-opacity=\"1\" /><path clip-path=\"url(#clip750)\" d=\"M113.469 1308.59 Q116.825 1309.31 118.7 1311.57 Q120.598 1313.84 120.598 1317.18 Q120.598 1322.29 117.08 1325.09 Q113.561 1327.89 107.08 1327.89 Q104.904 1327.89 102.589 1327.45 Q100.297 1327.04 97.8437 1326.18 L97.8437 1321.67 Q99.7882 1322.8 102.103 1323.38 Q104.418 1323.96 106.941 1323.96 Q111.339 1323.96 113.631 1322.22 Q115.945 1320.49 115.945 1317.18 Q115.945 1314.12 113.793 1312.41 Q111.663 1310.67 107.844 1310.67 L103.816 1310.67 L103.816 1306.83 L108.029 1306.83 Q111.478 1306.83 113.307 1305.46 Q115.135 1304.07 115.135 1301.48 Q115.135 1298.82 113.237 1297.41 Q111.362 1295.97 107.844 1295.97 Q105.922 1295.97 103.723 1296.39 Q101.524 1296.81 98.8854 1297.69 L98.8854 1293.52 Q101.547 1292.78 103.862 1292.41 Q106.2 1292.04 108.26 1292.04 Q113.584 1292.04 116.686 1294.47 Q119.788 1296.88 119.788 1301 Q119.788 1303.87 118.145 1305.86 Q116.501 1307.82 113.469 1308.59 Z\" fill=\"#000000\" fill-rule=\"evenodd\" fill-opacity=\"1\" /><path clip-path=\"url(#clip750)\" d=\"M62.9365 1024.19 Q59.3254 1024.19 57.4967 1027.76 Q55.6912 1031.3 55.6912 1038.43 Q55.6912 1045.54 57.4967 1049.1 Q59.3254 1052.64 62.9365 1052.64 Q66.5707 1052.64 68.3763 1049.1 Q70.205 1045.54 70.205 1038.43 Q70.205 1031.3 68.3763 1027.76 Q66.5707 1024.19 62.9365 1024.19 M62.9365 1020.49 Q68.7467 1020.49 71.8022 1025.1 Q74.8809 1029.68 74.8809 1038.43 Q74.8809 1047.16 71.8022 1051.76 Q68.7467 1056.35 62.9365 1056.35 Q57.1264 1056.35 54.0477 1051.76 Q50.9921 1047.16 50.9921 1038.43 Q50.9921 1029.68 54.0477 1025.1 Q57.1264 1020.49 62.9365 1020.49 Z\" fill=\"#000000\" fill-rule=\"evenodd\" fill-opacity=\"1\" /><path clip-path=\"url(#clip750)\" d=\"M83.0984 1049.79 L87.9827 1049.79 L87.9827 1055.67 L83.0984 1055.67 L83.0984 1049.79 Z\" fill=\"#000000\" fill-rule=\"evenodd\" fill-opacity=\"1\" /><path clip-path=\"url(#clip750)\" d=\"M111.015 1025.19 L99.2095 1043.64 L111.015 1043.64 L111.015 1025.19 M109.788 1021.11 L115.668 1021.11 L115.668 1043.64 L120.598 1043.64 L120.598 1047.53 L115.668 1047.53 L115.668 1055.67 L111.015 1055.67 L111.015 1047.53 L95.4132 1047.53 L95.4132 1043.01 L109.788 1021.11 Z\" fill=\"#000000\" fill-rule=\"evenodd\" fill-opacity=\"1\" /><path clip-path=\"url(#clip750)\" d=\"M64.418 752.645 Q60.8069 752.645 58.9782 756.209 Q57.1726 759.751 57.1726 766.881 Q57.1726 773.987 58.9782 777.552 Q60.8069 781.094 64.418 781.094 Q68.0522 781.094 69.8578 777.552 Q71.6865 773.987 71.6865 766.881 Q71.6865 759.751 69.8578 756.209 Q68.0522 752.645 64.418 752.645 M64.418 748.941 Q70.2281 748.941 73.2837 753.547 Q76.3624 758.131 76.3624 766.881 Q76.3624 775.608 73.2837 780.214 Q70.2281 784.797 64.418 784.797 Q58.6078 784.797 55.5291 780.214 Q52.4736 775.608 52.4736 766.881 Q52.4736 758.131 55.5291 753.547 Q58.6078 748.941 64.418 748.941 Z\" fill=\"#000000\" fill-rule=\"evenodd\" fill-opacity=\"1\" /><path clip-path=\"url(#clip750)\" d=\"M84.5799 778.246 L89.4641 778.246 L89.4641 784.126 L84.5799 784.126 L84.5799 778.246 Z\" fill=\"#000000\" fill-rule=\"evenodd\" fill-opacity=\"1\" /><path clip-path=\"url(#clip750)\" d=\"M99.6956 749.566 L118.052 749.566 L118.052 753.501 L103.978 753.501 L103.978 761.973 Q104.996 761.626 106.015 761.464 Q107.033 761.279 108.052 761.279 Q113.839 761.279 117.219 764.45 Q120.598 767.621 120.598 773.038 Q120.598 778.617 117.126 781.719 Q113.654 784.797 107.334 784.797 Q105.159 784.797 102.89 784.427 Q100.645 784.057 98.2372 783.316 L98.2372 778.617 Q100.321 779.751 102.543 780.307 Q104.765 780.862 107.242 780.862 Q111.246 780.862 113.584 778.756 Q115.922 776.649 115.922 773.038 Q115.922 769.427 113.584 767.321 Q111.246 765.214 107.242 765.214 Q105.367 765.214 103.492 765.631 Q101.64 766.047 99.6956 766.927 L99.6956 749.566 Z\" fill=\"#000000\" fill-rule=\"evenodd\" fill-opacity=\"1\" /><path clip-path=\"url(#clip750)\" d=\"M63.2606 481.097 Q59.6495 481.097 57.8208 484.661 Q56.0152 488.203 56.0152 495.333 Q56.0152 502.439 57.8208 506.004 Q59.6495 509.546 63.2606 509.546 Q66.8948 509.546 68.7004 506.004 Q70.5291 502.439 70.5291 495.333 Q70.5291 488.203 68.7004 484.661 Q66.8948 481.097 63.2606 481.097 M63.2606 477.393 Q69.0707 477.393 72.1263 481.999 Q75.205 486.583 75.205 495.333 Q75.205 504.059 72.1263 508.666 Q69.0707 513.249 63.2606 513.249 Q57.4504 513.249 54.3717 508.666 Q51.3162 504.059 51.3162 495.333 Q51.3162 486.583 54.3717 481.999 Q57.4504 477.393 63.2606 477.393 Z\" fill=\"#000000\" fill-rule=\"evenodd\" fill-opacity=\"1\" /><path clip-path=\"url(#clip750)\" d=\"M83.4225 506.698 L88.3067 506.698 L88.3067 512.578 L83.4225 512.578 L83.4225 506.698 Z\" fill=\"#000000\" fill-rule=\"evenodd\" fill-opacity=\"1\" /><path clip-path=\"url(#clip750)\" d=\"M109.071 493.435 Q105.922 493.435 104.071 495.587 Q102.242 497.74 102.242 501.49 Q102.242 505.217 104.071 507.393 Q105.922 509.546 109.071 509.546 Q112.219 509.546 114.047 507.393 Q115.899 505.217 115.899 501.49 Q115.899 497.74 114.047 495.587 Q112.219 493.435 109.071 493.435 M118.353 478.782 L118.353 483.041 Q116.594 482.208 114.788 481.768 Q113.006 481.328 111.246 481.328 Q106.617 481.328 104.163 484.453 Q101.733 487.578 101.385 493.897 Q102.751 491.884 104.811 490.819 Q106.871 489.731 109.348 489.731 Q114.557 489.731 117.566 492.902 Q120.598 496.05 120.598 501.49 Q120.598 506.814 117.45 510.032 Q114.302 513.249 109.071 513.249 Q103.075 513.249 99.9039 508.666 Q96.7326 504.059 96.7326 495.333 Q96.7326 487.138 100.621 482.277 Q104.51 477.393 111.061 477.393 Q112.82 477.393 114.603 477.74 Q116.408 478.087 118.353 478.782 Z\" fill=\"#000000\" fill-rule=\"evenodd\" fill-opacity=\"1\" /><path clip-path=\"url(#clip750)\" d=\"M64.3254 209.549 Q60.7143 209.549 58.8856 213.113 Q57.0801 216.655 57.0801 223.785 Q57.0801 230.891 58.8856 234.456 Q60.7143 237.997 64.3254 237.997 Q67.9596 237.997 69.7652 234.456 Q71.5939 230.891 71.5939 223.785 Q71.5939 216.655 69.7652 213.113 Q67.9596 209.549 64.3254 209.549 M64.3254 205.845 Q70.1355 205.845 73.1911 210.451 Q76.2698 215.035 76.2698 223.785 Q76.2698 232.511 73.1911 237.118 Q70.1355 241.701 64.3254 241.701 Q58.5152 241.701 55.4365 237.118 Q52.381 232.511 52.381 223.785 Q52.381 215.035 55.4365 210.451 Q58.5152 205.845 64.3254 205.845 Z\" fill=\"#000000\" fill-rule=\"evenodd\" fill-opacity=\"1\" /><path clip-path=\"url(#clip750)\" d=\"M84.4873 235.15 L89.3715 235.15 L89.3715 241.03 L84.4873 241.03 L84.4873 235.15 Z\" fill=\"#000000\" fill-rule=\"evenodd\" fill-opacity=\"1\" /><path clip-path=\"url(#clip750)\" d=\"M98.3761 206.47 L120.598 206.47 L120.598 208.461 L108.052 241.03 L103.168 241.03 L114.973 210.405 L98.3761 210.405 L98.3761 206.47 Z\" fill=\"#000000\" fill-rule=\"evenodd\" fill-opacity=\"1\" /><polyline clip-path=\"url(#clip752)\" style=\"stroke:#009af9; stroke-linecap:butt; stroke-linejoin:round; stroke-width:4; stroke-opacity:1; fill:none\" points=\"\n",
       "  218.754,223.75 290.197,712.536 361.64,1005.81 433.083,1181.77 504.526,1287.35 575.969,1350.7 647.412,1388.7 718.855,1411.51 790.298,1425.19 861.741,1433.4 \n",
       "  933.184,1438.33 1004.63,1441.28 1076.07,1443.06 1147.51,1444.12 1218.96,1444.76 1290.4,1445.14 1361.84,1445.37 1433.28,1445.51 1504.73,1445.59 1576.17,1445.64 \n",
       "  1647.61,1445.67 1719.06,1445.69 1790.5,1445.7 1861.94,1445.71 1933.39,1445.71 2004.83,1445.71 2076.27,1445.71 2147.71,1445.71 2219.16,1445.72 2290.6,1445.72 \n",
       "  \n",
       "  \"/>\n",
       "<polyline clip-path=\"url(#clip752)\" style=\"stroke:#e26f46; stroke-linecap:butt; stroke-linejoin:round; stroke-width:4; stroke-opacity:1; fill:none\" points=\"\n",
       "  218.754,1309.94 290.197,821.156 361.64,527.884 433.083,351.921 504.526,246.343 575.969,182.996 647.412,144.988 718.855,122.183 790.298,108.5 861.741,100.29 \n",
       "  933.184,95.3646 1004.63,92.4091 1076.07,90.6358 1147.51,89.5718 1218.96,88.9334 1290.4,88.5504 1361.84,88.3206 1433.28,88.1827 1504.73,88.0999 1576.17,88.0503 \n",
       "  1647.61,88.0205 1719.06,88.0026 1790.5,87.9919 1861.94,87.9855 1933.39,87.9816 2004.83,87.9793 2076.27,87.9779 2147.71,87.9771 2219.16,87.9766 2290.6,87.9763 \n",
       "  \n",
       "  \"/>\n",
       "<path clip-path=\"url(#clip750)\" d=\"\n",
       "M1983.1 250.738 L2279.55 250.738 L2279.55 95.2176 L1983.1 95.2176  Z\n",
       "  \" fill=\"#ffffff\" fill-rule=\"evenodd\" fill-opacity=\"1\"/>\n",
       "<polyline clip-path=\"url(#clip750)\" style=\"stroke:#000000; stroke-linecap:butt; stroke-linejoin:round; stroke-width:4; stroke-opacity:1; fill:none\" points=\"\n",
       "  1983.1,250.738 2279.55,250.738 2279.55,95.2176 1983.1,95.2176 1983.1,250.738 \n",
       "  \"/>\n",
       "<polyline clip-path=\"url(#clip750)\" style=\"stroke:#009af9; stroke-linecap:butt; stroke-linejoin:round; stroke-width:4; stroke-opacity:1; fill:none\" points=\"\n",
       "  2007.5,147.058 2153.92,147.058 \n",
       "  \"/>\n",
       "<path clip-path=\"url(#clip750)\" d=\"M2192.16 166.745 Q2190.35 171.375 2188.64 172.787 Q2186.93 174.199 2184.06 174.199 L2180.65 174.199 L2180.65 170.634 L2183.15 170.634 Q2184.91 170.634 2185.89 169.8 Q2186.86 168.967 2188.04 165.865 L2188.8 163.921 L2178.32 138.412 L2182.83 138.412 L2190.93 158.689 L2199.03 138.412 L2203.55 138.412 L2192.16 166.745 Z\" fill=\"#000000\" fill-rule=\"evenodd\" fill-opacity=\"1\" /><path clip-path=\"url(#clip750)\" d=\"M2210.84 160.402 L2218.48 160.402 L2218.48 134.037 L2210.17 135.703 L2210.17 131.444 L2218.43 129.778 L2223.11 129.778 L2223.11 160.402 L2230.75 160.402 L2230.75 164.338 L2210.84 164.338 L2210.84 160.402 Z\" fill=\"#000000\" fill-rule=\"evenodd\" fill-opacity=\"1\" /><polyline clip-path=\"url(#clip750)\" style=\"stroke:#e26f46; stroke-linecap:butt; stroke-linejoin:round; stroke-width:4; stroke-opacity:1; fill:none\" points=\"\n",
       "  2007.5,198.898 2153.92,198.898 \n",
       "  \"/>\n",
       "<path clip-path=\"url(#clip750)\" d=\"M2192.16 218.585 Q2190.35 223.215 2188.64 224.627 Q2186.93 226.039 2184.06 226.039 L2180.65 226.039 L2180.65 222.474 L2183.15 222.474 Q2184.91 222.474 2185.89 221.64 Q2186.86 220.807 2188.04 217.705 L2188.8 215.761 L2178.32 190.252 L2182.83 190.252 L2190.93 210.529 L2199.03 190.252 L2203.55 190.252 L2192.16 218.585 Z\" fill=\"#000000\" fill-rule=\"evenodd\" fill-opacity=\"1\" /><path clip-path=\"url(#clip750)\" d=\"M2214.06 212.242 L2230.38 212.242 L2230.38 216.178 L2208.43 216.178 L2208.43 212.242 Q2211.09 209.488 2215.68 204.858 Q2220.28 200.205 2221.46 198.863 Q2223.71 196.34 2224.59 194.604 Q2225.49 192.844 2225.49 191.155 Q2225.49 188.4 2223.55 186.664 Q2221.63 184.928 2218.52 184.928 Q2216.33 184.928 2213.87 185.692 Q2211.44 186.455 2208.66 188.006 L2208.66 183.284 Q2211.49 182.15 2213.94 181.571 Q2216.4 180.993 2218.43 180.993 Q2223.8 180.993 2227 183.678 Q2230.19 186.363 2230.19 190.854 Q2230.19 192.983 2229.38 194.905 Q2228.59 196.803 2226.49 199.395 Q2225.91 200.067 2222.81 203.284 Q2219.71 206.479 2214.06 212.242 Z\" fill=\"#000000\" fill-rule=\"evenodd\" fill-opacity=\"1\" /></svg>\n"
      ]
     },
     "execution_count": 66,
     "metadata": {},
     "output_type": "execute_result"
    }
   ],
   "source": [
    "using Plots\n",
    "plot(πt')"
   ]
  },
  {
   "cell_type": "markdown",
   "metadata": {},
   "source": [
    "### Multiple periods\n",
    "$$\n",
    "\\pi_t' = \\pi_0' \\mathbf P^t\n",
    "$$\n",
    "with matrix power\n",
    "$$\n",
    "\\mathbf P^t = \\mathbf P\\cdot...\\cdot \\mathbf P\n",
    "$$\n",
    "\n",
    "## Steady state\n",
    "Two definitions\n",
    "(1) the very long run\n",
    "$$\n",
    "\\pi_\\infty = \\lim_{t\\to\\infty} [\\mathbf P']^t \\pi_0\n",
    "$$\n",
    "(2) the steady state\n",
    "$$\n",
    "\\pi_* = \\mathbf P' \\pi_*\n",
    "$$\n",
    "\n",
    "**Hopefully**\n",
    "$$\n",
    "\\pi_\\infty = \\pi_*\n",
    "$$\n",
    "and unique\n",
    "\n",
    "(2) is\n",
    "$$\n",
    "\\pi_*(\\mathbf I- \\mathbf P') = 0\n",
    "$$\n",
    "i.e.\n",
    "$\\pi_*$ is the **eigenvector** corresponding to **eigenvalue** of 1.\n",
    "\n",
    "1. $\\mathbf P$ always has an eigenvalue of 1 (because its rows sum to 1). May be multiple. \n",
    "2. Eigenvector scaling is not a problem. If eigenvalue has multiplicity of 1 then $\\pi_*$ is unique. (pmf pins down the scale)\n",
    "3. In this case, $\\pi_\\infty =\\pi_*$. (ergodicity) "
   ]
  },
  {
   "cell_type": "code",
   "execution_count": 67,
   "metadata": {},
   "outputs": [
    {
     "data": {
      "text/plain": [
       "2×2 Matrix{Float64}:\n",
       " -0.707107  -0.316228\n",
       "  0.707107  -0.948683"
      ]
     },
     "execution_count": 67,
     "metadata": {},
     "output_type": "execute_result"
    }
   ],
   "source": [
    "using LinearAlgebra\n",
    "v = eigen(unemployment_application.P').vectors"
   ]
  },
  {
   "cell_type": "code",
   "execution_count": 68,
   "metadata": {},
   "outputs": [
    {
     "data": {
      "text/plain": [
       "2-element Vector{Float64}:\n",
       " 0.25\n",
       " 0.7500000000000001"
      ]
     },
     "execution_count": 68,
     "metadata": {},
     "output_type": "execute_result"
    }
   ],
   "source": [
    "v[:, 2] ./ sum(v[:, 2])"
   ]
  },
  {
   "cell_type": "markdown",
   "metadata": {},
   "source": [
    "See [some real Julia code](https://github.com/JuliaStats/Distributions.jl/blob/master/src/multivariate/dirichletmultinomial.jl)"
   ]
  },
  {
   "cell_type": "code",
   "execution_count": null,
   "metadata": {},
   "outputs": [],
   "source": []
  }
 ],
 "metadata": {
  "kernelspec": {
   "display_name": "Julia 1.6.2",
   "language": "julia",
   "name": "julia-1.6"
  },
  "language_info": {
   "file_extension": ".jl",
   "mimetype": "application/julia",
   "name": "julia",
   "version": "1.6.2"
  }
 },
 "nbformat": 4,
 "nbformat_minor": 4
}
