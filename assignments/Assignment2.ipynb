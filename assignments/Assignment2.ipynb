{
 "cells": [
  {
   "cell_type": "markdown",
   "metadata": {},
   "source": [
    "# Assignment 2\n",
    "## Technology adoption with network effects\n",
    "There is a unit mass of macroeconomists, $x \\in [0,1]$ of whom are using Matlab. The other $1-x$ are using Julia. There are network economies in software usage; the more others are using your language, the more productive you are. The flow profit of a Matlab user is $x$, the flow profit of a Julia user is $\\gamma -x$ with $\\gamma>1$ (because Julia is objectively better). Macroeconomists discount the future at rate $\\beta<1$."
   ]
  },
  {
   "cell_type": "markdown",
   "metadata": {},
   "source": [
    "### 1. Treating $x$ as a parameter, compute the lifetime value of being a Matlab and a Julia user"
   ]
  },
  {
   "cell_type": "code",
   "execution_count": null,
   "metadata": {},
   "outputs": [],
   "source": []
  },
  {
   "cell_type": "markdown",
   "metadata": {},
   "source": [
    "## Exogenous switching\n",
    "Suppose each period a fraction $1-\\lambda$ of Matlab users switch to Julia. Write down the law of motion for $x$.\n",
    "$$\n",
    "x_t = \\lambda x_{t-1}\n",
    "$$\n",
    "Users take this process as given. \n",
    "\n",
    "### 2. Write down the Bellman equation of a Matlab and a Julia user."
   ]
  },
  {
   "cell_type": "code",
   "execution_count": null,
   "metadata": {},
   "outputs": [],
   "source": []
  },
  {
   "cell_type": "markdown",
   "metadata": {},
   "source": [
    "### 3. Guess and verify that $V_i(x)=a_i + b_i x$ for $i=Julia,Matlab$\n",
    "You don't have to analytically solve for the coefficients."
   ]
  },
  {
   "cell_type": "code",
   "execution_count": null,
   "metadata": {},
   "outputs": [],
   "source": []
  },
  {
   "cell_type": "markdown",
   "metadata": {},
   "source": [
    "### 4. Given the guess for the value function, use value function iteration to solve the Bellman equation with exogenous switching.\n",
    "Write Julianic code. User functions, for loops, type hints and composite types as appropriate."
   ]
  },
  {
   "cell_type": "code",
   "execution_count": null,
   "metadata": {},
   "outputs": [],
   "source": []
  },
  {
   "cell_type": "markdown",
   "metadata": {},
   "source": [
    "## Endogenous switching\n",
    "Suppose that whenever $V_j(x)>V_m(x)$, a constant $1-\\lambda$ fraction of Matlab users switches to Julia (as assumed above). But whenever $V_j(x) \\le V_m(x)$, nobody does.\n",
    "\n",
    "### 5. Show that $x$ follows a Markov process and characterize its steady state given initial values of $x$. \n",
    "Note: it is not ergodic."
   ]
  },
  {
   "cell_type": "code",
   "execution_count": null,
   "metadata": {},
   "outputs": [],
   "source": []
  }
 ],
 "metadata": {
  "kernelspec": {
   "display_name": "Julia 1.6.2",
   "language": "julia",
   "name": "julia-1.6"
  },
  "language_info": {
   "file_extension": ".jl",
   "mimetype": "application/julia",
   "name": "julia",
   "version": "1.6.2"
  }
 },
 "nbformat": 4,
 "nbformat_minor": 4
}
