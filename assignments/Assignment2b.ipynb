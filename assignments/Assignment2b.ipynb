{
 "cells": [
  {
   "cell_type": "markdown",
   "id": "2597136a-5b8f-4655-9f7b-2c4e74b98e1a",
   "metadata": {},
   "source": [
    "## Assignment 2 (retake)\n",
    "Answer the questions below in a Jupyter notebook and send it to me by email by 6pm, February 11. \n"
   ]
  },
  {
   "cell_type": "markdown",
   "id": "5a0b3c7d-6523-4e8f-b4c2-ff4ab9421d5b",
   "metadata": {
    "tags": []
   },
   "source": [
    "## Instructions\n",
    "You are heading the university's Emergency Response Team, and want to simulate the spread of Covid on campus. You will simulate a modified SIR model.\n",
    "\n",
    "Each student can be in one of three state: susceptive, infectious or recovered. Once recovered, students cannot get infected again (this is not Omicron). In one day, susceptive students meet with $n_0$ random individuals outside campus, and $n_1$ random individuals on campus (unless closed, see later). Outside campus, a constant $\\alpha$ fraction of people are infectious. You can treat these as fixed parameters.\n",
    "\n",
    "Meetings of a susceptive and an infectious individual pass on the infection with probability $\\lambda$. Infectious individuals become recovered with probability $\\mu$/day.\n",
    "\n",
    "The ERT only cares about the share of students infected. It has one policy option: keep the campus open or close it. If the campus is open, each student meets $n_1$ other students, if closed, then $0$ other students. (They still meet $n_0$ other individuals.) The daily cost that the ERT minimizes is \n",
    "$$\n",
    "-c\\mathcal I(\\text{closed})  - \\gamma\\pi_{It},\n",
    "$$\n",
    "that is, a constant $c$ cost if the university is closed (0 otherwise) and $\\gamma$ times the share of infectious students."
   ]
  },
  {
   "cell_type": "markdown",
   "id": "bd641d8b-1215-496f-8cfb-85ba6bfd5852",
   "metadata": {},
   "source": [
    "## 1. What are the state variables for an individual student? What are the state variables for the university? What is the policy variable?"
   ]
  },
  {
   "cell_type": "code",
   "execution_count": null,
   "id": "dc57def6-0816-4b66-9ca4-5934157d54b4",
   "metadata": {},
   "outputs": [],
   "source": []
  },
  {
   "cell_type": "markdown",
   "id": "86743224-8c8b-4a01-a1a6-d4a7b804f926",
   "metadata": {},
   "source": [
    "## 2. Write down the transition matrix for student state if the campus is closed. "
   ]
  },
  {
   "cell_type": "code",
   "execution_count": null,
   "id": "c0fb06a4-844b-4582-af7c-2e1ac32047e5",
   "metadata": {},
   "outputs": [],
   "source": []
  },
  {
   "cell_type": "markdown",
   "id": "a0b09d39-5646-4933-808c-6ec322cddb90",
   "metadata": {},
   "source": [
    "## 3. Write down the transition matrix for student state if the campus is open."
   ]
  },
  {
   "cell_type": "code",
   "execution_count": null,
   "id": "1bfa67f4-1599-40b5-8b01-4ea542c88519",
   "metadata": {},
   "outputs": [],
   "source": []
  },
  {
   "cell_type": "markdown",
   "id": "945a2756-a864-4d89-9114-0ab50ca61d2d",
   "metadata": {},
   "source": [
    "## 4. Write down the Bellman equation of the ERT."
   ]
  },
  {
   "cell_type": "code",
   "execution_count": null,
   "id": "2133cb73-0350-493c-9b8c-c1a6544f72a3",
   "metadata": {},
   "outputs": [],
   "source": []
  },
  {
   "cell_type": "markdown",
   "id": "bb2525b4-55ae-482f-86c3-9d529f690bbd",
   "metadata": {},
   "source": [
    "## 5. Solve the Bellman equation numerically, using value function iteration. Use idiomatic Julia code."
   ]
  },
  {
   "cell_type": "code",
   "execution_count": null,
   "id": "ce5f06c0-e7d9-43b4-9ecb-5ca4bf1069ca",
   "metadata": {},
   "outputs": [],
   "source": []
  },
  {
   "cell_type": "markdown",
   "id": "ed5ed1b2-714e-40f6-b2fd-b44af2f63c01",
   "metadata": {},
   "source": []
  },
  {
   "cell_type": "markdown",
   "id": "291d39bd-8bd5-471b-90e8-cc2f707561f5",
   "metadata": {},
   "source": []
  },
  {
   "cell_type": "markdown",
   "id": "8d783c79-e97c-40b5-aa06-f32b59d3746d",
   "metadata": {},
   "source": []
  },
  {
   "cell_type": "markdown",
   "id": "3cd1ce73-a21d-4989-af32-69d6e1d05aa2",
   "metadata": {},
   "source": []
  },
  {
   "cell_type": "markdown",
   "id": "d5b517db-2c8f-445b-b8c3-74f8c37ce5f7",
   "metadata": {},
   "source": []
  },
  {
   "cell_type": "code",
   "execution_count": null,
   "id": "59e9978e-1492-4724-8fee-a7eddf10e885",
   "metadata": {},
   "outputs": [],
   "source": []
  }
 ],
 "metadata": {
  "kernelspec": {
   "display_name": "Julia 1.7.1",
   "language": "julia",
   "name": "julia-1.7"
  },
  "language_info": {
   "file_extension": ".jl",
   "mimetype": "application/julia",
   "name": "julia",
   "version": "1.7.1"
  }
 },
 "nbformat": 4,
 "nbformat_minor": 5
}
